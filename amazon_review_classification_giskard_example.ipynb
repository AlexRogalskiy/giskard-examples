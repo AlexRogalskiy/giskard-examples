{
 "cells": [
  {
   "cell_type": "code",
   "execution_count": null,
   "outputs": [],
   "source": [
    "import os\n",
    "import sys\n",
    "import gzip\n",
    "import string\n",
    "from urllib.request import urlretrieve\n",
    "\n",
    "import giskard\n",
    "import sklearn\n",
    "import numpy as np\n",
    "import pandas as pd\n",
    "from sklearn.metrics import roc_auc_score\n",
    "from nltk.stem.snowball import SnowballStemmer\n",
    "from sklearn.linear_model import LogisticRegression\n",
    "from sklearn.model_selection import train_test_split\n",
    "from sklearn.feature_extraction.text import TfidfVectorizer\n",
    "from sklearn.pipeline import Pipeline, FunctionTransformer\n",
    "\n",
    "from giskard import wrap_dataset, wrap_model"
   ],
   "metadata": {
    "collapsed": false,
    "ExecuteTime": {
     "start_time": "2023-04-28T18:04:09.107804Z",
     "end_time": "2023-04-28T18:04:12.530608Z"
    }
   }
  },
  {
   "cell_type": "code",
   "execution_count": null,
   "outputs": [],
   "source": [
    "sklearn.set_config(transform_output=\"default\")"
   ],
   "metadata": {
    "collapsed": false,
    "ExecuteTime": {
     "start_time": "2023-04-28T18:04:13.927625Z",
     "end_time": "2023-04-28T18:04:13.949387Z"
    }
   }
  },
  {
   "cell_type": "code",
   "execution_count": null,
   "outputs": [],
   "source": [
    "# Define constants.\n",
    "RANDOM_SEED = 42\n",
    "DATASET_NAME = 'reviews_Apps_for_Android_5.json.gz'\n",
    "url = 'http://snap.stanford.edu/data/amazon/productGraph/categoryFiles/'"
   ],
   "metadata": {
    "collapsed": false,
    "ExecuteTime": {
     "start_time": "2023-04-28T18:04:14.648045Z",
     "end_time": "2023-04-28T18:04:14.672813Z"
    }
   }
  },
  {
   "cell_type": "markdown",
   "source": [
    "### Load Dataset"
   ],
   "metadata": {
    "collapsed": false
   }
  },
  {
   "cell_type": "code",
   "execution_count": null,
   "outputs": [],
   "source": [
    "last_percent_reported = None\n",
    "def download_progress_hook(count, block_size, total_size):\n",
    "    \"\"\"A hook to report the progress of a download. This is mostly intended for users with\n",
    "    slow internet connections. Reports every 1% change in download progress.\n",
    "    \"\"\"\n",
    "    global last_percent_reported\n",
    "    percent = int(count * block_size * 100 / total_size)\n",
    "\n",
    "    if last_percent_reported != percent:\n",
    "        if percent % 5 == 0:\n",
    "            sys.stdout.write(\"%s%%\" % percent)\n",
    "            sys.stdout.flush()\n",
    "        else:\n",
    "            sys.stdout.write(\".\")\n",
    "            sys.stdout.flush()\n",
    "\n",
    "        last_percent_reported = percent\n",
    "\n",
    "def maybe_download(filename, expected_bytes, force=False):\n",
    "    \"\"\"Download a file if not present, and make sure it's the right size.\"\"\"\n",
    "    if force or not os.path.exists(filename):\n",
    "        print('Attempting to download:', filename)\n",
    "        filename, _ = urlretrieve(url + filename, filename, reporthook=download_progress_hook)\n",
    "        print('\\nDownload Complete!')\n",
    "\n",
    "    statinfo = os.stat(filename)\n",
    "    if statinfo.st_size == expected_bytes:\n",
    "        print('Found and verified', filename)\n",
    "    else:\n",
    "        raise Exception(\n",
    "            'Failed to verify ' + filename + '. Can you get to it with a browser?')\n",
    "\n",
    "    return filename\n",
    "\n",
    "test = maybe_download(DATASET_NAME, 95509687)"
   ],
   "metadata": {
    "collapsed": false,
    "ExecuteTime": {
     "start_time": "2023-04-28T18:04:18.178768Z",
     "end_time": "2023-04-28T18:04:18.206373Z"
    }
   }
  },
  {
   "cell_type": "code",
   "execution_count": null,
   "outputs": [],
   "source": [
    "def parse(path):\n",
    "    g = gzip.open(path, 'rb')\n",
    "    for l in g:\n",
    "        yield eval(l)\n",
    "\n",
    "def get_df(path):\n",
    "    i = 0\n",
    "    data = dict()\n",
    "\n",
    "    for d in parse(path):\n",
    "        data[i] = d\n",
    "        i += 1\n",
    "\n",
    "    return pd.DataFrame.from_dict(data, orient='index')\n",
    "\n",
    "# Load pickle if exists, extract and pickle if it doesn't.\n",
    "pickle_file_name = (DATASET_NAME[:-8] + '.pickle')\n",
    "if os.path.exists(pickle_file_name):\n",
    "    print ('Pickled file already present, loading...')\n",
    "    data = pd.read_pickle(pickle_file_name)\n",
    "    print ('Pickle file loaded.')\n",
    "else:\n",
    "    data = get_df(DATASET_NAME)\n",
    "    data.to_pickle(pickle_file_name)"
   ],
   "metadata": {
    "collapsed": false,
    "ExecuteTime": {
     "start_time": "2023-04-28T18:04:19.087915Z",
     "end_time": "2023-04-28T18:04:22.470644Z"
    }
   }
  },
  {
   "cell_type": "code",
   "execution_count": null,
   "outputs": [],
   "source": [
    "data.head()"
   ],
   "metadata": {
    "collapsed": false,
    "ExecuteTime": {
     "start_time": "2023-04-28T18:04:22.481483Z",
     "end_time": "2023-04-28T18:04:22.544892Z"
    }
   }
  },
  {
   "cell_type": "code",
   "execution_count": null,
   "outputs": [],
   "source": [
    "# Select the columns.\n",
    "df = data.loc[:, [\"reviewText\", \"overall\", \"helpful\"]].copy()\n",
    "\n",
    "# Split numerator and denominator.\n",
    "df['helpful_ratings'] = df['helpful'].apply(lambda x: x[0])\n",
    "df['total_ratings'] = df['helpful'].apply(lambda x: x[1])\n",
    "\n",
    "# Delete un-needed 'helpful' category.\n",
    "del df['helpful']"
   ],
   "metadata": {
    "collapsed": false,
    "ExecuteTime": {
     "start_time": "2023-04-28T18:04:31.565194Z",
     "end_time": "2023-04-28T18:04:32.678600Z"
    }
   }
  },
  {
   "cell_type": "code",
   "execution_count": null,
   "outputs": [],
   "source": [
    "df"
   ],
   "metadata": {
    "collapsed": false,
    "ExecuteTime": {
     "start_time": "2023-04-28T18:04:32.775525Z",
     "end_time": "2023-04-28T18:04:32.814436Z"
    }
   }
  },
  {
   "cell_type": "code",
   "execution_count": null,
   "outputs": [],
   "source": [
    "# Filter unreasonable comments.\n",
    "df = df[(df.total_ratings > 10)]\n",
    "df.shape"
   ],
   "metadata": {
    "collapsed": false,
    "ExecuteTime": {
     "start_time": "2023-04-28T18:11:10.679894Z",
     "end_time": "2023-04-28T18:11:10.932655Z"
    }
   }
  },
  {
   "cell_type": "code",
   "execution_count": null,
   "outputs": [],
   "source": [
    "# Create target column.\n",
    "threshold = 0.7\n",
    "df.loc[:, 'Helpful'] = np.where(df.loc[:, 'helpful_ratings'] \\\n",
    "                                 / df.loc[:, 'total_ratings'] > threshold, 1, 0)"
   ],
   "metadata": {
    "collapsed": false,
    "ExecuteTime": {
     "start_time": "2023-04-28T18:16:33.647561Z",
     "end_time": "2023-04-28T18:16:33.662363Z"
    }
   }
  },
  {
   "cell_type": "code",
   "execution_count": null,
   "outputs": [],
   "source": [
    "X = df[\"reviewText\"].copy()\n",
    "y = df[\"Helpful\"].copy()"
   ],
   "metadata": {
    "collapsed": false,
    "ExecuteTime": {
     "start_time": "2023-04-28T18:16:33.856655Z",
     "end_time": "2023-04-28T18:16:33.930344Z"
    }
   }
  },
  {
   "cell_type": "markdown",
   "source": [
    "### Train-test split"
   ],
   "metadata": {
    "collapsed": false
   }
  },
  {
   "cell_type": "code",
   "execution_count": null,
   "outputs": [],
   "source": [
    "X_train, X_test, y_train, y_test = train_test_split(X, y, test_size=0.2, random_state=RANDOM_SEED)"
   ],
   "metadata": {
    "collapsed": false,
    "ExecuteTime": {
     "start_time": "2023-04-28T18:16:34.145253Z",
     "end_time": "2023-04-28T18:16:34.177041Z"
    }
   }
  },
  {
   "cell_type": "markdown",
   "source": [
    "### Wrap test dataset"
   ],
   "metadata": {
    "collapsed": false
   }
  },
  {
   "cell_type": "code",
   "execution_count": null,
   "outputs": [],
   "source": [
    "raw_dataset = pd.concat([X_test, y_test], axis=1)"
   ],
   "metadata": {
    "collapsed": false,
    "ExecuteTime": {
     "start_time": "2023-04-28T18:16:34.444853Z",
     "end_time": "2023-04-28T18:16:34.457048Z"
    }
   }
  },
  {
   "cell_type": "code",
   "execution_count": null,
   "outputs": [],
   "source": [
    "wrapped_dataset = wrap_dataset(raw_dataset,\n",
    "                               name=\"reviews\",\n",
    "                               target=\"Helpful\",\n",
    "                               column_types={\"reviewText\": \"text\"})"
   ],
   "metadata": {
    "collapsed": false,
    "ExecuteTime": {
     "start_time": "2023-04-28T18:16:34.574018Z",
     "end_time": "2023-04-28T18:16:34.607894Z"
    }
   }
  },
  {
   "cell_type": "markdown",
   "source": [
    "### Define preprocessing pipeline"
   ],
   "metadata": {
    "collapsed": false
   }
  },
  {
   "cell_type": "code",
   "execution_count": null,
   "outputs": [],
   "source": [
    "def make_lowercase(x):\n",
    "    if isinstance(x, pd.DataFrame):\n",
    "        x = x.iloc[:, 0]\n",
    "    x = x.apply(lambda row: row.lower())\n",
    "    return x\n",
    "\n",
    "def remove_punctuation(x):\n",
    "    def _remove_punctuation(text):\n",
    "        return text.translate(str.maketrans('', '', string.punctuation))\n",
    "\n",
    "    x.apply(lambda row: _remove_punctuation(row))\n",
    "    return x"
   ],
   "metadata": {
    "collapsed": false,
    "ExecuteTime": {
     "start_time": "2023-04-28T18:16:35.041232Z",
     "end_time": "2023-04-28T18:16:35.052608Z"
    }
   }
  },
  {
   "cell_type": "code",
   "execution_count": null,
   "outputs": [],
   "source": [
    "stemmer = SnowballStemmer(\"english\")\n",
    "def tokenizer(x):\n",
    "    x = x.split()\n",
    "    stems = list()\n",
    "    [stems.append(stemmer.stem(word)) for word in x]\n",
    "    return stems\n",
    "\n",
    "vectorizer = TfidfVectorizer(tokenizer=tokenizer, stop_words='english', ngram_range=(1, 1), min_df=0.01)"
   ],
   "metadata": {
    "collapsed": false,
    "ExecuteTime": {
     "start_time": "2023-04-28T18:16:35.319644Z",
     "end_time": "2023-04-28T18:16:35.341749Z"
    }
   }
  },
  {
   "cell_type": "code",
   "execution_count": null,
   "outputs": [],
   "source": [
    "preprocessor = Pipeline(steps=[\n",
    "    (\"lowercase\", FunctionTransformer(make_lowercase)),\n",
    "    (\"punctuation\", FunctionTransformer(remove_punctuation)),\n",
    "    (\"vectorizer\", vectorizer)\n",
    "])"
   ],
   "metadata": {
    "collapsed": false,
    "ExecuteTime": {
     "start_time": "2023-04-28T18:16:35.527840Z",
     "end_time": "2023-04-28T18:16:35.541591Z"
    }
   }
  },
  {
   "cell_type": "markdown",
   "source": [
    "### Build estimator"
   ],
   "metadata": {
    "collapsed": false
   }
  },
  {
   "cell_type": "code",
   "execution_count": null,
   "outputs": [],
   "source": [
    "estimator = LogisticRegression(random_state=RANDOM_SEED)"
   ],
   "metadata": {
    "collapsed": false,
    "ExecuteTime": {
     "start_time": "2023-04-28T18:16:35.949550Z",
     "end_time": "2023-04-28T18:16:35.965288Z"
    }
   }
  },
  {
   "cell_type": "code",
   "execution_count": null,
   "outputs": [],
   "source": [
    "pipeline = Pipeline(steps=[\n",
    "    (\"preprocessor\", preprocessor),\n",
    "    (\"estimator\", estimator)\n",
    "])"
   ],
   "metadata": {
    "collapsed": false,
    "ExecuteTime": {
     "start_time": "2023-04-28T18:16:36.156634Z",
     "end_time": "2023-04-28T18:16:36.178646Z"
    }
   }
  },
  {
   "cell_type": "code",
   "execution_count": null,
   "outputs": [],
   "source": [
    "pipeline.fit(X_train, y_train)"
   ],
   "metadata": {
    "collapsed": false,
    "ExecuteTime": {
     "start_time": "2023-04-28T18:16:36.462272Z",
     "end_time": "2023-04-28T18:17:06.123103Z"
    }
   }
  },
  {
   "cell_type": "code",
   "execution_count": null,
   "outputs": [],
   "source": [
    "roc_auc_score(y_test, pipeline.predict_proba(X_test)[:, 1].T)"
   ],
   "metadata": {
    "collapsed": false,
    "ExecuteTime": {
     "start_time": "2023-04-28T18:17:06.187320Z",
     "end_time": "2023-04-28T18:17:13.237286Z"
    }
   }
  },
  {
   "cell_type": "markdown",
   "source": [
    "### Wrap model"
   ],
   "metadata": {
    "collapsed": false
   }
  },
  {
   "cell_type": "code",
   "execution_count": null,
   "outputs": [],
   "source": [
    "wrapped_model = wrap_model(model=pipeline,\n",
    "                           model_type=\"classification\",\n",
    "                           feature_names=[\"reviewText\"],\n",
    "                           name=\"review_helpfulness_predictor\")"
   ],
   "metadata": {
    "collapsed": false,
    "ExecuteTime": {
     "start_time": "2023-04-28T18:17:13.239102Z",
     "end_time": "2023-04-28T18:17:13.251385Z"
    }
   }
  },
  {
   "cell_type": "code",
   "execution_count": null,
   "outputs": [],
   "source": [
    "results = giskard.scan(model=wrapped_model, dataset=wrapped_dataset)"
   ],
   "metadata": {
    "collapsed": false,
    "ExecuteTime": {
     "start_time": "2023-04-28T18:56:45.477022Z",
     "end_time": "2023-04-28T18:57:23.722248Z"
    }
   }
  },
  {
   "cell_type": "code",
   "execution_count": null,
   "outputs": [],
   "source": [
    "display(results)"
   ],
   "metadata": {
    "collapsed": false,
    "ExecuteTime": {
     "start_time": "2023-04-28T18:17:49.641388Z",
     "end_time": "2023-04-28T18:17:49.669236Z"
    }
   }
  },
  {
   "cell_type": "code",
   "execution_count": null,
   "outputs": [],
   "source": [
    "print(y_test.value_counts())"
   ],
   "metadata": {
    "collapsed": false,
    "ExecuteTime": {
     "start_time": "2023-04-28T18:17:55.897329Z",
     "end_time": "2023-04-28T18:17:55.924410Z"
    }
   }
  },
  {
   "cell_type": "code",
   "execution_count": null,
   "outputs": [],
   "source": [
    "from giskard import GiskardClient\n",
    "\n",
    "# Create a project\n",
    "url = \"http://localhost:19000\"\n",
    "token = \"\"\n",
    "client = GiskardClient(url, token)\n",
    "# your_project = client.create_project(\"amazon_review\", \"AMAZON_REVIEW\", \"AMAZON_REVIEW_CLASSIFICATION\")\n",
    "your_project = client.get_project(\"amazon_review\")\n",
    "\n",
    "# Upload your model and dataset\n",
    "model_id = wrapped_model.upload(client, \"amazon_review\")\n",
    "dataset_id = wrapped_dataset.upload(client, \"amazon_review\")"
   ],
   "metadata": {
    "collapsed": false
   }
  },
  {
   "cell_type": "code",
   "execution_count": null,
   "outputs": [],
   "source": [
    "len(X_test)"
   ],
   "metadata": {
    "collapsed": false,
    "ExecuteTime": {
     "start_time": "2023-04-28T18:57:58.297080Z",
     "end_time": "2023-04-28T18:57:58.313152Z"
    }
   }
  }
 ],
 "metadata": {
  "kernelspec": {
   "display_name": "Python 3",
   "language": "python",
   "name": "python3"
  },
  "language_info": {
   "codemirror_mode": {
    "name": "ipython",
    "version": 2
   },
   "file_extension": ".py",
   "mimetype": "text/x-python",
   "name": "python",
   "nbconvert_exporter": "python",
   "pygments_lexer": "ipython2",
   "version": "2.7.6"
  }
 },
 "nbformat": 4,
 "nbformat_minor": 0
}
