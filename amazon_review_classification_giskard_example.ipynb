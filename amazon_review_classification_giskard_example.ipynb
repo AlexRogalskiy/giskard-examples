{
 "cells": [
  {
   "cell_type": "markdown",
   "source": [
    "# Amazon reviews classification [sklearn]\n",
    "Binary classification of product's review 'helpfulness' (quality).\n",
    "Reference: <https://t-lanigan.github.io/amazon-review-classifier/>"
   ],
   "metadata": {
    "collapsed": false
   }
  },
  {
   "cell_type": "markdown",
   "source": [
    "## Import libraries"
   ],
   "metadata": {
    "collapsed": false
   }
  },
  {
   "cell_type": "code",
   "execution_count": 1,
   "outputs": [],
   "source": [
    "import string\n",
    "\n",
    "import giskard\n",
    "import numpy as np\n",
    "import pandas as pd\n",
    "from sklearn.pipeline import Pipeline\n",
    "from sklearn.metrics import roc_auc_score\n",
    "from giskard import wrap_dataset, wrap_model\n",
    "from nltk.stem.snowball import SnowballStemmer\n",
    "from sklearn.linear_model import LogisticRegression\n",
    "from sklearn.model_selection import train_test_split\n",
    "from sklearn.preprocessing import FunctionTransformer\n",
    "from sklearn.feature_extraction.text import TfidfVectorizer"
   ],
   "metadata": {
    "collapsed": false,
    "ExecuteTime": {
     "start_time": "2023-05-02T15:39:39.114947Z",
     "end_time": "2023-05-02T15:39:43.474538Z"
    }
   }
  },
  {
   "cell_type": "markdown",
   "source": [
    "## Notebook-level settings"
   ],
   "metadata": {
    "collapsed": false
   }
  },
  {
   "cell_type": "code",
   "execution_count": 2,
   "outputs": [],
   "source": [
    "# Disable chained assignment warning.\n",
    "pd.options.mode.chained_assignment = None"
   ],
   "metadata": {
    "collapsed": false,
    "ExecuteTime": {
     "start_time": "2023-05-02T15:39:43.477130Z",
     "end_time": "2023-05-02T15:39:43.480855Z"
    }
   }
  },
  {
   "cell_type": "markdown",
   "source": [
    "## Define constants"
   ],
   "metadata": {
    "collapsed": false
   }
  },
  {
   "cell_type": "code",
   "execution_count": 3,
   "outputs": [],
   "source": [
    "# Constants.\n",
    "RANDOM_SEED = 0\n",
    "TEST_RATIO = 0.2\n",
    "\n",
    "TARGET_THRESHOLD = 0.5\n",
    "TARGET_NAME = \"isHelpful\"\n",
    "\n",
    "# Paths.\n",
    "DATASET_URL = 'http://snap.stanford.edu/data/amazon/productGraph/categoryFiles/reviews_Apps_for_Android_5.json.gz'"
   ],
   "metadata": {
    "collapsed": false,
    "ExecuteTime": {
     "start_time": "2023-05-02T15:39:43.483122Z",
     "end_time": "2023-05-02T15:39:43.491245Z"
    }
   }
  },
  {
   "cell_type": "markdown",
   "source": [
    "## Load and preprocess Dataset"
   ],
   "metadata": {
    "collapsed": false
   }
  },
  {
   "cell_type": "code",
   "execution_count": 4,
   "outputs": [],
   "source": [
    "def download_data(**kwargs: dict) -> pd.DataFrame:\n",
    "    \"\"\"Download the dataset using URL.\"\"\"\n",
    "    print(f\"Downloading dataset from {DATASET_URL}\")\n",
    "\n",
    "    _df = pd.read_json(DATASET_URL, compression=\"gzip\", lines=True, **kwargs)\n",
    "\n",
    "    print(f\"Dataset was loaded!\")\n",
    "\n",
    "    return _df"
   ],
   "metadata": {
    "collapsed": false,
    "ExecuteTime": {
     "start_time": "2023-05-02T15:39:43.493113Z",
     "end_time": "2023-05-02T15:39:43.528514Z"
    }
   }
  },
  {
   "cell_type": "code",
   "execution_count": 5,
   "outputs": [],
   "source": [
    "def preprocess_data(_df: pd.DataFrame) -> pd.DataFrame:\n",
    "    \"\"\"Perform data-preprocessing steps.\"\"\"\n",
    "    print(f\"Start data preprocessing...\")\n",
    "\n",
    "    # Select columns.\n",
    "    _df = _df[[\"reviewText\", \"helpful\"]]\n",
    "\n",
    "    # Extract numbers of helpful and total votes.\n",
    "    _df['helpful_ratings'] = _df.helpful.apply(lambda x: x[0])\n",
    "    _df['total_ratings'] = _df.helpful.apply(lambda x: x[1])\n",
    "\n",
    "    # Filter unreasonable comments.\n",
    "    _df = _df[_df.total_ratings > 10]\n",
    "\n",
    "    # Create target column.\n",
    "    _df[TARGET_NAME] = np.where((_df.helpful_ratings / _df.total_ratings) > TARGET_THRESHOLD, 1, 0)\n",
    "\n",
    "    # Delete columns we don't need anymore.\n",
    "    _df.drop(columns=[\"helpful\", 'helpful_ratings', 'total_ratings'], inplace=True)\n",
    "\n",
    "    print(\"Data preprocessing finished!\")\n",
    "\n",
    "    return _df"
   ],
   "metadata": {
    "collapsed": false,
    "ExecuteTime": {
     "start_time": "2023-05-02T15:39:43.512158Z",
     "end_time": "2023-05-02T15:39:43.528677Z"
    }
   }
  },
  {
   "cell_type": "code",
   "execution_count": 6,
   "outputs": [
    {
     "name": "stdout",
     "output_type": "stream",
     "text": [
      "Downloading dataset from http://snap.stanford.edu/data/amazon/productGraph/categoryFiles/reviews_Apps_for_Android_5.json.gz\n",
      "Dataset was loaded!\n",
      "Start data preprocessing...\n",
      "Data preprocessing finished!\n"
     ]
    },
    {
     "data": {
      "text/plain": "                                               reviewText  isHelpful\n33      I did the 7-day trial and was impressed, but a...          1\n94      This app is great!  It has a daily verse, a da...          1\n284     This app simply latches on to Google maps and ...          0\n288     Unable to move to sd card, uninstalled. Cannot...          0\n296     With all of the idiocy in almost every free ap...          1\n...                                                   ...        ...\n752842  Yes, it is! Love the sound effects. game grows...          1\n752843  amazing. 1track but hard enough so it doesn't ...          1\n752846  I'd give it -5 stars if I could. I mean, I lov...          1\n752914  This game is one of the most realistic dinosau...          1\n752917  The tutorial is excellent, smooth graphics, ni...          1\n\n[47932 rows x 2 columns]",
      "text/html": "<div>\n<style scoped>\n    .dataframe tbody tr th:only-of-type {\n        vertical-align: middle;\n    }\n\n    .dataframe tbody tr th {\n        vertical-align: top;\n    }\n\n    .dataframe thead th {\n        text-align: right;\n    }\n</style>\n<table border=\"1\" class=\"dataframe\">\n  <thead>\n    <tr style=\"text-align: right;\">\n      <th></th>\n      <th>reviewText</th>\n      <th>isHelpful</th>\n    </tr>\n  </thead>\n  <tbody>\n    <tr>\n      <th>33</th>\n      <td>I did the 7-day trial and was impressed, but a...</td>\n      <td>1</td>\n    </tr>\n    <tr>\n      <th>94</th>\n      <td>This app is great!  It has a daily verse, a da...</td>\n      <td>1</td>\n    </tr>\n    <tr>\n      <th>284</th>\n      <td>This app simply latches on to Google maps and ...</td>\n      <td>0</td>\n    </tr>\n    <tr>\n      <th>288</th>\n      <td>Unable to move to sd card, uninstalled. Cannot...</td>\n      <td>0</td>\n    </tr>\n    <tr>\n      <th>296</th>\n      <td>With all of the idiocy in almost every free ap...</td>\n      <td>1</td>\n    </tr>\n    <tr>\n      <th>...</th>\n      <td>...</td>\n      <td>...</td>\n    </tr>\n    <tr>\n      <th>752842</th>\n      <td>Yes, it is! Love the sound effects. game grows...</td>\n      <td>1</td>\n    </tr>\n    <tr>\n      <th>752843</th>\n      <td>amazing. 1track but hard enough so it doesn't ...</td>\n      <td>1</td>\n    </tr>\n    <tr>\n      <th>752846</th>\n      <td>I'd give it -5 stars if I could. I mean, I lov...</td>\n      <td>1</td>\n    </tr>\n    <tr>\n      <th>752914</th>\n      <td>This game is one of the most realistic dinosau...</td>\n      <td>1</td>\n    </tr>\n    <tr>\n      <th>752917</th>\n      <td>The tutorial is excellent, smooth graphics, ni...</td>\n      <td>1</td>\n    </tr>\n  </tbody>\n</table>\n<p>47932 rows × 2 columns</p>\n</div>"
     },
     "execution_count": 6,
     "metadata": {},
     "output_type": "execute_result"
    }
   ],
   "source": [
    "reviews_df = download_data()\n",
    "reviews_df = preprocess_data(reviews_df)\n",
    "reviews_df"
   ],
   "metadata": {
    "collapsed": false,
    "ExecuteTime": {
     "start_time": "2023-05-02T15:39:43.521283Z",
     "end_time": "2023-05-02T15:40:28.224834Z"
    }
   }
  },
  {
   "cell_type": "markdown",
   "source": [
    "## Train-test split"
   ],
   "metadata": {
    "collapsed": false
   }
  },
  {
   "cell_type": "code",
   "execution_count": 7,
   "outputs": [],
   "source": [
    "X_train, X_test, y_train, y_test = train_test_split(reviews_df[[\"reviewText\"]], reviews_df[TARGET_NAME],\n",
    "                                                    test_size=TEST_RATIO, random_state=RANDOM_SEED)"
   ],
   "metadata": {
    "collapsed": false,
    "ExecuteTime": {
     "start_time": "2023-05-02T15:40:28.229870Z",
     "end_time": "2023-05-02T15:40:28.258276Z"
    }
   }
  },
  {
   "cell_type": "markdown",
   "source": [
    "## Wrap test dataset"
   ],
   "metadata": {
    "collapsed": false
   }
  },
  {
   "cell_type": "code",
   "execution_count": 8,
   "outputs": [
    {
     "name": "stdout",
     "output_type": "stream",
     "text": [
      "Your 'pandas.DataFrame' dataset is successfully wrapped by Giskard's 'Dataset' wrapper class.\n"
     ]
    }
   ],
   "source": [
    "test_dataset = pd.concat([X_test, y_test], axis=1)\n",
    "wrapped_dataset = wrap_dataset(test_dataset,\n",
    "                               name=\"reviews\", target=TARGET_NAME, column_types={\"reviewText\": \"text\"})"
   ],
   "metadata": {
    "collapsed": false,
    "ExecuteTime": {
     "start_time": "2023-05-02T15:40:28.247693Z",
     "end_time": "2023-05-02T15:40:28.348698Z"
    }
   }
  },
  {
   "cell_type": "markdown",
   "source": [
    "## Define preprocessing pipeline"
   ],
   "metadata": {
    "collapsed": false
   }
  },
  {
   "cell_type": "code",
   "execution_count": 9,
   "outputs": [],
   "source": [
    "def make_lowercase(x):\n",
    "    \"\"\"Lower an input string.\"\"\"\n",
    "    x = x.reviewText.apply(lambda row: row.lower())\n",
    "    return x\n",
    "\n",
    "def remove_punctuation(x):\n",
    "    \"\"\"Remove punctuation from input string.\"\"\"\n",
    "    x.apply(lambda row: row.translate(str.maketrans('', '', string.punctuation)))\n",
    "    return x\n",
    "\n",
    "stemmer = SnowballStemmer(\"english\")\n",
    "def tokenizer(x):\n",
    "    \"\"\"Define string tokenization logic.\"\"\"\n",
    "    x = x.split()\n",
    "    stems = list()\n",
    "    [stems.append(stemmer.stem(word)) for word in x]\n",
    "    return stems\n",
    "\n",
    "vectorizer = TfidfVectorizer(tokenizer=tokenizer, stop_words='english', ngram_range=(1, 1), min_df=0.01)"
   ],
   "metadata": {
    "collapsed": false,
    "ExecuteTime": {
     "start_time": "2023-05-02T15:40:28.278932Z",
     "end_time": "2023-05-02T15:40:28.399115Z"
    }
   }
  },
  {
   "cell_type": "code",
   "execution_count": 10,
   "outputs": [],
   "source": [
    "preprocessor = Pipeline(steps=[\n",
    "    (\"lowercase\", FunctionTransformer(make_lowercase)),\n",
    "    (\"punctuation\", FunctionTransformer(remove_punctuation)),\n",
    "    (\"vectorizer\", vectorizer)\n",
    "])"
   ],
   "metadata": {
    "collapsed": false,
    "ExecuteTime": {
     "start_time": "2023-05-02T15:40:28.286873Z",
     "end_time": "2023-05-02T15:40:28.399366Z"
    }
   }
  },
  {
   "cell_type": "markdown",
   "source": [
    "## Build estimator"
   ],
   "metadata": {
    "collapsed": false
   }
  },
  {
   "cell_type": "code",
   "execution_count": 11,
   "outputs": [],
   "source": [
    "pipeline = Pipeline(steps=[\n",
    "    (\"preprocessor\", preprocessor),\n",
    "    (\"estimator\", LogisticRegression(random_state=RANDOM_SEED))\n",
    "])"
   ],
   "metadata": {
    "collapsed": false,
    "ExecuteTime": {
     "start_time": "2023-05-02T15:40:28.294502Z",
     "end_time": "2023-05-02T15:40:28.399516Z"
    }
   }
  },
  {
   "cell_type": "code",
   "execution_count": 12,
   "outputs": [
    {
     "name": "stderr",
     "output_type": "stream",
     "text": [
      "/Users/mykytaalekseiev/IdeaProjects/GiskardExamples/venv/lib/python3.10/site-packages/sklearn/feature_extraction/text.py:528: UserWarning: The parameter 'token_pattern' will not be used since 'tokenizer' is not None'\n",
      "  warnings.warn(\n",
      "/Users/mykytaalekseiev/IdeaProjects/GiskardExamples/venv/lib/python3.10/site-packages/sklearn/feature_extraction/text.py:409: UserWarning: Your stop_words may be inconsistent with your preprocessing. Tokenizing the stop words generated tokens ['abov', 'afterward', 'alon', 'alreadi', 'alway', 'ani', 'anoth', 'anyon', 'anyth', 'anywher', 'becam', 'becaus', 'becom', 'befor', 'besid', 'cri', 'describ', 'dure', 'els', 'elsewher', 'empti', 'everi', 'everyon', 'everyth', 'everywher', 'fifti', 'forti', 'henc', 'hereaft', 'herebi', 'howev', 'hundr', 'inde', 'mani', 'meanwhil', 'moreov', 'nobodi', 'noon', 'noth', 'nowher', 'onc', 'onli', 'otherwis', 'ourselv', 'perhap', 'pleas', 'sever', 'sinc', 'sincer', 'sixti', 'someon', 'someth', 'sometim', 'somewher', 'themselv', 'thenc', 'thereaft', 'therebi', 'therefor', 'togeth', 'twelv', 'twenti', 'veri', 'whatev', 'whenc', 'whenev', 'wherea', 'whereaft', 'wherebi', 'wherev', 'whi', 'yourselv'] not in stop_words.\n",
      "  warnings.warn(\n"
     ]
    },
    {
     "data": {
      "text/plain": "Pipeline(steps=[('preprocessor',\n                 Pipeline(steps=[('lowercase',\n                                  FunctionTransformer(func=<function make_lowercase at 0x17bc496c0>)),\n                                 ('punctuation',\n                                  FunctionTransformer(func=<function remove_punctuation at 0x17bc49510>)),\n                                 ('vectorizer',\n                                  TfidfVectorizer(min_df=0.01,\n                                                  stop_words='english',\n                                                  tokenizer=<function tokenizer at 0x17bc49480>))])),\n                ('estimator', LogisticRegression(random_state=0))])",
      "text/html": "<style>#sk-container-id-1 {color: black;background-color: white;}#sk-container-id-1 pre{padding: 0;}#sk-container-id-1 div.sk-toggleable {background-color: white;}#sk-container-id-1 label.sk-toggleable__label {cursor: pointer;display: block;width: 100%;margin-bottom: 0;padding: 0.3em;box-sizing: border-box;text-align: center;}#sk-container-id-1 label.sk-toggleable__label-arrow:before {content: \"▸\";float: left;margin-right: 0.25em;color: #696969;}#sk-container-id-1 label.sk-toggleable__label-arrow:hover:before {color: black;}#sk-container-id-1 div.sk-estimator:hover label.sk-toggleable__label-arrow:before {color: black;}#sk-container-id-1 div.sk-toggleable__content {max-height: 0;max-width: 0;overflow: hidden;text-align: left;background-color: #f0f8ff;}#sk-container-id-1 div.sk-toggleable__content pre {margin: 0.2em;color: black;border-radius: 0.25em;background-color: #f0f8ff;}#sk-container-id-1 input.sk-toggleable__control:checked~div.sk-toggleable__content {max-height: 200px;max-width: 100%;overflow: auto;}#sk-container-id-1 input.sk-toggleable__control:checked~label.sk-toggleable__label-arrow:before {content: \"▾\";}#sk-container-id-1 div.sk-estimator input.sk-toggleable__control:checked~label.sk-toggleable__label {background-color: #d4ebff;}#sk-container-id-1 div.sk-label input.sk-toggleable__control:checked~label.sk-toggleable__label {background-color: #d4ebff;}#sk-container-id-1 input.sk-hidden--visually {border: 0;clip: rect(1px 1px 1px 1px);clip: rect(1px, 1px, 1px, 1px);height: 1px;margin: -1px;overflow: hidden;padding: 0;position: absolute;width: 1px;}#sk-container-id-1 div.sk-estimator {font-family: monospace;background-color: #f0f8ff;border: 1px dotted black;border-radius: 0.25em;box-sizing: border-box;margin-bottom: 0.5em;}#sk-container-id-1 div.sk-estimator:hover {background-color: #d4ebff;}#sk-container-id-1 div.sk-parallel-item::after {content: \"\";width: 100%;border-bottom: 1px solid gray;flex-grow: 1;}#sk-container-id-1 div.sk-label:hover label.sk-toggleable__label {background-color: #d4ebff;}#sk-container-id-1 div.sk-serial::before {content: \"\";position: absolute;border-left: 1px solid gray;box-sizing: border-box;top: 0;bottom: 0;left: 50%;z-index: 0;}#sk-container-id-1 div.sk-serial {display: flex;flex-direction: column;align-items: center;background-color: white;padding-right: 0.2em;padding-left: 0.2em;position: relative;}#sk-container-id-1 div.sk-item {position: relative;z-index: 1;}#sk-container-id-1 div.sk-parallel {display: flex;align-items: stretch;justify-content: center;background-color: white;position: relative;}#sk-container-id-1 div.sk-item::before, #sk-container-id-1 div.sk-parallel-item::before {content: \"\";position: absolute;border-left: 1px solid gray;box-sizing: border-box;top: 0;bottom: 0;left: 50%;z-index: -1;}#sk-container-id-1 div.sk-parallel-item {display: flex;flex-direction: column;z-index: 1;position: relative;background-color: white;}#sk-container-id-1 div.sk-parallel-item:first-child::after {align-self: flex-end;width: 50%;}#sk-container-id-1 div.sk-parallel-item:last-child::after {align-self: flex-start;width: 50%;}#sk-container-id-1 div.sk-parallel-item:only-child::after {width: 0;}#sk-container-id-1 div.sk-dashed-wrapped {border: 1px dashed gray;margin: 0 0.4em 0.5em 0.4em;box-sizing: border-box;padding-bottom: 0.4em;background-color: white;}#sk-container-id-1 div.sk-label label {font-family: monospace;font-weight: bold;display: inline-block;line-height: 1.2em;}#sk-container-id-1 div.sk-label-container {text-align: center;}#sk-container-id-1 div.sk-container {/* jupyter's `normalize.less` sets `[hidden] { display: none; }` but bootstrap.min.css set `[hidden] { display: none !important; }` so we also need the `!important` here to be able to override the default hidden behavior on the sphinx rendered scikit-learn.org. See: https://github.com/scikit-learn/scikit-learn/issues/21755 */display: inline-block !important;position: relative;}#sk-container-id-1 div.sk-text-repr-fallback {display: none;}</style><div id=\"sk-container-id-1\" class=\"sk-top-container\"><div class=\"sk-text-repr-fallback\"><pre>Pipeline(steps=[(&#x27;preprocessor&#x27;,\n                 Pipeline(steps=[(&#x27;lowercase&#x27;,\n                                  FunctionTransformer(func=&lt;function make_lowercase at 0x17bc496c0&gt;)),\n                                 (&#x27;punctuation&#x27;,\n                                  FunctionTransformer(func=&lt;function remove_punctuation at 0x17bc49510&gt;)),\n                                 (&#x27;vectorizer&#x27;,\n                                  TfidfVectorizer(min_df=0.01,\n                                                  stop_words=&#x27;english&#x27;,\n                                                  tokenizer=&lt;function tokenizer at 0x17bc49480&gt;))])),\n                (&#x27;estimator&#x27;, LogisticRegression(random_state=0))])</pre><b>In a Jupyter environment, please rerun this cell to show the HTML representation or trust the notebook. <br />On GitHub, the HTML representation is unable to render, please try loading this page with nbviewer.org.</b></div><div class=\"sk-container\" hidden><div class=\"sk-item sk-dashed-wrapped\"><div class=\"sk-label-container\"><div class=\"sk-label sk-toggleable\"><input class=\"sk-toggleable__control sk-hidden--visually\" id=\"sk-estimator-id-1\" type=\"checkbox\" ><label for=\"sk-estimator-id-1\" class=\"sk-toggleable__label sk-toggleable__label-arrow\">Pipeline</label><div class=\"sk-toggleable__content\"><pre>Pipeline(steps=[(&#x27;preprocessor&#x27;,\n                 Pipeline(steps=[(&#x27;lowercase&#x27;,\n                                  FunctionTransformer(func=&lt;function make_lowercase at 0x17bc496c0&gt;)),\n                                 (&#x27;punctuation&#x27;,\n                                  FunctionTransformer(func=&lt;function remove_punctuation at 0x17bc49510&gt;)),\n                                 (&#x27;vectorizer&#x27;,\n                                  TfidfVectorizer(min_df=0.01,\n                                                  stop_words=&#x27;english&#x27;,\n                                                  tokenizer=&lt;function tokenizer at 0x17bc49480&gt;))])),\n                (&#x27;estimator&#x27;, LogisticRegression(random_state=0))])</pre></div></div></div><div class=\"sk-serial\"><div class=\"sk-item\"><div class=\"sk-label-container\"><div class=\"sk-label sk-toggleable\"><input class=\"sk-toggleable__control sk-hidden--visually\" id=\"sk-estimator-id-2\" type=\"checkbox\" ><label for=\"sk-estimator-id-2\" class=\"sk-toggleable__label sk-toggleable__label-arrow\">preprocessor: Pipeline</label><div class=\"sk-toggleable__content\"><pre>Pipeline(steps=[(&#x27;lowercase&#x27;,\n                 FunctionTransformer(func=&lt;function make_lowercase at 0x17bc496c0&gt;)),\n                (&#x27;punctuation&#x27;,\n                 FunctionTransformer(func=&lt;function remove_punctuation at 0x17bc49510&gt;)),\n                (&#x27;vectorizer&#x27;,\n                 TfidfVectorizer(min_df=0.01, stop_words=&#x27;english&#x27;,\n                                 tokenizer=&lt;function tokenizer at 0x17bc49480&gt;))])</pre></div></div></div><div class=\"sk-serial\"><div class=\"sk-item\"><div class=\"sk-estimator sk-toggleable\"><input class=\"sk-toggleable__control sk-hidden--visually\" id=\"sk-estimator-id-3\" type=\"checkbox\" ><label for=\"sk-estimator-id-3\" class=\"sk-toggleable__label sk-toggleable__label-arrow\">FunctionTransformer</label><div class=\"sk-toggleable__content\"><pre>FunctionTransformer(func=&lt;function make_lowercase at 0x17bc496c0&gt;)</pre></div></div></div><div class=\"sk-item\"><div class=\"sk-estimator sk-toggleable\"><input class=\"sk-toggleable__control sk-hidden--visually\" id=\"sk-estimator-id-4\" type=\"checkbox\" ><label for=\"sk-estimator-id-4\" class=\"sk-toggleable__label sk-toggleable__label-arrow\">FunctionTransformer</label><div class=\"sk-toggleable__content\"><pre>FunctionTransformer(func=&lt;function remove_punctuation at 0x17bc49510&gt;)</pre></div></div></div><div class=\"sk-item\"><div class=\"sk-estimator sk-toggleable\"><input class=\"sk-toggleable__control sk-hidden--visually\" id=\"sk-estimator-id-5\" type=\"checkbox\" ><label for=\"sk-estimator-id-5\" class=\"sk-toggleable__label sk-toggleable__label-arrow\">TfidfVectorizer</label><div class=\"sk-toggleable__content\"><pre>TfidfVectorizer(min_df=0.01, stop_words=&#x27;english&#x27;,\n                tokenizer=&lt;function tokenizer at 0x17bc49480&gt;)</pre></div></div></div></div></div><div class=\"sk-item\"><div class=\"sk-estimator sk-toggleable\"><input class=\"sk-toggleable__control sk-hidden--visually\" id=\"sk-estimator-id-6\" type=\"checkbox\" ><label for=\"sk-estimator-id-6\" class=\"sk-toggleable__label sk-toggleable__label-arrow\">LogisticRegression</label><div class=\"sk-toggleable__content\"><pre>LogisticRegression(random_state=0)</pre></div></div></div></div></div></div></div>"
     },
     "execution_count": 12,
     "metadata": {},
     "output_type": "execute_result"
    }
   ],
   "source": [
    "pipeline.fit(X_train, y_train)"
   ],
   "metadata": {
    "collapsed": false,
    "ExecuteTime": {
     "start_time": "2023-05-02T15:40:28.312410Z",
     "end_time": "2023-05-02T15:40:56.533054Z"
    }
   }
  },
  {
   "cell_type": "code",
   "execution_count": 13,
   "outputs": [
    {
     "name": "stdout",
     "output_type": "stream",
     "text": [
      "Train ROC-AUC score: 0.7602054998587102\n",
      "Test ROC-AUC score: 0.7400220231290606\n"
     ]
    }
   ],
   "source": [
    "train_metric = roc_auc_score(y_train, pipeline.predict_proba(X_train)[:, 1].T)\n",
    "test_metric = roc_auc_score(y_test, pipeline.predict_proba(X_test)[:, 1].T)\n",
    "\n",
    "print(f\"Train ROC-AUC score: {train_metric}\")\n",
    "print(f\"Test ROC-AUC score: {test_metric}\")"
   ],
   "metadata": {
    "collapsed": false,
    "ExecuteTime": {
     "start_time": "2023-05-02T15:40:56.547426Z",
     "end_time": "2023-05-02T15:41:32.092018Z"
    }
   }
  },
  {
   "cell_type": "markdown",
   "source": [
    "## Wrap model"
   ],
   "metadata": {
    "collapsed": false
   }
  },
  {
   "cell_type": "code",
   "execution_count": 14,
   "outputs": [
    {
     "name": "stdout",
     "output_type": "stream",
     "text": [
      "Your 'sklearn' model is successfully wrapped by Giskard's 'SKLearnModel' wrapper class.\n"
     ]
    }
   ],
   "source": [
    "wrapped_model = wrap_model(model=pipeline,\n",
    "                           model_type=\"classification\",\n",
    "                           feature_names=[\"reviewText\"],\n",
    "                           name=\"review_helpfulness_predictor\",\n",
    "                           classification_threshold=0.5,\n",
    "                           classification_labels=pipeline.classes_)"
   ],
   "metadata": {
    "collapsed": false,
    "ExecuteTime": {
     "start_time": "2023-05-02T15:41:32.096941Z",
     "end_time": "2023-05-02T15:41:32.105414Z"
    }
   }
  },
  {
   "cell_type": "markdown",
   "source": [
    "## Scan model"
   ],
   "metadata": {
    "collapsed": false
   }
  },
  {
   "cell_type": "code",
   "execution_count": 15,
   "outputs": [
    {
     "name": "stderr",
     "output_type": "stream",
     "text": [
      "/Users/mykytaalekseiev/IdeaProjects/GiskardExamples/venv/lib/python3.10/site-packages/_distutils_hack/__init__.py:33: UserWarning: Setuptools is replacing distutils.\n",
      "  warnings.warn(\"Setuptools is replacing distutils.\")\n",
      "/Users/mykytaalekseiev/IdeaProjects/GiskardExamples/venv/lib/python3.10/site-packages/sklearn/feature_extraction/text.py:409: UserWarning: Your stop_words may be inconsistent with your preprocessing. Tokenizing the stop words generated tokens ['abov', 'afterward', 'alon', 'alreadi', 'alway', 'ani', 'anoth', 'anyon', 'anyth', 'anywher', 'becam', 'becaus', 'becom', 'befor', 'besid', 'cri', 'describ', 'dure', 'els', 'elsewher', 'empti', 'everi', 'everyon', 'everyth', 'everywher', 'fifti', 'forti', 'henc', 'hereaft', 'herebi', 'howev', 'hundr', 'inde', 'mani', 'meanwhil', 'moreov', 'nobodi', 'noon', 'noth', 'nowher', 'onc', 'onli', 'otherwis', 'ourselv', 'perhap', 'pleas', 'sever', 'sinc', 'sincer', 'sixti', 'someon', 'someth', 'sometim', 'somewher', 'themselv', 'thenc', 'thereaft', 'therebi', 'therefor', 'togeth', 'twelv', 'twenti', 'veri', 'whatev', 'whenc', 'whenev', 'wherea', 'whereaft', 'wherebi', 'wherev', 'whi', 'yourselv'] not in stop_words.\n",
      "  warnings.warn(\n"
     ]
    },
    {
     "name": "stdout",
     "output_type": "stream",
     "text": [
      "Hint: \"Your target variable values are numeric. It is recommended to have Human readable string as your target values to make results more understandable in Giskard.\"\n",
      "Your model is successfully validated.\n"
     ]
    }
   ],
   "source": [
    "results = giskard.scan(model=wrapped_model, dataset=wrapped_dataset)"
   ],
   "metadata": {
    "collapsed": false,
    "ExecuteTime": {
     "start_time": "2023-05-02T15:41:32.106613Z",
     "end_time": "2023-05-02T15:42:19.216830Z"
    }
   }
  },
  {
   "cell_type": "code",
   "execution_count": 16,
   "outputs": [
    {
     "data": {
      "text/html": "<iframe srcdoc=\"\n&lt;script src=&quot;https://cdn.tailwindcss.com&quot;&gt;&lt;/script&gt;\n&lt;script&gt;\n    tailwind.config = {\n        darkMode: &#x27;class&#x27;\n    }\n&lt;/script&gt;\n&lt;style&gt;\n    table.dataframe {\n        width: 100%;\n        max-width: 100%;\n        overflow: auto;\n    }\n\n    .dataframe tr {\n        border-bottom: 1px solid #555;\n    }\n\n    .dataframe td,\n    .dataframe th {\n        padding: 0.5rem;\n    }\n&lt;/style&gt;\n\n\n\n&lt;div class=&quot;dark&quot;&gt;\n    &lt;div id=&quot;gsk-scan&quot; class=&quot;dark:text-white dark:bg-zinc-900&quot;&gt;\n        &lt;!-- TAB HEADER --&gt;\n&lt;div class=&quot;flex items-center items-stretch h-11&quot;&gt;\n    &lt;div class=&quot;flex items-center px-4 dark:fill-white border-b border-gray-500 h-11&quot;&gt;\n        &lt;svg xmlns=&quot;http://www.w3.org/2000/svg&quot; xml:space=&quot;preserve&quot; viewBox=&quot;0 0 410 213&quot; height=&quot;15&quot;&gt;\n            &lt;path\n                d=&quot;M318.78 21.94a59.439 59.439 0 0 1 36.45-12.56v.03c7.09-.1 14.13 1.2 20.71 3.84 6.58 2.64 12.57 6.56 17.62 11.54s9.06 10.91 11.8 17.45a53.44 53.44 0 0 1 0 41.3 53.588 53.588 0 0 1-11.8 17.45c-5.05 4.98-11.04 8.9-17.62 11.54s-13.62 3.95-20.71 3.84l-67.92.16-35.87 49.11-135.24 46.84 40.81-47.24a139.229 139.229 0 0 1-66.06-23.8H45.11L0 101.46h55.73C60.38 44.84 115.97 0 183.59 0c31.71 0 63.58 9.86 87.47 27.04a105.149 105.149 0 0 1 26.65 27.18 59.4 59.4 0 0 1 21.07-32.28zM99.85 46.03l55.4 55.45h21.31l-64.81-64.87c-4.18 2.86-8.15 6.01-11.9 9.42zm57.78-28.45 83.9 83.9h21.29l-86.21-86.22c-6.37.32-12.71 1.1-18.98 2.32zm-92.84 98.94H39.72l11.1 9.82h22.44c-3-3.12-5.83-6.4-8.47-9.82zm134.27 0H84.8l-.03.01c20.8 20.91 51.79 33.67 84.66 34.3l29.63-34.31zm-34.81 63.35 77.79-26.94 26.6-36.39h-49.68l-54.71 63.33zm146.77-78.65h46.2l.05.01c9.98-.55 19.36-4.97 26.14-12.32a38.409 38.409 0 0 0 10.16-27.05 38.44 38.44 0 0 0-11.56-26.48 38.405 38.405 0 0 0-26.74-10.94A44.287 44.287 0 0 0 324 37.41a44.268 44.268 0 0 0-12.97 31.28v32.53zm51.82-52.83c5.27.52 9.12 5.22 8.6 10.49-.52 5.27-5.22 9.12-10.49 8.6s-9.12-5.22-8.6-10.49c.53-5.27 5.22-9.12 10.49-8.6z&quot;\n                style=&quot;fill-rule:evenodd;clip-rule:evenodd&quot; /&gt;\n        &lt;/svg&gt;\n        &lt;div class=&quot;ml-4 py-2&quot;&gt;\n            &lt;span class=&quot;uppercase text-sm&quot;&gt;0 issues detected&lt;/span&gt;\n        &lt;/div&gt;\n    &lt;/div&gt;\n\n    \n\n    &lt;div class=&quot;flex-grow border-b border-gray-500 h-11&quot;&gt;&lt;/div&gt;\n&lt;/div&gt;\n&lt;!-- TAB HEADER END --&gt;\n        \n    &lt;/div&gt;\n&lt;/div&gt;\n&lt;script type=&quot;text/javascript&quot;&gt;\n        (function () {\n            console.log(&quot;Loading Giskard Scan&quot;);\n            let rows = document.querySelectorAll(&quot;#gsk-scan .gsk-issue&quot;)\n            rows.forEach(rowEl =&gt; {\n                {\n                    rowEl.addEventListener(&quot;click&quot;, (event) =&gt; {\n                        {\n                            event.preventDefault()\n                            if (event.target.classList.contains(&quot;gsk-debug&quot;)) {\n                                {\n                                    alert(&quot;Not implemented yet&quot;)\n                                    return;\n                                }\n                            }\n\n                            rowEl.classList.toggle(&quot;open&quot;)\n                            rowEl.classList.toggle(&quot;bg-zinc-700&quot;)\n                        }\n                    })\n                }\n            });\n\n            const tabs = document.querySelectorAll(&quot;#gsk-scan [role=&#x27;tabpanel&#x27;]&quot;)\n            const tabHeaders = document.querySelectorAll(&quot;#gsk-scan [data-tab-target]&quot;)\n            tabHeaders.forEach(tabHeader =&gt; {\n                tabHeader.addEventListener(&quot;click&quot;, (event) =&gt; {\n                    event.preventDefault()\n                    const tabId = tabHeader.getAttribute(&quot;data-tab-target&quot;)\n\n                    tabs.forEach(tab =&gt; {\n                        tab.classList.add(&quot;hidden&quot;)\n                    })\n                    tabHeaders.forEach(tabh =&gt; {\n                        tabh.classList.remove(&quot;active&quot;)\n                    })\n\n                    tabHeader.classList.add(&quot;active&quot;)\n                    console.log(tabId)\n                    document.getElementById(tabId).classList.remove(&quot;hidden&quot;)\n\n                })\n            })\n\n        })()\n&lt;/script&gt;\n\" style=\"width: 100%; border: none;\" class=\"gsk-scan\"></iframe>\n<script>\n(function() {\n    // @TODO: fix this\n    let elements = document.querySelectorAll(\".gsk-scan\");\n    elements.forEach(el => {\n        el.style.height = el.contentWindow.document.body.scrollHeight + \"px\";\n        setTimeout(() => {\n            el.style.height = el.contentWindow.document.body.scrollHeight + \"px\";\n        }, 1000)\n\n    })\n})()\n</script>\n"
     },
     "metadata": {},
     "output_type": "display_data"
    }
   ],
   "source": [
    "display(results)"
   ],
   "metadata": {
    "collapsed": false,
    "ExecuteTime": {
     "start_time": "2023-05-02T15:42:19.233514Z",
     "end_time": "2023-05-02T15:42:19.372845Z"
    }
   }
  }
 ],
 "metadata": {
  "kernelspec": {
   "display_name": "Python 3",
   "language": "python",
   "name": "python3"
  },
  "language_info": {
   "codemirror_mode": {
    "name": "ipython",
    "version": 2
   },
   "file_extension": ".py",
   "mimetype": "text/x-python",
   "name": "python",
   "nbconvert_exporter": "python",
   "pygments_lexer": "ipython2",
   "version": "2.7.6"
  }
 },
 "nbformat": 4,
 "nbformat_minor": 0
}
