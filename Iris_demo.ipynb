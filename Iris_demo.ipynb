{
 "cells": [
  {
   "cell_type": "markdown",
   "metadata": {
    "id": "SLk3JHfxMxnh",
    "pycharm": {
     "name": "#%% md\n"
    }
   },
   "source": [
    "![giskard_logo.png](https://raw.githubusercontent.com/Giskard-AI/giskard/main/readme/Logo_full_darkgreen.png)\n"
   ]
  },
  {
   "cell_type": "markdown",
   "metadata": {
    "id": "m_5fQdjJNLsQ",
    "pycharm": {
     "name": "#%% md\n"
    }
   },
   "source": [
    "# About Giskard\n",
    "\n",
    "Open-Source CI/CD platform for ML teams. Deliver ML products, better & faster. \n",
    "\n",
    "*   Collaborate faster with feedback from business stakeholders.\n",
    "*   Deploy automated tests to eliminate regressions, errors & biases.\n",
    "\n",
    "🏡 [Website](https://giskard.ai/)\n",
    "\n",
    "📗 [Documentation](https://docs.giskard.ai/)"
   ]
  },
  {
   "cell_type": "markdown",
   "metadata": {
    "id": "EL1J6Cd0NXtX",
    "pycharm": {
     "name": "#%% md\n"
    }
   },
   "source": [
    "# Start by creating a ML model 🚀🚀🚀"
   ]
  },
  {
   "cell_type": "code",
   "execution_count": null,
   "metadata": {
    "id": "TOpELi5MNhUB",
    "pycharm": {
     "name": "#%%\n"
    }
   },
   "outputs": [],
   "source": [
    "from sklearn import datasets \n",
    "from sklearn.neighbors import KNeighborsClassifier\n",
    "from sklearn.model_selection import train_test_split\n",
    "from sklearn.preprocessing import StandardScaler, OneHotEncoder\n",
    "import pandas as pd\n",
    "import numpy as np"
   ]
  },
  {
   "cell_type": "code",
   "execution_count": null,
   "metadata": {
    "id": "PXQj2tfEMm5i",
    "pycharm": {
     "name": "#%%\n"
    }
   },
   "outputs": [],
   "source": [
    "iris = datasets.load_iris()\n",
    "df_iris = pd.DataFrame(iris.data,columns=iris.feature_names)\n",
    "\n",
    "d = {0: 'setosa', 1: 'versicolor', 2: 'virginica'}\n",
    "df_iris['target'] = pd.Series(iris.target).map(d)"
   ]
  },
  {
   "cell_type": "code",
   "execution_count": null,
   "metadata": {
    "id": "spwCgPRFQxpR",
    "pycharm": {
     "name": "#%%\n"
    }
   },
   "outputs": [],
   "source": [
    "X = df_iris.drop(columns= \"target\")\n",
    "y = df_iris['target']"
   ]
  },
  {
   "cell_type": "markdown",
   "metadata": {
    "id": "S23FStuySmd0",
    "pycharm": {
     "name": "#%% md\n"
    }
   },
   "source": [
    "##Preprocessing steps with multiple feature engineering steps:\n",
    "\n",
    "*   Add / remove variables\n",
    "*   Scaling of numeric variable\n",
    "*   Onehot encoding of categorical variable"
   ]
  },
  {
   "cell_type": "code",
   "execution_count": null,
   "metadata": {
    "id": "rDHJ0E4hNwIS",
    "pycharm": {
     "name": "#%%\n"
    }
   },
   "outputs": [],
   "source": [
    "#Create a new numerical variable: Sepal area\n",
    "X[\"sepal area\"] = X[\"sepal length (cm)\"] * X[\"sepal width (cm)\"]\n",
    "\n",
    "#Turn sepal width (cm) into a categorical variable\n",
    "bins = [-np.inf, 2.5, 3.5, np.inf]\n",
    "labels = [\"small\",\"medium\",\"big\"]\n",
    "X[\"cat_sepal_width\"] = pd.cut(X[\"sepal width (cm)\"], bins=bins, labels=labels)\n",
    "\n",
    "#Scale all the numerical variables\n",
    "std_slc = StandardScaler()\n",
    "num_cols = [\"sepal area\", \"petal length (cm)\", \"petal width (cm)\"]\n",
    "X[num_cols] = std_slc.fit_transform(X[num_cols])\n",
    "\n",
    "#Use OneHotEncoder with cat_sepal_width\n",
    "one_hot_encoder = OneHotEncoder(handle_unknown='ignore')\n",
    "arr =  one_hot_encoder.fit_transform(X[['cat_sepal_width']]).toarray()\n",
    "X = X.join(pd.DataFrame(arr))\n",
    "\n",
    "#Remove Sepal length, sepal width and cat_sepal_width\n",
    "X = X.drop(columns= [\"sepal width (cm)\", \"sepal length (cm)\", \"cat_sepal_width\"])"
   ]
  },
  {
   "cell_type": "markdown",
   "metadata": {
    "id": "R0IUseNZAo23",
    "pycharm": {
     "name": "#%% md\n"
    }
   },
   "source": [
    "## Train a model"
   ]
  },
  {
   "cell_type": "code",
   "execution_count": null,
   "metadata": {
    "colab": {
     "base_uri": "https://localhost:8080/"
    },
    "id": "kQOKC1k4AnyK",
    "outputId": "4e9dd7f1-cd43-41f0-ebb1-aa89abbc0b7b",
    "pycharm": {
     "name": "#%%\n"
    }
   },
   "outputs": [],
   "source": [
    "knn = KNeighborsClassifier(n_neighbors=12)\n",
    "knn.fit(X, y)"
   ]
  },
  {
   "cell_type": "code",
   "execution_count": null,
   "metadata": {
    "id": "ubrwgtKiDNgW",
    "pycharm": {
     "name": "#%%\n"
    }
   },
   "outputs": [],
   "source": [
    "def wrapped_prediction_function(X):\n",
    "  #Create a new numerical variable: Sepal area\n",
    "  X[\"sepal area\"] = X[\"sepal length (cm)\"] * X[\"sepal width (cm)\"]\n",
    "  \n",
    "  #Turn sepal width (cm) into a categorical variable\n",
    "  bins = [-np.inf, 2.5, 3.5, np.inf]\n",
    "  labels = [\"small\",\"medium\",\"big\"]\n",
    "  X[\"cat_sepal_width\"] = pd.cut(X[\"sepal width (cm)\"], bins=bins, labels=labels)\n",
    "\n",
    "  #Scale all the numerical variables\n",
    "  num_cols = [\"sepal area\", \"petal length (cm)\", \"petal width (cm)\"]\n",
    "  X[num_cols] = std_slc.transform(X[num_cols])\n",
    "\n",
    "  #Use OneHotEncoder with cat_sepal_width\n",
    "  arr =  one_hot_encoder.transform(X[['cat_sepal_width']]).toarray()\n",
    "  X = X.join(pd.DataFrame(arr))\n",
    "\n",
    "  #Remove Sepal length, sepal width and cat_sepal_width\n",
    "  X = X.drop(columns= [\"sepal width (cm)\", \"sepal length (cm)\", \"cat_sepal_width\"])\n",
    "\n",
    "  return knn.predict_proba(X)"
   ]
  },
  {
   "cell_type": "markdown",
   "metadata": {
    "id": "BeAnVqVmOUxT",
    "pycharm": {
     "name": "#%% md\n"
    }
   },
   "source": [
    "# Upload the model in Giskard without pipeline 🚀🚀🚀"
   ]
  },
  {
   "cell_type": "markdown",
   "metadata": {
    "id": "r-yihNQ9OWRp",
    "pycharm": {
     "name": "#%% md\n"
    }
   },
   "source": [
    "### Initiate a project\n"
   ]
  },
  {
   "cell_type": "code",
   "execution_count": null,
   "metadata": {
    "colab": {
     "base_uri": "https://localhost:8080/"
    },
    "id": "_qvAsc3CGPR5",
    "outputId": "acc0a8b6-acef-4e99-bf25-228d6fa07360",
    "pycharm": {
     "name": "#%%\n"
    }
   },
   "outputs": [],
   "source": [
    "!pip install giskard"
   ]
  },
  {
   "cell_type": "code",
   "execution_count": null,
   "metadata": {
    "id": "zr_z7nlMOlmD",
    "pycharm": {
     "name": "#%%\n"
    }
   },
   "outputs": [],
   "source": [
    "from giskard.giskard_client import GiskardClient\n",
    "\n",
    "url = \"http://localhost:19000\" # if docker image is running on your local\n",
    "#url = \"http://app.giskard.ai\" # If you want to upload on giskard URL \n",
    "token = \"XXX\" #Find your token in the Admin tab of your app (login: admin; password: admin)\n",
    "client = GiskardClient(url, token)\n",
    "\n",
    "iris = client.create_project(\"iris\", \"Classification of Iris dataset\", \"Project to classify flowers\")\n",
    "\n",
    "#If you've already created a project with the key \"iris\" use\n",
    "#iris = client.get_project(\"iris\")"
   ]
  },
  {
   "cell_type": "code",
   "execution_count": null,
   "metadata": {
    "colab": {
     "base_uri": "https://localhost:8080/",
     "height": 424
    },
    "id": "uCSR58hnHApF",
    "outputId": "de2b05fd-dc15-4c2e-d30b-1d2d2bb61512",
    "pycharm": {
     "name": "#%%\n"
    }
   },
   "outputs": [],
   "source": [
    "df_iris"
   ]
  },
  {
   "cell_type": "markdown",
   "metadata": {
    "id": "g0pw8QziO549",
    "pycharm": {
     "name": "#%% md\n"
    }
   },
   "source": [
    "### Upload your model and a dataset (see [documentation](https://docs.giskard.ai/start/guides/upload-your-model))"
   ]
  },
  {
   "cell_type": "code",
   "execution_count": null,
   "metadata": {
    "colab": {
     "base_uri": "https://localhost:8080/"
    },
    "id": "JW9crRujO7H_",
    "outputId": "999588e2-38df-47bb-e0b6-d815f38b8f14",
    "pycharm": {
     "name": "#%%\n"
    }
   },
   "outputs": [],
   "source": [
    "iris.upload_model_and_df(\n",
    "    prediction_function=wrapped_prediction_function, # Python function which takes pandas dataframe as input and returns probabilities for classification model OR returns predictions for regression model\n",
    "    model_type='classification', # \"classification\" for classification model OR \"regression\" for regression model\n",
    "    df=df_iris, #the dataset you want to use to inspect your model\n",
    "    column_types={\"sepal length (cm)\":\"numeric\", \"sepal width (cm)\": \"numeric\", \"petal length (cm)\": \"numeric\", \"petal width (cm)\": \"numeric\", \"target\":\"category\"}, #all the column types of df\n",
    "    target='target', #the column name in df corresponding to the actual target variable (ground truth).\n",
    "    feature_names=[\"sepal length (cm)\",\"sepal width (cm)\", \"petal length (cm)\", \"petal width (cm)\"],# List of the feature names of prediction_function\n",
    "    model_name='knn_model_with_feature_names', # Name of the model\n",
    "    dataset_name='iris_data', # Name of the dataset\n",
    "    classification_labels=knn.classes_ # List of the classification labels of your prediction\n",
    ")"
   ]
  }
 ],
 "metadata": {
  "colab": {
   "collapsed_sections": [],
   "provenance": []
  },
  "kernelspec": {
   "display_name": "Python 3 (ipykernel)",
   "language": "python",
   "name": "python3"
  },
  "language_info": {
   "codemirror_mode": {
    "name": "ipython",
    "version": 3
   },
   "file_extension": ".py",
   "mimetype": "text/x-python",
   "name": "python",
   "nbconvert_exporter": "python",
   "pygments_lexer": "ipython3",
   "version": "3.9.7"
  }
 },
 "nbformat": 4,
 "nbformat_minor": 1
}