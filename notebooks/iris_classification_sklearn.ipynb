{
 "cells": [
  {
   "cell_type": "markdown",
   "metadata": {
    "id": "SLk3JHfxMxnh",
    "pycharm": {
     "name": "#%% md\n"
    }
   },
   "source": [
    "![giskard_logo.png](https://raw.githubusercontent.com/Giskard-AI/giskard/main/readme/Logo_full_darkgreen.png)\n"
   ]
  },
  {
   "cell_type": "markdown",
   "metadata": {
    "id": "m_5fQdjJNLsQ",
    "pycharm": {
     "name": "#%% md\n"
    }
   },
   "source": [
    "# About Giskard\n",
    "\n",
    "Open-Source CI/CD platform for ML teams. Deliver ML products, better & faster. \n",
    "\n",
    "*   Collaborate faster with feedback from business stakeholders.\n",
    "*   Deploy automated tests to eliminate regressions, errors & biases.\n",
    "\n",
    "🏡 [Website](https://giskard.ai/)\n",
    "\n",
    "📗 [Documentation](https://docs.giskard.ai/)"
   ]
  },
  {
   "cell_type": "markdown",
   "metadata": {},
   "source": [
    "## Installing `giskard`"
   ]
  },
  {
   "cell_type": "code",
   "execution_count": null,
   "metadata": {},
   "outputs": [],
   "source": [
    "!pip install giskard"
   ]
  },
  {
   "cell_type": "markdown",
   "metadata": {},
   "source": [
    "## Connect the external worker in daemon mode"
   ]
  },
  {
   "cell_type": "code",
   "execution_count": null,
   "metadata": {},
   "outputs": [],
   "source": [
    "!giskard worker start -d"
   ]
  },
  {
   "cell_type": "markdown",
   "metadata": {
    "id": "EL1J6Cd0NXtX",
    "pycharm": {
     "name": "#%% md\n"
    }
   },
   "source": [
    "# Start by creating a ML model 🚀🚀🚀"
   ]
  },
  {
   "cell_type": "code",
   "execution_count": null,
   "metadata": {
    "id": "TOpELi5MNhUB",
    "pycharm": {
     "name": "#%%\n"
    }
   },
   "outputs": [],
   "source": [
    "from sklearn import datasets \n",
    "from sklearn.neighbors import KNeighborsClassifier\n",
    "from sklearn.model_selection import train_test_split\n",
    "from sklearn.preprocessing import StandardScaler, OneHotEncoder\n",
    "import pandas as pd\n",
    "import numpy as np"
   ]
  },
  {
   "cell_type": "code",
   "execution_count": null,
   "metadata": {
    "id": "PXQj2tfEMm5i",
    "pycharm": {
     "name": "#%%\n"
    }
   },
   "outputs": [],
   "source": [
    "iris = datasets.load_iris()\n",
    "df_iris = pd.DataFrame(iris.data,columns=iris.feature_names)\n",
    "\n",
    "d = {0: 'setosa', 1: 'versicolor', 2: 'virginica'}\n",
    "df_iris['target'] = pd.Series(iris.target).map(d)\n",
    "#Create a new numerical variable: Sepal area\n",
    "df_iris[\"sepal area\"] = df_iris[\"sepal length (cm)\"] * df_iris[\"sepal width (cm)\"]\n",
    "\n",
    "#Turn sepal width (cm) into a categorical variable\n",
    "bins = [-np.inf, 2.5, 3.5, np.inf]\n",
    "labels = [\"small\",\"medium\",\"big\"]\n",
    "df_iris[\"cat_sepal_width\"] = pd.cut(df_iris[\"sepal width (cm)\"], bins=bins, labels=labels).astype(str)"
   ]
  },
  {
   "cell_type": "code",
   "execution_count": null,
   "metadata": {},
   "outputs": [],
   "source": [
    "column_types={\"sepal length (cm)\": \"numeric\",\n",
    "                \"sepal width (cm)\": \"numeric\",\n",
    "                \"petal length (cm)\": \"numeric\",\n",
    "                \"petal width (cm)\": \"numeric\",\n",
    "                \"sepal area\": \"numeric\",\n",
    "                \"cat_sepal_width\": \"category\"}\n",
    "\n",
    "feature_names = ['petal length (cm)', 'petal width (cm)', 'sepal area', 'cat_sepal_width']"
   ]
  },
  {
   "cell_type": "markdown",
   "metadata": {
    "id": "S23FStuySmd0",
    "pycharm": {
     "name": "#%% md\n"
    }
   },
   "source": [
    "## Preprocessing steps with multiple feature engineering steps:\n",
    "\n",
    "*   Add / remove variables\n",
    "*   Scaling of numeric variable\n",
    "*   Onehot encoding of categorical variable"
   ]
  },
  {
   "cell_type": "code",
   "execution_count": null,
   "metadata": {
    "id": "rDHJ0E4hNwIS",
    "pycharm": {
     "name": "#%%\n"
    }
   },
   "outputs": [],
   "source": [
    "X = df_iris.drop(columns=\"target\").copy()\n",
    "X = X[feature_names]\n",
    "y = df_iris['target']\n",
    "\n",
    "#Scale all the numerical variables\n",
    "std_slc = StandardScaler()\n",
    "num_cols = [colname for colname, coltype in column_types.items() \n",
    "            if coltype=='numeric' and colname in feature_names]\n",
    "X[num_cols] = std_slc.fit_transform(X[num_cols])\n",
    "\n",
    "\n",
    "#Use OneHotEncoder with cat_sepal_width\n",
    "one_hot_encoder = OneHotEncoder(handle_unknown='ignore')\n",
    "arr =  one_hot_encoder.fit_transform(X[['cat_sepal_width']]).toarray()\n",
    "X = X.join(pd.DataFrame(arr))\n",
    "X = X.drop(columns='cat_sepal_width')\n",
    "X = X.rename(columns={0: '0', 1: '1', 2: '2'}) "
   ]
  },
  {
   "cell_type": "markdown",
   "metadata": {
    "id": "R0IUseNZAo23",
    "pycharm": {
     "name": "#%% md\n"
    }
   },
   "source": [
    "## Train a model"
   ]
  },
  {
   "cell_type": "code",
   "execution_count": null,
   "metadata": {
    "colab": {
     "base_uri": "https://localhost:8080/"
    },
    "id": "kQOKC1k4AnyK",
    "outputId": "4e9dd7f1-cd43-41f0-ebb1-aa89abbc0b7b",
    "pycharm": {
     "name": "#%%\n"
    }
   },
   "outputs": [],
   "source": [
    "knn = KNeighborsClassifier(n_neighbors=12)\n",
    "knn.fit(X, y)\n",
    "knn.score(X, y)"
   ]
  },
  {
   "cell_type": "code",
   "execution_count": null,
   "metadata": {},
   "outputs": [],
   "source": [
    "def my_preproc(df):\n",
    "    X=df.copy()\n",
    "    #Scale all the numerical variables\n",
    "    num_cols = [colname for colname, coltype in column_types.items() \n",
    "                if coltype=='numeric' and colname in feature_names]\n",
    "    X[num_cols] = std_slc.transform(X[num_cols])\n",
    "\n",
    "\n",
    "    #Use OneHotEncoder with cat_sepal_width\n",
    "    arr =  one_hot_encoder.transform(X[['cat_sepal_width']]).toarray()\n",
    "    X = X.join(pd.DataFrame(arr))\n",
    "    X = X.drop(columns='cat_sepal_width')\n",
    "    X = X.rename(columns={0: '0', 1: '1', 2: '2'}) \n",
    "    return X"
   ]
  },
  {
   "cell_type": "code",
   "execution_count": null,
   "metadata": {},
   "outputs": [],
   "source": [
    "from giskard import SKLearnModel, Dataset\n",
    "my_model = SKLearnModel(clf=knn,\n",
    "                        name=\"K-Nearest Neighbors Classifier (sklearn)\",\n",
    "                        model_type=\"classification\",\n",
    "                        feature_names=feature_names,\n",
    "                        data_preprocessing_function=my_preproc)\n",
    "\n",
    "# Wrap your dataset with Dataset from Giskard\n",
    "my_test_dataset = Dataset(df_iris, name=\"testing dataset\", target=\"target\", column_types=column_types)"
   ]
  },
  {
   "cell_type": "markdown",
   "metadata": {
    "id": "BeAnVqVmOUxT",
    "pycharm": {
     "name": "#%% md\n"
    }
   },
   "source": [
    "# Upload the model in Giskard without pipeline 🚀🚀🚀"
   ]
  },
  {
   "cell_type": "markdown",
   "metadata": {
    "id": "r-yihNQ9OWRp",
    "pycharm": {
     "name": "#%% md\n"
    }
   },
   "source": [
    "### Initiate a project\n"
   ]
  },
  {
   "cell_type": "code",
   "execution_count": null,
   "metadata": {
    "id": "zr_z7nlMOlmD",
    "pycharm": {
     "name": "#%%\n"
    }
   },
   "outputs": [],
   "source": [
    "from giskard import GiskardClient\n",
    "\n",
    "url = \"http://localhost:19000\"\n",
    "token = \"API Access Token\"\n",
    "client = GiskardClient(url, token)\n",
    "\n",
    "iris = client.create_project(\"iris\", \"Classification of the Iris dataset\", \"Project to classify flowers\")"
   ]
  },
  {
   "cell_type": "markdown",
   "metadata": {
    "id": "g0pw8QziO549",
    "pycharm": {
     "name": "#%% md\n"
    }
   },
   "source": [
    "### Upload your model and a dataset (see [documentation](https://docs.giskard.ai/start/guides/upload-your-model))"
   ]
  },
  {
   "cell_type": "code",
   "execution_count": null,
   "metadata": {
    "scrolled": false
   },
   "outputs": [],
   "source": [
    "# save model and dataset to Giskard server\n",
    "mid = my_model.upload(client, \"iris\", validate_ds=my_test_dataset)\n",
    "did = my_test_dataset.upload(client, \"iris\")"
   ]
  }
 ],
 "metadata": {
  "colab": {
   "collapsed_sections": [],
   "provenance": []
  },
  "kernelspec": {
   "display_name": "Python 3 (ipykernel)",
   "language": "python",
   "name": "python3"
  },
  "language_info": {
   "codemirror_mode": {
    "name": "ipython",
    "version": 3
   },
   "file_extension": ".py",
   "mimetype": "text/x-python",
   "name": "python",
   "nbconvert_exporter": "python",
   "pygments_lexer": "ipython3",
   "version": "3.7.16"
  }
 },
 "nbformat": 4,
 "nbformat_minor": 1
}
