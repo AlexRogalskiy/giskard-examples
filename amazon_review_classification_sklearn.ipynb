{
 "cells": [
  {
   "cell_type": "markdown",
   "source": [
    "# Amazon reviews classification [sklearn]\n",
    "Binary classification of product's review 'helpfulness' (quality).\n",
    "Reference: <https://t-lanigan.github.io/amazon-review-classifier/>"
   ],
   "metadata": {
    "collapsed": false
   }
  },
  {
   "cell_type": "markdown",
   "source": [
    "## Install necessary packages"
   ],
   "metadata": {
    "collapsed": false
   }
  },
  {
   "cell_type": "code",
   "execution_count": null,
   "outputs": [],
   "source": [
    "!pip install nltk giskard"
   ],
   "metadata": {
    "collapsed": false,
    "ExecuteTime": {
     "start_time": "2023-05-02T16:58:08.946177Z",
     "end_time": "2023-05-02T16:58:12.743989Z"
    }
   }
  },
  {
   "cell_type": "markdown",
   "source": [
    "## Import libraries"
   ],
   "metadata": {
    "collapsed": false
   }
  },
  {
   "cell_type": "code",
   "execution_count": null,
   "outputs": [],
   "source": [
    "import string\n",
    "\n",
    "import giskard\n",
    "import numpy as np\n",
    "import pandas as pd\n",
    "from sklearn.pipeline import Pipeline\n",
    "from sklearn.metrics import roc_auc_score\n",
    "from giskard import wrap_dataset, wrap_model\n",
    "from nltk.stem.snowball import SnowballStemmer\n",
    "from sklearn.linear_model import LogisticRegression\n",
    "from sklearn.model_selection import train_test_split\n",
    "from sklearn.preprocessing import FunctionTransformer\n",
    "from sklearn.feature_extraction.text import TfidfVectorizer"
   ],
   "metadata": {
    "collapsed": false,
    "ExecuteTime": {
     "start_time": "2023-05-02T15:39:39.114947Z",
     "end_time": "2023-05-02T15:39:43.474538Z"
    }
   }
  },
  {
   "cell_type": "markdown",
   "source": [
    "## Notebook-level settings"
   ],
   "metadata": {
    "collapsed": false
   }
  },
  {
   "cell_type": "code",
   "execution_count": null,
   "outputs": [],
   "source": [
    "# Disable chained assignment warning.\n",
    "pd.options.mode.chained_assignment = None"
   ],
   "metadata": {
    "collapsed": false,
    "ExecuteTime": {
     "start_time": "2023-05-02T15:39:43.477130Z",
     "end_time": "2023-05-02T15:39:43.480855Z"
    }
   }
  },
  {
   "cell_type": "markdown",
   "source": [
    "## Define constants"
   ],
   "metadata": {
    "collapsed": false
   }
  },
  {
   "cell_type": "code",
   "execution_count": null,
   "outputs": [],
   "source": [
    "# Constants.\n",
    "RANDOM_SEED = 0\n",
    "TEST_RATIO = 0.2\n",
    "\n",
    "TARGET_THRESHOLD = 0.5\n",
    "TARGET_NAME = \"isHelpful\"\n",
    "\n",
    "# Paths.\n",
    "DATASET_URL = 'http://snap.stanford.edu/data/amazon/productGraph/categoryFiles/reviews_Apps_for_Android_5.json.gz'"
   ],
   "metadata": {
    "collapsed": false,
    "ExecuteTime": {
     "start_time": "2023-05-02T15:39:43.483122Z",
     "end_time": "2023-05-02T15:39:43.491245Z"
    }
   }
  },
  {
   "cell_type": "markdown",
   "source": [
    "## Load and preprocess Dataset"
   ],
   "metadata": {
    "collapsed": false
   }
  },
  {
   "cell_type": "code",
   "execution_count": null,
   "outputs": [],
   "source": [
    "def download_data(**kwargs: dict) -> pd.DataFrame:\n",
    "    \"\"\"Download the dataset using URL.\"\"\"\n",
    "    print(f\"Downloading dataset from {DATASET_URL}\")\n",
    "\n",
    "    _df = pd.read_json(DATASET_URL, compression=\"gzip\", lines=True, **kwargs)\n",
    "\n",
    "    print(f\"Dataset was loaded!\")\n",
    "\n",
    "    return _df"
   ],
   "metadata": {
    "collapsed": false,
    "ExecuteTime": {
     "start_time": "2023-05-02T15:39:43.493113Z",
     "end_time": "2023-05-02T15:39:43.528514Z"
    }
   }
  },
  {
   "cell_type": "code",
   "execution_count": null,
   "outputs": [],
   "source": [
    "def preprocess_data(_df: pd.DataFrame) -> pd.DataFrame:\n",
    "    \"\"\"Perform data-preprocessing steps.\"\"\"\n",
    "    print(f\"Start data preprocessing...\")\n",
    "\n",
    "    # Select columns.\n",
    "    _df = _df[[\"reviewText\", \"helpful\"]]\n",
    "\n",
    "    # Extract numbers of helpful and total votes.\n",
    "    _df['helpful_ratings'] = _df.helpful.apply(lambda x: x[0])\n",
    "    _df['total_ratings'] = _df.helpful.apply(lambda x: x[1])\n",
    "\n",
    "    # Filter unreasonable comments.\n",
    "    _df = _df[_df.total_ratings > 10]\n",
    "\n",
    "    # Create target column.\n",
    "    _df[TARGET_NAME] = np.where((_df.helpful_ratings / _df.total_ratings) > TARGET_THRESHOLD, 1, 0)\n",
    "\n",
    "    # Delete columns we don't need anymore.\n",
    "    _df.drop(columns=[\"helpful\", 'helpful_ratings', 'total_ratings'], inplace=True)\n",
    "\n",
    "    print(\"Data preprocessing finished!\")\n",
    "\n",
    "    return _df"
   ],
   "metadata": {
    "collapsed": false,
    "ExecuteTime": {
     "start_time": "2023-05-02T15:39:43.512158Z",
     "end_time": "2023-05-02T15:39:43.528677Z"
    }
   }
  },
  {
   "cell_type": "code",
   "execution_count": null,
   "outputs": [],
   "source": [
    "reviews_df = download_data()\n",
    "reviews_df = preprocess_data(reviews_df)"
   ],
   "metadata": {
    "collapsed": false,
    "ExecuteTime": {
     "start_time": "2023-05-02T15:39:43.521283Z",
     "end_time": "2023-05-02T15:40:28.224834Z"
    }
   }
  },
  {
   "cell_type": "markdown",
   "source": [
    "## Train-test split"
   ],
   "metadata": {
    "collapsed": false
   }
  },
  {
   "cell_type": "code",
   "execution_count": null,
   "outputs": [],
   "source": [
    "X_train, X_test, y_train, y_test = train_test_split(reviews_df[[\"reviewText\"]], reviews_df[TARGET_NAME],\n",
    "                                                    test_size=TEST_RATIO, random_state=RANDOM_SEED)"
   ],
   "metadata": {
    "collapsed": false,
    "ExecuteTime": {
     "start_time": "2023-05-02T15:40:28.229870Z",
     "end_time": "2023-05-02T15:40:28.258276Z"
    }
   }
  },
  {
   "cell_type": "markdown",
   "source": [
    "## Wrap test dataset"
   ],
   "metadata": {
    "collapsed": false
   }
  },
  {
   "cell_type": "code",
   "execution_count": null,
   "outputs": [],
   "source": [
    "test_dataset = pd.concat([X_test, y_test], axis=1)\n",
    "wrapped_dataset = wrap_dataset(test_dataset,\n",
    "                               name=\"reviews\", target=TARGET_NAME, column_types={\"reviewText\": \"text\"})"
   ],
   "metadata": {
    "collapsed": false,
    "ExecuteTime": {
     "start_time": "2023-05-02T15:40:28.247693Z",
     "end_time": "2023-05-02T15:40:28.348698Z"
    }
   }
  },
  {
   "cell_type": "markdown",
   "source": [
    "## Define preprocessing pipeline"
   ],
   "metadata": {
    "collapsed": false
   }
  },
  {
   "cell_type": "code",
   "execution_count": null,
   "outputs": [],
   "source": [
    "def make_lowercase(x):\n",
    "    \"\"\"Lower an input string.\"\"\"\n",
    "    x = x.reviewText.apply(lambda row: row.lower())\n",
    "    return x\n",
    "\n",
    "def remove_punctuation(x):\n",
    "    \"\"\"Remove punctuation from input string.\"\"\"\n",
    "    x.apply(lambda row: row.translate(str.maketrans('', '', string.punctuation)))\n",
    "    return x\n",
    "\n",
    "stemmer = SnowballStemmer(\"english\")\n",
    "def tokenizer(x):\n",
    "    \"\"\"Define string tokenization logic.\"\"\"\n",
    "    x = x.split()\n",
    "    stems = list()\n",
    "    [stems.append(stemmer.stem(word)) for word in x]\n",
    "    return stems\n",
    "\n",
    "vectorizer = TfidfVectorizer(tokenizer=tokenizer, stop_words='english', ngram_range=(1, 1), min_df=0.01)"
   ],
   "metadata": {
    "collapsed": false,
    "ExecuteTime": {
     "start_time": "2023-05-02T15:40:28.278932Z",
     "end_time": "2023-05-02T15:40:28.399115Z"
    }
   }
  },
  {
   "cell_type": "code",
   "execution_count": null,
   "outputs": [],
   "source": [
    "preprocessor = Pipeline(steps=[\n",
    "    (\"lowercase\", FunctionTransformer(make_lowercase)),\n",
    "    (\"punctuation\", FunctionTransformer(remove_punctuation)),\n",
    "    (\"vectorizer\", vectorizer)\n",
    "])"
   ],
   "metadata": {
    "collapsed": false,
    "ExecuteTime": {
     "start_time": "2023-05-02T15:40:28.286873Z",
     "end_time": "2023-05-02T15:40:28.399366Z"
    }
   }
  },
  {
   "cell_type": "markdown",
   "source": [
    "## Build estimator"
   ],
   "metadata": {
    "collapsed": false
   }
  },
  {
   "cell_type": "code",
   "execution_count": null,
   "outputs": [],
   "source": [
    "pipeline = Pipeline(steps=[\n",
    "    (\"preprocessor\", preprocessor),\n",
    "    (\"estimator\", LogisticRegression(random_state=RANDOM_SEED))\n",
    "])"
   ],
   "metadata": {
    "collapsed": false,
    "ExecuteTime": {
     "start_time": "2023-05-02T15:40:28.294502Z",
     "end_time": "2023-05-02T15:40:28.399516Z"
    }
   }
  },
  {
   "cell_type": "code",
   "execution_count": null,
   "outputs": [],
   "source": [
    "pipeline.fit(X_train, y_train)"
   ],
   "metadata": {
    "collapsed": false,
    "ExecuteTime": {
     "start_time": "2023-05-02T15:40:28.312410Z",
     "end_time": "2023-05-02T15:40:56.533054Z"
    }
   }
  },
  {
   "cell_type": "code",
   "execution_count": null,
   "outputs": [],
   "source": [
    "train_metric = roc_auc_score(y_train, pipeline.predict_proba(X_train)[:, 1].T)\n",
    "test_metric = roc_auc_score(y_test, pipeline.predict_proba(X_test)[:, 1].T)\n",
    "\n",
    "print(f\"Train ROC-AUC score: {train_metric}\")\n",
    "print(f\"Test ROC-AUC score: {test_metric}\")"
   ],
   "metadata": {
    "collapsed": false,
    "ExecuteTime": {
     "start_time": "2023-05-02T15:40:56.547426Z",
     "end_time": "2023-05-02T15:41:32.092018Z"
    }
   }
  },
  {
   "cell_type": "markdown",
   "source": [
    "## Wrap model"
   ],
   "metadata": {
    "collapsed": false
   }
  },
  {
   "cell_type": "code",
   "execution_count": null,
   "outputs": [],
   "source": [
    "wrapped_model = wrap_model(model=pipeline,\n",
    "                           model_type=\"classification\",\n",
    "                           feature_names=[\"reviewText\"],\n",
    "                           name=\"review_helpfulness_predictor\",\n",
    "                           classification_threshold=0.5,\n",
    "                           classification_labels=pipeline.classes_)"
   ],
   "metadata": {
    "collapsed": false,
    "ExecuteTime": {
     "start_time": "2023-05-02T15:41:32.096941Z",
     "end_time": "2023-05-02T15:41:32.105414Z"
    }
   }
  },
  {
   "cell_type": "markdown",
   "source": [
    "## Scan model"
   ],
   "metadata": {
    "collapsed": false
   }
  },
  {
   "cell_type": "code",
   "execution_count": null,
   "outputs": [],
   "source": [
    "results = giskard.scan(model=wrapped_model, dataset=wrapped_dataset)"
   ],
   "metadata": {
    "collapsed": false,
    "ExecuteTime": {
     "start_time": "2023-05-02T15:41:32.106613Z",
     "end_time": "2023-05-02T15:42:19.216830Z"
    }
   }
  },
  {
   "cell_type": "code",
   "execution_count": null,
   "outputs": [],
   "source": [
    "display(results)"
   ],
   "metadata": {
    "collapsed": false,
    "ExecuteTime": {
     "start_time": "2023-05-02T15:42:19.233514Z",
     "end_time": "2023-05-02T15:42:19.372845Z"
    }
   }
  }
 ],
 "metadata": {
  "kernelspec": {
   "display_name": "Python 3",
   "language": "python",
   "name": "python3"
  },
  "language_info": {
   "codemirror_mode": {
    "name": "ipython",
    "version": 2
   },
   "file_extension": ".py",
   "mimetype": "text/x-python",
   "name": "python",
   "nbconvert_exporter": "python",
   "pygments_lexer": "ipython2",
   "version": "2.7.6"
  }
 },
 "nbformat": 4,
 "nbformat_minor": 0
}
