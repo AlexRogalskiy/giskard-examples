{
 "cells": [
  {
   "cell_type": "markdown",
   "metadata": {},
   "source": [
    "# IEEE-CIS Fraud Detection &mdash; LightGBM Split Points\n",
    "\n",
    "## Adversarial Validation Version\n",
    "\n",
    "This notebook shows some techniques to snoop on the gradient boosting process used by LightGBM - using its lesser-known APIs. This is the adversarial validation version, training LightGBM to predict whether rows are from the train or test set. The [original version of this kernel is here][5].\n",
    "\n",
    "By counting the split points used in the decision trees, we can see the ways the algorithm divides the input space up. Given that the train and test sets are different time eras, this may lead to new insights about what areas in *feature space* are specific to past or \"future\" data.\n",
    "\n",
    "We start by building a model...\n",
    "\n",
    " [1]: https://www.kaggle.com/mmueller\n",
    " [2]: https://github.com/Far0n/xgbfi\n",
    " [3]: https://www.microsoft.com/en-us/research/wp-content/uploads/2017/11/lightgbm.pdf\n",
    " [4]: https://github.com/Microsoft/LightGBM\n",
    " [5]: https://www.kaggle.com/jtrotman/ieee-fraud-lgb-split-points\n",
    " "
   ]
  },
  {
   "cell_type": "code",
   "execution_count": 1,
   "metadata": {
    "_kg_hide-input": true,
    "ExecuteTime": {
     "end_time": "2023-05-04T13:53:10.387860Z",
     "start_time": "2023-05-04T13:53:06.898400Z"
    }
   },
   "outputs": [],
   "source": [
    "from collections import Counter, defaultdict\n",
    "\n",
    "import numpy as np\n",
    "import pandas as pd\n",
    "import lightgbm as lgb\n",
    "import matplotlib.pyplot as plt\n",
    "from IPython.display import display, HTML\n",
    "from sklearn.metrics import roc_auc_score\n",
    "from sklearn.model_selection import KFold\n",
    "from pandas.api.types import union_categoricals"
   ]
  },
  {
   "cell_type": "code",
   "execution_count": 2,
   "outputs": [],
   "source": [
    "%matplotlib inline"
   ],
   "metadata": {
    "collapsed": false,
    "ExecuteTime": {
     "end_time": "2023-05-04T13:53:33.852264Z",
     "start_time": "2023-05-04T13:53:33.824121Z"
    }
   }
  },
  {
   "cell_type": "code",
   "execution_count": 3,
   "metadata": {
    "_kg_hide-input": true,
    "ExecuteTime": {
     "end_time": "2023-05-04T13:53:36.710893Z",
     "start_time": "2023-05-04T13:53:36.698709Z"
    }
   },
   "outputs": [],
   "source": [
    "DATA_TYPES_TRANSACTION = {\n",
    "    'TransactionID': 'int32',\n",
    "    'isFraud': 'int8',\n",
    "    'TransactionDT': 'int32',\n",
    "    'TransactionAmt': 'float32',\n",
    "    'ProductCD': 'category',\n",
    "    'card1': 'int16',\n",
    "    'card2': 'float32',\n",
    "    'card3': 'float32',\n",
    "    'card4': 'category',\n",
    "    'card5': 'float32',\n",
    "    'card6': 'category',\n",
    "    'addr1': 'float32',\n",
    "    'addr2': 'float32',\n",
    "    'dist1': 'float32',\n",
    "    'dist2': 'float32',\n",
    "    'P_emaildomain': 'category',\n",
    "    'R_emaildomain': 'category',\n",
    "}\n",
    "\n",
    "IDX = 'TransactionID'\n",
    "TGT = 'isFraud'\n",
    "\n",
    "C_COLS = [f'C{i}' for i in range(1, 15)]\n",
    "D_COLS = [f'D{i}' for i in range(1, 16)]\n",
    "M_COLS = [f'M{i}' for i in range(1, 10)]\n",
    "V_COLS = [f'V{i}' for i in range(1, 340)]\n",
    "\n",
    "DATA_TYPES_TRANSACTION.update((c, 'float32') for c in C_COLS)\n",
    "DATA_TYPES_TRANSACTION.update((c, 'float32') for c in D_COLS)\n",
    "DATA_TYPES_TRANSACTION.update((c, 'float32') for c in V_COLS)\n",
    "DATA_TYPES_TRANSACTION.update((c, 'category') for c in M_COLS)\n",
    "\n",
    "\n",
    "DATA_TYPES_ID = {\n",
    "    'TransactionID': 'int32',\n",
    "    'DeviceType': 'category',\n",
    "    'DeviceInfo': 'category',\n",
    "}\n",
    "\n",
    "ID_COLS = [f'id_{i:02d}' for i in range(1, 39)]\n",
    "ID_CATS = [\n",
    "    'id_12', 'id_15', 'id_16', 'id_23', 'id_27', 'id_28', 'id_29', 'id_30',\n",
    "    'id_31', 'id_33', 'id_34', 'id_35', 'id_36', 'id_37', 'id_38'\n",
    "]\n",
    "\n",
    "DATA_TYPES_ID.update(((c, 'float32') for c in ID_COLS))\n",
    "DATA_TYPES_ID.update(((c, 'category') for c in ID_CATS))\n",
    "\n",
    "IN_DIR = './datasets/fraud_detection'\n",
    "\n",
    "NR = None\n",
    "N_TRAIN = 590540\n",
    "\n",
    "def read_both(t):\n",
    "    df = pd.read_csv(f'{IN_DIR}/{t}_transaction.csv',\n",
    "                     index_col=IDX,\n",
    "                     nrows=NR,\n",
    "                     dtype=DATA_TYPES_TRANSACTION)\n",
    "    df = df.join(\n",
    "        pd.read_csv(f'{IN_DIR}/{t}_identity.csv',\n",
    "                    index_col=IDX,\n",
    "                    nrows=NR,\n",
    "                    dtype=DATA_TYPES_ID))\n",
    "    print(t, df.shape)\n",
    "    return df\n",
    "\n",
    "def read_dataset():\n",
    "    train = read_both('train')\n",
    "    test = read_both('test')\n",
    "    \n",
    "    train.pop('isFraud')\n",
    "    \n",
    "    train['isTest'] = 0\n",
    "    test['isTest'] = 1\n",
    "    \n",
    "    n_train = train.shape[0]\n",
    "    for c in train.columns:\n",
    "        s = train[c]\n",
    "        if hasattr(s, 'cat'):\n",
    "            u = union_categoricals([train[c], test[c]], sort_categories=True)\n",
    "            train[c] = u[:n_train]\n",
    "            test[c] = u[n_train:]\n",
    "    \n",
    "    uni = train.append(test)\n",
    "    return uni"
   ]
  },
  {
   "cell_type": "code",
   "execution_count": 6,
   "outputs": [
    {
     "data": {
      "text/plain": "dict_keys(['TransactionID', 'DeviceType', 'DeviceInfo', 'id_01', 'id_02', 'id_03', 'id_04', 'id_05', 'id_06', 'id_07', 'id_08', 'id_09', 'id_10', 'id_11', 'id_12', 'id_13', 'id_14', 'id_15', 'id_16', 'id_17', 'id_18', 'id_19', 'id_20', 'id_21', 'id_22', 'id_23', 'id_24', 'id_25', 'id_26', 'id_27', 'id_28', 'id_29', 'id_30', 'id_31', 'id_32', 'id_33', 'id_34', 'id_35', 'id_36', 'id_37', 'id_38'])"
     },
     "execution_count": 6,
     "metadata": {},
     "output_type": "execute_result"
    }
   ],
   "source": [
    "DATA_TYPES_ID.keys()"
   ],
   "metadata": {
    "collapsed": false,
    "ExecuteTime": {
     "end_time": "2023-05-04T14:00:41.314805Z",
     "start_time": "2023-05-04T14:00:41.295311Z"
    }
   }
  },
  {
   "cell_type": "code",
   "execution_count": 4,
   "metadata": {
    "_kg_hide-input": true,
    "ExecuteTime": {
     "end_time": "2023-05-04T13:54:19.799648Z",
     "start_time": "2023-05-04T13:53:38.940612Z"
    }
   },
   "outputs": [
    {
     "name": "stdout",
     "output_type": "stream",
     "text": [
      "train (590540, 433)\n",
      "test (506691, 432)\n"
     ]
    },
    {
     "ename": "KeyError",
     "evalue": "'id_12'",
     "output_type": "error",
     "traceback": [
      "\u001B[0;31m---------------------------------------------------------------------------\u001B[0m",
      "\u001B[0;31mKeyError\u001B[0m                                  Traceback (most recent call last)",
      "File \u001B[0;32m~/IdeaProjects/GiskardExamples/venv/lib/python3.10/site-packages/pandas/core/indexes/base.py:3802\u001B[0m, in \u001B[0;36mIndex.get_loc\u001B[0;34m(self, key, method, tolerance)\u001B[0m\n\u001B[1;32m   3801\u001B[0m \u001B[38;5;28;01mtry\u001B[39;00m:\n\u001B[0;32m-> 3802\u001B[0m     \u001B[38;5;28;01mreturn\u001B[39;00m \u001B[38;5;28;43mself\u001B[39;49m\u001B[38;5;241;43m.\u001B[39;49m\u001B[43m_engine\u001B[49m\u001B[38;5;241;43m.\u001B[39;49m\u001B[43mget_loc\u001B[49m\u001B[43m(\u001B[49m\u001B[43mcasted_key\u001B[49m\u001B[43m)\u001B[49m\n\u001B[1;32m   3803\u001B[0m \u001B[38;5;28;01mexcept\u001B[39;00m \u001B[38;5;167;01mKeyError\u001B[39;00m \u001B[38;5;28;01mas\u001B[39;00m err:\n",
      "File \u001B[0;32m~/IdeaProjects/GiskardExamples/venv/lib/python3.10/site-packages/pandas/_libs/index.pyx:138\u001B[0m, in \u001B[0;36mpandas._libs.index.IndexEngine.get_loc\u001B[0;34m()\u001B[0m\n",
      "File \u001B[0;32m~/IdeaProjects/GiskardExamples/venv/lib/python3.10/site-packages/pandas/_libs/index.pyx:165\u001B[0m, in \u001B[0;36mpandas._libs.index.IndexEngine.get_loc\u001B[0;34m()\u001B[0m\n",
      "File \u001B[0;32mpandas/_libs/hashtable_class_helper.pxi:5745\u001B[0m, in \u001B[0;36mpandas._libs.hashtable.PyObjectHashTable.get_item\u001B[0;34m()\u001B[0m\n",
      "File \u001B[0;32mpandas/_libs/hashtable_class_helper.pxi:5753\u001B[0m, in \u001B[0;36mpandas._libs.hashtable.PyObjectHashTable.get_item\u001B[0;34m()\u001B[0m\n",
      "\u001B[0;31mKeyError\u001B[0m: 'id_12'",
      "\nThe above exception was the direct cause of the following exception:\n",
      "\u001B[0;31mKeyError\u001B[0m                                  Traceback (most recent call last)",
      "Cell \u001B[0;32mIn[4], line 1\u001B[0m\n\u001B[0;32m----> 1\u001B[0m uni \u001B[38;5;241m=\u001B[39m \u001B[43mread_dataset\u001B[49m\u001B[43m(\u001B[49m\u001B[43m)\u001B[49m\n\u001B[1;32m      2\u001B[0m uni\u001B[38;5;241m.\u001B[39mshape\n",
      "Cell \u001B[0;32mIn[3], line 81\u001B[0m, in \u001B[0;36mread_dataset\u001B[0;34m()\u001B[0m\n\u001B[1;32m     79\u001B[0m s \u001B[38;5;241m=\u001B[39m train[c]\n\u001B[1;32m     80\u001B[0m \u001B[38;5;28;01mif\u001B[39;00m \u001B[38;5;28mhasattr\u001B[39m(s, \u001B[38;5;124m'\u001B[39m\u001B[38;5;124mcat\u001B[39m\u001B[38;5;124m'\u001B[39m):\n\u001B[0;32m---> 81\u001B[0m     u \u001B[38;5;241m=\u001B[39m union_categoricals([train[c], \u001B[43mtest\u001B[49m\u001B[43m[\u001B[49m\u001B[43mc\u001B[49m\u001B[43m]\u001B[49m], sort_categories\u001B[38;5;241m=\u001B[39m\u001B[38;5;28;01mTrue\u001B[39;00m)\n\u001B[1;32m     82\u001B[0m     train[c] \u001B[38;5;241m=\u001B[39m u[:n_train]\n\u001B[1;32m     83\u001B[0m     test[c] \u001B[38;5;241m=\u001B[39m u[n_train:]\n",
      "File \u001B[0;32m~/IdeaProjects/GiskardExamples/venv/lib/python3.10/site-packages/pandas/core/frame.py:3807\u001B[0m, in \u001B[0;36mDataFrame.__getitem__\u001B[0;34m(self, key)\u001B[0m\n\u001B[1;32m   3805\u001B[0m \u001B[38;5;28;01mif\u001B[39;00m \u001B[38;5;28mself\u001B[39m\u001B[38;5;241m.\u001B[39mcolumns\u001B[38;5;241m.\u001B[39mnlevels \u001B[38;5;241m>\u001B[39m \u001B[38;5;241m1\u001B[39m:\n\u001B[1;32m   3806\u001B[0m     \u001B[38;5;28;01mreturn\u001B[39;00m \u001B[38;5;28mself\u001B[39m\u001B[38;5;241m.\u001B[39m_getitem_multilevel(key)\n\u001B[0;32m-> 3807\u001B[0m indexer \u001B[38;5;241m=\u001B[39m \u001B[38;5;28;43mself\u001B[39;49m\u001B[38;5;241;43m.\u001B[39;49m\u001B[43mcolumns\u001B[49m\u001B[38;5;241;43m.\u001B[39;49m\u001B[43mget_loc\u001B[49m\u001B[43m(\u001B[49m\u001B[43mkey\u001B[49m\u001B[43m)\u001B[49m\n\u001B[1;32m   3808\u001B[0m \u001B[38;5;28;01mif\u001B[39;00m is_integer(indexer):\n\u001B[1;32m   3809\u001B[0m     indexer \u001B[38;5;241m=\u001B[39m [indexer]\n",
      "File \u001B[0;32m~/IdeaProjects/GiskardExamples/venv/lib/python3.10/site-packages/pandas/core/indexes/base.py:3804\u001B[0m, in \u001B[0;36mIndex.get_loc\u001B[0;34m(self, key, method, tolerance)\u001B[0m\n\u001B[1;32m   3802\u001B[0m     \u001B[38;5;28;01mreturn\u001B[39;00m \u001B[38;5;28mself\u001B[39m\u001B[38;5;241m.\u001B[39m_engine\u001B[38;5;241m.\u001B[39mget_loc(casted_key)\n\u001B[1;32m   3803\u001B[0m \u001B[38;5;28;01mexcept\u001B[39;00m \u001B[38;5;167;01mKeyError\u001B[39;00m \u001B[38;5;28;01mas\u001B[39;00m err:\n\u001B[0;32m-> 3804\u001B[0m     \u001B[38;5;28;01mraise\u001B[39;00m \u001B[38;5;167;01mKeyError\u001B[39;00m(key) \u001B[38;5;28;01mfrom\u001B[39;00m \u001B[38;5;21;01merr\u001B[39;00m\n\u001B[1;32m   3805\u001B[0m \u001B[38;5;28;01mexcept\u001B[39;00m \u001B[38;5;167;01mTypeError\u001B[39;00m:\n\u001B[1;32m   3806\u001B[0m     \u001B[38;5;66;03m# If we have a listlike key, _check_indexing_error will raise\u001B[39;00m\n\u001B[1;32m   3807\u001B[0m     \u001B[38;5;66;03m#  InvalidIndexError. Otherwise we fall through and re-raise\u001B[39;00m\n\u001B[1;32m   3808\u001B[0m     \u001B[38;5;66;03m#  the TypeError.\u001B[39;00m\n\u001B[1;32m   3809\u001B[0m     \u001B[38;5;28mself\u001B[39m\u001B[38;5;241m.\u001B[39m_check_indexing_error(key)\n",
      "\u001B[0;31mKeyError\u001B[0m: 'id_12'"
     ]
    }
   ],
   "source": [
    "uni = read_dataset()\n",
    "uni.shape"
   ]
  },
  {
   "cell_type": "markdown",
   "metadata": {},
   "source": [
    "No count features in this version, the kernel runs out of memory. Add some simple extra features:"
   ]
  },
  {
   "cell_type": "code",
   "execution_count": null,
   "metadata": {
    "ExecuteTime": {
     "end_time": "2019-09-19T14:26:23.621767Z",
     "start_time": "2019-09-19T14:26:23.588802Z"
    }
   },
   "outputs": [],
   "source": [
    "uni['TimeInDay'] = uni.TransactionDT % 86400\n",
    "uni['Cents'] = uni.TransactionAmt % 1"
   ]
  },
  {
   "cell_type": "code",
   "execution_count": null,
   "metadata": {
    "ExecuteTime": {
     "end_time": "2019-09-19T19:58:50.002240Z",
     "start_time": "2019-09-19T19:58:49.975519Z"
    }
   },
   "outputs": [],
   "source": [
    "params = {\n",
    "    'num_leaves': 64,\n",
    "    'objective': 'binary',\n",
    "    'min_data_in_leaf': 10,\n",
    "    'learning_rate': 0.1,\n",
    "    'feature_fraction': 0.5,\n",
    "    'bagging_fraction': 0.9,\n",
    "    'bagging_freq': 1,\n",
    "    'max_cat_to_onehot': 128,\n",
    "    'metric': 'auc',\n",
    "    'num_threads': 8,\n",
    "    'seed': 42,\n",
    "    'subsample_for_bin': uni.shape[0]\n",
    "}"
   ]
  },
  {
   "cell_type": "markdown",
   "metadata": {},
   "source": [
    "# *FAST* Cross Validation with *Cached OOF*\n",
    "\n",
    "Let's use (nearly) all input columns as features, and run a KFold CV. By passing a callback to `lgb.cv` we can store references to the trained models and save them, then query them for split point and feature importance information.\n",
    "\n"
   ]
  },
  {
   "cell_type": "code",
   "execution_count": null,
   "metadata": {
    "ExecuteTime": {
     "end_time": "2019-09-19T16:57:21.456458Z",
     "start_time": "2019-09-19T16:57:04.464392Z"
    }
   },
   "outputs": [],
   "source": [
    "class LightGbmSnoop:\n",
    "    def __init__(self):\n",
    "        self.train_logs = []\n",
    "        self.valid_logs = []\n",
    "\n",
    "    def _callback(self, env):\n",
    "        self.model = env.model\n",
    "        self.train_logs.append( [b.eval_train()[0][2] for b in self.model.boosters] )\n",
    "        self.valid_logs.append( [b.eval_valid()[0][2] for b in self.model.boosters] )\n",
    "\n",
    "    def train_log(self):\n",
    "        return pd.DataFrame(self.train_logs).add_prefix('train_')\n",
    "\n",
    "    def valid_log(self):\n",
    "        return pd.DataFrame(self.valid_logs).add_prefix('valid_')\n",
    "\n",
    "    def logs(self):\n",
    "        return pd.concat((self.train_log(), self.valid_log()), 1)\n",
    "\n",
    "    def get_oof(self, n):\n",
    "        oof = np.zeros(n, dtype=float)\n",
    "        for i, b in enumerate(self.model.boosters):\n",
    "            vs = b.valid_sets[0]  # validation data\n",
    "            idx = vs.used_indices\n",
    "            # Note: this uses all trees, not the early stopping peak count.\n",
    "            # You can use b.rollback_one_iter() to drop trees :)\n",
    "            p = b._Booster__inner_predict(1) # 0 = train; 1 = valid\n",
    "            oof[idx] = p\n",
    "\n",
    "        return oof\n",
    "\n",
    "TGT = 'isTest'\n",
    "FEATS = uni.columns.tolist()\n",
    "FEATS.remove(TGT)  \n",
    "FEATS.remove('TransactionDT') # makes train/test trivially separable, remove it\n",
    "print(len(FEATS), 'features')\n",
    "\n",
    "folds = list(KFold(n_splits=4, shuffle=True, random_state=42).split(uni[FEATS]))\n",
    "ds = lgb.Dataset(uni[FEATS], uni[TGT], params=params)\n",
    "s = LightGbmSnoop()\n",
    "res = lgb.cv(params,\n",
    "             ds,\n",
    "             folds=folds,\n",
    "             num_boost_round=3000,\n",
    "             early_stopping_rounds=100,\n",
    "             verbose_eval=100,\n",
    "             callbacks=[s._callback])"
   ]
  },
  {
   "cell_type": "markdown",
   "metadata": {},
   "source": [
    "Demo of how to save validation predictions, and get AUC of full validation:"
   ]
  },
  {
   "cell_type": "code",
   "execution_count": null,
   "metadata": {
    "ExecuteTime": {
     "end_time": "2019-09-19T16:49:21.108476Z",
     "start_time": "2019-09-19T16:49:21.076297Z"
    }
   },
   "outputs": [],
   "source": [
    "OOF = s.get_oof(uni.shape[0])\n",
    "np.save('ieee_fraud_adversarial_lgb_oof', OOF)\n",
    "roc_auc_score(uni[TGT], OOF)"
   ]
  },
  {
   "cell_type": "markdown",
   "metadata": {},
   "source": [
    "The models are normally quite confident:"
   ]
  },
  {
   "cell_type": "code",
   "execution_count": null,
   "metadata": {
    "ExecuteTime": {
     "end_time": "2019-09-19T19:18:31.159275Z",
     "start_time": "2019-09-19T19:18:30.401761Z"
    }
   },
   "outputs": [],
   "source": [
    "pd.Series(OOF).plot.hist(bins=100, title='Histogram of predictions of p(isTest)')"
   ]
  },
  {
   "cell_type": "markdown",
   "metadata": {},
   "source": [
    "And the predictions are generally lower for the training set (first half) and higher for the test set (2nd half)."
   ]
  },
  {
   "cell_type": "code",
   "execution_count": null,
   "metadata": {
    "ExecuteTime": {
     "end_time": "2019-09-19T22:17:09.727790Z",
     "start_time": "2019-09-19T22:17:07.277325Z"
    }
   },
   "outputs": [],
   "source": [
    "pd.Series(OOF).plot(figsize=(14,6), title='OOF Prediction of p(isTest)')"
   ]
  },
  {
   "cell_type": "markdown",
   "metadata": {},
   "source": [
    "But that is hard to see, so using smoothing helps, and reveals a **shelf** at about 300k rows where train suddenly becomes a bit more like test, the abrupt change to the test set is visible at about 590k rows, and after that the test set rows get a higher prediction as time goes on :)"
   ]
  },
  {
   "cell_type": "code",
   "execution_count": null,
   "metadata": {
    "ExecuteTime": {
     "end_time": "2019-09-19T22:17:15.245243Z",
     "start_time": "2019-09-19T22:17:14.846308Z"
    }
   },
   "outputs": [],
   "source": [
    "pd.Series(OOF).rolling(500).mean().plot(figsize=(14,6), title='Smoothed OOF prediction of p(isTest)')"
   ]
  },
  {
   "cell_type": "code",
   "execution_count": null,
   "metadata": {
    "ExecuteTime": {
     "end_time": "2019-09-19T19:18:31.159275Z",
     "start_time": "2019-09-19T19:18:30.401761Z"
    }
   },
   "outputs": [],
   "source": [
    "pd.Series(OOF[:N_TRAIN]).plot.hist(bins=100, title='Histogram of predictions of p(isTest) - train set rows')"
   ]
  },
  {
   "cell_type": "code",
   "execution_count": null,
   "metadata": {
    "ExecuteTime": {
     "end_time": "2019-09-19T19:18:31.159275Z",
     "start_time": "2019-09-19T19:18:30.401761Z"
    }
   },
   "outputs": [],
   "source": [
    "pd.Series(OOF[N_TRAIN:]).plot.hist(bins=100, title='Histogram of predictions of p(isTest) - test set rows')"
   ]
  },
  {
   "cell_type": "markdown",
   "metadata": {},
   "source": [
    "Save the models - LightGBM saves in an easy to parse text format. (The files won't be used here but it is useful in general to save.)"
   ]
  },
  {
   "cell_type": "code",
   "execution_count": null,
   "metadata": {
    "ExecuteTime": {
     "end_time": "2019-09-19T10:34:27.689422Z",
     "start_time": "2019-09-19T10:34:27.395727Z"
    }
   },
   "outputs": [],
   "source": [
    "for i, b in enumerate(s.model.boosters):\n",
    "    b.save_model(f'ieee_fraud_adversarial_lgb_model_{i}.txt')"
   ]
  },
  {
   "cell_type": "markdown",
   "metadata": {},
   "source": [
    "Likewise for AUC training/validation logs."
   ]
  },
  {
   "cell_type": "code",
   "execution_count": null,
   "metadata": {
    "ExecuteTime": {
     "end_time": "2019-09-19T16:57:21.482784Z",
     "start_time": "2019-09-19T16:57:21.461995Z"
    }
   },
   "outputs": [],
   "source": [
    "s.logs().to_csv(f'ieee_fraud_adversarial_lgb_auc_logs.csv', index_label='Round')"
   ]
  },
  {
   "cell_type": "code",
   "execution_count": null,
   "metadata": {
    "ExecuteTime": {
     "end_time": "2019-09-19T19:28:52.681234Z",
     "start_time": "2019-09-19T19:28:52.315374Z"
    }
   },
   "outputs": [],
   "source": [
    "logs = pd.DataFrame({'train':s.train_log().mean(1), 'valid':s.valid_log().mean(1)})\n",
    "logs.train.plot(legend=True, title='Adversarial AUC Logs')\n",
    "logs.valid.plot(legend=True)"
   ]
  },
  {
   "cell_type": "markdown",
   "metadata": {},
   "source": [
    "# Standard Feature Importances\n",
    "\n",
    "Sum the usual feature importances from all models in our CV collection."
   ]
  },
  {
   "cell_type": "code",
   "execution_count": null,
   "metadata": {
    "ExecuteTime": {
     "end_time": "2019-09-19T19:59:41.280493Z",
     "start_time": "2019-09-19T19:59:41.178598Z"
    }
   },
   "outputs": [],
   "source": [
    "def make_importances(clf, importance_type):\n",
    "    return pd.Series(data=clf.feature_importance(importance_type), index=clf.feature_name())\n",
    "\n",
    "IMPORTANCES = pd.concat((make_importances(b, 'gain')\n",
    "                         for b in s.model.boosters), 1).sum(1).to_frame('Gain')\n",
    "IMPORTANCES['Count'] = pd.concat((make_importances(b, 'split') for b in s.model.boosters), 1).sum(1)\n",
    "IMPORTANCES.sort_values('Gain', ascending=False).head()"
   ]
  },
  {
   "cell_type": "code",
   "execution_count": null,
   "metadata": {
    "ExecuteTime": {
     "end_time": "2019-09-19T19:59:42.571262Z",
     "start_time": "2019-09-19T19:59:42.549633Z"
    }
   },
   "outputs": [],
   "source": [
    "IMPORTANCES.to_csv('ieee_fraud_adversarial_lgb_importances.csv')"
   ]
  },
  {
   "cell_type": "markdown",
   "metadata": {},
   "source": [
    "## Standard Plot"
   ]
  },
  {
   "cell_type": "code",
   "execution_count": null,
   "metadata": {
    "ExecuteTime": {
     "end_time": "2019-09-19T15:02:24.882090Z",
     "start_time": "2019-09-19T15:02:22.885387Z"
    }
   },
   "outputs": [],
   "source": [
    "COLORS = [\n",
    "    'tab:blue', 'tab:orange', 'tab:green', 'tab:red', 'tab:purple',\n",
    "    'tab:brown', 'tab:pink', 'tab:gray', 'tab:olive', 'tab:cyan'\n",
    "]\n",
    "toplot = IMPORTANCES.sort_values('Gain').tail(80)\n",
    "toplot['Gain'].plot.barh(figsize=(12,20), color=COLORS, title='Adversarial Feature Gain')"
   ]
  },
  {
   "cell_type": "markdown",
   "metadata": {},
   "source": [
    "# Booster.dump_model()\n",
    "\n",
    "The returned LightGBM model format is hierarchical, trees are nested `dict` objects containing `left_child` and `right_child` subtrees. Walking over the trees and summarizing the splits can be done with a short recursive function...\n",
    "\n",
    "    tree_info  - list of dicts\n",
    "    (each contains):\n",
    "        tree_structure\n",
    "            left_child\n",
    "            right_child\n",
    "\n",
    "The `dump_model()` information records 'gain' at each split, and we simply re-use that."
   ]
  },
  {
   "cell_type": "code",
   "execution_count": null,
   "metadata": {
    "ExecuteTime": {
     "end_time": "2019-09-18T14:47:22.781256Z",
     "start_time": "2019-09-18T14:47:22.777528Z"
    }
   },
   "outputs": [],
   "source": [
    "# uncomment to see model structure\n",
    "# clf.dump_model(num_iteration=2)['tree_info']"
   ]
  },
  {
   "cell_type": "code",
   "execution_count": null,
   "metadata": {
    "ExecuteTime": {
     "end_time": "2019-09-19T16:30:46.945360Z",
     "start_time": "2019-09-19T16:30:46.932629Z"
    }
   },
   "outputs": [],
   "source": [
    "# NOTE: lightgbm.Booster has a new get_split_value_histogram API which counts split points used.\n",
    "# This code pre-dates that, and sums gain instead of counting appearances.\n",
    "# Here it is adapted from the original to use a collection of models, and sum the overall data.\n",
    "def get_split_point_stats_multi(clfs):\n",
    "    split_points = defaultdict(Counter)\n",
    "\n",
    "    def visit_node(d):\n",
    "        if 'tree_info' in d:\n",
    "            for tree in d['tree_info']: # a list of trees\n",
    "                visit_node(tree)\n",
    "        for k in ['tree_structure', 'left_child', 'right_child' ]:\n",
    "            if k in d:\n",
    "                visit_node(d[k])\n",
    "        if 'split_feature' in d:\n",
    "            split_points[names[d['split_feature']]] [d['threshold']] += d['split_gain']\n",
    "\n",
    "    for clf in clfs:\n",
    "        names = clf.feature_name()\n",
    "        visit_node(clf.dump_model())\n",
    "    return split_points"
   ]
  },
  {
   "cell_type": "code",
   "execution_count": null,
   "metadata": {
    "ExecuteTime": {
     "end_time": "2019-09-19T10:36:19.612883Z",
     "start_time": "2019-09-19T10:36:16.991507Z"
    }
   },
   "outputs": [],
   "source": [
    "split_points = get_split_point_stats_multi(s.model.boosters)"
   ]
  },
  {
   "cell_type": "markdown",
   "metadata": {},
   "source": [
    "Each feature indexes a Counter object in the `split_points` dict. In each Counter, the keys are feature values, and the values are sum of gain, for example, here are the most used values in feature `card1`, with the gain for each:"
   ]
  },
  {
   "cell_type": "code",
   "execution_count": null,
   "metadata": {
    "ExecuteTime": {
     "end_time": "2019-09-19T13:57:16.177593Z",
     "start_time": "2019-09-19T13:57:16.167204Z"
    }
   },
   "outputs": [],
   "source": [
    "split_points['card1'].most_common(5)"
   ]
  },
  {
   "cell_type": "markdown",
   "metadata": {},
   "source": [
    "Dump all the split point data to an xlsx file (can be opened with open-source *Open Office* or *[Libre Office][1]*)\n",
    "\n",
    " [1]: https://www.libreoffice.org/download/download/"
   ]
  },
  {
   "cell_type": "code",
   "execution_count": null,
   "metadata": {
    "ExecuteTime": {
     "end_time": "2019-09-19T10:39:06.501824Z",
     "start_time": "2019-09-19T10:39:03.083889Z"
    }
   },
   "outputs": [],
   "source": [
    "with pd.ExcelWriter('ieee_fraud_adversarial_split_points.xlsx') as writer:\n",
    "    for feat in FEATS:\n",
    "        counter = split_points[feat]\n",
    "        df = pd.Series(counter, name=feat).sort_index().to_frame('GainSum')\n",
    "        df.to_excel(writer, feat, index_label=feat)\n",
    "\n",
    "    for sheet in writer.sheets.values():\n",
    "        sheet.set_column(0, 0, 30)"
   ]
  },
  {
   "cell_type": "markdown",
   "metadata": {},
   "source": [
    "# Plotting Code\n",
    "\n",
    "Warning: this only shows the 50 split points with the most gain, so the x-axis will be a bit nonlinear, some values won't appear. See the xlsx file for all the values."
   ]
  },
  {
   "cell_type": "code",
   "execution_count": null,
   "metadata": {
    "ExecuteTime": {
     "end_time": "2019-09-19T10:39:10.375512Z",
     "start_time": "2019-09-19T10:39:10.371292Z"
    }
   },
   "outputs": [],
   "source": [
    "MAX_SHOW = 50"
   ]
  },
  {
   "cell_type": "code",
   "execution_count": null,
   "metadata": {
    "ExecuteTime": {
     "end_time": "2019-09-19T19:06:20.516982Z",
     "start_time": "2019-09-19T19:06:20.478444Z"
    },
    "_kg_hide-input": true
   },
   "outputs": [],
   "source": [
    "ADJS = 'abundant:common:ubiquitous:omnipresent:rampant:rife:permeant:widespread:legendary:popular:fashionable:frequent:usual:useful:predominant:recurrent:repetitive:repetitious:marked:prevalent:prevalent:prevalent'.split(':')\n",
    "\n",
    "np.random.seed(42)\n",
    "\n",
    "def plot_it(col):\n",
    "    counts = split_points[col]\n",
    "    ser = pd.Series(dict(counts)).sort_values(ascending=False)\n",
    "    total_gain = IMPORTANCES.loc[col, 'Gain']\n",
    "    total_splits = IMPORTANCES.loc[col, 'Count']\n",
    "    if hasattr(uni[col], 'cat'):\n",
    "        # remap categories from int -> cat value\n",
    "        try:\n",
    "            ser.index = uni[col].cat.categories[ser.index.astype(int)]\n",
    "        except:\n",
    "            # e.g. TypeError: Cannot cast Index to dtype <class 'int'>\n",
    "            # a categorical with many categories and '1||4||7' etc type splits\n",
    "            # leave it as it is\n",
    "            pass\n",
    "    adj = np.random.choice(ADJS)\n",
    "    display(\n",
    "        HTML(\n",
    "            f'<h1 id=\"plot_{col}\">{col}</h1>'\n",
    "            f'<p>Used {total_splits} times, total gain is {total_gain}.'\n",
    "            f'<p>{len(ser)} split point values used. '\n",
    "            f'Most {adj} is {ser.index[0]} with gain of {ser.values[0]}.'\n",
    "        )\n",
    "    )\n",
    "    ser = ser.head(MAX_SHOW).sort_index()\n",
    "    ax = ser.plot.bar(title=f'{col} — Adversarial split points by gain',\n",
    "                      rot=90, fontsize=12, figsize=(15,5),\n",
    "                      width=0.7, color=COLORS)\n",
    "    plt.show()"
   ]
  },
  {
   "cell_type": "markdown",
   "metadata": {},
   "source": [
    "# Plots For IEEE Features\n",
    "\n",
    "All the features with 2 or more unique split point values are shown.\n",
    "\n",
    "## Notes\n",
    "\n",
    "Most of the split points have long decimal values like `379.00000000000006` - the LightGBM algorithm only sees binned data, so it sets split thresholds as values [halfway between neighbouring bin lower/upper edges][6], but bumped upwards a tiny fraction using `std::nextafter` in the [C++ standard library][5], resulting in strangely precise [floating point format][1] values :)\n",
    "\n",
    "Zero is checked for using a [kZeroThreshold = 1e-35f][7] variable - this comes out of the model as a split point of 1.0000000180025095e-35 &mdash; a tiny number. When you see that, think *zero*.\n",
    "\n",
    "Split points for categorical dtypes depends on the `max_cat_to_onehot` which I have set to 128 - so categoricals in this data set are treated with a one-vs-all split. This means `feature==value` in the node split test, instead of the usual `feature<=value`. `max_cat_to_onehot` is by default set to 4, meaning categories with more values than this use splits based on target statistics, and the resulting split points have values like `1||3||5||7||8||9` which indicate which category codes go down the *left* branch. (But this is hard to show in bar charts... hence I used *one-vs-all splits*.)\n",
    "\n",
    "**Note**: in this adversarial version, *id* columns are included. Two (`DeviceInfo` and `id_30`) have more than 128 values, so their bar charts have these obscure very long axis labels :)\n",
    "\n",
    "LightGBM keeps a separate bin for NaN values and at all node tests, records whether that bin goes left/right separately - this is not shown here.\n",
    "\n",
    "## What to Look For\n",
    "\n",
    "With adversarial validation, one of the the aims is to detect differences in the train/test set features, and possibly alter the representations to make test look more like train, with the hope that this results in better model accuracy.\n",
    "\n",
    "In some ways what we **don't** see is more interesting than what we **do**. As with normal feature importances: if we see a feature is not used at all it is clearly not useful in detecting train/test difference, so is probably a safe feature to predict isFraud.\n",
    "\n",
    "If there is **one prominent peak** it means the train or test sets have values on one side of the split that are not present in the other set. It may make sense to cap the values in both sets.\n",
    "\n",
    "## Notes\n",
    "\n",
    "Here are some quick observations:\n",
    "\n",
    " - <a href=\"#plot_ProductCD\">ProductCD</a> differs most in the H, R and S values, as also seen in the [heatmap plots notebook][4].\n",
    "\n",
    " - <a href=\"#plot_id_30\">id_30</a> has very clear peaks at `iOS 11.4.1` and the later values of `Mac OS X 10_13_4` onwards, which are obviously time-related, software versions released in the test set era.\n",
    "\n",
    " - <a href=\"#plot_Cents\">Cents</a> has an interesting spike at about 0.989 - which might be tied in to [Chris Deotte's discussion post here][8].\n",
    "\n",
    "\n",
    "A further useful extension would be to look at how the leaf node values vary underneath each split in the left/right branches, similarly to [SHAP plots][9]...\n",
    "\n",
    "\n",
    " [1]: https://en.wikipedia.org/wiki/Double-precision_floating-point_format\n",
    " [2]: https://www.kaggle.com/c/porto-seguro-safe-driver-prediction/discussion/43886\n",
    " [3]: https://www.kaggle.com/tilii7\n",
    " [4]: https://www.kaggle.com/jtrotman/ieee-fraud-time-series-heatmaps\n",
    " [5]: https://en.cppreference.com/w/cpp/numeric/math/nextafter\n",
    " [6]: https://github.com/microsoft/LightGBM/blob/master/src/io/bin.cpp\n",
    " [7]: https://github.com/microsoft/LightGBM/blob/master/include/LightGBM/meta.h \n",
    " [8]: https://www.kaggle.com/c/ieee-fraud-detection/discussion/108467#624331\n",
    " [9]: https://github.com/slundberg/shap"
   ]
  },
  {
   "cell_type": "code",
   "execution_count": null,
   "metadata": {
    "ExecuteTime": {
     "end_time": "2019-09-19T14:59:16.093974Z",
     "start_time": "2019-09-19T14:59:07.949110Z"
    },
    "scrolled": false
   },
   "outputs": [],
   "source": [
    "for col in FEATS:\n",
    "    counts = split_points[col]\n",
    "    if len(counts) >= 2:\n",
    "        plot_it(col)"
   ]
  },
  {
   "cell_type": "markdown",
   "metadata": {},
   "source": [
    "# Conclusions\n",
    "\n",
    "Now we can inspect trained models to see **which points** in the feature space matter for train/test distinctions...\n",
    "\n",
    "An interesting next step might be to use this information to build an an *auto-relaxing* function that buckets the data for us in a way that makes the train and test sets more similar, without any tedious manual inspection of plots :)\n",
    "\n",
    "___\n",
    "\n",
    "A note to any newer Kagglers still reading: the original features used here are only a starting point, used just to demonstrate. If (say) `DeviceInfo` of `hi6210sft Build/MRA58K` comes along in the training set and makes a fast burst of transactions (all marked fraud), then appears in the test set but spread out and on many separate days, it does not make sense to predict a high fraud likelihood, simply because of that one feature. Features that capture *event* timing & behaviour are needed :)\n",
    "\n",
    "For inspiration you should check out [an **extensive** index of **winning** and high ranking Kaggle **solutions** here][1], an auto-generated notebook that indexes the Kaggle Forums for post-competition write-ups by top teams, using the [Meta Kaggle][2] dataset ;)\n",
    "\n",
    " [1]: https://www.kaggle.com/jtrotman/high-ranking-solution-posts\n",
    " [2]: https://www.kaggle.com/kaggle/meta-kaggle\n",
    " "
   ]
  }
 ],
 "metadata": {
  "kernelspec": {
   "display_name": "Python 3",
   "language": "python",
   "name": "python3"
  },
  "language_info": {
   "codemirror_mode": {
    "name": "ipython",
    "version": 3
   },
   "file_extension": ".py",
   "mimetype": "text/x-python",
   "name": "python",
   "nbconvert_exporter": "python",
   "pygments_lexer": "ipython3",
   "version": "3.6.6"
  }
 },
 "nbformat": 4,
 "nbformat_minor": 2
}
