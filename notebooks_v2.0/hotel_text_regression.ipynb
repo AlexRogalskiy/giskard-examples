{
 "cells": [
  {
   "cell_type": "markdown",
   "metadata": {
    "_cell_guid": "6bb6d7b7-b34f-4f94-91ae-86ea0a1342ef",
    "_uuid": "ce59518992291dafd8d921bb54986e2f06c0e646"
   },
   "source": [
    "# Regression on the hotel reviews [sklearn]\n",
    "* Regression task of predicting review 'score', based on the review text.\n",
    "* Reference notebook: <https://www.kaggle.com/code/jiashenliu/simple-regression-model-most-important-words/notebook>\n",
    "* Dataset: <https://www.kaggle.com/code/jiashenliu/simple-regression-model-most-important-words/input>"
   ]
  },
  {
   "cell_type": "markdown",
   "source": [
    "## Import libraries"
   ],
   "metadata": {
    "collapsed": false
   }
  },
  {
   "cell_type": "code",
   "execution_count": null,
   "outputs": [],
   "source": [
    "import os\n",
    "from typing import Iterable\n",
    "\n",
    "import numpy as np\n",
    "import pandas as pd\n",
    "from sklearn.pipeline import Pipeline\n",
    "from sklearn.metrics import mean_absolute_error\n",
    "from sklearn.model_selection import train_test_split\n",
    "from sklearn.preprocessing import FunctionTransformer\n",
    "from sklearn.ensemble import GradientBoostingRegressor\n",
    "from sklearn.feature_extraction.text import TfidfVectorizer\n",
    "\n",
    "from giskard import Model, Dataset, scan"
   ],
   "metadata": {
    "collapsed": false
   }
  },
  {
   "cell_type": "markdown",
   "source": [
    "## Define constants"
   ],
   "metadata": {
    "collapsed": false
   }
  },
  {
   "cell_type": "code",
   "execution_count": null,
   "outputs": [],
   "source": [
    "# Constants.\n",
    "FEATURE_COLUMN_NAME = \"Full_Review\"\n",
    "TARGET_COLUMN_NAME = \"Reviewer_Score\"\n",
    "\n",
    "# Paths.\n",
    "DATA_PATH = os.path.join(\"..\", \"datasets\", \"hotel_text_regression_dataset\", 'Hotel_Reviews.csv')"
   ],
   "metadata": {
    "collapsed": false
   }
  },
  {
   "cell_type": "markdown",
   "metadata": {
    "_cell_guid": "2f8c1d94-114d-4b7b-a9eb-fd1761d27268",
    "_uuid": "6a569b796e7aa56d58d20416b91b679d3737587b"
   },
   "source": [
    "## Load data"
   ]
  },
  {
   "cell_type": "code",
   "execution_count": null,
   "metadata": {
    "_cell_guid": "68914ed8-f065-450c-8899-f56542aed51d",
    "_uuid": "ae9877cc3542e9372084a830a19c794863dff9cb"
   },
   "outputs": [],
   "source": [
    "def load_data(**kwargs) -> pd.DataFrame:\n",
    "    df = pd.read_csv(DATA_PATH, **kwargs)\n",
    "    df[FEATURE_COLUMN_NAME] = df.apply(lambda x: x['Positive_Review'] + ' ' + x['Negative_Review'], axis=1)\n",
    "    return df\n",
    "\n",
    "reviews_df = load_data(nrows=1000)"
   ]
  },
  {
   "cell_type": "markdown",
   "source": [
    "## Train-test split"
   ],
   "metadata": {
    "collapsed": false
   }
  },
  {
   "cell_type": "code",
   "execution_count": null,
   "metadata": {
    "_cell_guid": "1fc3041b-4143-4913-be91-522a80491717",
    "_uuid": "6edbd3a2e85aced1897d44dbabf74ebfecf10110"
   },
   "outputs": [],
   "source": [
    "train_X, test_X, train_Y, test_Y = train_test_split(reviews_df[[FEATURE_COLUMN_NAME]], reviews_df[TARGET_COLUMN_NAME], random_state=42)"
   ]
  },
  {
   "cell_type": "markdown",
   "source": [
    "## Wrap data with giskard"
   ],
   "metadata": {
    "collapsed": false
   }
  },
  {
   "cell_type": "code",
   "execution_count": null,
   "outputs": [],
   "source": [
    "raw_data = pd.concat([test_X, test_Y], axis=1)\n",
    "wrapped_data = Dataset(raw_data,\n",
    "                       name=\"hotel_text_regression_dataset\",\n",
    "                       target=TARGET_COLUMN_NAME,\n",
    "                       column_types={FEATURE_COLUMN_NAME: \"text\"})"
   ],
   "metadata": {
    "collapsed": false
   }
  },
  {
   "cell_type": "markdown",
   "source": [
    "## Define preprocessing steps"
   ],
   "metadata": {
    "collapsed": false
   }
  },
  {
   "cell_type": "code",
   "execution_count": null,
   "outputs": [],
   "source": [
    "def adapt_vectorizer_input(df: pd.DataFrame) -> Iterable:\n",
    "    \"\"\"Adapt input for the vectorizers.\n",
    "\n",
    "    The problem is that vectorizers accept iterable, not DataFrame, but Series.\n",
    "    Thus, we need to ravel dataframe with text have input single dimension.\n",
    "    \"\"\"\n",
    "\n",
    "    df = df.iloc[:, 0]\n",
    "    return df"
   ],
   "metadata": {
    "collapsed": false
   }
  },
  {
   "cell_type": "markdown",
   "metadata": {
    "_cell_guid": "bec6edf8-eda4-4ac1-b5cb-61cccb4452f8",
    "_uuid": "2c8a85cbab882133cea814280c2badada8cfb82a"
   },
   "source": [
    "## Define, fit and test model"
   ]
  },
  {
   "cell_type": "code",
   "execution_count": null,
   "outputs": [],
   "source": [
    "# Define pipeline.\n",
    "pipeline = Pipeline(steps=[\n",
    "    (\"vectorizer_adapter\", FunctionTransformer(adapt_vectorizer_input)),\n",
    "    (\"vectorizer\", TfidfVectorizer(max_features=10000)),\n",
    "    (\"regressor\", GradientBoostingRegressor(n_estimators=10))\n",
    "])\n",
    "\n",
    "# Fit pipeline.\n",
    "pipeline.fit(train_X, train_Y)\n",
    "\n",
    "# Perform inference on train and test data.\n",
    "pred_train = pipeline.predict(train_X)\n",
    "pred_test = pipeline.predict(test_X)"
   ],
   "metadata": {
    "collapsed": false
   }
  },
  {
   "cell_type": "code",
   "execution_count": null,
   "metadata": {
    "collapsed": true
   },
   "outputs": [],
   "source": [
    "train_metric = mean_absolute_error(train_Y, pred_train)\n",
    "test_metric = mean_absolute_error(test_Y, pred_test)\n",
    "\n",
    "print(f\"Train MAE: {train_metric: .2f}\\n\"\n",
    "      f\"Test MAE: {test_metric: .2f}\")"
   ]
  },
  {
   "cell_type": "markdown",
   "source": [
    "## Define prediction function"
   ],
   "metadata": {
    "collapsed": false
   }
  },
  {
   "cell_type": "code",
   "execution_count": null,
   "outputs": [],
   "source": [
    "def prediction_function(df: pd.DataFrame) -> np.ndarray:\n",
    "    return pipeline.predict(df)"
   ],
   "metadata": {
    "collapsed": false
   }
  },
  {
   "cell_type": "markdown",
   "source": [
    "## Wrap model with giskard"
   ],
   "metadata": {
    "collapsed": false
   }
  },
  {
   "cell_type": "code",
   "execution_count": null,
   "outputs": [],
   "source": [
    "wrapped_model = Model(prediction_function,\n",
    "                      model_type=\"regression\",\n",
    "                      name=\"hotel_text_regression\",\n",
    "                      feature_names=[FEATURE_COLUMN_NAME])"
   ],
   "metadata": {
    "collapsed": false
   }
  },
  {
   "cell_type": "code",
   "execution_count": null,
   "outputs": [],
   "source": [
    "# Validate wrapped model.\n",
    "pred_test_wrapped = wrapped_model.predict(wrapped_data).raw_prediction\n",
    "wrapped_test_metric = mean_absolute_error(test_Y, pred_test_wrapped)\n",
    "print(f\"Wrapped Test MAE: {wrapped_test_metric: .2f}\")"
   ],
   "metadata": {
    "collapsed": false
   }
  },
  {
   "cell_type": "markdown",
   "source": [
    "## Scan results with giskard"
   ],
   "metadata": {
    "collapsed": false
   }
  },
  {
   "cell_type": "code",
   "execution_count": null,
   "outputs": [],
   "source": [
    "scanning_results = scan(wrapped_model, wrapped_data)"
   ],
   "metadata": {
    "collapsed": false
   }
  },
  {
   "cell_type": "code",
   "execution_count": null,
   "outputs": [],
   "source": [
    "display(scanning_results)"
   ],
   "metadata": {
    "collapsed": false
   }
  }
 ],
 "metadata": {
  "kernelspec": {
   "display_name": "Python 3",
   "language": "python",
   "name": "python3"
  },
  "language_info": {
   "codemirror_mode": {
    "name": "ipython",
    "version": 3
   },
   "file_extension": ".py",
   "mimetype": "text/x-python",
   "name": "python",
   "nbconvert_exporter": "python",
   "pygments_lexer": "ipython3",
   "version": "3.6.1"
  }
 },
 "nbformat": 4,
 "nbformat_minor": 1
}
