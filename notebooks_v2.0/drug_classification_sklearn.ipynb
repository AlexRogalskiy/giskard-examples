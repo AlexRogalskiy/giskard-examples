{
 "cells": [
  {
   "cell_type": "markdown",
   "source": [
    "# Drug classification [sklearn]\n",
    "* Multiclass classification of drug type, given person's health data.\n",
    "* Reference notebook: <https://www.kaggle.com/code/caesarmario/drug-classification-w-various-ml-models>\n",
    "* Dataset: <https://www.kaggle.com/datasets/prathamtripathi/drug-classification?datasetId=830916&sortBy=voteCount>\n",
    "\n",
    "By running this notebook, you’ll create a whole test suite in a few lines of code. The model used here is a support vector classification model with the drug classification dataset. Feel free to use your own model (tabular, text, or LLM).\n",
    "\n",
    "You’ll learn how to:\n",
    "* Detect vulnerabilities by scanning the model\n",
    "* Generate a test suite with domain-specific tests\n",
    "* Customize your test suite by loading a test from the Giskard catalog\n",
    "* Upload your model to the Giskard server to:\n",
    "* Compare models to decide which one to promote\n",
    "* Debug your tests to diagnose issues\n",
    "* Share your results and collect business feedback from your team"
   ],
   "metadata": {
    "collapsed": false
   }
  },
  {
   "cell_type": "markdown",
   "source": [
    "## Install Giskard"
   ],
   "metadata": {
    "collapsed": false
   }
  },
  {
   "cell_type": "code",
   "execution_count": null,
   "outputs": [],
   "source": [
    "!pip install giskard"
   ],
   "metadata": {
    "collapsed": false
   }
  },
  {
   "cell_type": "markdown",
   "source": [
    "## Import libraries"
   ],
   "metadata": {
    "collapsed": false
   }
  },
  {
   "cell_type": "code",
   "execution_count": null,
   "outputs": [],
   "source": [
    "import os\n",
    "\n",
    "import numpy as np\n",
    "import pandas as pd\n",
    "from pathlib import Path\n",
    "from sklearn.svm import SVC\n",
    "from urllib.request import urlretrieve\n",
    "from imblearn.over_sampling import SMOTE\n",
    "from sklearn.metrics import accuracy_score\n",
    "from sklearn.preprocessing import OneHotEncoder\n",
    "from sklearn.model_selection import train_test_split\n",
    "from imblearn.pipeline import Pipeline as PipelineImb\n",
    "\n",
    "import giskard\n",
    "from giskard import Dataset, Model, GiskardClient, testing"
   ],
   "metadata": {
    "collapsed": false
   }
  },
  {
   "cell_type": "markdown",
   "source": [
    "## Define constants"
   ],
   "metadata": {
    "collapsed": false
   }
  },
  {
   "cell_type": "code",
   "execution_count": null,
   "outputs": [],
   "source": [
    "# Constants.\n",
    "RANDOM_SEED = 0\n",
    "\n",
    "TARGET_NAME = \"Drug\"\n",
    "\n",
    "AGE_BINS = [0, 19, 29, 39, 49, 59, 69, 80]\n",
    "AGE_CATEGORIES = ['<20s', '20s', '30s', '40s', '50s', '60s', '>60s']\n",
    "\n",
    "NA_TO_K_BINS = [0, 9, 19, 29, 50]\n",
    "NA_TO_K_CATEGORIES = ['<10', '10-20', '20-30', '>30']\n",
    "\n",
    "# Paths.\n",
    "DATA_URL = os.path.join(\"ftp://sys.giskard.ai\", \"pub\", \"unit_test_resources\", \"drug_classification_dataset\", \"drug200.csv\")\n",
    "DATA_PATH = Path.home() / \".giskard\" / \"drug_classification_dataset\" / \"drug200.csv\""
   ],
   "metadata": {
    "collapsed": false
   }
  },
  {
   "cell_type": "markdown",
   "source": [
    "## Dataset preparation"
   ],
   "metadata": {
    "collapsed": false
   }
  },
  {
   "cell_type": "markdown",
   "source": [
    "### Load and preprocess data"
   ],
   "metadata": {
    "collapsed": false
   }
  },
  {
   "cell_type": "code",
   "execution_count": null,
   "outputs": [],
   "source": [
    "def fetch_from_ftp(url: str, file: Path) -> None:\n",
    "    \"\"\"Helper to fetch data from the FTP server.\"\"\"\n",
    "    if not file.parent.exists():\n",
    "        file.parent.mkdir(parents=True, exist_ok=True)\n",
    "\n",
    "    if not file.exists():\n",
    "        print(f\"Downloading data from {url}\")\n",
    "        urlretrieve(url, file)\n",
    "\n",
    "    print(f\"Data was loaded!\")\n",
    "\n",
    "\n",
    "def load_data() -> pd.DataFrame:\n",
    "    \"\"\"Load data.\"\"\"\n",
    "    fetch_from_ftp(DATA_URL, DATA_PATH)\n",
    "    df = pd.read_csv(DATA_PATH)\n",
    "    return df\n",
    "\n",
    "\n",
    "def bin_numerical(df: pd.DataFrame) -> np.ndarray:\n",
    "    \"\"\"Perform numerical features binning.\"\"\"\n",
    "    def _bin_age(_df: pd.DataFrame) -> pd.DataFrame:\n",
    "        \"\"\"Bin age feature.\"\"\"\n",
    "        _df.Age = pd.cut(_df.Age, bins=AGE_BINS, labels=AGE_CATEGORIES)\n",
    "        return _df\n",
    "\n",
    "    def _bin_na_to_k(_df: pd.DataFrame) -> pd.DataFrame:\n",
    "        \"\"\"Bin Na_to_K feature.\"\"\"\n",
    "        _df.Na_to_K = pd.cut(_df.Na_to_K, bins=NA_TO_K_BINS, labels=NA_TO_K_CATEGORIES)\n",
    "        return _df\n",
    "\n",
    "    df = df.copy()\n",
    "    df = _bin_age(df)\n",
    "    df = _bin_na_to_k(df)\n",
    "\n",
    "    return df"
   ],
   "metadata": {
    "collapsed": false
   }
  },
  {
   "cell_type": "code",
   "execution_count": null,
   "id": "a1887adb",
   "metadata": {
    "execution": {
     "iopub.execute_input": "2022-05-04T02:53:16.032035Z",
     "iopub.status.busy": "2022-05-04T02:53:16.030941Z",
     "iopub.status.idle": "2022-05-04T02:53:16.050526Z",
     "shell.execute_reply": "2022-05-04T02:53:16.051084Z",
     "shell.execute_reply.started": "2022-03-08T01:25:03.464398Z"
    },
    "id": "MttOdogGf977",
    "papermill": {
     "duration": 0.081087,
     "end_time": "2022-05-04T02:53:16.051265",
     "exception": false,
     "start_time": "2022-05-04T02:53:15.970178",
     "status": "completed"
    },
    "tags": []
   },
   "outputs": [],
   "source": [
    "df_drug = load_data()\n",
    "df_drug = bin_numerical(df_drug)"
   ]
  },
  {
   "cell_type": "markdown",
   "source": [
    "### Train-test split"
   ],
   "metadata": {
    "collapsed": false
   }
  },
  {
   "cell_type": "code",
   "execution_count": null,
   "outputs": [],
   "source": [
    "X_train, X_test, y_train, y_test = train_test_split(df_drug.drop(TARGET_NAME, axis=1), df_drug.Drug,\n",
    "                                                    test_size=0.3, random_state=RANDOM_SEED)"
   ],
   "metadata": {
    "collapsed": false
   }
  },
  {
   "cell_type": "markdown",
   "source": [
    "### Wrap dataset with Giskard"
   ],
   "metadata": {
    "collapsed": false
   }
  },
  {
   "cell_type": "code",
   "execution_count": null,
   "outputs": [],
   "source": [
    "raw_dataset = pd.concat([X_train, y_train], axis=1)\n",
    "wrapped_dataset = Dataset(raw_dataset,\n",
    "                          name=\"drug_classification_dataset\",\n",
    "                          target=TARGET_NAME,\n",
    "                          cat_columns=X_test.columns.tolist())"
   ],
   "metadata": {
    "collapsed": false
   }
  },
  {
   "cell_type": "markdown",
   "id": "bacc2a6c",
   "metadata": {
    "id": "2D1sczYQneQZ",
    "papermill": {
     "duration": 0.072561,
     "end_time": "2022-05-04T02:53:28.063558",
     "exception": false,
     "start_time": "2022-05-04T02:53:27.990997",
     "status": "completed"
    },
    "tags": []
   },
   "source": [
    "## Train model"
   ]
  },
  {
   "cell_type": "code",
   "execution_count": null,
   "outputs": [],
   "source": [
    "pipeline = PipelineImb(steps=[\n",
    "    (\"one_hot_encoder\", OneHotEncoder()),\n",
    "    (\"resampler\", SMOTE(random_state=RANDOM_SEED)),\n",
    "    (\"classifier\", SVC(kernel='linear', max_iter=250, random_state=RANDOM_SEED, probability=True))\n",
    "])\n",
    "\n",
    "print(f\"Model training...\")\n",
    "pipeline.fit(X_train, y_train)\n",
    "print(f\"Model training finished!\")\n",
    "\n",
    "print(f\"Model testing...\")\n",
    "y_train_pred = pipeline.predict(X_train)\n",
    "y_test_pred = pipeline.predict(X_test)\n",
    "train_metric = accuracy_score(y_train_pred, y_train)\n",
    "test_metric = accuracy_score(y_test_pred, y_test)\n",
    "print(f\"Train accuracy score: {train_metric:.2f}\\n\"\n",
    "      f\"Test accuracy score: {test_metric:.2f}\")"
   ],
   "metadata": {
    "collapsed": false
   }
  },
  {
   "cell_type": "markdown",
   "source": [
    "### Define prediction function"
   ],
   "metadata": {
    "collapsed": false
   }
  },
  {
   "cell_type": "code",
   "execution_count": null,
   "outputs": [],
   "source": [
    "def prediction_function(df: pd.DataFrame) -> np.ndarray:\n",
    "    return pipeline.predict_proba(df)"
   ],
   "metadata": {
    "collapsed": false
   }
  },
  {
   "cell_type": "markdown",
   "source": [
    "### Wrap model with Giskard"
   ],
   "metadata": {
    "collapsed": false
   }
  },
  {
   "cell_type": "code",
   "execution_count": null,
   "outputs": [],
   "source": [
    "wrapped_model = Model(prediction_function,\n",
    "                      model_type=\"classification\",\n",
    "                      name=\"drug_classifier\",\n",
    "                      feature_names=X_train.columns.tolist(),\n",
    "                      classification_labels=pipeline.classes_)\n",
    "\n",
    "# Validate wrapped model.\n",
    "wrapped_y_train_pred = pipeline.classes_[wrapped_model.predict(wrapped_dataset).raw_prediction]\n",
    "wrapped_train_metric = accuracy_score(wrapped_y_train_pred, y_train)\n",
    "print(f\"Wrapped Train accuracy score: {wrapped_train_metric:.2f}\")"
   ],
   "metadata": {
    "collapsed": false
   }
  },
  {
   "cell_type": "markdown",
   "source": [
    "## Scan your model to find vulnerabilities\n",
    "With the Giskard scan feature, you can detect vulnerabilities in your model, including performance biases, unrobustness, data leakage, stochasticity, underconfidence, ethical issues, and more. For detailed information about the scan feature, please refer to our scan documentation."
   ],
   "metadata": {
    "collapsed": false
   }
  },
  {
   "cell_type": "code",
   "execution_count": null,
   "outputs": [],
   "source": [
    "results = giskard.scan(wrapped_model, wrapped_dataset)"
   ],
   "metadata": {
    "collapsed": false
   }
  },
  {
   "cell_type": "code",
   "execution_count": null,
   "outputs": [],
   "source": [
    "display(results)"
   ],
   "metadata": {
    "collapsed": false
   }
  },
  {
   "cell_type": "markdown",
   "source": [
    "## Generate a test suite from the Scan\n",
    "The objects produced by the scan can be used as fixtures to generate a test suite that integrate domain-specific issues. To create custom tests, refer to the Test your ML Model page."
   ],
   "metadata": {
    "collapsed": false
   }
  },
  {
   "cell_type": "code",
   "execution_count": null,
   "outputs": [],
   "source": [
    "test_suite = results.generate_test_suite(\"My first test suite\")\n",
    "test_suite.run()"
   ],
   "metadata": {
    "collapsed": false
   }
  },
  {
   "cell_type": "markdown",
   "source": [
    "## Customize your suite by loading objects from the Giskard catalog\n",
    "\n",
    "The Giskard open source catalog will enable to load:\n",
    "* Tests such as metamorphic, performance, prediction & data drift, statistical tests, etc\n",
    "* Slicing functions such as detectors of toxicity, hate, emotion, etc\n",
    "* Transformation functions such as generators of typos, paraphrase, style tune, etc\n",
    "\n",
    "For demo purposes, we will load a simple unit test (test_f1) that checks if the test F1 score is above the given threshold. For more examples of tests and functions, refer to the Giskard catalog."
   ],
   "metadata": {
    "collapsed": false
   }
  },
  {
   "cell_type": "code",
   "execution_count": null,
   "outputs": [],
   "source": [
    "test_suite.add_test(testing.test_f1(model=wrapped_model, dataset=wrapped_dataset, threshold=0.7)).run()"
   ],
   "metadata": {
    "collapsed": false
   }
  },
  {
   "cell_type": "markdown",
   "source": [
    "## Upload your suite to the Giskard server\n",
    "\n",
    "Upload your suite to the Giskard server to:\n",
    "* Compare models to decide which model to promote\n",
    "* Debug your tests to diagnose the issues\n",
    "* Create more domain-specific tests that are integrating business feedback\n",
    "* Share your results"
   ],
   "metadata": {
    "collapsed": false
   }
  },
  {
   "cell_type": "code",
   "execution_count": null,
   "outputs": [],
   "source": [
    "# Uploading the test suite will automatically save the model, dataset, tests, slicing & transformation functions inside the Giskard UI server\n",
    "# Create a Giskard client after having install the Giskard server (see documentation)\n",
    "token = \"API_TOKEN\"  # Find it in Settings in the Giskard server\n",
    "\n",
    "client = GiskardClient(\n",
    "    url=\"http://localhost:19000\",  # URL of your Giskard instance\n",
    "    token=token\n",
    ")\n",
    "\n",
    "my_project = client.create_project(\"my_project\", \"PROJECT_NAME\", \"DESCRIPTION\")\n",
    "\n",
    "# Upload to the current project ✉️\n",
    "test_suite.upload(client, \"my_project\")"
   ],
   "metadata": {
    "collapsed": false
   }
  }
 ],
 "metadata": {
  "kernelspec": {
   "display_name": "Python 3",
   "language": "python",
   "name": "python3"
  },
  "language_info": {
   "codemirror_mode": {
    "name": "ipython",
    "version": 3
   },
   "file_extension": ".py",
   "mimetype": "text/x-python",
   "name": "python",
   "nbconvert_exporter": "python",
   "pygments_lexer": "ipython3",
   "version": "3.7.10"
  },
  "papermill": {
   "default_parameters": {},
   "duration": 123.972965,
   "end_time": "2022-05-04T02:55:10.135212",
   "environment_variables": {},
   "exception": null,
   "input_path": "__notebook__.ipynb",
   "output_path": "__notebook__.ipynb",
   "parameters": {},
   "start_time": "2022-05-04T02:53:06.162247",
   "version": "2.3.3"
  }
 },
 "nbformat": 4,
 "nbformat_minor": 5
}
