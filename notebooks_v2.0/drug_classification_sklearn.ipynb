{
 "cells": [
  {
   "cell_type": "markdown",
   "source": [
    "# Drug classification [sklearn]\n",
    "* Multiclass classification of drug type, given person's health data.\n",
    "* Reference notebook: <https://www.kaggle.com/code/caesarmario/drug-classification-w-various-ml-models>\n",
    "* Dataset: <https://www.kaggle.com/datasets/prathamtripathi/drug-classification?datasetId=830916&sortBy=voteCount>"
   ],
   "metadata": {
    "collapsed": false
   }
  },
  {
   "cell_type": "markdown",
   "source": [
    "## Import libraries"
   ],
   "metadata": {
    "collapsed": false
   }
  },
  {
   "cell_type": "code",
   "execution_count": null,
   "outputs": [],
   "source": [
    "import os\n",
    "\n",
    "import numpy as np\n",
    "import pandas as pd\n",
    "from pathlib import Path\n",
    "from sklearn.svm import SVC\n",
    "from urllib.request import urlretrieve\n",
    "from imblearn.over_sampling import SMOTE\n",
    "from sklearn.metrics import accuracy_score\n",
    "from sklearn.preprocessing import OneHotEncoder\n",
    "from sklearn.model_selection import train_test_split\n",
    "from imblearn.pipeline import Pipeline as PipelineImb\n",
    "\n",
    "import giskard\n",
    "from giskard import Dataset, Model, GiskardClient\n",
    "from giskard.client.giskard_client import GiskardError"
   ],
   "metadata": {
    "collapsed": false
   }
  },
  {
   "cell_type": "markdown",
   "source": [
    "## Define constants"
   ],
   "metadata": {
    "collapsed": false
   }
  },
  {
   "cell_type": "code",
   "execution_count": null,
   "outputs": [],
   "source": [
    "# Constants.\n",
    "RANDOM_SEED = 0\n",
    "\n",
    "TARGET_NAME = \"Drug\"\n",
    "\n",
    "AGE_BINS = [0, 19, 29, 39, 49, 59, 69, 80]\n",
    "AGE_CATEGORIES = ['<20s', '20s', '30s', '40s', '50s', '60s', '>60s']\n",
    "\n",
    "NA_TO_K_BINS = [0, 9, 19, 29, 50]\n",
    "NA_TO_K_CATEGORIES = ['<10', '10-20', '20-30', '>30']\n",
    "\n",
    "# Giskard creds.\n",
    "GISKARD_URL = \"http://localhost:9000\"\n",
    "GISKARD_TOKEN = \"\"\n",
    "GISKARD_PROJECT_KEY = \"drug_classification\"\n",
    "\n",
    "# Paths.\n",
    "DATA_URL = os.path.join(\"ftp://sys.giskard.ai\", \"pub\", \"unit_test_resources\", \"drug_classification_dataset\", \"drug200.csv\")\n",
    "DATA_PATH = Path.home() / \".giskard\" / \"drug_classification_dataset\" / \"drug200.csv\""
   ],
   "metadata": {
    "collapsed": false
   }
  },
  {
   "cell_type": "markdown",
   "source": [
    "## Load data"
   ],
   "metadata": {
    "collapsed": false
   }
  },
  {
   "cell_type": "code",
   "execution_count": null,
   "outputs": [],
   "source": [
    "def fetch_from_ftp(url: str, file: Path) -> None:\n",
    "    \"\"\"Helper to fetch data from the FTP server.\"\"\"\n",
    "    if not file.parent.exists():\n",
    "        file.parent.mkdir(parents=True, exist_ok=True)\n",
    "\n",
    "    if not file.exists():\n",
    "        print(f\"Downloading data from {url}\")\n",
    "        urlretrieve(url, file)\n",
    "\n",
    "    print(f\"Data was loaded!\")"
   ],
   "metadata": {
    "collapsed": false
   }
  },
  {
   "cell_type": "code",
   "execution_count": null,
   "id": "a1887adb",
   "metadata": {
    "execution": {
     "iopub.execute_input": "2022-05-04T02:53:16.032035Z",
     "iopub.status.busy": "2022-05-04T02:53:16.030941Z",
     "iopub.status.idle": "2022-05-04T02:53:16.050526Z",
     "shell.execute_reply": "2022-05-04T02:53:16.051084Z",
     "shell.execute_reply.started": "2022-03-08T01:25:03.464398Z"
    },
    "id": "MttOdogGf977",
    "papermill": {
     "duration": 0.081087,
     "end_time": "2022-05-04T02:53:16.051265",
     "exception": false,
     "start_time": "2022-05-04T02:53:15.970178",
     "status": "completed"
    },
    "tags": []
   },
   "outputs": [],
   "source": [
    "def load_data() -> pd.DataFrame:\n",
    "    \"\"\"Load data.\"\"\"\n",
    "    fetch_from_ftp(DATA_URL, DATA_PATH)\n",
    "    df = pd.read_csv(DATA_PATH)\n",
    "    return df\n",
    "\n",
    "df_drug = load_data()"
   ]
  },
  {
   "cell_type": "markdown",
   "source": [
    "## Define preprocessing steps"
   ],
   "metadata": {
    "collapsed": false
   }
  },
  {
   "cell_type": "code",
   "execution_count": null,
   "outputs": [],
   "source": [
    "def bin_numerical(df: pd.DataFrame) -> np.ndarray:\n",
    "    \"\"\"Perform numerical features binning.\"\"\"\n",
    "    def _bin_age(_df: pd.DataFrame) -> pd.DataFrame:\n",
    "        \"\"\"Bin age feature.\"\"\"\n",
    "        _df.Age = pd.cut(_df.Age, bins=AGE_BINS, labels=AGE_CATEGORIES)\n",
    "        return _df\n",
    "\n",
    "    def _bin_na_to_k(_df: pd.DataFrame) -> pd.DataFrame:\n",
    "        \"\"\"Bin Na_to_K feature.\"\"\"\n",
    "        _df.Na_to_K = pd.cut(_df.Na_to_K, bins=NA_TO_K_BINS, labels=NA_TO_K_CATEGORIES)\n",
    "        return _df\n",
    "\n",
    "    df = df.copy()\n",
    "    df = _bin_age(df)\n",
    "    df = _bin_na_to_k(df)\n",
    "\n",
    "    return df\n",
    "\n",
    "df_drug = bin_numerical(df_drug)"
   ],
   "metadata": {
    "collapsed": false
   }
  },
  {
   "cell_type": "markdown",
   "source": [
    "## Train-test split"
   ],
   "metadata": {
    "collapsed": false
   }
  },
  {
   "cell_type": "code",
   "execution_count": null,
   "outputs": [],
   "source": [
    "X_train, X_test, y_train, y_test = train_test_split(df_drug.drop(TARGET_NAME, axis=1), df_drug.Drug,\n",
    "                                                    test_size=0.3, random_state=RANDOM_SEED)"
   ],
   "metadata": {
    "collapsed": false
   }
  },
  {
   "cell_type": "markdown",
   "id": "bacc2a6c",
   "metadata": {
    "id": "2D1sczYQneQZ",
    "papermill": {
     "duration": 0.072561,
     "end_time": "2022-05-04T02:53:28.063558",
     "exception": false,
     "start_time": "2022-05-04T02:53:27.990997",
     "status": "completed"
    },
    "tags": []
   },
   "source": [
    "## Build Support Vector Machine classifier"
   ]
  },
  {
   "cell_type": "code",
   "execution_count": null,
   "outputs": [],
   "source": [
    "pipeline = PipelineImb(steps=[\n",
    "    (\"one_hot_encoder\", OneHotEncoder()),\n",
    "    (\"resampler\", SMOTE(random_state=RANDOM_SEED)),\n",
    "    (\"classifier\", SVC(kernel='linear', max_iter=250, random_state=RANDOM_SEED, probability=True))\n",
    "])\n",
    "\n",
    "print(f\"Model training...\")\n",
    "pipeline.fit(X_train, y_train)\n",
    "print(f\"Model training finished!\")\n",
    "\n",
    "print(f\"Model testing...\")\n",
    "y_train_pred = pipeline.predict(X_train)\n",
    "y_test_pred = pipeline.predict(X_test)\n",
    "train_metric = accuracy_score(y_train_pred, y_train)\n",
    "test_metric = accuracy_score(y_test_pred, y_test)\n",
    "print(f\"Train accuracy score: {train_metric:.2f}\\n\"\n",
    "      f\"Test accuracy score: {test_metric:.2f}\")"
   ],
   "metadata": {
    "collapsed": false
   }
  },
  {
   "cell_type": "markdown",
   "source": [
    "## Wrap dataset with giskard"
   ],
   "metadata": {
    "collapsed": false
   }
  },
  {
   "cell_type": "code",
   "execution_count": null,
   "outputs": [],
   "source": [
    "raw_dataset = pd.concat([X_train, y_train], axis=1)\n",
    "wrapped_dataset = Dataset(raw_dataset,\n",
    "                          name=\"drug_classification_dataset\",\n",
    "                          target=TARGET_NAME,\n",
    "                          cat_columns=X_test.columns.tolist())"
   ],
   "metadata": {
    "collapsed": false
   }
  },
  {
   "cell_type": "markdown",
   "source": [
    "## Define prediction function"
   ],
   "metadata": {
    "collapsed": false
   }
  },
  {
   "cell_type": "code",
   "execution_count": null,
   "outputs": [],
   "source": [
    "def prediction_function(df: pd.DataFrame) -> np.ndarray:\n",
    "    return pipeline.predict_proba(df)"
   ],
   "metadata": {
    "collapsed": false
   }
  },
  {
   "cell_type": "markdown",
   "source": [
    "## Wrap model with giskard"
   ],
   "metadata": {
    "collapsed": false
   }
  },
  {
   "cell_type": "code",
   "execution_count": null,
   "outputs": [],
   "source": [
    "wrapped_model = Model(prediction_function,\n",
    "                      model_type=\"classification\",\n",
    "                      name=\"drug_classifier\",\n",
    "                      feature_names=X_train.columns.tolist(),\n",
    "                      classification_labels=pipeline.classes_)"
   ],
   "metadata": {
    "collapsed": false
   }
  },
  {
   "cell_type": "code",
   "execution_count": null,
   "outputs": [],
   "source": [
    "# Validate wrapped model.\n",
    "wrapped_y_train_pred = pipeline.classes_[wrapped_model.predict(wrapped_dataset).raw_prediction]\n",
    "wrapped_train_metric = accuracy_score(wrapped_y_train_pred, y_train)\n",
    "print(f\"Wrapped Train accuracy score: {wrapped_train_metric:.2f}\")"
   ],
   "metadata": {
    "collapsed": false
   }
  },
  {
   "cell_type": "markdown",
   "source": [
    "## Scan model with giskard"
   ],
   "metadata": {
    "collapsed": false
   }
  },
  {
   "cell_type": "code",
   "execution_count": null,
   "outputs": [],
   "source": [
    "scanning_results = giskard.scan(wrapped_model, wrapped_dataset)"
   ],
   "metadata": {
    "collapsed": false
   }
  },
  {
   "cell_type": "code",
   "execution_count": null,
   "outputs": [],
   "source": [
    "display(scanning_results)"
   ],
   "metadata": {
    "collapsed": false
   }
  },
  {
   "cell_type": "markdown",
   "source": [
    "## Upload model and dataset to the giskard UI platform"
   ],
   "metadata": {
    "collapsed": false
   }
  },
  {
   "cell_type": "code",
   "execution_count": null,
   "outputs": [],
   "source": [
    "# Init giskard client.\n",
    "client = GiskardClient(GISKARD_URL, GISKARD_TOKEN)\n",
    "\n",
    "# Create or fetch a project by its key.\n",
    "try:\n",
    "    project = client.create_project(GISKARD_PROJECT_KEY,\n",
    "                                    name=\"DRUG_CLASSIFICATION\",\n",
    "                                    description=\"Multiclass classification of the drug to assign, based on a patient's medical profile.\")\n",
    "except GiskardError as e:\n",
    "    print(f\"Project with key {GISKARD_PROJECT_KEY} already exists. Trying to get it.\")\n",
    "    project = client.get_project(GISKARD_PROJECT_KEY)\n",
    "\n",
    "# Upload model and dataset.\n",
    "model_id = wrapped_model.upload(client, GISKARD_PROJECT_KEY)\n",
    "dataset_id = wrapped_dataset.upload(client, GISKARD_PROJECT_KEY)"
   ],
   "metadata": {
    "collapsed": false
   }
  }
 ],
 "metadata": {
  "kernelspec": {
   "display_name": "Python 3",
   "language": "python",
   "name": "python3"
  },
  "language_info": {
   "codemirror_mode": {
    "name": "ipython",
    "version": 3
   },
   "file_extension": ".py",
   "mimetype": "text/x-python",
   "name": "python",
   "nbconvert_exporter": "python",
   "pygments_lexer": "ipython3",
   "version": "3.7.10"
  },
  "papermill": {
   "default_parameters": {},
   "duration": 123.972965,
   "end_time": "2022-05-04T02:55:10.135212",
   "environment_variables": {},
   "exception": null,
   "input_path": "__notebook__.ipynb",
   "output_path": "__notebook__.ipynb",
   "parameters": {},
   "start_time": "2022-05-04T02:53:06.162247",
   "version": "2.3.3"
  }
 },
 "nbformat": 4,
 "nbformat_minor": 5
}
