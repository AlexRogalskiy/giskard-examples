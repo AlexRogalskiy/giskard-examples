{
 "cells": [
  {
   "cell_type": "code",
   "execution_count": 13,
   "outputs": [],
   "source": [
    "import os\n",
    "\n",
    "import pandas as pd\n",
    "from lightgbm import LGBMClassifier\n",
    "from sklearn.metrics import roc_auc_score\n",
    "from pandas.api.types import union_categoricals\n",
    "from sklearn.model_selection import train_test_split"
   ],
   "metadata": {
    "collapsed": false,
    "ExecuteTime": {
     "end_time": "2023-05-04T16:10:09.461158Z",
     "start_time": "2023-05-04T16:10:09.452647Z"
    }
   }
  },
  {
   "cell_type": "markdown",
   "source": [
    "## Define constants"
   ],
   "metadata": {
    "collapsed": false
   }
  },
  {
   "cell_type": "code",
   "execution_count": 3,
   "outputs": [],
   "source": [
    "# Constants.\n",
    "N_TRAIN = 590540\n",
    "\n",
    "TARGET_COLUMN = 'isTest'\n",
    "IDX_LABEL = 'TransactionID'\n",
    "\n",
    "# Paths.\n",
    "DATA_DIRECTORY = os.path.join(\".\", \"datasets\", \"fraud_detection\")"
   ],
   "metadata": {
    "collapsed": false,
    "ExecuteTime": {
     "end_time": "2023-05-04T16:02:48.669981Z",
     "start_time": "2023-05-04T16:02:48.653531Z"
    }
   }
  },
  {
   "cell_type": "markdown",
   "source": [
    "## Data loading and preprocessing"
   ],
   "metadata": {
    "collapsed": false
   }
  },
  {
   "cell_type": "code",
   "execution_count": 4,
   "outputs": [],
   "source": [
    "# Define data-types of transactions features.\n",
    "DATA_TYPES_TRANSACTION = {\n",
    "    'TransactionID': 'int32',\n",
    "    'isFraud': 'int8',\n",
    "    'TransactionDT': 'int32',\n",
    "    'TransactionAmt': 'float32',\n",
    "    'ProductCD': 'category',\n",
    "    'card1': 'int16',\n",
    "    'card2': 'float32',\n",
    "    'card3': 'float32',\n",
    "    'card4': 'category',\n",
    "    'card5': 'float32',\n",
    "    'card6': 'category',\n",
    "    'addr1': 'float32',\n",
    "    'addr2': 'float32',\n",
    "    'dist1': 'float32',\n",
    "    'dist2': 'float32',\n",
    "    'P_emaildomain': 'category',\n",
    "    'R_emaildomain': 'category',\n",
    "}\n",
    "\n",
    "C_COLS = [f'C{i}' for i in range(1, 15)]\n",
    "D_COLS = [f'D{i}' for i in range(1, 16)]\n",
    "M_COLS = [f'M{i}' for i in range(1, 10)]\n",
    "V_COLS = [f'V{i}' for i in range(1, 340)]\n",
    "\n",
    "DATA_TYPES_TRANSACTION.update((c, 'float32') for c in C_COLS)\n",
    "DATA_TYPES_TRANSACTION.update((c, 'float32') for c in D_COLS)\n",
    "DATA_TYPES_TRANSACTION.update((c, 'float32') for c in V_COLS)\n",
    "DATA_TYPES_TRANSACTION.update((c, 'category') for c in M_COLS)"
   ],
   "metadata": {
    "collapsed": false,
    "ExecuteTime": {
     "end_time": "2023-05-04T16:02:49.339478Z",
     "start_time": "2023-05-04T16:02:49.333570Z"
    }
   }
  },
  {
   "cell_type": "code",
   "execution_count": 5,
   "outputs": [],
   "source": [
    "# Define datatypes of identity features.\n",
    "DATA_TYPES_ID = {\n",
    "    'TransactionID': 'int32',\n",
    "    'DeviceType': 'category',\n",
    "    'DeviceInfo': 'category',\n",
    "}\n",
    "\n",
    "ID_COLS = [f'id_{i:02d}' for i in range(1, 39)]\n",
    "ID_CATS = [\n",
    "    'id_12', 'id_15', 'id_16', 'id_23', 'id_27', 'id_28', 'id_29', 'id_30',\n",
    "    'id_31', 'id_33', 'id_34', 'id_35', 'id_36', 'id_37', 'id_38'\n",
    "]\n",
    "\n",
    "DATA_TYPES_ID.update(((c, 'float32') for c in ID_COLS))\n",
    "DATA_TYPES_ID.update(((c, 'category') for c in ID_CATS))"
   ],
   "metadata": {
    "collapsed": false,
    "ExecuteTime": {
     "end_time": "2023-05-04T16:02:49.663754Z",
     "start_time": "2023-05-04T16:02:49.655092Z"
    }
   }
  },
  {
   "cell_type": "code",
   "execution_count": 6,
   "outputs": [],
   "source": [
    "def read_set(_type):\n",
    "    \"\"\"Read both transactions and identity data.\"\"\"\n",
    "    print(f\"Reading transactions data...\")\n",
    "    _df = pd.read_csv(os.path.join(DATA_DIRECTORY, f'{_type}_transaction.csv'),\n",
    "                      index_col=IDX_LABEL, dtype=DATA_TYPES_TRANSACTION)\n",
    "\n",
    "    print(f\"Reading identity data...\")\n",
    "    _df = _df.join(pd.read_csv(os.path.join(DATA_DIRECTORY, f'{_type}_identity.csv'),\n",
    "                               index_col=IDX_LABEL, dtype=DATA_TYPES_ID))\n",
    "    return _df\n",
    "\n",
    "def read_dataset():\n",
    "    \"\"\"Read whole data.\"\"\"\n",
    "    # Read train and test data.\n",
    "    print(\"Reading train data...\")\n",
    "    train_set = read_set('train')\n",
    "    print(f\"Train data of shape {train_set.shape} is loaded!\")\n",
    "\n",
    "    print(f\"Reading test data...\")\n",
    "    test_set = read_set('test')\n",
    "    print(f\"Test data of shape {test_set.shape} is loaded!\")\n",
    "\n",
    "    return train_set, test_set\n",
    "\n",
    "def preprocess_dataset(train_set, test_set):\n",
    "    \"\"\"Unite train and test into common dataframe.\"\"\"\n",
    "    # Create a new target column and remove a former one from the train data.\n",
    "    print(\"Start data preprocessing...\")\n",
    "    train_set.pop('isFraud')\n",
    "    train_set['isTest'] = 0\n",
    "    test_set['isTest'] = 1\n",
    "\n",
    "    # Preprocess categorical features.\n",
    "    n_train = train_set.shape[0]\n",
    "    for c in train_set.columns:\n",
    "        s = train_set[c]\n",
    "        if hasattr(s, 'cat'):\n",
    "            u = union_categoricals([train_set[c], test_set[c]], sort_categories=True)\n",
    "            train_set[c] = u[:n_train]\n",
    "            test_set[c] = u[n_train:]\n",
    "\n",
    "    # Unite train and test data.\n",
    "    united = pd.concat([train_set, test_set])\n",
    "\n",
    "    # Add additional features.\n",
    "    united['TimeInDay'] = united.TransactionDT % 86400\n",
    "    united['Cents'] = united.TransactionAmt % 1\n",
    "\n",
    "    # Remove useless columns.\n",
    "    united.drop(\"TransactionDT\", axis=1, inplace=True)\n",
    "\n",
    "    print(f\"Dataset merged and preprocessed! Resulted shape: {united.shape}\")\n",
    "\n",
    "    return united"
   ],
   "metadata": {
    "collapsed": false,
    "ExecuteTime": {
     "end_time": "2023-05-04T16:02:50.003527Z",
     "start_time": "2023-05-04T16:02:49.988076Z"
    }
   }
  },
  {
   "cell_type": "code",
   "execution_count": 7,
   "metadata": {
    "_kg_hide-input": true,
    "ExecuteTime": {
     "end_time": "2023-05-04T16:03:44.772977Z",
     "start_time": "2023-05-04T16:02:50.422952Z"
    }
   },
   "outputs": [
    {
     "name": "stdout",
     "output_type": "stream",
     "text": [
      "Reading train data...\n",
      "Reading transactions data...\n",
      "Reading identity data...\n",
      "Train data of shape (590540, 433) is loaded!\n",
      "Reading test data...\n",
      "Reading transactions data...\n",
      "Reading identity data...\n",
      "Test data of shape (506691, 432) is loaded!\n",
      "Start data preprocessing...\n",
      "Dataset merged and preprocessed! Resulted shape: (1097231, 434)\n"
     ]
    }
   ],
   "source": [
    "united_dataset = preprocess_dataset(*read_dataset())"
   ]
  },
  {
   "cell_type": "markdown",
   "source": [
    "## Train-test split"
   ],
   "metadata": {
    "collapsed": false
   }
  },
  {
   "cell_type": "code",
   "execution_count": 8,
   "outputs": [],
   "source": [
    "X_train, X_test, y_train, y_test = train_test_split(united_dataset.drop(TARGET_COLUMN, axis=1), united_dataset[TARGET_COLUMN], test_size=0.25)"
   ],
   "metadata": {
    "collapsed": false,
    "ExecuteTime": {
     "end_time": "2023-05-04T16:05:08.000867Z",
     "start_time": "2023-05-04T16:04:55.142222Z"
    }
   }
  },
  {
   "cell_type": "markdown",
   "source": [
    "## Prepare estimator"
   ],
   "metadata": {
    "collapsed": false
   }
  },
  {
   "cell_type": "code",
   "execution_count": 9,
   "outputs": [],
   "source": [
    "# Define parameters of an estimator.\n",
    "params = {\n",
    "    'num_leaves': 64,\n",
    "    'objective': 'binary',\n",
    "    'min_data_in_leaf': 10,\n",
    "    'learning_rate': 0.1,\n",
    "    'feature_fraction': 0.5,\n",
    "    'bagging_fraction': 0.9,\n",
    "    'bagging_freq': 1,\n",
    "    'max_cat_to_onehot': 128,\n",
    "    'metric': 'auc',\n",
    "    'n_jobs': -1,\n",
    "    'seed': 42,\n",
    "    'subsample_for_bin': united_dataset.shape[0]\n",
    "}"
   ],
   "metadata": {
    "collapsed": false,
    "ExecuteTime": {
     "end_time": "2023-05-04T16:05:19.159844Z",
     "start_time": "2023-05-04T16:05:19.137850Z"
    }
   }
  },
  {
   "cell_type": "code",
   "execution_count": 10,
   "outputs": [],
   "source": [
    "estimator = LGBMClassifier(**params)"
   ],
   "metadata": {
    "collapsed": false,
    "ExecuteTime": {
     "end_time": "2023-05-04T16:05:35.825898Z",
     "start_time": "2023-05-04T16:05:35.817950Z"
    }
   }
  },
  {
   "cell_type": "code",
   "execution_count": 11,
   "outputs": [
    {
     "name": "stdout",
     "output_type": "stream",
     "text": [
      "[LightGBM] [Warning] min_data_in_leaf is set=10, min_child_samples=20 will be ignored. Current value: min_data_in_leaf=10\n",
      "[LightGBM] [Warning] feature_fraction is set=0.5, colsample_bytree=1.0 will be ignored. Current value: feature_fraction=0.5\n",
      "[LightGBM] [Warning] bagging_fraction is set=0.9, subsample=1.0 will be ignored. Current value: bagging_fraction=0.9\n",
      "[LightGBM] [Warning] bagging_freq is set=1, subsample_freq=0 will be ignored. Current value: bagging_freq=1\n"
     ]
    },
    {
     "data": {
      "text/plain": "LGBMClassifier(bagging_fraction=0.9, bagging_freq=1, feature_fraction=0.5,\n               max_cat_to_onehot=128, metric='auc', min_data_in_leaf=10,\n               num_leaves=64, objective='binary', seed=42,\n               subsample_for_bin=1097231)",
      "text/html": "<style>#sk-container-id-1 {color: black;background-color: white;}#sk-container-id-1 pre{padding: 0;}#sk-container-id-1 div.sk-toggleable {background-color: white;}#sk-container-id-1 label.sk-toggleable__label {cursor: pointer;display: block;width: 100%;margin-bottom: 0;padding: 0.3em;box-sizing: border-box;text-align: center;}#sk-container-id-1 label.sk-toggleable__label-arrow:before {content: \"▸\";float: left;margin-right: 0.25em;color: #696969;}#sk-container-id-1 label.sk-toggleable__label-arrow:hover:before {color: black;}#sk-container-id-1 div.sk-estimator:hover label.sk-toggleable__label-arrow:before {color: black;}#sk-container-id-1 div.sk-toggleable__content {max-height: 0;max-width: 0;overflow: hidden;text-align: left;background-color: #f0f8ff;}#sk-container-id-1 div.sk-toggleable__content pre {margin: 0.2em;color: black;border-radius: 0.25em;background-color: #f0f8ff;}#sk-container-id-1 input.sk-toggleable__control:checked~div.sk-toggleable__content {max-height: 200px;max-width: 100%;overflow: auto;}#sk-container-id-1 input.sk-toggleable__control:checked~label.sk-toggleable__label-arrow:before {content: \"▾\";}#sk-container-id-1 div.sk-estimator input.sk-toggleable__control:checked~label.sk-toggleable__label {background-color: #d4ebff;}#sk-container-id-1 div.sk-label input.sk-toggleable__control:checked~label.sk-toggleable__label {background-color: #d4ebff;}#sk-container-id-1 input.sk-hidden--visually {border: 0;clip: rect(1px 1px 1px 1px);clip: rect(1px, 1px, 1px, 1px);height: 1px;margin: -1px;overflow: hidden;padding: 0;position: absolute;width: 1px;}#sk-container-id-1 div.sk-estimator {font-family: monospace;background-color: #f0f8ff;border: 1px dotted black;border-radius: 0.25em;box-sizing: border-box;margin-bottom: 0.5em;}#sk-container-id-1 div.sk-estimator:hover {background-color: #d4ebff;}#sk-container-id-1 div.sk-parallel-item::after {content: \"\";width: 100%;border-bottom: 1px solid gray;flex-grow: 1;}#sk-container-id-1 div.sk-label:hover label.sk-toggleable__label {background-color: #d4ebff;}#sk-container-id-1 div.sk-serial::before {content: \"\";position: absolute;border-left: 1px solid gray;box-sizing: border-box;top: 0;bottom: 0;left: 50%;z-index: 0;}#sk-container-id-1 div.sk-serial {display: flex;flex-direction: column;align-items: center;background-color: white;padding-right: 0.2em;padding-left: 0.2em;position: relative;}#sk-container-id-1 div.sk-item {position: relative;z-index: 1;}#sk-container-id-1 div.sk-parallel {display: flex;align-items: stretch;justify-content: center;background-color: white;position: relative;}#sk-container-id-1 div.sk-item::before, #sk-container-id-1 div.sk-parallel-item::before {content: \"\";position: absolute;border-left: 1px solid gray;box-sizing: border-box;top: 0;bottom: 0;left: 50%;z-index: -1;}#sk-container-id-1 div.sk-parallel-item {display: flex;flex-direction: column;z-index: 1;position: relative;background-color: white;}#sk-container-id-1 div.sk-parallel-item:first-child::after {align-self: flex-end;width: 50%;}#sk-container-id-1 div.sk-parallel-item:last-child::after {align-self: flex-start;width: 50%;}#sk-container-id-1 div.sk-parallel-item:only-child::after {width: 0;}#sk-container-id-1 div.sk-dashed-wrapped {border: 1px dashed gray;margin: 0 0.4em 0.5em 0.4em;box-sizing: border-box;padding-bottom: 0.4em;background-color: white;}#sk-container-id-1 div.sk-label label {font-family: monospace;font-weight: bold;display: inline-block;line-height: 1.2em;}#sk-container-id-1 div.sk-label-container {text-align: center;}#sk-container-id-1 div.sk-container {/* jupyter's `normalize.less` sets `[hidden] { display: none; }` but bootstrap.min.css set `[hidden] { display: none !important; }` so we also need the `!important` here to be able to override the default hidden behavior on the sphinx rendered scikit-learn.org. See: https://github.com/scikit-learn/scikit-learn/issues/21755 */display: inline-block !important;position: relative;}#sk-container-id-1 div.sk-text-repr-fallback {display: none;}</style><div id=\"sk-container-id-1\" class=\"sk-top-container\"><div class=\"sk-text-repr-fallback\"><pre>LGBMClassifier(bagging_fraction=0.9, bagging_freq=1, feature_fraction=0.5,\n               max_cat_to_onehot=128, metric=&#x27;auc&#x27;, min_data_in_leaf=10,\n               num_leaves=64, objective=&#x27;binary&#x27;, seed=42,\n               subsample_for_bin=1097231)</pre><b>In a Jupyter environment, please rerun this cell to show the HTML representation or trust the notebook. <br />On GitHub, the HTML representation is unable to render, please try loading this page with nbviewer.org.</b></div><div class=\"sk-container\" hidden><div class=\"sk-item\"><div class=\"sk-estimator sk-toggleable\"><input class=\"sk-toggleable__control sk-hidden--visually\" id=\"sk-estimator-id-1\" type=\"checkbox\" checked><label for=\"sk-estimator-id-1\" class=\"sk-toggleable__label sk-toggleable__label-arrow\">LGBMClassifier</label><div class=\"sk-toggleable__content\"><pre>LGBMClassifier(bagging_fraction=0.9, bagging_freq=1, feature_fraction=0.5,\n               max_cat_to_onehot=128, metric=&#x27;auc&#x27;, min_data_in_leaf=10,\n               num_leaves=64, objective=&#x27;binary&#x27;, seed=42,\n               subsample_for_bin=1097231)</pre></div></div></div></div></div>"
     },
     "execution_count": 11,
     "metadata": {},
     "output_type": "execute_result"
    }
   ],
   "source": [
    "estimator.fit(X_train, y_train)"
   ],
   "metadata": {
    "collapsed": false,
    "ExecuteTime": {
     "end_time": "2023-05-04T16:06:56.351251Z",
     "start_time": "2023-05-04T16:05:36.699246Z"
    }
   }
  },
  {
   "cell_type": "code",
   "execution_count": 12,
   "outputs": [
    {
     "name": "stdout",
     "output_type": "stream",
     "text": [
      "Train ROC-AUC score: 0.9199255948975477\n",
      "Test ROC-AUC score: 0.9173237662235668\n"
     ]
    }
   ],
   "source": [
    "train_metric = roc_auc_score(y_train, estimator.predict_proba(X_train)[:, 1].T)\n",
    "test_metric = roc_auc_score(y_test, estimator.predict_proba(X_test)[:, 1].T)\n",
    "\n",
    "print(f\"Train ROC-AUC score: {train_metric}\")\n",
    "print(f\"Test ROC-AUC score: {test_metric}\")"
   ],
   "metadata": {
    "collapsed": false,
    "ExecuteTime": {
     "end_time": "2023-05-04T16:07:32.467075Z",
     "start_time": "2023-05-04T16:07:07.453595Z"
    }
   }
  }
 ],
 "metadata": {
  "kernelspec": {
   "display_name": "Python 3",
   "language": "python",
   "name": "python3"
  },
  "language_info": {
   "codemirror_mode": {
    "name": "ipython",
    "version": 3
   },
   "file_extension": ".py",
   "mimetype": "text/x-python",
   "name": "python",
   "nbconvert_exporter": "python",
   "pygments_lexer": "ipython3",
   "version": "3.6.6"
  }
 },
 "nbformat": 4,
 "nbformat_minor": 2
}
