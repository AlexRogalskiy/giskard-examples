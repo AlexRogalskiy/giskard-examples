{
 "cells": [
  {
   "cell_type": "markdown",
   "source": [
    "# Drug classification [sklearn]\n",
    "* Multiclass classification of drug type, given person's health data.\n",
    "* Reference notebook: <https://www.kaggle.com/code/caesarmario/drug-classification-w-various-ml-models>\n",
    "* Dataset: <https://www.kaggle.com/datasets/prathamtripathi/drug-classification?datasetId=830916&sortBy=voteCount>"
   ],
   "metadata": {
    "collapsed": false
   }
  },
  {
   "cell_type": "markdown",
   "source": [
    "## Import libraries"
   ],
   "metadata": {
    "collapsed": false
   }
  },
  {
   "cell_type": "code",
   "execution_count": null,
   "outputs": [],
   "source": [
    "import os\n",
    "\n",
    "import numpy as np\n",
    "import pandas as pd\n",
    "from sklearn.svm import SVC\n",
    "from imblearn.over_sampling import SMOTE\n",
    "from sklearn.metrics import accuracy_score\n",
    "from sklearn.preprocessing import OneHotEncoder\n",
    "from sklearn.model_selection import train_test_split\n",
    "from imblearn.pipeline import Pipeline as PipelineImb\n",
    "\n",
    "import giskard\n",
    "from giskard import Dataset, Model, GiskardClient\n",
    "from giskard.client.giskard_client import GiskardError"
   ],
   "metadata": {
    "collapsed": false
   }
  },
  {
   "cell_type": "markdown",
   "source": [
    "## Define constants"
   ],
   "metadata": {
    "collapsed": false
   }
  },
  {
   "cell_type": "code",
   "execution_count": null,
   "outputs": [],
   "source": [
    "# Constants.\n",
    "RANDOM_SEED = 0\n",
    "\n",
    "TARGET_NAME = \"Drug\"\n",
    "\n",
    "AGE_BINS = [0, 19, 29, 39, 49, 59, 69, 80]\n",
    "AGE_CATEGORIES = ['<20s', '20s', '30s', '40s', '50s', '60s', '>60s']\n",
    "\n",
    "NA_TO_K_BINS = [0, 9, 19, 29, 50]\n",
    "NA_TO_K_CATEGORIES = ['<10', '10-20', '20-30', '>30']\n",
    "\n",
    "# Giskard creds.\n",
    "GISKARD_URL = \"http://localhost:9000\"\n",
    "GISKARD_TOKEN = \"\"\n",
    "GISKARD_PROJECT_KEY = \"drug_classification\"\n",
    "\n",
    "# Paths.\n",
    "PATH_DATA = os.path.join(\".\", \"datasets\", \"drug_classification_dataset\", \"drug200.csv\")"
   ],
   "metadata": {
    "collapsed": false
   }
  },
  {
   "cell_type": "markdown",
   "source": [
    "## Load data"
   ],
   "metadata": {
    "collapsed": false
   }
  },
  {
   "cell_type": "code",
   "execution_count": null,
   "id": "a1887adb",
   "metadata": {
    "execution": {
     "iopub.execute_input": "2022-05-04T02:53:16.032035Z",
     "iopub.status.busy": "2022-05-04T02:53:16.030941Z",
     "iopub.status.idle": "2022-05-04T02:53:16.050526Z",
     "shell.execute_reply": "2022-05-04T02:53:16.051084Z",
     "shell.execute_reply.started": "2022-03-08T01:25:03.464398Z"
    },
    "id": "MttOdogGf977",
    "papermill": {
     "duration": 0.081087,
     "end_time": "2022-05-04T02:53:16.051265",
     "exception": false,
     "start_time": "2022-05-04T02:53:15.970178",
     "status": "completed"
    },
    "tags": []
   },
   "outputs": [],
   "source": [
    "def load_data() -> pd.DataFrame:\n",
    "    \"\"\"Load data.\"\"\"\n",
    "    print(f\"Loading data...\")\n",
    "    df = pd.read_csv(PATH_DATA)\n",
    "    print(f\"Loading data finished!\")\n",
    "    return df\n",
    "\n",
    "df_drug = load_data()"
   ]
  },
  {
   "cell_type": "code",
   "execution_count": null,
   "outputs": [],
   "source": [
    "df_drug"
   ],
   "metadata": {
    "collapsed": false
   }
  },
  {
   "cell_type": "markdown",
   "source": [
    "## Define preprocessing steps"
   ],
   "metadata": {
    "collapsed": false
   }
  },
  {
   "cell_type": "code",
   "execution_count": null,
   "outputs": [],
   "source": [
    "def bin_numerical(df: pd.DataFrame) -> np.ndarray:\n",
    "    \"\"\"Perform numerical features binning.\"\"\"\n",
    "    def _bin_age(_df: pd.DataFrame) -> pd.DataFrame:\n",
    "        \"\"\"Bin age feature.\"\"\"\n",
    "        _df.Age = pd.cut(_df.Age, bins=AGE_BINS, labels=AGE_CATEGORIES)\n",
    "        return _df\n",
    "\n",
    "    def _bin_na_to_k(_df: pd.DataFrame) -> pd.DataFrame:\n",
    "        \"\"\"Bin Na_to_K feature.\"\"\"\n",
    "        _df.Na_to_K = pd.cut(_df.Na_to_K, bins=NA_TO_K_BINS, labels=NA_TO_K_CATEGORIES)\n",
    "        return _df\n",
    "\n",
    "    df = df.copy()\n",
    "    df = _bin_age(df)\n",
    "    df = _bin_na_to_k(df)\n",
    "\n",
    "    return df\n",
    "\n",
    "df_drug = bin_numerical(df_drug)"
   ],
   "metadata": {
    "collapsed": false
   }
  },
  {
   "cell_type": "markdown",
   "source": [
    "## Train-test split"
   ],
   "metadata": {
    "collapsed": false
   }
  },
  {
   "cell_type": "code",
   "execution_count": null,
   "outputs": [],
   "source": [
    "X_train, X_test, y_train, y_test = train_test_split(df_drug.drop(TARGET_NAME, axis=1), df_drug.Drug,\n",
    "                                                    test_size=0.3, random_state=RANDOM_SEED)"
   ],
   "metadata": {
    "collapsed": false
   }
  },
  {
   "cell_type": "markdown",
   "id": "bacc2a6c",
   "metadata": {
    "id": "2D1sczYQneQZ",
    "papermill": {
     "duration": 0.072561,
     "end_time": "2022-05-04T02:53:28.063558",
     "exception": false,
     "start_time": "2022-05-04T02:53:27.990997",
     "status": "completed"
    },
    "tags": []
   },
   "source": [
    "## Build Support Vector Machine classifier"
   ]
  },
  {
   "cell_type": "code",
   "execution_count": null,
   "outputs": [],
   "source": [
    "pipeline = PipelineImb(steps=[\n",
    "    (\"one_hot_encoder\", OneHotEncoder()),\n",
    "    (\"resampler\", SMOTE(random_state=RANDOM_SEED)),\n",
    "    (\"classifier\", SVC(kernel='linear', max_iter=250, random_state=RANDOM_SEED, probability=True))\n",
    "])\n",
    "\n",
    "print(f\"Model training...\")\n",
    "pipeline.fit(X_train, y_train)\n",
    "print(f\"Model training finished!\")\n",
    "\n",
    "print(f\"Model testing...\")\n",
    "y_pred = pipeline.predict(X_test)\n",
    "metric = accuracy_score(y_pred, y_test)\n",
    "print(f\"Test accuracy score: {metric}\")"
   ],
   "metadata": {
    "collapsed": false
   }
  },
  {
   "cell_type": "markdown",
   "source": [
    "## Wrap dataset and model and perform scanning"
   ],
   "metadata": {
    "collapsed": false
   }
  },
  {
   "cell_type": "code",
   "execution_count": null,
   "outputs": [],
   "source": [
    "raw_dataset = pd.concat([X_train, y_train], axis=1)\n",
    "wrapped_dataset = Dataset(raw_dataset,\n",
    "                          name=\"drug_classification_dataset\",\n",
    "                          target=TARGET_NAME,\n",
    "                          cat_columns=X_test.columns.tolist())"
   ],
   "metadata": {
    "collapsed": false
   }
  },
  {
   "cell_type": "code",
   "execution_count": null,
   "outputs": [],
   "source": [
    "wrapped_model = Model(pipeline,\n",
    "                      model_type=\"classification\",\n",
    "                      name=\"drug_classifier\",\n",
    "                      feature_names=X_test.columns.tolist())"
   ],
   "metadata": {
    "collapsed": false
   }
  },
  {
   "cell_type": "code",
   "execution_count": null,
   "outputs": [],
   "source": [
    "scanning_results = giskard.scan(wrapped_model, wrapped_dataset)"
   ],
   "metadata": {
    "collapsed": false
   }
  },
  {
   "cell_type": "code",
   "execution_count": null,
   "outputs": [],
   "source": [
    "display(scanning_results)"
   ],
   "metadata": {
    "collapsed": false
   }
  },
  {
   "cell_type": "markdown",
   "source": [
    "## Upload model and dataset to the giskard UI platform"
   ],
   "metadata": {
    "collapsed": false
   }
  },
  {
   "cell_type": "code",
   "execution_count": null,
   "outputs": [],
   "source": [
    "# Init giskard client.\n",
    "client = GiskardClient(GISKARD_URL, GISKARD_TOKEN)\n",
    "\n",
    "# Create or fetch a project by its key.\n",
    "try:\n",
    "    project = client.create_project(GISKARD_PROJECT_KEY,\n",
    "                                    name=\"DRUG_CLASSIFICATION\",\n",
    "                                    description=\"Multiclass classification of the drug to give based on patient medical profile.\")\n",
    "except GiskardError as e:\n",
    "    print(f\"Project with key {GISKARD_PROJECT_KEY} already exists. Trying to get it.\")\n",
    "    project = client.get_project(GISKARD_PROJECT_KEY)\n",
    "\n",
    "# Upload model and dataset.\n",
    "model_id = wrapped_model.upload(client, GISKARD_PROJECT_KEY)\n",
    "dataset_id = wrapped_dataset.upload(client, GISKARD_PROJECT_KEY)"
   ],
   "metadata": {
    "collapsed": false
   }
  }
 ],
 "metadata": {
  "kernelspec": {
   "display_name": "Python 3",
   "language": "python",
   "name": "python3"
  },
  "language_info": {
   "codemirror_mode": {
    "name": "ipython",
    "version": 3
   },
   "file_extension": ".py",
   "mimetype": "text/x-python",
   "name": "python",
   "nbconvert_exporter": "python",
   "pygments_lexer": "ipython3",
   "version": "3.7.10"
  },
  "papermill": {
   "default_parameters": {},
   "duration": 123.972965,
   "end_time": "2022-05-04T02:55:10.135212",
   "environment_variables": {},
   "exception": null,
   "input_path": "__notebook__.ipynb",
   "output_path": "__notebook__.ipynb",
   "parameters": {},
   "start_time": "2022-05-04T02:53:06.162247",
   "version": "2.3.3"
  }
 },
 "nbformat": 4,
 "nbformat_minor": 5
}
