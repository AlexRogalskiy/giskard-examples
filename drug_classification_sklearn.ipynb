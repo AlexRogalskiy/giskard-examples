{
 "cells": [
  {
   "cell_type": "markdown",
   "id": "27788eec",
   "metadata": {
    "id": "2IQ7wR2Nf_UY",
    "papermill": {
     "duration": 0.056141,
     "end_time": "2022-05-04T02:53:14.745581",
     "exception": false,
     "start_time": "2022-05-04T02:53:14.689440",
     "status": "completed"
    },
    "tags": []
   },
   "source": [
    "# 2. Importing Libraries 📚\n",
    "👉 **Importing libraries** that will be used in this notebook."
   ]
  },
  {
   "cell_type": "code",
   "execution_count": 1,
   "id": "90539c1c",
   "metadata": {
    "execution": {
     "iopub.execute_input": "2022-05-04T02:53:14.868028Z",
     "iopub.status.busy": "2022-05-04T02:53:14.866226Z",
     "iopub.status.idle": "2022-05-04T02:53:15.799024Z",
     "shell.execute_reply": "2022-05-04T02:53:15.798287Z",
     "shell.execute_reply.started": "2022-03-08T01:25:02.454964Z"
    },
    "id": "BWyI7RUxdubo",
    "papermill": {
     "duration": 0.996157,
     "end_time": "2022-05-04T02:53:15.799208",
     "exception": false,
     "start_time": "2022-05-04T02:53:14.803051",
     "status": "completed"
    },
    "tags": [],
    "ExecuteTime": {
     "end_time": "2023-05-12T09:43:21.097575Z",
     "start_time": "2023-05-12T09:43:20.486629Z"
    }
   },
   "outputs": [],
   "source": [
    "import numpy as np\n",
    "import pandas as pd\n",
    "import matplotlib.pyplot as plt\n",
    "import seaborn as sns"
   ]
  },
  {
   "cell_type": "markdown",
   "id": "7c467cc9",
   "metadata": {
    "id": "GOWA0yfdgKh2",
    "papermill": {
     "duration": 0.057851,
     "end_time": "2022-05-04T02:53:15.913048",
     "exception": false,
     "start_time": "2022-05-04T02:53:15.855197",
     "status": "completed"
    },
    "tags": []
   },
   "source": [
    "# 3. Reading Data Set 👓\n",
    "👉 After importing libraries, we will also **import the dataset** that will be used."
   ]
  },
  {
   "cell_type": "code",
   "execution_count": 2,
   "id": "a1887adb",
   "metadata": {
    "execution": {
     "iopub.execute_input": "2022-05-04T02:53:16.032035Z",
     "iopub.status.busy": "2022-05-04T02:53:16.030941Z",
     "iopub.status.idle": "2022-05-04T02:53:16.050526Z",
     "shell.execute_reply": "2022-05-04T02:53:16.051084Z",
     "shell.execute_reply.started": "2022-03-08T01:25:03.464398Z"
    },
    "id": "MttOdogGf977",
    "papermill": {
     "duration": 0.081087,
     "end_time": "2022-05-04T02:53:16.051265",
     "exception": false,
     "start_time": "2022-05-04T02:53:15.970178",
     "status": "completed"
    },
    "tags": [],
    "ExecuteTime": {
     "end_time": "2023-05-12T09:43:30.432260Z",
     "start_time": "2023-05-12T09:43:30.355627Z"
    }
   },
   "outputs": [],
   "source": [
    "df_drug = pd.read_csv(\"./datasets/drug_classification_dataset/drug200.csv\")"
   ]
  },
  {
   "cell_type": "markdown",
   "id": "68df4414",
   "metadata": {
    "papermill": {
     "duration": 0.056074,
     "end_time": "2022-05-04T02:53:16.164769",
     "exception": false,
     "start_time": "2022-05-04T02:53:16.108695",
     "status": "completed"
    },
    "tags": []
   },
   "source": [
    "👉 Read the first 6 rows in the dataset."
   ]
  },
  {
   "cell_type": "code",
   "execution_count": 3,
   "id": "88dfdd91",
   "metadata": {
    "execution": {
     "iopub.execute_input": "2022-05-04T02:53:16.281366Z",
     "iopub.status.busy": "2022-05-04T02:53:16.280346Z",
     "iopub.status.idle": "2022-05-04T02:53:16.301671Z",
     "shell.execute_reply": "2022-05-04T02:53:16.302171Z",
     "shell.execute_reply.started": "2022-03-08T01:25:03.485176Z"
    },
    "id": "03SilAIggW36",
    "outputId": "ec1244a8-a4a3-4200-af36-2c7776887477",
    "papermill": {
     "duration": 0.081123,
     "end_time": "2022-05-04T02:53:16.302346",
     "exception": false,
     "start_time": "2022-05-04T02:53:16.221223",
     "status": "completed"
    },
    "tags": [],
    "ExecuteTime": {
     "end_time": "2023-05-12T09:43:36.933192Z",
     "start_time": "2023-05-12T09:43:36.880903Z"
    }
   },
   "outputs": [
    {
     "data": {
      "text/plain": "   Age Sex      BP Cholesterol  Na_to_K   Drug\n0   23   F    HIGH        HIGH   25.355  drugY\n1   47   M     LOW        HIGH   13.093  drugC\n2   47   M     LOW        HIGH   10.114  drugC\n3   28   F  NORMAL        HIGH    7.798  drugX\n4   61   F     LOW        HIGH   18.043  drugY",
      "text/html": "<div>\n<style scoped>\n    .dataframe tbody tr th:only-of-type {\n        vertical-align: middle;\n    }\n\n    .dataframe tbody tr th {\n        vertical-align: top;\n    }\n\n    .dataframe thead th {\n        text-align: right;\n    }\n</style>\n<table border=\"1\" class=\"dataframe\">\n  <thead>\n    <tr style=\"text-align: right;\">\n      <th></th>\n      <th>Age</th>\n      <th>Sex</th>\n      <th>BP</th>\n      <th>Cholesterol</th>\n      <th>Na_to_K</th>\n      <th>Drug</th>\n    </tr>\n  </thead>\n  <tbody>\n    <tr>\n      <th>0</th>\n      <td>23</td>\n      <td>F</td>\n      <td>HIGH</td>\n      <td>HIGH</td>\n      <td>25.355</td>\n      <td>drugY</td>\n    </tr>\n    <tr>\n      <th>1</th>\n      <td>47</td>\n      <td>M</td>\n      <td>LOW</td>\n      <td>HIGH</td>\n      <td>13.093</td>\n      <td>drugC</td>\n    </tr>\n    <tr>\n      <th>2</th>\n      <td>47</td>\n      <td>M</td>\n      <td>LOW</td>\n      <td>HIGH</td>\n      <td>10.114</td>\n      <td>drugC</td>\n    </tr>\n    <tr>\n      <th>3</th>\n      <td>28</td>\n      <td>F</td>\n      <td>NORMAL</td>\n      <td>HIGH</td>\n      <td>7.798</td>\n      <td>drugX</td>\n    </tr>\n    <tr>\n      <th>4</th>\n      <td>61</td>\n      <td>F</td>\n      <td>LOW</td>\n      <td>HIGH</td>\n      <td>18.043</td>\n      <td>drugY</td>\n    </tr>\n  </tbody>\n</table>\n</div>"
     },
     "execution_count": 3,
     "metadata": {},
     "output_type": "execute_result"
    }
   ],
   "source": [
    "df_drug.head()"
   ]
  },
  {
   "cell_type": "markdown",
   "id": "7b55524c",
   "metadata": {
    "papermill": {
     "duration": 0.056709,
     "end_time": "2022-05-04T02:53:16.416150",
     "exception": false,
     "start_time": "2022-05-04T02:53:16.359441",
     "status": "completed"
    },
    "tags": []
   },
   "source": [
    "👉 Data type and checking null in dataset."
   ]
  },
  {
   "cell_type": "code",
   "execution_count": 4,
   "id": "843912cf",
   "metadata": {
    "execution": {
     "iopub.execute_input": "2022-05-04T02:53:16.533336Z",
     "iopub.status.busy": "2022-05-04T02:53:16.532328Z",
     "iopub.status.idle": "2022-05-04T02:53:16.554669Z",
     "shell.execute_reply": "2022-05-04T02:53:16.554090Z",
     "shell.execute_reply.started": "2022-03-08T01:25:03.511066Z"
    },
    "id": "wxebQ3nmgaB0",
    "outputId": "af1044bc-7b6e-427b-a84e-f27302b254f3",
    "papermill": {
     "duration": 0.082029,
     "end_time": "2022-05-04T02:53:16.554807",
     "exception": false,
     "start_time": "2022-05-04T02:53:16.472778",
     "status": "completed"
    },
    "tags": [],
    "ExecuteTime": {
     "end_time": "2023-05-12T09:43:40.024461Z",
     "start_time": "2023-05-12T09:43:39.957141Z"
    }
   },
   "outputs": [
    {
     "name": "stdout",
     "output_type": "stream",
     "text": [
      "<class 'pandas.core.frame.DataFrame'>\n",
      "RangeIndex: 200 entries, 0 to 199\n",
      "Data columns (total 6 columns):\n",
      " #   Column       Non-Null Count  Dtype  \n",
      "---  ------       --------------  -----  \n",
      " 0   Age          200 non-null    int64  \n",
      " 1   Sex          200 non-null    object \n",
      " 2   BP           200 non-null    object \n",
      " 3   Cholesterol  200 non-null    object \n",
      " 4   Na_to_K      200 non-null    float64\n",
      " 5   Drug         200 non-null    object \n",
      "dtypes: float64(1), int64(1), object(4)\n",
      "memory usage: 9.5+ KB\n",
      "None\n"
     ]
    }
   ],
   "source": [
    "print(df_drug.info())"
   ]
  },
  {
   "cell_type": "markdown",
   "id": "860ca740",
   "metadata": {
    "id": "Q8UvtoqEiT99",
    "papermill": {
     "duration": 0.057812,
     "end_time": "2022-05-04T02:53:16.669450",
     "exception": false,
     "start_time": "2022-05-04T02:53:16.611638",
     "status": "completed"
    },
    "tags": []
   },
   "source": [
    "👉 From the results above, **there are no missing/null value** in this dataset"
   ]
  },
  {
   "cell_type": "markdown",
   "id": "f6279dae",
   "metadata": {
    "id": "PY0yjKQfgcar",
    "papermill": {
     "duration": 0.057495,
     "end_time": "2022-05-04T02:53:16.784589",
     "exception": false,
     "start_time": "2022-05-04T02:53:16.727094",
     "status": "completed"
    },
    "tags": []
   },
   "source": [
    "# 4. Initial Dataset Exploration 🔍\n",
    "👉 This section will explore raw dataset that has been imported."
   ]
  },
  {
   "cell_type": "markdown",
   "id": "a31947ac",
   "metadata": {
    "id": "SIh-WZeDhSUk",
    "papermill": {
     "duration": 0.057762,
     "end_time": "2022-05-04T02:53:16.899871",
     "exception": false,
     "start_time": "2022-05-04T02:53:16.842109",
     "status": "completed"
    },
    "tags": []
   },
   "source": [
    "## 4.1 Categorical Variables 📊"
   ]
  },
  {
   "cell_type": "code",
   "execution_count": 5,
   "id": "e050f655",
   "metadata": {
    "execution": {
     "iopub.execute_input": "2022-05-04T02:53:17.021656Z",
     "iopub.status.busy": "2022-05-04T02:53:17.020936Z",
     "iopub.status.idle": "2022-05-04T02:53:17.023487Z",
     "shell.execute_reply": "2022-05-04T02:53:17.023965Z",
     "shell.execute_reply.started": "2022-03-08T01:25:03.538492Z"
    },
    "id": "1wxlj91AgzBZ",
    "outputId": "3cdb9d5e-8de3-43d1-c455-ad225572e8fb",
    "papermill": {
     "duration": 0.066593,
     "end_time": "2022-05-04T02:53:17.024144",
     "exception": false,
     "start_time": "2022-05-04T02:53:16.957551",
     "status": "completed"
    },
    "tags": [],
    "ExecuteTime": {
     "end_time": "2023-05-12T09:43:45.937987Z",
     "start_time": "2023-05-12T09:43:45.894818Z"
    }
   },
   "outputs": [
    {
     "data": {
      "text/plain": "drugY    91\ndrugX    54\ndrugA    23\ndrugC    16\ndrugB    16\nName: Drug, dtype: int64"
     },
     "execution_count": 5,
     "metadata": {},
     "output_type": "execute_result"
    }
   ],
   "source": [
    "df_drug.Drug.value_counts()"
   ]
  },
  {
   "cell_type": "markdown",
   "id": "caa5dd68",
   "metadata": {
    "papermill": {
     "duration": 0.057562,
     "end_time": "2022-05-04T02:53:17.141493",
     "exception": false,
     "start_time": "2022-05-04T02:53:17.083931",
     "status": "completed"
    },
    "tags": []
   },
   "source": [
    "👉 It can be seen that from results above, DrugY has more amount than other types of drugs"
   ]
  },
  {
   "cell_type": "code",
   "execution_count": 6,
   "id": "bbef0bb9",
   "metadata": {
    "execution": {
     "iopub.execute_input": "2022-05-04T02:53:17.266669Z",
     "iopub.status.busy": "2022-05-04T02:53:17.265888Z",
     "iopub.status.idle": "2022-05-04T02:53:17.268554Z",
     "shell.execute_reply": "2022-05-04T02:53:17.269050Z",
     "shell.execute_reply.started": "2022-03-08T01:25:03.546771Z"
    },
    "id": "ztSS3uKSg-uU",
    "outputId": "14a73e4a-6bb8-424d-a3a6-db5b09956a07",
    "papermill": {
     "duration": 0.069027,
     "end_time": "2022-05-04T02:53:17.269219",
     "exception": false,
     "start_time": "2022-05-04T02:53:17.200192",
     "status": "completed"
    },
    "tags": [],
    "ExecuteTime": {
     "end_time": "2023-05-12T09:43:48.348931Z",
     "start_time": "2023-05-12T09:43:48.321605Z"
    }
   },
   "outputs": [
    {
     "data": {
      "text/plain": "M    104\nF     96\nName: Sex, dtype: int64"
     },
     "execution_count": 6,
     "metadata": {},
     "output_type": "execute_result"
    }
   ],
   "source": [
    "df_drug.Sex.value_counts()"
   ]
  },
  {
   "cell_type": "markdown",
   "id": "07b15aad",
   "metadata": {
    "papermill": {
     "duration": 0.058057,
     "end_time": "2022-05-04T02:53:17.385194",
     "exception": false,
     "start_time": "2022-05-04T02:53:17.327137",
     "status": "completed"
    },
    "tags": []
   },
   "source": [
    "👉 The distribution of patient gender is balanced."
   ]
  },
  {
   "cell_type": "code",
   "execution_count": 7,
   "id": "9b0f21a5",
   "metadata": {
    "execution": {
     "iopub.execute_input": "2022-05-04T02:53:17.504646Z",
     "iopub.status.busy": "2022-05-04T02:53:17.503962Z",
     "iopub.status.idle": "2022-05-04T02:53:17.510342Z",
     "shell.execute_reply": "2022-05-04T02:53:17.510834Z",
     "shell.execute_reply.started": "2022-03-08T01:25:03.563382Z"
    },
    "id": "mZYP8-0uhDbn",
    "outputId": "675b0123-3911-4aa8-825d-643523cd5e6d",
    "papermill": {
     "duration": 0.068053,
     "end_time": "2022-05-04T02:53:17.511016",
     "exception": false,
     "start_time": "2022-05-04T02:53:17.442963",
     "status": "completed"
    },
    "tags": [],
    "ExecuteTime": {
     "end_time": "2023-05-12T09:43:51.105347Z",
     "start_time": "2023-05-12T09:43:51.082831Z"
    }
   },
   "outputs": [
    {
     "data": {
      "text/plain": "HIGH      77\nLOW       64\nNORMAL    59\nName: BP, dtype: int64"
     },
     "execution_count": 7,
     "metadata": {},
     "output_type": "execute_result"
    }
   ],
   "source": [
    "df_drug.BP.value_counts()"
   ]
  },
  {
   "cell_type": "markdown",
   "id": "56a6a9c1",
   "metadata": {
    "papermill": {
     "duration": 0.05821,
     "end_time": "2022-05-04T02:53:17.627278",
     "exception": false,
     "start_time": "2022-05-04T02:53:17.569068",
     "status": "completed"
    },
    "tags": []
   },
   "source": [
    "👉 The distribution of blood pressure level is balanced."
   ]
  },
  {
   "cell_type": "code",
   "execution_count": 8,
   "id": "5752ef37",
   "metadata": {
    "execution": {
     "iopub.execute_input": "2022-05-04T02:53:17.747354Z",
     "iopub.status.busy": "2022-05-04T02:53:17.746682Z",
     "iopub.status.idle": "2022-05-04T02:53:17.753436Z",
     "shell.execute_reply": "2022-05-04T02:53:17.753894Z",
     "shell.execute_reply.started": "2022-03-08T01:25:03.57581Z"
    },
    "id": "trZ2eOuFhFXb",
    "outputId": "bb4ee139-66c3-4438-aa91-7340141d84ab",
    "papermill": {
     "duration": 0.068382,
     "end_time": "2022-05-04T02:53:17.754083",
     "exception": false,
     "start_time": "2022-05-04T02:53:17.685701",
     "status": "completed"
    },
    "tags": [],
    "ExecuteTime": {
     "end_time": "2023-05-12T09:43:53.533739Z",
     "start_time": "2023-05-12T09:43:53.489805Z"
    }
   },
   "outputs": [
    {
     "data": {
      "text/plain": "HIGH      103\nNORMAL     97\nName: Cholesterol, dtype: int64"
     },
     "execution_count": 8,
     "metadata": {},
     "output_type": "execute_result"
    }
   ],
   "source": [
    "df_drug.Cholesterol.value_counts()"
   ]
  },
  {
   "cell_type": "markdown",
   "id": "f69b4170",
   "metadata": {
    "papermill": {
     "duration": 0.058173,
     "end_time": "2022-05-04T02:53:17.870825",
     "exception": false,
     "start_time": "2022-05-04T02:53:17.812652",
     "status": "completed"
    },
    "tags": []
   },
   "source": [
    "👉 The distribution of cholesterol level is balanced."
   ]
  },
  {
   "cell_type": "markdown",
   "id": "e20fcf08",
   "metadata": {
    "id": "pqvB06WYhV9o",
    "papermill": {
     "duration": 0.058361,
     "end_time": "2022-05-04T02:53:17.988171",
     "exception": false,
     "start_time": "2022-05-04T02:53:17.929810",
     "status": "completed"
    },
    "tags": []
   },
   "source": [
    "## 4.2 Numerical Variables 🔢\n",
    "👉 This section will show mean, count, std, min, max and others using describe function. The skewness value for each numerical variables will also shown in this section."
   ]
  },
  {
   "cell_type": "code",
   "execution_count": 9,
   "id": "842d6bb1",
   "metadata": {
    "execution": {
     "iopub.execute_input": "2022-05-04T02:53:18.112352Z",
     "iopub.status.busy": "2022-05-04T02:53:18.111629Z",
     "iopub.status.idle": "2022-05-04T02:53:18.129693Z",
     "shell.execute_reply": "2022-05-04T02:53:18.130304Z",
     "shell.execute_reply.started": "2022-03-08T01:25:03.593112Z"
    },
    "id": "1ugOd6wihXjS",
    "outputId": "3b43acfc-2a4b-42b7-9b24-3d9273a591b9",
    "papermill": {
     "duration": 0.080455,
     "end_time": "2022-05-04T02:53:18.130484",
     "exception": false,
     "start_time": "2022-05-04T02:53:18.050029",
     "status": "completed"
    },
    "tags": [],
    "ExecuteTime": {
     "end_time": "2023-05-12T09:43:55.999688Z",
     "start_time": "2023-05-12T09:43:55.936866Z"
    }
   },
   "outputs": [
    {
     "data": {
      "text/plain": "              Age     Na_to_K\ncount  200.000000  200.000000\nmean    44.315000   16.084485\nstd     16.544315    7.223956\nmin     15.000000    6.269000\n25%     31.000000   10.445500\n50%     45.000000   13.936500\n75%     58.000000   19.380000\nmax     74.000000   38.247000",
      "text/html": "<div>\n<style scoped>\n    .dataframe tbody tr th:only-of-type {\n        vertical-align: middle;\n    }\n\n    .dataframe tbody tr th {\n        vertical-align: top;\n    }\n\n    .dataframe thead th {\n        text-align: right;\n    }\n</style>\n<table border=\"1\" class=\"dataframe\">\n  <thead>\n    <tr style=\"text-align: right;\">\n      <th></th>\n      <th>Age</th>\n      <th>Na_to_K</th>\n    </tr>\n  </thead>\n  <tbody>\n    <tr>\n      <th>count</th>\n      <td>200.000000</td>\n      <td>200.000000</td>\n    </tr>\n    <tr>\n      <th>mean</th>\n      <td>44.315000</td>\n      <td>16.084485</td>\n    </tr>\n    <tr>\n      <th>std</th>\n      <td>16.544315</td>\n      <td>7.223956</td>\n    </tr>\n    <tr>\n      <th>min</th>\n      <td>15.000000</td>\n      <td>6.269000</td>\n    </tr>\n    <tr>\n      <th>25%</th>\n      <td>31.000000</td>\n      <td>10.445500</td>\n    </tr>\n    <tr>\n      <th>50%</th>\n      <td>45.000000</td>\n      <td>13.936500</td>\n    </tr>\n    <tr>\n      <th>75%</th>\n      <td>58.000000</td>\n      <td>19.380000</td>\n    </tr>\n    <tr>\n      <th>max</th>\n      <td>74.000000</td>\n      <td>38.247000</td>\n    </tr>\n  </tbody>\n</table>\n</div>"
     },
     "execution_count": 9,
     "metadata": {},
     "output_type": "execute_result"
    }
   ],
   "source": [
    "df_drug.describe()"
   ]
  },
  {
   "cell_type": "code",
   "execution_count": 10,
   "id": "e268a9e1",
   "metadata": {
    "execution": {
     "iopub.execute_input": "2022-05-04T02:53:18.251488Z",
     "iopub.status.busy": "2022-05-04T02:53:18.250854Z",
     "iopub.status.idle": "2022-05-04T02:53:18.257055Z",
     "shell.execute_reply": "2022-05-04T02:53:18.256536Z",
     "shell.execute_reply.started": "2022-03-08T01:25:03.622219Z"
    },
    "id": "BdcdYKewh3Qt",
    "outputId": "ae01b06a-9274-460e-fb0b-edd502c3c83f",
    "papermill": {
     "duration": 0.067738,
     "end_time": "2022-05-04T02:53:18.257199",
     "exception": false,
     "start_time": "2022-05-04T02:53:18.189461",
     "status": "completed"
    },
    "tags": [],
    "ExecuteTime": {
     "end_time": "2023-05-12T09:43:56.559698Z",
     "start_time": "2023-05-12T09:43:56.532499Z"
    }
   },
   "outputs": [
    {
     "name": "stdout",
     "output_type": "stream",
     "text": [
      "Age skewness:  0.03030835703000607\n"
     ]
    }
   ],
   "source": [
    "skewAge = df_drug.Age.skew(axis = 0, skipna = True)\n",
    "print('Age skewness: ', skewAge)"
   ]
  },
  {
   "cell_type": "code",
   "execution_count": 11,
   "id": "fd9c19cb",
   "metadata": {
    "execution": {
     "iopub.execute_input": "2022-05-04T02:53:18.382600Z",
     "iopub.status.busy": "2022-05-04T02:53:18.381856Z",
     "iopub.status.idle": "2022-05-04T02:53:18.384728Z",
     "shell.execute_reply": "2022-05-04T02:53:18.385264Z",
     "shell.execute_reply.started": "2022-03-08T01:25:03.630015Z"
    },
    "id": "RH84R0yyiD8o",
    "outputId": "dc45607b-1db3-49f7-d4da-1eb1ffc15a17",
    "papermill": {
     "duration": 0.068745,
     "end_time": "2022-05-04T02:53:18.385446",
     "exception": false,
     "start_time": "2022-05-04T02:53:18.316701",
     "status": "completed"
    },
    "tags": [],
    "ExecuteTime": {
     "end_time": "2023-05-12T09:43:57.783818Z",
     "start_time": "2023-05-12T09:43:57.755842Z"
    }
   },
   "outputs": [
    {
     "name": "stdout",
     "output_type": "stream",
     "text": [
      "Na to K skewness:  1.039341186028881\n"
     ]
    }
   ],
   "source": [
    "skewNatoK = df_drug.Na_to_K.skew(axis = 0, skipna = True)\n",
    "print('Na to K skewness: ', skewNatoK)"
   ]
  },
  {
   "cell_type": "code",
   "execution_count": 12,
   "id": "7ddf6a33",
   "metadata": {
    "execution": {
     "iopub.execute_input": "2022-05-04T02:53:18.508632Z",
     "iopub.status.busy": "2022-05-04T02:53:18.507903Z",
     "iopub.status.idle": "2022-05-04T02:53:18.803949Z",
     "shell.execute_reply": "2022-05-04T02:53:18.803421Z",
     "shell.execute_reply.started": "2022-03-08T01:25:03.649478Z"
    },
    "id": "x3x2nvtOlXmL",
    "outputId": "5fd63e16-3d93-47fa-fb4b-9ef9ab3c3da7",
    "papermill": {
     "duration": 0.35869,
     "end_time": "2022-05-04T02:53:18.804107",
     "exception": false,
     "start_time": "2022-05-04T02:53:18.445417",
     "status": "completed"
    },
    "tags": [],
    "ExecuteTime": {
     "end_time": "2023-05-12T09:43:58.476856Z",
     "start_time": "2023-05-12T09:43:57.944405Z"
    }
   },
   "outputs": [
    {
     "name": "stderr",
     "output_type": "stream",
     "text": [
      "/var/folders/4q/3_bfyqnn7yv5jcjq98x2jf680000gn/T/ipykernel_3871/3287353069.py:1: UserWarning: \n",
      "\n",
      "`distplot` is a deprecated function and will be removed in seaborn v0.14.0.\n",
      "\n",
      "Please adapt your code to use either `displot` (a figure-level function with\n",
      "similar flexibility) or `histplot` (an axes-level function for histograms).\n",
      "\n",
      "For a guide to updating your code to use the new functions, please see\n",
      "https://gist.github.com/mwaskom/de44147ed2974457ad6372750bbe5751\n",
      "\n",
      "  sns.distplot(df_drug['Age']);\n"
     ]
    },
    {
     "data": {
      "text/plain": "<Figure size 640x480 with 1 Axes>",
      "image/png": "[encoded data removed]"
     },
     "metadata": {},
     "output_type": "display_data"
    }
   ],
   "source": [
    "sns.distplot(df_drug['Age']);"
   ]
  },
  {
   "cell_type": "code",
   "execution_count": 13,
   "id": "958118d2",
   "metadata": {
    "execution": {
     "iopub.execute_input": "2022-05-04T02:53:18.938872Z",
     "iopub.status.busy": "2022-05-04T02:53:18.937454Z",
     "iopub.status.idle": "2022-05-04T02:53:19.174592Z",
     "shell.execute_reply": "2022-05-04T02:53:19.174047Z",
     "shell.execute_reply.started": "2022-03-08T01:25:03.974898Z"
    },
    "id": "1Ntxk96ulaeQ",
    "outputId": "f2034c45-36b0-4189-f637-bd6e4009a7c7",
    "papermill": {
     "duration": 0.309413,
     "end_time": "2022-05-04T02:53:19.174740",
     "exception": false,
     "start_time": "2022-05-04T02:53:18.865327",
     "status": "completed"
    },
    "tags": [],
    "ExecuteTime": {
     "end_time": "2023-05-12T09:43:58.927450Z",
     "start_time": "2023-05-12T09:43:58.494045Z"
    }
   },
   "outputs": [
    {
     "name": "stderr",
     "output_type": "stream",
     "text": [
      "/var/folders/4q/3_bfyqnn7yv5jcjq98x2jf680000gn/T/ipykernel_3871/196986860.py:1: UserWarning: \n",
      "\n",
      "`distplot` is a deprecated function and will be removed in seaborn v0.14.0.\n",
      "\n",
      "Please adapt your code to use either `displot` (a figure-level function with\n",
      "similar flexibility) or `histplot` (an axes-level function for histograms).\n",
      "\n",
      "For a guide to updating your code to use the new functions, please see\n",
      "https://gist.github.com/mwaskom/de44147ed2974457ad6372750bbe5751\n",
      "\n",
      "  sns.distplot(df_drug['Na_to_K']);\n"
     ]
    },
    {
     "data": {
      "text/plain": "<Figure size 640x480 with 1 Axes>",
      "image/png": "[encoded data removed]"
     },
     "metadata": {},
     "output_type": "display_data"
    }
   ],
   "source": [
    "sns.distplot(df_drug['Na_to_K']);"
   ]
  },
  {
   "cell_type": "markdown",
   "id": "33299d3d",
   "metadata": {
    "id": "eAQzoK6VkbbM",
    "papermill": {
     "duration": 0.061768,
     "end_time": "2022-05-04T02:53:19.298710",
     "exception": false,
     "start_time": "2022-05-04T02:53:19.236942",
     "status": "completed"
    },
    "tags": []
   },
   "source": [
    "👉The distribution of **'Age'** column is **symetric**, since the skewness value  between -0.5 and 0.5 <br>\n",
    "👉The distribution of **'Na_to_K'** column is **moderately skewed**, since the skewness value is ***between 0.5 and 1***. It can also be seen from the histogram for 'Na_to_K' column"
   ]
  },
  {
   "cell_type": "markdown",
   "id": "eebd8206",
   "metadata": {
    "id": "MWjpuZDGiNrb",
    "papermill": {
     "duration": 0.062761,
     "end_time": "2022-05-04T02:53:19.423839",
     "exception": false,
     "start_time": "2022-05-04T02:53:19.361078",
     "status": "completed"
    },
    "tags": []
   },
   "source": [
    "# 5. EDA 📊\n",
    "👉 This section will explore variables in the dataset using different various plots/charts."
   ]
  },
  {
   "cell_type": "markdown",
   "id": "60ab525d",
   "metadata": {
    "papermill": {
     "duration": 0.062967,
     "end_time": "2022-05-04T02:53:19.549496",
     "exception": false,
     "start_time": "2022-05-04T02:53:19.486529",
     "status": "completed"
    },
    "tags": []
   },
   "source": [
    "## 5.1 Drug Type Distribution 💊"
   ]
  },
  {
   "cell_type": "code",
   "execution_count": 14,
   "id": "a01e63d1",
   "metadata": {
    "execution": {
     "iopub.execute_input": "2022-05-04T02:53:19.724918Z",
     "iopub.status.busy": "2022-05-04T02:53:19.716349Z",
     "iopub.status.idle": "2022-05-04T02:53:19.923759Z",
     "shell.execute_reply": "2022-05-04T02:53:19.923099Z",
     "shell.execute_reply.started": "2022-03-08T01:25:04.226881Z"
    },
    "id": "3b7RwO3rnH-u",
    "outputId": "897c3176-e73e-40b4-f2f3-021f8aac0055",
    "papermill": {
     "duration": 0.311857,
     "end_time": "2022-05-04T02:53:19.923903",
     "exception": false,
     "start_time": "2022-05-04T02:53:19.612046",
     "status": "completed"
    },
    "tags": [],
    "ExecuteTime": {
     "end_time": "2023-05-12T09:44:02.896064Z",
     "start_time": "2023-05-12T09:44:02.662897Z"
    }
   },
   "outputs": [
    {
     "data": {
      "text/plain": "<Figure size 640x480 with 1 Axes>",
      "image/png": "[encoded data removed]"
     },
     "metadata": {},
     "output_type": "display_data"
    }
   ],
   "source": [
    "sns.set_theme(style=\"darkgrid\")\n",
    "sns.countplot(y=\"Drug\", data=df_drug, palette=\"flare\")\n",
    "plt.ylabel('Drug Type')\n",
    "plt.xlabel('Total')\n",
    "plt.show()"
   ]
  },
  {
   "cell_type": "markdown",
   "id": "0cd51b83",
   "metadata": {
    "papermill": {
     "duration": 0.064585,
     "end_time": "2022-05-04T02:53:20.052131",
     "exception": false,
     "start_time": "2022-05-04T02:53:19.987546",
     "status": "completed"
    },
    "tags": []
   },
   "source": [
    "## 5.2 Gender Distribution 👫"
   ]
  },
  {
   "cell_type": "code",
   "execution_count": 15,
   "id": "9067bc0c",
   "metadata": {
    "execution": {
     "iopub.execute_input": "2022-05-04T02:53:20.189754Z",
     "iopub.status.busy": "2022-05-04T02:53:20.188702Z",
     "iopub.status.idle": "2022-05-04T02:53:20.366441Z",
     "shell.execute_reply": "2022-05-04T02:53:20.365536Z",
     "shell.execute_reply.started": "2022-03-08T01:25:04.472525Z"
    },
    "id": "FQktCCnppjoN",
    "outputId": "06d55514-5a7c-4b7e-8e5a-bf4bac3cf026",
    "papermill": {
     "duration": 0.251468,
     "end_time": "2022-05-04T02:53:20.366595",
     "exception": false,
     "start_time": "2022-05-04T02:53:20.115127",
     "status": "completed"
    },
    "tags": [],
    "ExecuteTime": {
     "end_time": "2023-05-12T09:44:04.785151Z",
     "start_time": "2023-05-12T09:44:04.633013Z"
    }
   },
   "outputs": [
    {
     "data": {
      "text/plain": "<Figure size 640x480 with 1 Axes>",
      "image/png": "[encoded data removed]"
     },
     "metadata": {},
     "output_type": "display_data"
    }
   ],
   "source": [
    "sns.set_theme(style=\"darkgrid\")\n",
    "sns.countplot(x=\"Sex\", data=df_drug, palette=\"rocket\")\n",
    "plt.xlabel('Gender (F=Female, M=Male)')\n",
    "plt.ylabel('Total')\n",
    "plt.show()"
   ]
  },
  {
   "cell_type": "markdown",
   "id": "e27a6097",
   "metadata": {
    "papermill": {
     "duration": 0.063698,
     "end_time": "2022-05-04T02:53:20.493951",
     "exception": false,
     "start_time": "2022-05-04T02:53:20.430253",
     "status": "completed"
    },
    "tags": []
   },
   "source": [
    "## 5.3 Blood Pressure Distribution 🩸"
   ]
  },
  {
   "cell_type": "code",
   "execution_count": 16,
   "id": "e7df4e15",
   "metadata": {
    "execution": {
     "iopub.execute_input": "2022-05-04T02:53:20.626025Z",
     "iopub.status.busy": "2022-05-04T02:53:20.625073Z",
     "iopub.status.idle": "2022-05-04T02:53:20.872608Z",
     "shell.execute_reply": "2022-05-04T02:53:20.873112Z",
     "shell.execute_reply.started": "2022-03-08T01:25:04.605906Z"
    },
    "id": "qoN-IX-W2n2e",
    "outputId": "0ec37f75-4fca-440b-d03e-c14f62394b58",
    "papermill": {
     "duration": 0.315177,
     "end_time": "2022-05-04T02:53:20.873283",
     "exception": false,
     "start_time": "2022-05-04T02:53:20.558106",
     "status": "completed"
    },
    "tags": [],
    "ExecuteTime": {
     "end_time": "2023-05-12T09:44:07.129346Z",
     "start_time": "2023-05-12T09:44:06.611392Z"
    }
   },
   "outputs": [
    {
     "data": {
      "text/plain": "<Figure size 640x480 with 1 Axes>",
      "image/png": "[encoded data removed]"
     },
     "metadata": {},
     "output_type": "display_data"
    }
   ],
   "source": [
    "sns.set_theme(style=\"darkgrid\")\n",
    "sns.countplot(y=\"BP\", data=df_drug, palette=\"crest\")\n",
    "plt.ylabel('Blood Pressure')\n",
    "plt.xlabel('Total')\n",
    "plt.show()"
   ]
  },
  {
   "cell_type": "markdown",
   "id": "38cabf42",
   "metadata": {
    "papermill": {
     "duration": 0.065226,
     "end_time": "2022-05-04T02:53:21.002747",
     "exception": false,
     "start_time": "2022-05-04T02:53:20.937521",
     "status": "completed"
    },
    "tags": []
   },
   "source": [
    "## 5.4 Cholesterol Distribution 🥛"
   ]
  },
  {
   "cell_type": "code",
   "execution_count": 17,
   "id": "32c5340e",
   "metadata": {
    "execution": {
     "iopub.execute_input": "2022-05-04T02:53:21.155557Z",
     "iopub.status.busy": "2022-05-04T02:53:21.143532Z",
     "iopub.status.idle": "2022-05-04T02:53:21.322182Z",
     "shell.execute_reply": "2022-05-04T02:53:21.321627Z",
     "shell.execute_reply.started": "2022-03-08T01:25:04.880578Z"
    },
    "id": "8knVYttd26h1",
    "outputId": "631738e6-1682-4751-fab1-f22dd5e7480e",
    "papermill": {
     "duration": 0.251628,
     "end_time": "2022-05-04T02:53:21.322329",
     "exception": false,
     "start_time": "2022-05-04T02:53:21.070701",
     "status": "completed"
    },
    "tags": [],
    "ExecuteTime": {
     "end_time": "2023-05-12T09:44:07.916344Z",
     "start_time": "2023-05-12T09:44:07.761478Z"
    }
   },
   "outputs": [
    {
     "data": {
      "text/plain": "<Figure size 640x480 with 1 Axes>",
      "image/png": "[encoded data removed]"
     },
     "metadata": {},
     "output_type": "display_data"
    }
   ],
   "source": [
    "sns.set_theme(style=\"darkgrid\")\n",
    "sns.countplot(x=\"Cholesterol\", data=df_drug, palette=\"magma\")\n",
    "plt.xlabel('Blood Pressure')\n",
    "plt.ylabel('Total')\n",
    "plt.show()"
   ]
  },
  {
   "cell_type": "markdown",
   "id": "ff352dc3",
   "metadata": {
    "papermill": {
     "duration": 0.065165,
     "end_time": "2022-05-04T02:53:21.453075",
     "exception": false,
     "start_time": "2022-05-04T02:53:21.387910",
     "status": "completed"
    },
    "tags": []
   },
   "source": [
    "## 5.5 Gender Distribution based on Drug Type 👫💊"
   ]
  },
  {
   "cell_type": "code",
   "execution_count": 18,
   "id": "87415cf4",
   "metadata": {
    "execution": {
     "iopub.execute_input": "2022-05-04T02:53:21.591812Z",
     "iopub.status.busy": "2022-05-04T02:53:21.591101Z",
     "iopub.status.idle": "2022-05-04T02:53:21.996703Z",
     "shell.execute_reply": "2022-05-04T02:53:21.996192Z",
     "shell.execute_reply.started": "2022-03-08T01:25:05.069947Z"
    },
    "id": "T47gXdj9pxD8",
    "outputId": "613b2fc7-715a-4d1e-b1c6-97c8aa8188c0",
    "papermill": {
     "duration": 0.47819,
     "end_time": "2022-05-04T02:53:21.996859",
     "exception": false,
     "start_time": "2022-05-04T02:53:21.518669",
     "status": "completed"
    },
    "tags": [],
    "ExecuteTime": {
     "end_time": "2023-05-12T09:44:08.884639Z",
     "start_time": "2023-05-12T09:44:08.417983Z"
    }
   },
   "outputs": [
    {
     "data": {
      "text/plain": "<Figure size 1200x500 with 1 Axes>",
      "image/png": "[encoded data removed]"
     },
     "metadata": {},
     "output_type": "display_data"
    }
   ],
   "source": [
    "pd.crosstab(df_drug.Sex,df_drug.Drug).plot(kind=\"bar\",figsize=(12,5),color=['#003f5c','#ffa600','#58508d','#bc5090','#ff6361'])\n",
    "plt.title('Gender distribution based on Drug type')\n",
    "plt.xlabel('Gender')\n",
    "plt.xticks(rotation=0)\n",
    "plt.ylabel('Frequency')\n",
    "plt.show()"
   ]
  },
  {
   "cell_type": "markdown",
   "id": "d8cb41b9",
   "metadata": {
    "papermill": {
     "duration": 0.06602,
     "end_time": "2022-05-04T02:53:22.130021",
     "exception": false,
     "start_time": "2022-05-04T02:53:22.064001",
     "status": "completed"
    },
    "tags": []
   },
   "source": [
    "## 5.6 Blood Pressure Distribution based on Cholesetrol 🩸🥛"
   ]
  },
  {
   "cell_type": "code",
   "execution_count": 19,
   "id": "c8bc5489",
   "metadata": {
    "execution": {
     "iopub.execute_input": "2022-05-04T02:53:22.269081Z",
     "iopub.status.busy": "2022-05-04T02:53:22.268387Z",
     "iopub.status.idle": "2022-05-04T02:53:22.545829Z",
     "shell.execute_reply": "2022-05-04T02:53:22.546315Z",
     "shell.execute_reply.started": "2022-03-08T01:25:05.486231Z"
    },
    "id": "bg01FIf75DRW",
    "outputId": "8229c516-627c-417c-f202-75eada15c5ed",
    "papermill": {
     "duration": 0.349573,
     "end_time": "2022-05-04T02:53:22.546494",
     "exception": false,
     "start_time": "2022-05-04T02:53:22.196921",
     "status": "completed"
    },
    "tags": [],
    "ExecuteTime": {
     "end_time": "2023-05-12T09:44:09.949574Z",
     "start_time": "2023-05-12T09:44:09.621468Z"
    }
   },
   "outputs": [
    {
     "data": {
      "text/plain": "<Figure size 1500x600 with 1 Axes>",
      "image/png": "[encoded data removed]"
     },
     "metadata": {},
     "output_type": "display_data"
    }
   ],
   "source": [
    "pd.crosstab(df_drug.BP,df_drug.Cholesterol).plot(kind=\"bar\",figsize=(15,6),color=['#6929c4','#1192e8'])\n",
    "plt.title('Blood Pressure distribution based on Cholesterol')\n",
    "plt.xlabel('Blood Pressure')\n",
    "plt.xticks(rotation=0)\n",
    "plt.ylabel('Frequency')\n",
    "plt.show()"
   ]
  },
  {
   "cell_type": "markdown",
   "id": "7675cc6e",
   "metadata": {
    "papermill": {
     "duration": 0.067148,
     "end_time": "2022-05-04T02:53:22.680625",
     "exception": false,
     "start_time": "2022-05-04T02:53:22.613477",
     "status": "completed"
    },
    "tags": []
   },
   "source": [
    "## 5.7 Sodium to Potassium Distribution based on Gender and Age 🧪👫👴"
   ]
  },
  {
   "cell_type": "code",
   "execution_count": 20,
   "id": "9ed580f1",
   "metadata": {
    "execution": {
     "iopub.execute_input": "2022-05-04T02:53:22.861221Z",
     "iopub.status.busy": "2022-05-04T02:53:22.859970Z",
     "iopub.status.idle": "2022-05-04T02:53:23.200939Z",
     "shell.execute_reply": "2022-05-04T02:53:23.200359Z",
     "shell.execute_reply.started": "2022-03-08T01:25:05.776497Z"
    },
    "id": "Lz49pj9X7ZTS",
    "outputId": "6ec43790-0bbd-40b6-f86d-1d582b34f11a",
    "papermill": {
     "duration": 0.441498,
     "end_time": "2022-05-04T02:53:23.201115",
     "exception": false,
     "start_time": "2022-05-04T02:53:22.759617",
     "status": "completed"
    },
    "tags": [],
    "ExecuteTime": {
     "end_time": "2023-05-12T09:44:12.004459Z",
     "start_time": "2023-05-12T09:44:11.334003Z"
    }
   },
   "outputs": [
    {
     "data": {
      "text/plain": "<Figure size 640x480 with 1 Axes>",
      "image/png": "[encoded data removed]"
     },
     "metadata": {},
     "output_type": "display_data"
    }
   ],
   "source": [
    "plt.scatter(x=df_drug.Age[df_drug.Sex=='F'], y=df_drug.Na_to_K[(df_drug.Sex=='F')], c=\"Blue\")\n",
    "plt.scatter(x=df_drug.Age[df_drug.Sex=='M'], y=df_drug.Na_to_K[(df_drug.Sex=='M')], c=\"Orange\")\n",
    "plt.legend([\"Female\", \"Male\"])\n",
    "plt.xlabel(\"Age\")\n",
    "plt.ylabel(\"Na_to_K\")\n",
    "plt.show()"
   ]
  },
  {
   "cell_type": "markdown",
   "id": "4a2073da",
   "metadata": {
    "id": "vwJ_hPlzl32j",
    "papermill": {
     "duration": 0.072234,
     "end_time": "2022-05-04T02:53:23.346483",
     "exception": false,
     "start_time": "2022-05-04T02:53:23.274249",
     "status": "completed"
    },
    "tags": []
   },
   "source": [
    "# 6. Dataset Preparation ⚙\n",
    "👉 This section will prepare the dataset before building the machine learning models."
   ]
  },
  {
   "cell_type": "markdown",
   "id": "ea6668c3",
   "metadata": {
    "id": "ozM4xmd5mSrn",
    "papermill": {
     "duration": 0.069097,
     "end_time": "2022-05-04T02:53:23.486753",
     "exception": false,
     "start_time": "2022-05-04T02:53:23.417656",
     "status": "completed"
    },
    "tags": []
   },
   "source": [
    "## 6.1 Data Binning 🚮"
   ]
  },
  {
   "cell_type": "markdown",
   "id": "dcaed989",
   "metadata": {
    "id": "NOZNMiUsm058",
    "papermill": {
     "duration": 0.071107,
     "end_time": "2022-05-04T02:53:23.627940",
     "exception": false,
     "start_time": "2022-05-04T02:53:23.556833",
     "status": "completed"
    },
    "tags": []
   },
   "source": [
    "### 6.1.1 Age 👴\n",
    "👉 The age will be divided into **7 age categories**:\n",
    "*  Below 20 y.o.\n",
    "*  20 - 29 y.o.\n",
    "*  30 - 39 y.o.\n",
    "*  40 - 49 y.o.\n",
    "*  50 - 59 y.o.\n",
    "*  60 - 69 y.o.\n",
    "*  Above 70."
   ]
  },
  {
   "cell_type": "code",
   "execution_count": 21,
   "id": "4b44dea1",
   "metadata": {
    "execution": {
     "iopub.execute_input": "2022-05-04T02:53:23.774584Z",
     "iopub.status.busy": "2022-05-04T02:53:23.767281Z",
     "iopub.status.idle": "2022-05-04T02:53:23.776406Z",
     "shell.execute_reply": "2022-05-04T02:53:23.776852Z",
     "shell.execute_reply.started": "2022-03-08T01:25:06.125239Z"
    },
    "id": "CDg1nDQamzvu",
    "papermill": {
     "duration": 0.080917,
     "end_time": "2022-05-04T02:53:23.777051",
     "exception": false,
     "start_time": "2022-05-04T02:53:23.696134",
     "status": "completed"
    },
    "tags": [],
    "ExecuteTime": {
     "end_time": "2023-05-12T09:44:14.341502Z",
     "start_time": "2023-05-12T09:44:14.298893Z"
    }
   },
   "outputs": [],
   "source": [
    "bin_age = [0, 19, 29, 39, 49, 59, 69, 80]\n",
    "category_age = ['<20s', '20s', '30s', '40s', '50s', '60s', '>60s']\n",
    "df_drug['Age_binned'] = pd.cut(df_drug['Age'], bins=bin_age, labels=category_age)\n",
    "df_drug = df_drug.drop(['Age'], axis = 1)"
   ]
  },
  {
   "cell_type": "markdown",
   "id": "ed6970c9",
   "metadata": {
    "id": "3CcOt0Ilm4C8",
    "papermill": {
     "duration": 0.069649,
     "end_time": "2022-05-04T02:53:23.915013",
     "exception": false,
     "start_time": "2022-05-04T02:53:23.845364",
     "status": "completed"
    },
    "tags": []
   },
   "source": [
    "### 6.1.2 Na_to_K 🧪\n",
    "👉 The chemical ratio will be divided into **4 categories**:\n",
    "*  Below 10.\n",
    "*  10 - 20.\n",
    "*  20 - 30.\n",
    "*  Above 30."
   ]
  },
  {
   "cell_type": "code",
   "execution_count": 22,
   "id": "fb471fb8",
   "metadata": {
    "execution": {
     "iopub.execute_input": "2022-05-04T02:53:24.064225Z",
     "iopub.status.busy": "2022-05-04T02:53:24.057040Z",
     "iopub.status.idle": "2022-05-04T02:53:24.066950Z",
     "shell.execute_reply": "2022-05-04T02:53:24.066286Z",
     "shell.execute_reply.started": "2022-03-08T01:25:06.13646Z"
    },
    "id": "bhoBfPl3m9zN",
    "papermill": {
     "duration": 0.082757,
     "end_time": "2022-05-04T02:53:24.067126",
     "exception": false,
     "start_time": "2022-05-04T02:53:23.984369",
     "status": "completed"
    },
    "tags": [],
    "ExecuteTime": {
     "end_time": "2023-05-12T09:44:15.084910Z",
     "start_time": "2023-05-12T09:44:15.064165Z"
    }
   },
   "outputs": [],
   "source": [
    "bin_NatoK = [0, 9, 19, 29, 50]\n",
    "category_NatoK = ['<10', '10-20', '20-30', '>30']\n",
    "df_drug['Na_to_K_binned'] = pd.cut(df_drug['Na_to_K'], bins=bin_NatoK, labels=category_NatoK)\n",
    "df_drug = df_drug.drop(['Na_to_K'], axis = 1)"
   ]
  },
  {
   "cell_type": "markdown",
   "id": "6acd0bc0",
   "metadata": {
    "id": "ts4FHhNuyZ3G",
    "papermill": {
     "duration": 0.068402,
     "end_time": "2022-05-04T02:53:24.204559",
     "exception": false,
     "start_time": "2022-05-04T02:53:24.136157",
     "status": "completed"
    },
    "tags": []
   },
   "source": [
    "## 6.2 Splitting the dataset 🪓\n",
    "👉 The dataset will be split into **70% training and 30% testing**."
   ]
  },
  {
   "cell_type": "code",
   "execution_count": 23,
   "id": "26cb08bb",
   "metadata": {
    "execution": {
     "iopub.execute_input": "2022-05-04T02:53:24.345430Z",
     "iopub.status.busy": "2022-05-04T02:53:24.344798Z",
     "iopub.status.idle": "2022-05-04T02:53:24.504186Z",
     "shell.execute_reply": "2022-05-04T02:53:24.503420Z",
     "shell.execute_reply.started": "2022-03-08T01:25:06.154675Z"
    },
    "id": "8b9Slzpdycfy",
    "papermill": {
     "duration": 0.231244,
     "end_time": "2022-05-04T02:53:24.504359",
     "exception": false,
     "start_time": "2022-05-04T02:53:24.273115",
     "status": "completed"
    },
    "tags": [],
    "ExecuteTime": {
     "end_time": "2023-05-12T09:44:16.363583Z",
     "start_time": "2023-05-12T09:44:15.876956Z"
    }
   },
   "outputs": [],
   "source": [
    "from sklearn.metrics import confusion_matrix\n",
    "from sklearn.metrics import classification_report"
   ]
  },
  {
   "cell_type": "code",
   "execution_count": 24,
   "id": "c091b1b7",
   "metadata": {
    "execution": {
     "iopub.execute_input": "2022-05-04T02:53:24.647052Z",
     "iopub.status.busy": "2022-05-04T02:53:24.646375Z",
     "iopub.status.idle": "2022-05-04T02:53:24.667063Z",
     "shell.execute_reply": "2022-05-04T02:53:24.667556Z",
     "shell.execute_reply.started": "2022-03-08T01:25:06.328803Z"
    },
    "id": "8Ryn2U0Syvo5",
    "papermill": {
     "duration": 0.095304,
     "end_time": "2022-05-04T02:53:24.667742",
     "exception": false,
     "start_time": "2022-05-04T02:53:24.572438",
     "status": "completed"
    },
    "tags": [],
    "ExecuteTime": {
     "end_time": "2023-05-12T09:44:16.486012Z",
     "start_time": "2023-05-12T09:44:16.414489Z"
    }
   },
   "outputs": [],
   "source": [
    "X = df_drug.drop([\"Drug\"], axis=1)\n",
    "y = df_drug[\"Drug\"]\n",
    "\n",
    "from sklearn.model_selection import train_test_split\n",
    "X_train, X_test, y_train, y_test = train_test_split(X, y, test_size = 0.3, random_state = 0)"
   ]
  },
  {
   "cell_type": "markdown",
   "id": "fa2f50fb",
   "metadata": {
    "id": "pUab4khX2beO",
    "papermill": {
     "duration": 0.071246,
     "end_time": "2022-05-04T02:53:24.809880",
     "exception": false,
     "start_time": "2022-05-04T02:53:24.738634",
     "status": "completed"
    },
    "tags": []
   },
   "source": [
    "## 6.3 Feature Engineering 🔧\n",
    "👉 The FE method that used is **one-hot encoding**, which is **transforming categorical variables into a form that could be provided to ML algorithms to do a better prediction**."
   ]
  },
  {
   "cell_type": "code",
   "execution_count": 25,
   "id": "009162ef",
   "metadata": {
    "execution": {
     "iopub.execute_input": "2022-05-04T02:53:24.953841Z",
     "iopub.status.busy": "2022-05-04T02:53:24.952857Z",
     "iopub.status.idle": "2022-05-04T02:53:24.968415Z",
     "shell.execute_reply": "2022-05-04T02:53:24.968934Z",
     "shell.execute_reply.started": "2022-03-08T01:25:06.355628Z"
    },
    "id": "E_RiMVZg2bH_",
    "papermill": {
     "duration": 0.089853,
     "end_time": "2022-05-04T02:53:24.969119",
     "exception": false,
     "start_time": "2022-05-04T02:53:24.879266",
     "status": "completed"
    },
    "tags": [],
    "ExecuteTime": {
     "end_time": "2023-05-12T09:44:18.343017Z",
     "start_time": "2023-05-12T09:44:18.308759Z"
    }
   },
   "outputs": [],
   "source": [
    "X_train = pd.get_dummies(X_train)\n",
    "X_test = pd.get_dummies(X_test)"
   ]
  },
  {
   "cell_type": "code",
   "execution_count": 26,
   "id": "bab5b853",
   "metadata": {
    "execution": {
     "iopub.execute_input": "2022-05-04T02:53:25.111357Z",
     "iopub.status.busy": "2022-05-04T02:53:25.110387Z",
     "iopub.status.idle": "2022-05-04T02:53:25.125401Z",
     "shell.execute_reply": "2022-05-04T02:53:25.125961Z",
     "shell.execute_reply.started": "2022-03-08T01:25:06.375644Z"
    },
    "papermill": {
     "duration": 0.088449,
     "end_time": "2022-05-04T02:53:25.126150",
     "exception": false,
     "start_time": "2022-05-04T02:53:25.037701",
     "status": "completed"
    },
    "tags": [],
    "ExecuteTime": {
     "end_time": "2023-05-12T09:44:18.847874Z",
     "start_time": "2023-05-12T09:44:18.812960Z"
    }
   },
   "outputs": [
    {
     "data": {
      "text/plain": "     Sex_F  Sex_M  BP_HIGH  BP_LOW  BP_NORMAL  Cholesterol_HIGH  \\\n131      0      1        0       1          0                 0   \n96       1      0        0       1          0                 1   \n181      1      0        0       0          1                 1   \n19       1      0        1       0          0                 0   \n153      1      0        0       1          0                 0   \n\n     Cholesterol_NORMAL  Age_binned_<20s  Age_binned_20s  Age_binned_30s  \\\n131                   1                0               0               0   \n96                    0                0               0               0   \n181                   0                0               0               0   \n19                    1                0               0               1   \n153                   1                0               0               0   \n\n     Age_binned_40s  Age_binned_50s  Age_binned_60s  Age_binned_>60s  \\\n131               0               1               0                0   \n96                0               1               0                0   \n181               0               1               0                0   \n19                0               0               0                0   \n153               0               0               0                1   \n\n     Na_to_K_binned_<10  Na_to_K_binned_10-20  Na_to_K_binned_20-30  \\\n131                   0                     0                     0   \n96                    0                     0                     0   \n181                   0                     1                     0   \n19                    0                     0                     1   \n153                   0                     1                     0   \n\n     Na_to_K_binned_>30  \n131                   1  \n96                    1  \n181                   0  \n19                    0  \n153                   0  ",
      "text/html": "<div>\n<style scoped>\n    .dataframe tbody tr th:only-of-type {\n        vertical-align: middle;\n    }\n\n    .dataframe tbody tr th {\n        vertical-align: top;\n    }\n\n    .dataframe thead th {\n        text-align: right;\n    }\n</style>\n<table border=\"1\" class=\"dataframe\">\n  <thead>\n    <tr style=\"text-align: right;\">\n      <th></th>\n      <th>Sex_F</th>\n      <th>Sex_M</th>\n      <th>BP_HIGH</th>\n      <th>BP_LOW</th>\n      <th>BP_NORMAL</th>\n      <th>Cholesterol_HIGH</th>\n      <th>Cholesterol_NORMAL</th>\n      <th>Age_binned_&lt;20s</th>\n      <th>Age_binned_20s</th>\n      <th>Age_binned_30s</th>\n      <th>Age_binned_40s</th>\n      <th>Age_binned_50s</th>\n      <th>Age_binned_60s</th>\n      <th>Age_binned_&gt;60s</th>\n      <th>Na_to_K_binned_&lt;10</th>\n      <th>Na_to_K_binned_10-20</th>\n      <th>Na_to_K_binned_20-30</th>\n      <th>Na_to_K_binned_&gt;30</th>\n    </tr>\n  </thead>\n  <tbody>\n    <tr>\n      <th>131</th>\n      <td>0</td>\n      <td>1</td>\n      <td>0</td>\n      <td>1</td>\n      <td>0</td>\n      <td>0</td>\n      <td>1</td>\n      <td>0</td>\n      <td>0</td>\n      <td>0</td>\n      <td>0</td>\n      <td>1</td>\n      <td>0</td>\n      <td>0</td>\n      <td>0</td>\n      <td>0</td>\n      <td>0</td>\n      <td>1</td>\n    </tr>\n    <tr>\n      <th>96</th>\n      <td>1</td>\n      <td>0</td>\n      <td>0</td>\n      <td>1</td>\n      <td>0</td>\n      <td>1</td>\n      <td>0</td>\n      <td>0</td>\n      <td>0</td>\n      <td>0</td>\n      <td>0</td>\n      <td>1</td>\n      <td>0</td>\n      <td>0</td>\n      <td>0</td>\n      <td>0</td>\n      <td>0</td>\n      <td>1</td>\n    </tr>\n    <tr>\n      <th>181</th>\n      <td>1</td>\n      <td>0</td>\n      <td>0</td>\n      <td>0</td>\n      <td>1</td>\n      <td>1</td>\n      <td>0</td>\n      <td>0</td>\n      <td>0</td>\n      <td>0</td>\n      <td>0</td>\n      <td>1</td>\n      <td>0</td>\n      <td>0</td>\n      <td>0</td>\n      <td>1</td>\n      <td>0</td>\n      <td>0</td>\n    </tr>\n    <tr>\n      <th>19</th>\n      <td>1</td>\n      <td>0</td>\n      <td>1</td>\n      <td>0</td>\n      <td>0</td>\n      <td>0</td>\n      <td>1</td>\n      <td>0</td>\n      <td>0</td>\n      <td>1</td>\n      <td>0</td>\n      <td>0</td>\n      <td>0</td>\n      <td>0</td>\n      <td>0</td>\n      <td>0</td>\n      <td>1</td>\n      <td>0</td>\n    </tr>\n    <tr>\n      <th>153</th>\n      <td>1</td>\n      <td>0</td>\n      <td>0</td>\n      <td>1</td>\n      <td>0</td>\n      <td>0</td>\n      <td>1</td>\n      <td>0</td>\n      <td>0</td>\n      <td>0</td>\n      <td>0</td>\n      <td>0</td>\n      <td>0</td>\n      <td>1</td>\n      <td>0</td>\n      <td>1</td>\n      <td>0</td>\n      <td>0</td>\n    </tr>\n  </tbody>\n</table>\n</div>"
     },
     "execution_count": 26,
     "metadata": {},
     "output_type": "execute_result"
    }
   ],
   "source": [
    "X_train.head()"
   ]
  },
  {
   "cell_type": "code",
   "execution_count": 27,
   "id": "90477859",
   "metadata": {
    "execution": {
     "iopub.execute_input": "2022-05-04T02:53:25.267751Z",
     "iopub.status.busy": "2022-05-04T02:53:25.266782Z",
     "iopub.status.idle": "2022-05-04T02:53:25.282213Z",
     "shell.execute_reply": "2022-05-04T02:53:25.281660Z",
     "shell.execute_reply.started": "2022-03-08T01:25:06.391737Z"
    },
    "papermill": {
     "duration": 0.08758,
     "end_time": "2022-05-04T02:53:25.282363",
     "exception": false,
     "start_time": "2022-05-04T02:53:25.194783",
     "status": "completed"
    },
    "tags": [],
    "ExecuteTime": {
     "end_time": "2023-05-12T09:44:19.523970Z",
     "start_time": "2023-05-12T09:44:19.466155Z"
    }
   },
   "outputs": [
    {
     "data": {
      "text/plain": "     Sex_F  Sex_M  BP_HIGH  BP_LOW  BP_NORMAL  Cholesterol_HIGH  \\\n18       0      1        0       1          0                 1   \n170      1      0        0       0          1                 1   \n107      0      1        0       1          0                 1   \n98       0      1        1       0          0                 0   \n177      0      1        0       0          1                 1   \n\n     Cholesterol_NORMAL  Age_binned_<20s  Age_binned_20s  Age_binned_30s  \\\n18                    0                0               1               0   \n170                   0                0               1               0   \n107                   0                0               0               0   \n98                    1                0               1               0   \n177                   0                0               1               0   \n\n     Age_binned_40s  Age_binned_50s  Age_binned_60s  Age_binned_>60s  \\\n18                0               0               0                0   \n170               0               0               0                0   \n107               1               0               0                0   \n98                0               0               0                0   \n177               0               0               0                0   \n\n     Na_to_K_binned_<10  Na_to_K_binned_10-20  Na_to_K_binned_20-30  \\\n18                    1                     0                     0   \n170                   0                     1                     0   \n107                   0                     0                     1   \n98                    0                     0                     0   \n177                   0                     0                     1   \n\n     Na_to_K_binned_>30  \n18                    0  \n170                   0  \n107                   0  \n98                    1  \n177                   0  ",
      "text/html": "<div>\n<style scoped>\n    .dataframe tbody tr th:only-of-type {\n        vertical-align: middle;\n    }\n\n    .dataframe tbody tr th {\n        vertical-align: top;\n    }\n\n    .dataframe thead th {\n        text-align: right;\n    }\n</style>\n<table border=\"1\" class=\"dataframe\">\n  <thead>\n    <tr style=\"text-align: right;\">\n      <th></th>\n      <th>Sex_F</th>\n      <th>Sex_M</th>\n      <th>BP_HIGH</th>\n      <th>BP_LOW</th>\n      <th>BP_NORMAL</th>\n      <th>Cholesterol_HIGH</th>\n      <th>Cholesterol_NORMAL</th>\n      <th>Age_binned_&lt;20s</th>\n      <th>Age_binned_20s</th>\n      <th>Age_binned_30s</th>\n      <th>Age_binned_40s</th>\n      <th>Age_binned_50s</th>\n      <th>Age_binned_60s</th>\n      <th>Age_binned_&gt;60s</th>\n      <th>Na_to_K_binned_&lt;10</th>\n      <th>Na_to_K_binned_10-20</th>\n      <th>Na_to_K_binned_20-30</th>\n      <th>Na_to_K_binned_&gt;30</th>\n    </tr>\n  </thead>\n  <tbody>\n    <tr>\n      <th>18</th>\n      <td>0</td>\n      <td>1</td>\n      <td>0</td>\n      <td>1</td>\n      <td>0</td>\n      <td>1</td>\n      <td>0</td>\n      <td>0</td>\n      <td>1</td>\n      <td>0</td>\n      <td>0</td>\n      <td>0</td>\n      <td>0</td>\n      <td>0</td>\n      <td>1</td>\n      <td>0</td>\n      <td>0</td>\n      <td>0</td>\n    </tr>\n    <tr>\n      <th>170</th>\n      <td>1</td>\n      <td>0</td>\n      <td>0</td>\n      <td>0</td>\n      <td>1</td>\n      <td>1</td>\n      <td>0</td>\n      <td>0</td>\n      <td>1</td>\n      <td>0</td>\n      <td>0</td>\n      <td>0</td>\n      <td>0</td>\n      <td>0</td>\n      <td>0</td>\n      <td>1</td>\n      <td>0</td>\n      <td>0</td>\n    </tr>\n    <tr>\n      <th>107</th>\n      <td>0</td>\n      <td>1</td>\n      <td>0</td>\n      <td>1</td>\n      <td>0</td>\n      <td>1</td>\n      <td>0</td>\n      <td>0</td>\n      <td>0</td>\n      <td>0</td>\n      <td>1</td>\n      <td>0</td>\n      <td>0</td>\n      <td>0</td>\n      <td>0</td>\n      <td>0</td>\n      <td>1</td>\n      <td>0</td>\n    </tr>\n    <tr>\n      <th>98</th>\n      <td>0</td>\n      <td>1</td>\n      <td>1</td>\n      <td>0</td>\n      <td>0</td>\n      <td>0</td>\n      <td>1</td>\n      <td>0</td>\n      <td>1</td>\n      <td>0</td>\n      <td>0</td>\n      <td>0</td>\n      <td>0</td>\n      <td>0</td>\n      <td>0</td>\n      <td>0</td>\n      <td>0</td>\n      <td>1</td>\n    </tr>\n    <tr>\n      <th>177</th>\n      <td>0</td>\n      <td>1</td>\n      <td>0</td>\n      <td>0</td>\n      <td>1</td>\n      <td>1</td>\n      <td>0</td>\n      <td>0</td>\n      <td>1</td>\n      <td>0</td>\n      <td>0</td>\n      <td>0</td>\n      <td>0</td>\n      <td>0</td>\n      <td>0</td>\n      <td>0</td>\n      <td>1</td>\n      <td>0</td>\n    </tr>\n  </tbody>\n</table>\n</div>"
     },
     "execution_count": 27,
     "metadata": {},
     "output_type": "execute_result"
    }
   ],
   "source": [
    "X_test.head()"
   ]
  },
  {
   "cell_type": "markdown",
   "id": "b6ce48bf",
   "metadata": {
    "id": "Y17SOiU8kz5K",
    "papermill": {
     "duration": 0.070309,
     "end_time": "2022-05-04T02:53:25.424375",
     "exception": false,
     "start_time": "2022-05-04T02:53:25.354066",
     "status": "completed"
    },
    "tags": []
   },
   "source": [
    "## 6.4 SMOTE Technique ⚒\n",
    "\n",
    "👉 Since the number of 'DrugY' is more than other types of drugs, **oversampling is carried out to avoid overfitting**."
   ]
  },
  {
   "cell_type": "code",
   "execution_count": 28,
   "id": "ee2b71df",
   "metadata": {
    "execution": {
     "iopub.execute_input": "2022-05-04T02:53:25.569410Z",
     "iopub.status.busy": "2022-05-04T02:53:25.567504Z",
     "iopub.status.idle": "2022-05-04T02:53:25.895522Z",
     "shell.execute_reply": "2022-05-04T02:53:25.896100Z",
     "shell.execute_reply.started": "2022-03-08T01:25:06.420291Z"
    },
    "id": "_dGygsNalXbp",
    "outputId": "2f06a057-c6f4-4d90-92b0-322fe7ea2b3e",
    "papermill": {
     "duration": 0.402271,
     "end_time": "2022-05-04T02:53:25.896275",
     "exception": false,
     "start_time": "2022-05-04T02:53:25.494004",
     "status": "completed"
    },
    "tags": [],
    "ExecuteTime": {
     "end_time": "2023-05-12T09:44:21.346727Z",
     "start_time": "2023-05-12T09:44:20.544972Z"
    }
   },
   "outputs": [
    {
     "ename": "ModuleNotFoundError",
     "evalue": "No module named 'imblearn'",
     "output_type": "error",
     "traceback": [
      "\u001B[0;31m---------------------------------------------------------------------------\u001B[0m",
      "\u001B[0;31mModuleNotFoundError\u001B[0m                       Traceback (most recent call last)",
      "Cell \u001B[0;32mIn[28], line 1\u001B[0m\n\u001B[0;32m----> 1\u001B[0m \u001B[38;5;28;01mfrom\u001B[39;00m \u001B[38;5;21;01mimblearn\u001B[39;00m\u001B[38;5;21;01m.\u001B[39;00m\u001B[38;5;21;01mover_sampling\u001B[39;00m \u001B[38;5;28;01mimport\u001B[39;00m SMOTE\n\u001B[1;32m      2\u001B[0m X_train, y_train \u001B[38;5;241m=\u001B[39m SMOTE()\u001B[38;5;241m.\u001B[39mfit_resample(X_train, y_train)\n",
      "\u001B[0;31mModuleNotFoundError\u001B[0m: No module named 'imblearn'"
     ]
    }
   ],
   "source": [
    "from imblearn.over_sampling import SMOTE\n",
    "X_train, y_train = SMOTE().fit_resample(X_train, y_train)"
   ]
  },
  {
   "cell_type": "code",
   "execution_count": 29,
   "id": "234d7561",
   "metadata": {
    "execution": {
     "iopub.execute_input": "2022-05-04T02:53:26.040017Z",
     "iopub.status.busy": "2022-05-04T02:53:26.039365Z",
     "iopub.status.idle": "2022-05-04T02:53:26.249515Z",
     "shell.execute_reply": "2022-05-04T02:53:26.250112Z",
     "shell.execute_reply.started": "2022-03-08T01:25:06.777236Z"
    },
    "id": "x8SkcI_qlxQ2",
    "outputId": "60c3a390-768a-4326-bba0-20dd54439843",
    "papermill": {
     "duration": 0.282954,
     "end_time": "2022-05-04T02:53:26.250298",
     "exception": false,
     "start_time": "2022-05-04T02:53:25.967344",
     "status": "completed"
    },
    "tags": [],
    "ExecuteTime": {
     "end_time": "2023-05-12T09:44:44.128351Z",
     "start_time": "2023-05-12T09:44:43.886272Z"
    }
   },
   "outputs": [
    {
     "data": {
      "text/plain": "<Figure size 640x480 with 1 Axes>",
      "image/png": "[encoded data removed]"
     },
     "metadata": {},
     "output_type": "display_data"
    }
   ],
   "source": [
    "sns.set_theme(style=\"darkgrid\")\n",
    "sns.countplot(y=y_train, data=df_drug, palette=\"mako_r\")\n",
    "plt.ylabel('Drug Type')\n",
    "plt.xlabel('Total')\n",
    "plt.show()"
   ]
  },
  {
   "cell_type": "markdown",
   "id": "7fe5d052",
   "metadata": {
    "papermill": {
     "duration": 0.080296,
     "end_time": "2022-05-04T02:53:26.414051",
     "exception": false,
     "start_time": "2022-05-04T02:53:26.333755",
     "status": "completed"
    },
    "tags": []
   },
   "source": [
    "👉 As can be seen, the distrubtion of drug type are now balanced."
   ]
  },
  {
   "cell_type": "markdown",
   "id": "ea7c1b40",
   "metadata": {
    "id": "ZdHv3O78nKZu",
    "papermill": {
     "duration": 0.070394,
     "end_time": "2022-05-04T02:53:26.556771",
     "exception": false,
     "start_time": "2022-05-04T02:53:26.486377",
     "status": "completed"
    },
    "tags": []
   },
   "source": [
    "# 7. Models 🛠"
   ]
  },
  {
   "cell_type": "markdown",
   "id": "3534b4a5",
   "metadata": {
    "id": "Zj2R6eVonNpv",
    "papermill": {
     "duration": 0.069393,
     "end_time": "2022-05-04T02:53:26.696188",
     "exception": false,
     "start_time": "2022-05-04T02:53:26.626795",
     "status": "completed"
    },
    "tags": []
   },
   "source": [
    "## 7.1 Logistic Regression"
   ]
  },
  {
   "cell_type": "code",
   "execution_count": 30,
   "id": "5890314b",
   "metadata": {
    "execution": {
     "iopub.execute_input": "2022-05-04T02:53:26.840093Z",
     "iopub.status.busy": "2022-05-04T02:53:26.839029Z",
     "iopub.status.idle": "2022-05-04T02:53:26.879340Z",
     "shell.execute_reply": "2022-05-04T02:53:26.878739Z",
     "shell.execute_reply.started": "2022-03-08T01:25:07.045415Z"
    },
    "id": "d5s0LhCOnSqn",
    "outputId": "428d6014-59cb-4322-836e-e5c7efaa092e",
    "papermill": {
     "duration": 0.113548,
     "end_time": "2022-05-04T02:53:26.879483",
     "exception": false,
     "start_time": "2022-05-04T02:53:26.765935",
     "status": "completed"
    },
    "tags": [],
    "ExecuteTime": {
     "end_time": "2023-05-12T09:44:46.938071Z",
     "start_time": "2023-05-12T09:44:46.817357Z"
    }
   },
   "outputs": [
    {
     "name": "stdout",
     "output_type": "stream",
     "text": [
      "              precision    recall  f1-score   support\n",
      "\n",
      "       drugA       0.67      0.80      0.73         5\n",
      "       drugB       0.75      1.00      0.86         3\n",
      "       drugC       0.67      1.00      0.80         4\n",
      "       drugX       0.82      1.00      0.90        18\n",
      "       drugY       0.95      0.70      0.81        30\n",
      "\n",
      "    accuracy                           0.83        60\n",
      "   macro avg       0.77      0.90      0.82        60\n",
      "weighted avg       0.86      0.83      0.83        60\n",
      "\n",
      "[[ 4  0  0  0  1]\n",
      " [ 0  3  0  0  0]\n",
      " [ 0  0  4  0  0]\n",
      " [ 0  0  0 18  0]\n",
      " [ 2  1  2  4 21]]\n",
      "Logistic Regression accuracy is: 83.33%\n"
     ]
    }
   ],
   "source": [
    "from sklearn.linear_model import LogisticRegression\n",
    "LRclassifier = LogisticRegression(solver='liblinear', max_iter=5000)\n",
    "LRclassifier.fit(X_train, y_train)\n",
    "\n",
    "y_pred = LRclassifier.predict(X_test)\n",
    "\n",
    "print(classification_report(y_test, y_pred))\n",
    "print(confusion_matrix(y_test, y_pred))\n",
    "\n",
    "from sklearn.metrics import accuracy_score\n",
    "LRAcc = accuracy_score(y_pred,y_test)\n",
    "print('Logistic Regression accuracy is: {:.2f}%'.format(LRAcc*100))"
   ]
  },
  {
   "cell_type": "markdown",
   "id": "8f600436",
   "metadata": {
    "id": "IMVGDivBnTCN",
    "papermill": {
     "duration": 0.069866,
     "end_time": "2022-05-04T02:53:27.019892",
     "exception": false,
     "start_time": "2022-05-04T02:53:26.950026",
     "status": "completed"
    },
    "tags": []
   },
   "source": [
    "## 7.2 K Neighbours"
   ]
  },
  {
   "cell_type": "code",
   "execution_count": 31,
   "id": "fa800c6f",
   "metadata": {
    "execution": {
     "iopub.execute_input": "2022-05-04T02:53:27.172960Z",
     "iopub.status.busy": "2022-05-04T02:53:27.171889Z",
     "iopub.status.idle": "2022-05-04T02:53:27.185732Z",
     "shell.execute_reply": "2022-05-04T02:53:27.186241Z",
     "shell.execute_reply.started": "2022-03-08T01:25:07.093409Z"
    },
    "papermill": {
     "duration": 0.09542,
     "end_time": "2022-05-04T02:53:27.186418",
     "exception": false,
     "start_time": "2022-05-04T02:53:27.090998",
     "status": "completed"
    },
    "tags": [],
    "ExecuteTime": {
     "end_time": "2023-05-12T09:44:49.846646Z",
     "start_time": "2023-05-12T09:44:49.685068Z"
    }
   },
   "outputs": [
    {
     "name": "stdout",
     "output_type": "stream",
     "text": [
      "              precision    recall  f1-score   support\n",
      "\n",
      "       drugA       0.67      0.40      0.50         5\n",
      "       drugB       0.00      0.00      0.00         3\n",
      "       drugC       0.50      0.50      0.50         4\n",
      "       drugX       0.73      0.89      0.80        18\n",
      "       drugY       0.70      0.70      0.70        30\n",
      "\n",
      "    accuracy                           0.68        60\n",
      "   macro avg       0.52      0.50      0.50        60\n",
      "weighted avg       0.66      0.68      0.66        60\n",
      "\n",
      "[[ 2  0  0  0  3]\n",
      " [ 1  0  0  0  2]\n",
      " [ 0  0  2  0  2]\n",
      " [ 0  0  0 16  2]\n",
      " [ 0  1  2  6 21]]\n",
      "K Neighbours accuracy is: 68.33%\n"
     ]
    }
   ],
   "source": [
    "from sklearn.neighbors import KNeighborsClassifier\n",
    "KNclassifier = KNeighborsClassifier(n_neighbors=20)\n",
    "KNclassifier.fit(X_train, y_train)\n",
    "\n",
    "y_pred = KNclassifier.predict(X_test)\n",
    "\n",
    "print(classification_report(y_test, y_pred))\n",
    "print(confusion_matrix(y_test, y_pred))\n",
    "\n",
    "from sklearn.metrics import accuracy_score\n",
    "KNAcc = accuracy_score(y_pred,y_test)\n",
    "print('K Neighbours accuracy is: {:.2f}%'.format(KNAcc*100))"
   ]
  },
  {
   "cell_type": "code",
   "execution_count": 32,
   "id": "264505eb",
   "metadata": {
    "execution": {
     "iopub.execute_input": "2022-05-04T02:53:27.330216Z",
     "iopub.status.busy": "2022-05-04T02:53:27.329583Z",
     "iopub.status.idle": "2022-05-04T02:53:27.917687Z",
     "shell.execute_reply": "2022-05-04T02:53:27.918184Z",
     "shell.execute_reply.started": "2022-03-08T01:25:07.120338Z"
    },
    "papermill": {
     "duration": 0.661607,
     "end_time": "2022-05-04T02:53:27.918361",
     "exception": false,
     "start_time": "2022-05-04T02:53:27.256754",
     "status": "completed"
    },
    "tags": [],
    "ExecuteTime": {
     "end_time": "2023-05-12T09:44:52.365284Z",
     "start_time": "2023-05-12T09:44:51.513795Z"
    }
   },
   "outputs": [
    {
     "data": {
      "text/plain": "<Figure size 640x480 with 1 Axes>",
      "image/png": "[encoded data removed]"
     },
     "metadata": {},
     "output_type": "display_data"
    },
    {
     "name": "stdout",
     "output_type": "stream",
     "text": [
      "KNN Acc Max 75.00%\n"
     ]
    }
   ],
   "source": [
    "scoreListknn = []\n",
    "for i in range(1,30):\n",
    "    KNclassifier = KNeighborsClassifier(n_neighbors = i)\n",
    "    KNclassifier.fit(X_train, y_train)\n",
    "    scoreListknn.append(KNclassifier.score(X_test, y_test))\n",
    "    \n",
    "plt.plot(range(1,30), scoreListknn)\n",
    "plt.xticks(np.arange(1,30,1))\n",
    "plt.xlabel(\"K value\")\n",
    "plt.ylabel(\"Score\")\n",
    "plt.show()\n",
    "KNAccMax = max(scoreListknn)\n",
    "print(\"KNN Acc Max {:.2f}%\".format(KNAccMax*100))"
   ]
  },
  {
   "cell_type": "markdown",
   "id": "bacc2a6c",
   "metadata": {
    "id": "2D1sczYQneQZ",
    "papermill": {
     "duration": 0.072561,
     "end_time": "2022-05-04T02:53:28.063558",
     "exception": false,
     "start_time": "2022-05-04T02:53:27.990997",
     "status": "completed"
    },
    "tags": []
   },
   "source": [
    "## 7.3 Support Vector Machine (SVM)"
   ]
  },
  {
   "cell_type": "code",
   "execution_count": 33,
   "id": "a35210b0",
   "metadata": {
    "execution": {
     "iopub.execute_input": "2022-05-04T02:53:28.212747Z",
     "iopub.status.busy": "2022-05-04T02:53:28.212102Z",
     "iopub.status.idle": "2022-05-04T02:53:28.240595Z",
     "shell.execute_reply": "2022-05-04T02:53:28.241221Z",
     "shell.execute_reply.started": "2022-03-08T01:25:07.761703Z"
    },
    "id": "OF7hCd8dnhQB",
    "outputId": "22fedec4-446f-4b21-dd50-772f6d039000",
    "papermill": {
     "duration": 0.105037,
     "end_time": "2022-05-04T02:53:28.241450",
     "exception": false,
     "start_time": "2022-05-04T02:53:28.136413",
     "status": "completed"
    },
    "tags": [],
    "ExecuteTime": {
     "end_time": "2023-05-12T09:44:52.599381Z",
     "start_time": "2023-05-12T09:44:52.530625Z"
    }
   },
   "outputs": [
    {
     "name": "stdout",
     "output_type": "stream",
     "text": [
      "              precision    recall  f1-score   support\n",
      "\n",
      "       drugA       0.71      1.00      0.83         5\n",
      "       drugB       0.75      1.00      0.86         3\n",
      "       drugC       0.67      1.00      0.80         4\n",
      "       drugX       0.82      1.00      0.90        18\n",
      "       drugY       1.00      0.70      0.82        30\n",
      "\n",
      "    accuracy                           0.85        60\n",
      "   macro avg       0.79      0.94      0.84        60\n",
      "weighted avg       0.89      0.85      0.85        60\n",
      "\n",
      "[[ 5  0  0  0  0]\n",
      " [ 0  3  0  0  0]\n",
      " [ 0  0  4  0  0]\n",
      " [ 0  0  0 18  0]\n",
      " [ 2  1  2  4 21]]\n",
      "SVC accuracy is: 85.00%\n"
     ]
    }
   ],
   "source": [
    "from sklearn.svm import SVC\n",
    "SVCclassifier = SVC(kernel='linear', max_iter=251)\n",
    "SVCclassifier.fit(X_train, y_train)\n",
    "\n",
    "y_pred = SVCclassifier.predict(X_test)\n",
    "\n",
    "print(classification_report(y_test, y_pred))\n",
    "print(confusion_matrix(y_test, y_pred))\n",
    "\n",
    "from sklearn.metrics import accuracy_score\n",
    "SVCAcc = accuracy_score(y_pred,y_test)\n",
    "print('SVC accuracy is: {:.2f}%'.format(SVCAcc*100))"
   ]
  },
  {
   "cell_type": "markdown",
   "id": "a27cd9d8",
   "metadata": {
    "id": "e9WsQ86xninn",
    "papermill": {
     "duration": 0.073019,
     "end_time": "2022-05-04T02:53:28.387869",
     "exception": false,
     "start_time": "2022-05-04T02:53:28.314850",
     "status": "completed"
    },
    "tags": []
   },
   "source": [
    "## 7.4 Naive Bayes\n",
    "### 7.4.1 Categorical NB"
   ]
  },
  {
   "cell_type": "code",
   "execution_count": 34,
   "id": "ab3260b1",
   "metadata": {
    "execution": {
     "iopub.execute_input": "2022-05-04T02:53:28.540752Z",
     "iopub.status.busy": "2022-05-04T02:53:28.540046Z",
     "iopub.status.idle": "2022-05-04T02:53:28.561912Z",
     "shell.execute_reply": "2022-05-04T02:53:28.562385Z",
     "shell.execute_reply.started": "2022-03-08T01:25:07.792769Z"
    },
    "id": "hDILPZC-nktC",
    "outputId": "2b3bff31-f427-472a-c52a-5461e207117a",
    "papermill": {
     "duration": 0.101352,
     "end_time": "2022-05-04T02:53:28.562556",
     "exception": false,
     "start_time": "2022-05-04T02:53:28.461204",
     "status": "completed"
    },
    "tags": [],
    "ExecuteTime": {
     "end_time": "2023-05-12T09:44:56.016445Z",
     "start_time": "2023-05-12T09:44:55.959188Z"
    }
   },
   "outputs": [
    {
     "name": "stdout",
     "output_type": "stream",
     "text": [
      "              precision    recall  f1-score   support\n",
      "\n",
      "       drugA       0.62      1.00      0.77         5\n",
      "       drugB       0.75      1.00      0.86         3\n",
      "       drugC       0.67      1.00      0.80         4\n",
      "       drugX       0.81      0.94      0.87        18\n",
      "       drugY       0.95      0.67      0.78        30\n",
      "\n",
      "    accuracy                           0.82        60\n",
      "   macro avg       0.76      0.92      0.82        60\n",
      "weighted avg       0.85      0.82      0.81        60\n",
      "\n",
      "[[ 5  0  0  0  0]\n",
      " [ 0  3  0  0  0]\n",
      " [ 0  0  4  0  0]\n",
      " [ 0  0  0 17  1]\n",
      " [ 3  1  2  4 20]]\n",
      "Naive Bayes accuracy is: 81.67%\n"
     ]
    }
   ],
   "source": [
    "from sklearn.naive_bayes import CategoricalNB\n",
    "NBclassifier1 = CategoricalNB()\n",
    "NBclassifier1.fit(X_train, y_train)\n",
    "\n",
    "y_pred = NBclassifier1.predict(X_test)\n",
    "\n",
    "print(classification_report(y_test, y_pred))\n",
    "print(confusion_matrix(y_test, y_pred))\n",
    "\n",
    "from sklearn.metrics import accuracy_score\n",
    "NBAcc1 = accuracy_score(y_pred,y_test)\n",
    "print('Naive Bayes accuracy is: {:.2f}%'.format(NBAcc1*100))"
   ]
  },
  {
   "cell_type": "markdown",
   "id": "33c1c96d",
   "metadata": {
    "papermill": {
     "duration": 0.073293,
     "end_time": "2022-05-04T02:53:28.708846",
     "exception": false,
     "start_time": "2022-05-04T02:53:28.635553",
     "status": "completed"
    },
    "tags": []
   },
   "source": [
    "### 7.4.2 Gaussian NB"
   ]
  },
  {
   "cell_type": "code",
   "execution_count": 35,
   "id": "66059076",
   "metadata": {
    "execution": {
     "iopub.execute_input": "2022-05-04T02:53:28.868462Z",
     "iopub.status.busy": "2022-05-04T02:53:28.867418Z",
     "iopub.status.idle": "2022-05-04T02:53:28.881235Z",
     "shell.execute_reply": "2022-05-04T02:53:28.881681Z",
     "shell.execute_reply.started": "2022-03-08T01:25:07.821073Z"
    },
    "papermill": {
     "duration": 0.096459,
     "end_time": "2022-05-04T02:53:28.881873",
     "exception": false,
     "start_time": "2022-05-04T02:53:28.785414",
     "status": "completed"
    },
    "tags": [],
    "ExecuteTime": {
     "end_time": "2023-05-12T09:44:57.592118Z",
     "start_time": "2023-05-12T09:44:57.511121Z"
    }
   },
   "outputs": [
    {
     "name": "stdout",
     "output_type": "stream",
     "text": [
      "              precision    recall  f1-score   support\n",
      "\n",
      "       drugA       0.71      1.00      0.83         5\n",
      "       drugB       0.75      1.00      0.86         3\n",
      "       drugC       0.67      1.00      0.80         4\n",
      "       drugX       0.82      1.00      0.90        18\n",
      "       drugY       1.00      0.70      0.82        30\n",
      "\n",
      "    accuracy                           0.85        60\n",
      "   macro avg       0.79      0.94      0.84        60\n",
      "weighted avg       0.89      0.85      0.85        60\n",
      "\n",
      "[[ 5  0  0  0  0]\n",
      " [ 0  3  0  0  0]\n",
      " [ 0  0  4  0  0]\n",
      " [ 0  0  0 18  0]\n",
      " [ 2  1  2  4 21]]\n",
      "Gaussian Naive Bayes accuracy is: 85.00%\n"
     ]
    }
   ],
   "source": [
    "from sklearn.naive_bayes import GaussianNB\n",
    "NBclassifier2 = GaussianNB()\n",
    "NBclassifier2.fit(X_train, y_train)\n",
    "\n",
    "y_pred = NBclassifier2.predict(X_test)\n",
    "\n",
    "print(classification_report(y_test, y_pred))\n",
    "print(confusion_matrix(y_test, y_pred))\n",
    "\n",
    "from sklearn.metrics import accuracy_score\n",
    "NBAcc2 = accuracy_score(y_pred,y_test)\n",
    "print('Gaussian Naive Bayes accuracy is: {:.2f}%'.format(NBAcc2*100))"
   ]
  },
  {
   "cell_type": "markdown",
   "id": "145b2404",
   "metadata": {
    "id": "t2mXDibjnj2q",
    "papermill": {
     "duration": 0.074099,
     "end_time": "2022-05-04T02:53:29.029910",
     "exception": false,
     "start_time": "2022-05-04T02:53:28.955811",
     "status": "completed"
    },
    "tags": []
   },
   "source": [
    "## 7.5 Decision Tree"
   ]
  },
  {
   "cell_type": "code",
   "execution_count": 36,
   "id": "e7fea0de",
   "metadata": {
    "execution": {
     "iopub.execute_input": "2022-05-04T02:53:29.183748Z",
     "iopub.status.busy": "2022-05-04T02:53:29.183051Z",
     "iopub.status.idle": "2022-05-04T02:53:29.200342Z",
     "shell.execute_reply": "2022-05-04T02:53:29.200852Z",
     "shell.execute_reply.started": "2022-03-08T01:25:07.843802Z"
    },
    "id": "08HoXmgsnmd0",
    "outputId": "b8b57bdc-3f4a-4e33-b33d-dd974ba5dac2",
    "papermill": {
     "duration": 0.096105,
     "end_time": "2022-05-04T02:53:29.201046",
     "exception": false,
     "start_time": "2022-05-04T02:53:29.104941",
     "status": "completed"
    },
    "tags": [],
    "ExecuteTime": {
     "end_time": "2023-05-12T09:44:59.254100Z",
     "start_time": "2023-05-12T09:44:59.186104Z"
    }
   },
   "outputs": [
    {
     "name": "stdout",
     "output_type": "stream",
     "text": [
      "              precision    recall  f1-score   support\n",
      "\n",
      "       drugA       0.50      1.00      0.67         5\n",
      "       drugB       0.75      1.00      0.86         3\n",
      "       drugC       0.67      1.00      0.80         4\n",
      "       drugX       0.85      0.94      0.89        18\n",
      "       drugY       0.95      0.63      0.76        30\n",
      "\n",
      "    accuracy                           0.80        60\n",
      "   macro avg       0.74      0.92      0.80        60\n",
      "weighted avg       0.85      0.80      0.80        60\n",
      "\n",
      "[[ 5  0  0  0  0]\n",
      " [ 0  3  0  0  0]\n",
      " [ 0  0  4  0  0]\n",
      " [ 0  0  0 17  1]\n",
      " [ 5  1  2  3 19]]\n",
      "Decision Tree accuracy is: 80.00%\n"
     ]
    }
   ],
   "source": [
    "from sklearn.tree import DecisionTreeClassifier\n",
    "DTclassifier = DecisionTreeClassifier(max_leaf_nodes=20)\n",
    "DTclassifier.fit(X_train, y_train)\n",
    "\n",
    "y_pred = DTclassifier.predict(X_test)\n",
    "\n",
    "print(classification_report(y_test, y_pred))\n",
    "print(confusion_matrix(y_test, y_pred))\n",
    "\n",
    "from sklearn.metrics import accuracy_score\n",
    "DTAcc = accuracy_score(y_pred,y_test)\n",
    "print('Decision Tree accuracy is: {:.2f}%'.format(DTAcc*100))"
   ]
  },
  {
   "cell_type": "code",
   "execution_count": 37,
   "id": "955268b8",
   "metadata": {
    "execution": {
     "iopub.execute_input": "2022-05-04T02:53:29.353120Z",
     "iopub.status.busy": "2022-05-04T02:53:29.352416Z",
     "iopub.status.idle": "2022-05-04T02:53:29.748469Z",
     "shell.execute_reply": "2022-05-04T02:53:29.749009Z",
     "shell.execute_reply.started": "2022-03-08T01:25:07.865647Z"
    },
    "papermill": {
     "duration": 0.473827,
     "end_time": "2022-05-04T02:53:29.749197",
     "exception": false,
     "start_time": "2022-05-04T02:53:29.275370",
     "status": "completed"
    },
    "tags": [],
    "ExecuteTime": {
     "end_time": "2023-05-12T09:45:00.713250Z",
     "start_time": "2023-05-12T09:45:00.249115Z"
    }
   },
   "outputs": [
    {
     "data": {
      "text/plain": "<Figure size 640x480 with 1 Axes>",
      "image/png": "[encoded data removed]"
     },
     "metadata": {},
     "output_type": "display_data"
    },
    {
     "name": "stdout",
     "output_type": "stream",
     "text": [
      "DT Acc Max 80.00%\n"
     ]
    }
   ],
   "source": [
    "scoreListDT = []\n",
    "for i in range(2,50):\n",
    "    DTclassifier = DecisionTreeClassifier(max_leaf_nodes=i)\n",
    "    DTclassifier.fit(X_train, y_train)\n",
    "    scoreListDT.append(DTclassifier.score(X_test, y_test))\n",
    "    \n",
    "plt.plot(range(2,50), scoreListDT)\n",
    "plt.xticks(np.arange(2,50,5))\n",
    "plt.xlabel(\"Leaf\")\n",
    "plt.ylabel(\"Score\")\n",
    "plt.show()\n",
    "DTAccMax = max(scoreListDT)\n",
    "print(\"DT Acc Max {:.2f}%\".format(DTAccMax*100))"
   ]
  },
  {
   "cell_type": "markdown",
   "id": "c04585d9",
   "metadata": {
    "id": "RddcpXutnmsq",
    "papermill": {
     "duration": 0.077205,
     "end_time": "2022-05-04T02:53:29.902754",
     "exception": false,
     "start_time": "2022-05-04T02:53:29.825549",
     "status": "completed"
    },
    "tags": []
   },
   "source": [
    "## 7.6 Random Forest"
   ]
  },
  {
   "cell_type": "code",
   "execution_count": 38,
   "id": "38dba457",
   "metadata": {
    "execution": {
     "iopub.execute_input": "2022-05-04T02:53:30.060629Z",
     "iopub.status.busy": "2022-05-04T02:53:30.059654Z",
     "iopub.status.idle": "2022-05-04T02:53:30.279329Z",
     "shell.execute_reply": "2022-05-04T02:53:30.278778Z",
     "shell.execute_reply.started": "2022-03-08T01:25:08.31948Z"
    },
    "id": "N1m2oLhRnzm8",
    "outputId": "833fa334-7370-467d-aa26-a1b4c4b9a495",
    "papermill": {
     "duration": 0.299608,
     "end_time": "2022-05-04T02:53:30.279477",
     "exception": false,
     "start_time": "2022-05-04T02:53:29.979869",
     "status": "completed"
    },
    "tags": [],
    "ExecuteTime": {
     "end_time": "2023-05-12T09:45:02.385492Z",
     "start_time": "2023-05-12T09:45:01.922576Z"
    }
   },
   "outputs": [
    {
     "name": "stdout",
     "output_type": "stream",
     "text": [
      "              precision    recall  f1-score   support\n",
      "\n",
      "       drugA       0.71      1.00      0.83         5\n",
      "       drugB       0.75      1.00      0.86         3\n",
      "       drugC       0.67      1.00      0.80         4\n",
      "       drugX       0.81      0.94      0.87        18\n",
      "       drugY       0.95      0.70      0.81        30\n",
      "\n",
      "    accuracy                           0.83        60\n",
      "   macro avg       0.78      0.93      0.83        60\n",
      "weighted avg       0.86      0.83      0.83        60\n",
      "\n",
      "[[ 5  0  0  0  0]\n",
      " [ 0  3  0  0  0]\n",
      " [ 0  0  4  0  0]\n",
      " [ 0  0  0 17  1]\n",
      " [ 2  1  2  4 21]]\n",
      "Random Forest accuracy is: 83.33%\n"
     ]
    }
   ],
   "source": [
    "from sklearn.ensemble import RandomForestClassifier\n",
    "\n",
    "RFclassifier = RandomForestClassifier(max_leaf_nodes=30)\n",
    "RFclassifier.fit(X_train, y_train)\n",
    "\n",
    "y_pred = RFclassifier.predict(X_test)\n",
    "\n",
    "print(classification_report(y_test, y_pred))\n",
    "print(confusion_matrix(y_test, y_pred))\n",
    "\n",
    "from sklearn.metrics import accuracy_score\n",
    "RFAcc = accuracy_score(y_pred,y_test)\n",
    "print('Random Forest accuracy is: {:.2f}%'.format(RFAcc*100))"
   ]
  },
  {
   "cell_type": "code",
   "execution_count": 39,
   "id": "c5c94795",
   "metadata": {
    "execution": {
     "iopub.execute_input": "2022-05-04T02:53:30.438305Z",
     "iopub.status.busy": "2022-05-04T02:53:30.437334Z",
     "iopub.status.idle": "2022-05-04T02:55:06.670664Z",
     "shell.execute_reply": "2022-05-04T02:55:06.670052Z",
     "shell.execute_reply.started": "2022-03-08T01:25:08.544304Z"
    },
    "papermill": {
     "duration": 96.313733,
     "end_time": "2022-05-04T02:55:06.670819",
     "exception": false,
     "start_time": "2022-05-04T02:53:30.357086",
     "status": "completed"
    },
    "tags": [],
    "ExecuteTime": {
     "end_time": "2023-05-12T09:46:22.476461Z",
     "start_time": "2023-05-12T09:45:03.557075Z"
    }
   },
   "outputs": [
    {
     "data": {
      "text/plain": "<Figure size 640x480 with 1 Axes>",
      "image/png": "[encoded data removed]"
     },
     "metadata": {},
     "output_type": "display_data"
    },
    {
     "name": "stdout",
     "output_type": "stream",
     "text": [
      "RF Acc Max 85.00%\n"
     ]
    }
   ],
   "source": [
    "scoreListRF = []\n",
    "for i in range(2,50):\n",
    "    RFclassifier = RandomForestClassifier(n_estimators = 1000, random_state = 1, max_leaf_nodes=i)\n",
    "    RFclassifier.fit(X_train, y_train)\n",
    "    scoreListRF.append(RFclassifier.score(X_test, y_test))\n",
    "    \n",
    "plt.plot(range(2,50), scoreListRF)\n",
    "plt.xticks(np.arange(2,50,5))\n",
    "plt.xlabel(\"RF Value\")\n",
    "plt.ylabel(\"Score\")\n",
    "plt.show()\n",
    "RFAccMax = max(scoreListRF)\n",
    "print(\"RF Acc Max {:.2f}%\".format(RFAccMax*100))"
   ]
  },
  {
   "cell_type": "markdown",
   "id": "7512e97d",
   "metadata": {
    "id": "_xm7OvKS07Zl",
    "papermill": {
     "duration": 0.140707,
     "end_time": "2022-05-04T02:55:06.897435",
     "exception": false,
     "start_time": "2022-05-04T02:55:06.756728",
     "status": "completed"
    },
    "tags": []
   },
   "source": [
    "# 8. Model Comparison 👀"
   ]
  },
  {
   "cell_type": "code",
   "execution_count": 40,
   "id": "c1626d42",
   "metadata": {
    "execution": {
     "iopub.execute_input": "2022-05-04T02:55:07.072768Z",
     "iopub.status.busy": "2022-05-04T02:55:07.072025Z",
     "iopub.status.idle": "2022-05-04T02:55:07.081835Z",
     "shell.execute_reply": "2022-05-04T02:55:07.082479Z",
     "shell.execute_reply.started": "2022-03-08T01:26:43.760138Z"
    },
    "id": "Y3KGgy0o06O8",
    "outputId": "9cf0a87c-2270-4eff-cf42-2105c969bf1c",
    "papermill": {
     "duration": 0.10087,
     "end_time": "2022-05-04T02:55:07.082694",
     "exception": false,
     "start_time": "2022-05-04T02:55:06.981824",
     "status": "completed"
    },
    "tags": [],
    "ExecuteTime": {
     "end_time": "2023-05-12T09:46:22.552519Z",
     "start_time": "2023-05-12T09:46:22.466286Z"
    }
   },
   "outputs": [
    {
     "data": {
      "text/plain": "                 Model   Accuracy\n3                  SVM  85.000000\n5          Gaussian NB  85.000000\n9    Random Forest Max  85.000000\n0  Logistic Regression  83.333333\n8        Random Forest  83.333333\n4       Categorical NB  81.666667\n6        Decision Tree  80.000000\n7    Decision Tree Max  80.000000\n2      K Neighbors Max  75.000000\n1          K Neighbors  68.333333",
      "text/html": "<div>\n<style scoped>\n    .dataframe tbody tr th:only-of-type {\n        vertical-align: middle;\n    }\n\n    .dataframe tbody tr th {\n        vertical-align: top;\n    }\n\n    .dataframe thead th {\n        text-align: right;\n    }\n</style>\n<table border=\"1\" class=\"dataframe\">\n  <thead>\n    <tr style=\"text-align: right;\">\n      <th></th>\n      <th>Model</th>\n      <th>Accuracy</th>\n    </tr>\n  </thead>\n  <tbody>\n    <tr>\n      <th>3</th>\n      <td>SVM</td>\n      <td>85.000000</td>\n    </tr>\n    <tr>\n      <th>5</th>\n      <td>Gaussian NB</td>\n      <td>85.000000</td>\n    </tr>\n    <tr>\n      <th>9</th>\n      <td>Random Forest Max</td>\n      <td>85.000000</td>\n    </tr>\n    <tr>\n      <th>0</th>\n      <td>Logistic Regression</td>\n      <td>83.333333</td>\n    </tr>\n    <tr>\n      <th>8</th>\n      <td>Random Forest</td>\n      <td>83.333333</td>\n    </tr>\n    <tr>\n      <th>4</th>\n      <td>Categorical NB</td>\n      <td>81.666667</td>\n    </tr>\n    <tr>\n      <th>6</th>\n      <td>Decision Tree</td>\n      <td>80.000000</td>\n    </tr>\n    <tr>\n      <th>7</th>\n      <td>Decision Tree Max</td>\n      <td>80.000000</td>\n    </tr>\n    <tr>\n      <th>2</th>\n      <td>K Neighbors Max</td>\n      <td>75.000000</td>\n    </tr>\n    <tr>\n      <th>1</th>\n      <td>K Neighbors</td>\n      <td>68.333333</td>\n    </tr>\n  </tbody>\n</table>\n</div>"
     },
     "execution_count": 40,
     "metadata": {},
     "output_type": "execute_result"
    }
   ],
   "source": [
    "compare = pd.DataFrame({'Model': ['Logistic Regression', 'K Neighbors', 'K Neighbors Max', 'SVM', 'Categorical NB', 'Gaussian NB', 'Decision Tree', 'Decision Tree Max', 'Random Forest', 'Random Forest Max'], \n",
    "                        'Accuracy': [LRAcc*100, KNAcc*100, KNAccMax*100, SVCAcc*100, NBAcc1*100, NBAcc2*100, DTAcc*100, DTAccMax*100, RFAcc*100, RFAccMax*100]})\n",
    "compare.sort_values(by='Accuracy', ascending=False)"
   ]
  },
  {
   "cell_type": "markdown",
   "id": "5d75c22f",
   "metadata": {
    "id": "5_JCBDAw1hJd",
    "papermill": {
     "duration": 0.082927,
     "end_time": "2022-05-04T02:55:07.250053",
     "exception": false,
     "start_time": "2022-05-04T02:55:07.167126",
     "status": "completed"
    },
    "tags": []
   },
   "source": [
    "👉 From the results, it can be seen that most of ML models can reach **up to 80% accuracy** in predicting classification of drug type."
   ]
  },
  {
   "cell_type": "markdown",
   "id": "b470c677",
   "metadata": {
    "papermill": {
     "duration": 0.084176,
     "end_time": "2022-05-04T02:55:07.417492",
     "exception": false,
     "start_time": "2022-05-04T02:55:07.333316",
     "status": "completed"
    },
    "tags": []
   },
   "source": [
    "# 9. Output 📤\n",
    "👉 The next step will make output results in csv file."
   ]
  },
  {
   "cell_type": "markdown",
   "id": "44abc6a7",
   "metadata": {
    "papermill": {
     "duration": 0.081164,
     "end_time": "2022-05-04T02:55:07.579797",
     "exception": false,
     "start_time": "2022-05-04T02:55:07.498633",
     "status": "completed"
    },
    "tags": []
   },
   "source": [
    "## 9.1 Transforming prediction in appropriate output format 🧹"
   ]
  },
  {
   "cell_type": "code",
   "execution_count": 41,
   "id": "6ff86056",
   "metadata": {
    "execution": {
     "iopub.execute_input": "2022-05-04T02:55:07.744490Z",
     "iopub.status.busy": "2022-05-04T02:55:07.743787Z",
     "iopub.status.idle": "2022-05-04T02:55:07.757167Z",
     "shell.execute_reply": "2022-05-04T02:55:07.757712Z",
     "shell.execute_reply.started": "2022-03-08T01:26:43.776906Z"
    },
    "papermill": {
     "duration": 0.097648,
     "end_time": "2022-05-04T02:55:07.757890",
     "exception": false,
     "start_time": "2022-05-04T02:55:07.660242",
     "status": "completed"
    },
    "scrolled": true,
    "tags": [],
    "ExecuteTime": {
     "end_time": "2023-05-12T09:46:39.936805Z",
     "start_time": "2023-05-12T09:46:39.914918Z"
    }
   },
   "outputs": [],
   "source": [
    "pred_lr = NBclassifier1.predict(X_test)\n",
    "prediction = pd.DataFrame({'Sex_F': X_test.loc[:,\"Sex_F\"], \n",
    "                           'Sex_M': X_test.loc[:,\"Sex_M\"], \n",
    "                           'BP_HIGH': X_test.loc[:,\"BP_HIGH\"], \n",
    "                           'BP_LOW': X_test.loc[:,\"BP_LOW\"],\n",
    "                           'BP_NORMAL': X_test.loc[:,\"BP_NORMAL\"],\n",
    "                           'Cholesterol_HIGH': X_test.loc[:,\"Cholesterol_HIGH\"],\n",
    "                           'Cholesterol_NORMAL': X_test.loc[:,\"Cholesterol_NORMAL\"],\n",
    "                           'Age_binned_<20s': X_test.loc[:,\"Age_binned_<20s\"],\n",
    "                           'Age_binned_20s': X_test.loc[:,\"Age_binned_20s\"],\n",
    "                           'Age_binned_30s': X_test.loc[:,\"Age_binned_30s\"],\n",
    "                           'Age_binned_40s': X_test.loc[:,\"Age_binned_40s\"],\n",
    "                           'Age_binned_50s': X_test.loc[:,\"Age_binned_50s\"],\n",
    "                           'Age_binned_60s': X_test.loc[:,\"Age_binned_60s\"],\n",
    "                           'Age_binned_>60s': X_test.loc[:,\"Age_binned_>60s\"],\n",
    "                           'Na_to_K_binned_<10': X_test.loc[:,\"Na_to_K_binned_<10\"],\n",
    "                           'Na_to_K_binned_10-20': X_test.loc[:,\"Na_to_K_binned_10-20\"],\n",
    "                           'Na_to_K_binned_20-30': X_test.loc[:,\"Na_to_K_binned_20-30\"],\n",
    "                           'Na_to_K_binned_>30': X_test.loc[:,\"Na_to_K_binned_>30\"],'DrugType': pred_lr})"
   ]
  },
  {
   "cell_type": "code",
   "execution_count": 42,
   "id": "4e0a857e",
   "metadata": {
    "execution": {
     "iopub.execute_input": "2022-05-04T02:55:07.925228Z",
     "iopub.status.busy": "2022-05-04T02:55:07.924473Z",
     "iopub.status.idle": "2022-05-04T02:55:07.970602Z",
     "shell.execute_reply": "2022-05-04T02:55:07.970068Z",
     "shell.execute_reply.started": "2022-03-08T01:26:43.799653Z"
    },
    "papermill": {
     "duration": 0.131211,
     "end_time": "2022-05-04T02:55:07.970773",
     "exception": false,
     "start_time": "2022-05-04T02:55:07.839562",
     "status": "completed"
    },
    "tags": [],
    "ExecuteTime": {
     "end_time": "2023-05-12T09:46:40.703705Z",
     "start_time": "2023-05-12T09:46:40.685894Z"
    }
   },
   "outputs": [],
   "source": [
    "# Sex\n",
    "prediction['Sex_F'] = prediction['Sex_F'].replace([1, 0],['Female', 'Male'])\n",
    "\n",
    "#BP\n",
    "prediction['BP_HIGH'] = prediction['BP_HIGH'].replace([1, 0],['High',''])\n",
    "prediction['BP_LOW'] = prediction['BP_LOW'].replace([1, 0],['Low', ''])\n",
    "prediction['BP_NORMAL'] = prediction['BP_NORMAL'].replace([1, 0],['Normal', ''])\n",
    "\n",
    "prediction['BP_HIGH'] = np.where((prediction['BP_HIGH'] == ''), prediction['BP_LOW'], prediction['BP_HIGH'])\n",
    "prediction['BP_HIGH'] = np.where((prediction['BP_HIGH'] == ''), prediction['BP_NORMAL'], prediction['BP_HIGH'])\n",
    "\n",
    "#Cholestrol\n",
    "prediction['Cholesterol_HIGH'] = prediction['Cholesterol_HIGH'].replace([1, 0],['High', 'Normal'])\n",
    "\n",
    "#Age_binned\n",
    "prediction['Age_binned_<20s'] = prediction['Age_binned_<20s'].replace([1, 0],['<20s',''])\n",
    "prediction['Age_binned_20s'] = prediction['Age_binned_20s'].replace([1, 0],['20s',''])\n",
    "prediction['Age_binned_30s'] = prediction['Age_binned_30s'].replace([1, 0],['30s',''])\n",
    "prediction['Age_binned_40s'] = prediction['Age_binned_40s'].replace([1, 0],['40s',''])\n",
    "prediction['Age_binned_50s'] = prediction['Age_binned_50s'].replace([1, 0],['50s',''])\n",
    "prediction['Age_binned_60s'] = prediction['Age_binned_60s'].replace([1, 0],['60s',''])\n",
    "prediction['Age_binned_>60s'] = prediction['Age_binned_>60s'].replace([1, 0],['>60s',''])\n",
    "\n",
    "prediction['Age_binned_<20s'] = np.where((prediction['Age_binned_<20s'] == ''), prediction['Age_binned_20s'], prediction['Age_binned_<20s'])\n",
    "prediction['Age_binned_<20s'] = np.where((prediction['Age_binned_<20s'] == ''), prediction['Age_binned_30s'], prediction['Age_binned_<20s'])\n",
    "prediction['Age_binned_<20s'] = np.where((prediction['Age_binned_<20s'] == ''), prediction['Age_binned_40s'], prediction['Age_binned_<20s'])\n",
    "prediction['Age_binned_<20s'] = np.where((prediction['Age_binned_<20s'] == ''), prediction['Age_binned_50s'], prediction['Age_binned_<20s'])\n",
    "prediction['Age_binned_<20s'] = np.where((prediction['Age_binned_<20s'] == ''), prediction['Age_binned_60s'], prediction['Age_binned_<20s'])\n",
    "prediction['Age_binned_<20s'] = np.where((prediction['Age_binned_<20s'] == ''), prediction['Age_binned_>60s'], prediction['Age_binned_<20s'])\n",
    "\n",
    "#Na to K\n",
    "prediction['Na_to_K_binned_<10'] = prediction['Na_to_K_binned_<10'].replace([1, 0],['<10',''])\n",
    "prediction['Na_to_K_binned_10-20'] = prediction['Na_to_K_binned_10-20'].replace([1, 0],['10-20',''])\n",
    "prediction['Na_to_K_binned_20-30'] = prediction['Na_to_K_binned_20-30'].replace([1, 0],['20-30',''])\n",
    "prediction['Na_to_K_binned_>30'] = prediction['Na_to_K_binned_>30'].replace([1, 0],['>30s',''])\n",
    "\n",
    "prediction['Na_to_K_binned_<10'] = np.where((prediction['Na_to_K_binned_<10'] == ''), prediction['Na_to_K_binned_10-20'], prediction['Na_to_K_binned_<10'])\n",
    "prediction['Na_to_K_binned_<10'] = np.where((prediction['Na_to_K_binned_<10'] == ''), prediction['Na_to_K_binned_20-30'], prediction['Na_to_K_binned_<10'])\n",
    "prediction['Na_to_K_binned_<10'] = np.where((prediction['Na_to_K_binned_<10'] == ''), prediction['Na_to_K_binned_>30'], prediction['Na_to_K_binned_<10'])\n",
    "\n",
    "# Drop columns\n",
    "prediction = prediction.drop(['Sex_M', 'BP_LOW', 'BP_NORMAL', 'Cholesterol_NORMAL', 'Age_binned_20s', 'Age_binned_30s',\n",
    "                 'Age_binned_40s', 'Age_binned_50s', 'Age_binned_60s', 'Age_binned_>60s',\n",
    "                'Na_to_K_binned_10-20', 'Na_to_K_binned_20-30', 'Na_to_K_binned_>30'], axis = 1)"
   ]
  },
  {
   "cell_type": "code",
   "execution_count": 43,
   "id": "8d603d1d",
   "metadata": {
    "execution": {
     "iopub.execute_input": "2022-05-04T02:55:08.142301Z",
     "iopub.status.busy": "2022-05-04T02:55:08.141589Z",
     "iopub.status.idle": "2022-05-04T02:55:08.143662Z",
     "shell.execute_reply": "2022-05-04T02:55:08.144198Z",
     "shell.execute_reply.started": "2022-03-08T01:26:43.848292Z"
    },
    "papermill": {
     "duration": 0.090514,
     "end_time": "2022-05-04T02:55:08.144533",
     "exception": false,
     "start_time": "2022-05-04T02:55:08.054019",
     "status": "completed"
    },
    "tags": [],
    "ExecuteTime": {
     "end_time": "2023-05-12T09:46:41.086378Z",
     "start_time": "2023-05-12T09:46:41.033562Z"
    }
   },
   "outputs": [],
   "source": [
    "# Rename columns name\n",
    "new_name = {'Sex_F': 'Sex', 'BP_HIGH': 'BP', 'Cholesterol_HIGH': 'Cholesterol', 'Age_binned_<20s': 'Age_binned',\n",
    "          'Na_to_K_binned_<10': 'Na_to_K_binned'}\n",
    "prediction.rename(columns=new_name, inplace=True)"
   ]
  },
  {
   "cell_type": "markdown",
   "id": "b10c4587",
   "metadata": {
    "papermill": {
     "duration": 0.080601,
     "end_time": "2022-05-04T02:55:08.307497",
     "exception": false,
     "start_time": "2022-05-04T02:55:08.226896",
     "status": "completed"
    },
    "tags": []
   },
   "source": [
    "## 9.2 Generating output file (CSV) 📄"
   ]
  },
  {
   "cell_type": "code",
   "execution_count": 44,
   "id": "151142c8",
   "metadata": {
    "execution": {
     "iopub.execute_input": "2022-05-04T02:55:08.469427Z",
     "iopub.status.busy": "2022-05-04T02:55:08.468705Z",
     "iopub.status.idle": "2022-05-04T02:55:08.485885Z",
     "shell.execute_reply": "2022-05-04T02:55:08.486500Z",
     "shell.execute_reply.started": "2022-03-08T01:26:43.856338Z"
    },
    "papermill": {
     "duration": 0.099969,
     "end_time": "2022-05-04T02:55:08.486680",
     "exception": false,
     "start_time": "2022-05-04T02:55:08.386711",
     "status": "completed"
    },
    "tags": [],
    "ExecuteTime": {
     "end_time": "2023-05-12T09:46:43.501824Z",
     "start_time": "2023-05-12T09:46:43.442208Z"
    }
   },
   "outputs": [
    {
     "data": {
      "text/plain": "      Sex      BP Cholesterol Age_binned Na_to_K_binned DrugType\n0    Male     Low        High        20s            <10    drugC\n1  Female  Normal        High        20s          10-20    drugX\n2    Male     Low        High        40s          20-30    drugY\n3    Male    High      Normal        20s           >30s    drugY\n4    Male  Normal        High        20s          20-30    drugY",
      "text/html": "<div>\n<style scoped>\n    .dataframe tbody tr th:only-of-type {\n        vertical-align: middle;\n    }\n\n    .dataframe tbody tr th {\n        vertical-align: top;\n    }\n\n    .dataframe thead th {\n        text-align: right;\n    }\n</style>\n<table border=\"1\" class=\"dataframe\">\n  <thead>\n    <tr style=\"text-align: right;\">\n      <th></th>\n      <th>Sex</th>\n      <th>BP</th>\n      <th>Cholesterol</th>\n      <th>Age_binned</th>\n      <th>Na_to_K_binned</th>\n      <th>DrugType</th>\n    </tr>\n  </thead>\n  <tbody>\n    <tr>\n      <th>0</th>\n      <td>Male</td>\n      <td>Low</td>\n      <td>High</td>\n      <td>20s</td>\n      <td>&lt;10</td>\n      <td>drugC</td>\n    </tr>\n    <tr>\n      <th>1</th>\n      <td>Female</td>\n      <td>Normal</td>\n      <td>High</td>\n      <td>20s</td>\n      <td>10-20</td>\n      <td>drugX</td>\n    </tr>\n    <tr>\n      <th>2</th>\n      <td>Male</td>\n      <td>Low</td>\n      <td>High</td>\n      <td>40s</td>\n      <td>20-30</td>\n      <td>drugY</td>\n    </tr>\n    <tr>\n      <th>3</th>\n      <td>Male</td>\n      <td>High</td>\n      <td>Normal</td>\n      <td>20s</td>\n      <td>&gt;30s</td>\n      <td>drugY</td>\n    </tr>\n    <tr>\n      <th>4</th>\n      <td>Male</td>\n      <td>Normal</td>\n      <td>High</td>\n      <td>20s</td>\n      <td>20-30</td>\n      <td>drugY</td>\n    </tr>\n  </tbody>\n</table>\n</div>"
     },
     "execution_count": 44,
     "metadata": {},
     "output_type": "execute_result"
    }
   ],
   "source": [
    "prediction.to_csv('prediction.csv', index=False)\n",
    "predictioncsv = pd.read_csv('./prediction.csv')\n",
    "predictioncsv.head()"
   ]
  },
  {
   "cell_type": "markdown",
   "id": "13f6d81d",
   "metadata": {
    "papermill": {
     "duration": 0.079303,
     "end_time": "2022-05-04T02:55:08.645197",
     "exception": false,
     "start_time": "2022-05-04T02:55:08.565894",
     "status": "completed"
    },
    "tags": []
   },
   "source": [
    "# 10. References 🔗\n",
    "📚 **Kaggle Notebook**:\n",
    "*  [Drug Classification With Different Algorithms by Görkem Günay](https://www.kaggle.com/gorkemgunay/drug-classification-with-different-algorithms)\n",
    "*  [Drug Classification - 100% Accuracy by Erin Ward](https://www.kaggle.com/eward96/drug-classification-100-accuracy)\n",
    "*  [drug prediction with acc(100 %) by Sachin Sharma](https://www.kaggle.com/sachinsharma1123/drug-prediction-with-acc-100)"
   ]
  },
  {
   "cell_type": "markdown",
   "id": "940b761b",
   "metadata": {
    "id": "x3fbe4CXnz9e",
    "papermill": {
     "duration": 0.087594,
     "end_time": "2022-05-04T02:55:08.812390",
     "exception": false,
     "start_time": "2022-05-04T02:55:08.724796",
     "status": "completed"
    },
    "tags": []
   },
   "source": [
    "---\n",
    "\n",
    "**Like this notebook? You can support me by giving upvote** 😆👍🔼 <br>\n",
    "👉 *More about myself: [linktr.ee/caesarmario_](http://linktr.ee/caesarmario_)*"
   ]
  }
 ],
 "metadata": {
  "kernelspec": {
   "display_name": "Python 3",
   "language": "python",
   "name": "python3"
  },
  "language_info": {
   "codemirror_mode": {
    "name": "ipython",
    "version": 3
   },
   "file_extension": ".py",
   "mimetype": "text/x-python",
   "name": "python",
   "nbconvert_exporter": "python",
   "pygments_lexer": "ipython3",
   "version": "3.7.10"
  },
  "papermill": {
   "default_parameters": {},
   "duration": 123.972965,
   "end_time": "2022-05-04T02:55:10.135212",
   "environment_variables": {},
   "exception": null,
   "input_path": "__notebook__.ipynb",
   "output_path": "__notebook__.ipynb",
   "parameters": {},
   "start_time": "2022-05-04T02:53:06.162247",
   "version": "2.3.3"
  }
 },
 "nbformat": 4,
 "nbformat_minor": 5
}
