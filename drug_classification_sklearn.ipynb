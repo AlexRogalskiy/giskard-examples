{
 "cells": [
  {
   "cell_type": "markdown",
   "source": [
    "# Drug classification [sklearn]\n",
    "* Multiclass classification of drug type, given person's health data.\n",
    "* Reference notebook: <https://www.kaggle.com/code/caesarmario/drug-classification-w-various-ml-models>\n",
    "* Dataset: <https://www.kaggle.com/datasets/prathamtripathi/drug-classification?datasetId=830916&sortBy=voteCount>"
   ],
   "metadata": {
    "collapsed": false
   }
  },
  {
   "cell_type": "markdown",
   "source": [
    "## Import libraries"
   ],
   "metadata": {
    "collapsed": false
   }
  },
  {
   "cell_type": "code",
   "execution_count": 11,
   "outputs": [],
   "source": [
    "import os\n",
    "\n",
    "import numpy as np\n",
    "import pandas as pd\n",
    "from sklearn.svm import SVC\n",
    "from imblearn.over_sampling import SMOTE\n",
    "from sklearn.metrics import accuracy_score\n",
    "from sklearn.preprocessing import OneHotEncoder\n",
    "from sklearn.model_selection import train_test_split\n",
    "from imblearn.pipeline import Pipeline as PipelineImb\n",
    "\n",
    "import giskard\n",
    "from giskard import Dataset, Model"
   ],
   "metadata": {
    "collapsed": false,
    "ExecuteTime": {
     "end_time": "2023-05-12T14:04:34.634788Z",
     "start_time": "2023-05-12T14:04:34.427885Z"
    }
   }
  },
  {
   "cell_type": "markdown",
   "source": [
    "## Define constants"
   ],
   "metadata": {
    "collapsed": false
   }
  },
  {
   "cell_type": "code",
   "execution_count": 12,
   "outputs": [],
   "source": [
    "# Constants.\n",
    "RANDOM_SEED = 0\n",
    "\n",
    "TARGET_NAME = \"Drug\"\n",
    "\n",
    "AGE_BINS = [0, 19, 29, 39, 49, 59, 69, 80]\n",
    "AGE_CATEGORIES = ['<20s', '20s', '30s', '40s', '50s', '60s', '>60s']\n",
    "\n",
    "NA_TO_K_BINS = [0, 9, 19, 29, 50]\n",
    "NA_TO_K_CATEGORIES = ['<10', '10-20', '20-30', '>30']\n",
    "\n",
    "# Paths.\n",
    "PATH_DATA = os.path.join(\".\", \"datasets\", \"drug_classification_dataset\", \"drug200.csv\")"
   ],
   "metadata": {
    "collapsed": false,
    "ExecuteTime": {
     "end_time": "2023-05-12T14:04:34.635176Z",
     "start_time": "2023-05-12T14:04:34.542042Z"
    }
   }
  },
  {
   "cell_type": "markdown",
   "source": [
    "## Load data"
   ],
   "metadata": {
    "collapsed": false
   }
  },
  {
   "cell_type": "code",
   "execution_count": 13,
   "id": "a1887adb",
   "metadata": {
    "execution": {
     "iopub.execute_input": "2022-05-04T02:53:16.032035Z",
     "iopub.status.busy": "2022-05-04T02:53:16.030941Z",
     "iopub.status.idle": "2022-05-04T02:53:16.050526Z",
     "shell.execute_reply": "2022-05-04T02:53:16.051084Z",
     "shell.execute_reply.started": "2022-03-08T01:25:03.464398Z"
    },
    "id": "MttOdogGf977",
    "papermill": {
     "duration": 0.081087,
     "end_time": "2022-05-04T02:53:16.051265",
     "exception": false,
     "start_time": "2022-05-04T02:53:15.970178",
     "status": "completed"
    },
    "tags": [],
    "ExecuteTime": {
     "end_time": "2023-05-12T14:04:34.652244Z",
     "start_time": "2023-05-12T14:04:34.558039Z"
    }
   },
   "outputs": [
    {
     "name": "stdout",
     "output_type": "stream",
     "text": [
      "Loading data...\n",
      "Loading data finished!\n"
     ]
    }
   ],
   "source": [
    "def load_data() -> pd.DataFrame:\n",
    "    \"\"\"Load data.\"\"\"\n",
    "    print(f\"Loading data...\")\n",
    "    df = pd.read_csv(PATH_DATA)\n",
    "    print(f\"Loading data finished!\")\n",
    "    return df\n",
    "\n",
    "df_drug = load_data()"
   ]
  },
  {
   "cell_type": "code",
   "execution_count": 21,
   "outputs": [
    {
     "data": {
      "text/plain": "      Age Sex      BP Cholesterol Na_to_K   Drug\n0     20s   F    HIGH        HIGH   20-30  drugY\n1     40s   M     LOW        HIGH   10-20  drugC\n2     40s   M     LOW        HIGH   10-20  drugC\n3     20s   F  NORMAL        HIGH     <10  drugX\n4     60s   F     LOW        HIGH   10-20  drugY\n..    ...  ..     ...         ...     ...    ...\n195   50s   F     LOW        HIGH   10-20  drugC\n196  <20s   M     LOW        HIGH   10-20  drugC\n197   50s   M  NORMAL        HIGH   10-20  drugX\n198   20s   M  NORMAL      NORMAL   10-20  drugX\n199   40s   F     LOW      NORMAL   10-20  drugX\n\n[200 rows x 6 columns]",
      "text/html": "<div>\n<style scoped>\n    .dataframe tbody tr th:only-of-type {\n        vertical-align: middle;\n    }\n\n    .dataframe tbody tr th {\n        vertical-align: top;\n    }\n\n    .dataframe thead th {\n        text-align: right;\n    }\n</style>\n<table border=\"1\" class=\"dataframe\">\n  <thead>\n    <tr style=\"text-align: right;\">\n      <th></th>\n      <th>Age</th>\n      <th>Sex</th>\n      <th>BP</th>\n      <th>Cholesterol</th>\n      <th>Na_to_K</th>\n      <th>Drug</th>\n    </tr>\n  </thead>\n  <tbody>\n    <tr>\n      <th>0</th>\n      <td>20s</td>\n      <td>F</td>\n      <td>HIGH</td>\n      <td>HIGH</td>\n      <td>20-30</td>\n      <td>drugY</td>\n    </tr>\n    <tr>\n      <th>1</th>\n      <td>40s</td>\n      <td>M</td>\n      <td>LOW</td>\n      <td>HIGH</td>\n      <td>10-20</td>\n      <td>drugC</td>\n    </tr>\n    <tr>\n      <th>2</th>\n      <td>40s</td>\n      <td>M</td>\n      <td>LOW</td>\n      <td>HIGH</td>\n      <td>10-20</td>\n      <td>drugC</td>\n    </tr>\n    <tr>\n      <th>3</th>\n      <td>20s</td>\n      <td>F</td>\n      <td>NORMAL</td>\n      <td>HIGH</td>\n      <td>&lt;10</td>\n      <td>drugX</td>\n    </tr>\n    <tr>\n      <th>4</th>\n      <td>60s</td>\n      <td>F</td>\n      <td>LOW</td>\n      <td>HIGH</td>\n      <td>10-20</td>\n      <td>drugY</td>\n    </tr>\n    <tr>\n      <th>...</th>\n      <td>...</td>\n      <td>...</td>\n      <td>...</td>\n      <td>...</td>\n      <td>...</td>\n      <td>...</td>\n    </tr>\n    <tr>\n      <th>195</th>\n      <td>50s</td>\n      <td>F</td>\n      <td>LOW</td>\n      <td>HIGH</td>\n      <td>10-20</td>\n      <td>drugC</td>\n    </tr>\n    <tr>\n      <th>196</th>\n      <td>&lt;20s</td>\n      <td>M</td>\n      <td>LOW</td>\n      <td>HIGH</td>\n      <td>10-20</td>\n      <td>drugC</td>\n    </tr>\n    <tr>\n      <th>197</th>\n      <td>50s</td>\n      <td>M</td>\n      <td>NORMAL</td>\n      <td>HIGH</td>\n      <td>10-20</td>\n      <td>drugX</td>\n    </tr>\n    <tr>\n      <th>198</th>\n      <td>20s</td>\n      <td>M</td>\n      <td>NORMAL</td>\n      <td>NORMAL</td>\n      <td>10-20</td>\n      <td>drugX</td>\n    </tr>\n    <tr>\n      <th>199</th>\n      <td>40s</td>\n      <td>F</td>\n      <td>LOW</td>\n      <td>NORMAL</td>\n      <td>10-20</td>\n      <td>drugX</td>\n    </tr>\n  </tbody>\n</table>\n<p>200 rows × 6 columns</p>\n</div>"
     },
     "execution_count": 21,
     "metadata": {},
     "output_type": "execute_result"
    }
   ],
   "source": [
    "df_drug"
   ],
   "metadata": {
    "collapsed": false,
    "ExecuteTime": {
     "end_time": "2023-05-12T14:05:03.241809Z",
     "start_time": "2023-05-12T14:05:03.194143Z"
    }
   }
  },
  {
   "cell_type": "markdown",
   "source": [
    "## Define preprocessing steps"
   ],
   "metadata": {
    "collapsed": false
   }
  },
  {
   "cell_type": "code",
   "execution_count": 14,
   "outputs": [],
   "source": [
    "def bin_numerical(df: pd.DataFrame) -> np.ndarray:\n",
    "    \"\"\"Perform numerical features binning.\"\"\"\n",
    "    def _bin_age(_df: pd.DataFrame) -> pd.DataFrame:\n",
    "        \"\"\"Bin age feature.\"\"\"\n",
    "        _df.Age = pd.cut(_df.Age, bins=AGE_BINS, labels=AGE_CATEGORIES)\n",
    "        return _df\n",
    "\n",
    "    def _bin_na_to_k(_df: pd.DataFrame) -> pd.DataFrame:\n",
    "        \"\"\"Bin Na_to_K feature.\"\"\"\n",
    "        _df.Na_to_K = pd.cut(_df.Na_to_K, bins=NA_TO_K_BINS, labels=NA_TO_K_CATEGORIES)\n",
    "        return _df\n",
    "\n",
    "    df = df.copy()\n",
    "    df = _bin_age(df)\n",
    "    df = _bin_na_to_k(df)\n",
    "\n",
    "    return df\n",
    "\n",
    "df_drug = bin_numerical(df_drug)"
   ],
   "metadata": {
    "collapsed": false,
    "ExecuteTime": {
     "end_time": "2023-05-12T14:04:34.652411Z",
     "start_time": "2023-05-12T14:04:34.600534Z"
    }
   }
  },
  {
   "cell_type": "markdown",
   "source": [
    "## Train-test split"
   ],
   "metadata": {
    "collapsed": false
   }
  },
  {
   "cell_type": "code",
   "execution_count": 15,
   "outputs": [],
   "source": [
    "X_train, X_test, y_train, y_test = train_test_split(df_drug.drop(TARGET_NAME, axis=1), df_drug.Drug,\n",
    "                                                    test_size=0.3, random_state=RANDOM_SEED)"
   ],
   "metadata": {
    "collapsed": false,
    "ExecuteTime": {
     "end_time": "2023-05-12T14:04:34.652588Z",
     "start_time": "2023-05-12T14:04:34.629029Z"
    }
   }
  },
  {
   "cell_type": "markdown",
   "id": "bacc2a6c",
   "metadata": {
    "id": "2D1sczYQneQZ",
    "papermill": {
     "duration": 0.072561,
     "end_time": "2022-05-04T02:53:28.063558",
     "exception": false,
     "start_time": "2022-05-04T02:53:27.990997",
     "status": "completed"
    },
    "tags": []
   },
   "source": [
    "## Build Support Vector Machine classifier"
   ]
  },
  {
   "cell_type": "code",
   "execution_count": 16,
   "outputs": [
    {
     "name": "stdout",
     "output_type": "stream",
     "text": [
      "Model training...\n",
      "Model training finished!\n",
      "Model testing...\n",
      "Test accuracy score: 0.85\n"
     ]
    },
    {
     "name": "stderr",
     "output_type": "stream",
     "text": [
      "/Users/mykytaalekseiev/IdeaProjects/GiskardExamples/venv/lib/python3.10/site-packages/sklearn/svm/_base.py:299: ConvergenceWarning: Solver terminated early (max_iter=250).  Consider pre-processing your data with StandardScaler or MinMaxScaler.\n",
      "  warnings.warn(\n"
     ]
    }
   ],
   "source": [
    "pipeline = PipelineImb(steps=[\n",
    "    (\"one_hot_encoder\", OneHotEncoder()),\n",
    "    (\"resampler\", SMOTE(random_state=RANDOM_SEED)),\n",
    "    (\"classifier\", SVC(kernel='linear', max_iter=250, random_state=RANDOM_SEED, probability=True))\n",
    "])\n",
    "\n",
    "print(f\"Model training...\")\n",
    "pipeline.fit(X_train, y_train)\n",
    "print(f\"Model training finished!\")\n",
    "\n",
    "print(f\"Model testing...\")\n",
    "y_pred = pipeline.predict(X_test)\n",
    "metric = accuracy_score(y_pred, y_test)\n",
    "print(f\"Test accuracy score: {metric}\")"
   ],
   "metadata": {
    "collapsed": false,
    "ExecuteTime": {
     "end_time": "2023-05-12T14:04:34.735919Z",
     "start_time": "2023-05-12T14:04:34.636017Z"
    }
   }
  },
  {
   "cell_type": "markdown",
   "source": [
    "## Wrap dataset and model and perform scanning"
   ],
   "metadata": {
    "collapsed": false
   }
  },
  {
   "cell_type": "code",
   "execution_count": 22,
   "outputs": [
    {
     "name": "stdout",
     "output_type": "stream",
     "text": [
      "Your 'pandas.DataFrame' is successfully wrapped by Giskard's 'Dataset' wrapper class.\n"
     ]
    }
   ],
   "source": [
    "raw_dataset = pd.concat([X_train, y_train], axis=1)\n",
    "wrapped_dataset = Dataset(raw_dataset,\n",
    "                          name=\"drug_classification_dataset\",\n",
    "                          target=TARGET_NAME,\n",
    "                          cat_columns=X_test.columns.tolist())"
   ],
   "metadata": {
    "collapsed": false,
    "ExecuteTime": {
     "end_time": "2023-05-12T14:06:16.143607Z",
     "start_time": "2023-05-12T14:06:16.126Z"
    }
   }
  },
  {
   "cell_type": "code",
   "execution_count": 24,
   "outputs": [
    {
     "name": "stdout",
     "output_type": "stream",
     "text": [
      "Your 'model' is successfully wrapped by Giskard's 'SKLearnModel' wrapper class.\n"
     ]
    }
   ],
   "source": [
    "wrapped_model = Model(pipeline,\n",
    "                      model_type=\"classification\",\n",
    "                      name=\"drug_classifier\",\n",
    "                      feature_names=X_test.columns.tolist())"
   ],
   "metadata": {
    "collapsed": false,
    "ExecuteTime": {
     "end_time": "2023-05-12T14:06:26.324355Z",
     "start_time": "2023-05-12T14:06:26.302875Z"
    }
   }
  },
  {
   "cell_type": "code",
   "execution_count": 25,
   "outputs": [
    {
     "name": "stdout",
     "output_type": "stream",
     "text": [
      "Your 'pandas.DataFrame' is successfully wrapped by Giskard's 'Dataset' wrapper class.\n",
      "Your model is successfully validated.\n",
      "Your 'pandas.DataFrame' is successfully wrapped by Giskard's 'Dataset' wrapper class.\n",
      "Your 'pandas.DataFrame' is successfully wrapped by Giskard's 'Dataset' wrapper class.\n",
      "Your 'pandas.DataFrame' is successfully wrapped by Giskard's 'Dataset' wrapper class.\n",
      "Your 'pandas.DataFrame' is successfully wrapped by Giskard's 'Dataset' wrapper class.\n",
      "Your 'pandas.DataFrame' is successfully wrapped by Giskard's 'Dataset' wrapper class.\n",
      "Your 'pandas.DataFrame' is successfully wrapped by Giskard's 'Dataset' wrapper class.\n",
      "Your 'pandas.DataFrame' is successfully wrapped by Giskard's 'Dataset' wrapper class.\n",
      "Your 'pandas.DataFrame' is successfully wrapped by Giskard's 'Dataset' wrapper class.\n",
      "Your 'pandas.DataFrame' is successfully wrapped by Giskard's 'Dataset' wrapper class.\n",
      "Your 'pandas.DataFrame' is successfully wrapped by Giskard's 'Dataset' wrapper class.\n",
      "Your 'pandas.DataFrame' is successfully wrapped by Giskard's 'Dataset' wrapper class.\n",
      "Your 'pandas.DataFrame' is successfully wrapped by Giskard's 'Dataset' wrapper class.\n",
      "Your 'pandas.DataFrame' is successfully wrapped by Giskard's 'Dataset' wrapper class.\n",
      "Your 'pandas.DataFrame' is successfully wrapped by Giskard's 'Dataset' wrapper class.\n",
      "Your 'pandas.DataFrame' is successfully wrapped by Giskard's 'Dataset' wrapper class.\n",
      "Your 'pandas.DataFrame' is successfully wrapped by Giskard's 'Dataset' wrapper class.\n",
      "Your 'pandas.DataFrame' is successfully wrapped by Giskard's 'Dataset' wrapper class.\n",
      "Your 'pandas.DataFrame' is successfully wrapped by Giskard's 'Dataset' wrapper class.\n",
      "Your 'pandas.DataFrame' is successfully wrapped by Giskard's 'Dataset' wrapper class.\n",
      "Your 'pandas.DataFrame' is successfully wrapped by Giskard's 'Dataset' wrapper class.\n",
      "Your 'pandas.DataFrame' is successfully wrapped by Giskard's 'Dataset' wrapper class.\n",
      "Your 'pandas.DataFrame' is successfully wrapped by Giskard's 'Dataset' wrapper class.\n",
      "Your 'pandas.DataFrame' is successfully wrapped by Giskard's 'Dataset' wrapper class.\n",
      "Your 'pandas.DataFrame' is successfully wrapped by Giskard's 'Dataset' wrapper class.\n",
      "Your 'pandas.DataFrame' is successfully wrapped by Giskard's 'Dataset' wrapper class.\n",
      "Your 'pandas.DataFrame' is successfully wrapped by Giskard's 'Dataset' wrapper class.\n",
      "Your 'pandas.DataFrame' is successfully wrapped by Giskard's 'Dataset' wrapper class.\n",
      "Your 'pandas.DataFrame' is successfully wrapped by Giskard's 'Dataset' wrapper class.\n",
      "Your 'pandas.DataFrame' is successfully wrapped by Giskard's 'Dataset' wrapper class.\n",
      "Your 'pandas.DataFrame' is successfully wrapped by Giskard's 'Dataset' wrapper class.\n",
      "Your 'pandas.DataFrame' is successfully wrapped by Giskard's 'Dataset' wrapper class.\n",
      "Your 'pandas.DataFrame' is successfully wrapped by Giskard's 'Dataset' wrapper class.\n",
      "Your 'pandas.DataFrame' is successfully wrapped by Giskard's 'Dataset' wrapper class.\n",
      "Your 'pandas.DataFrame' is successfully wrapped by Giskard's 'Dataset' wrapper class.\n",
      "Your 'pandas.DataFrame' is successfully wrapped by Giskard's 'Dataset' wrapper class.\n",
      "Your 'pandas.DataFrame' is successfully wrapped by Giskard's 'Dataset' wrapper class.\n",
      "Your 'pandas.DataFrame' is successfully wrapped by Giskard's 'Dataset' wrapper class.\n",
      "Your 'pandas.DataFrame' is successfully wrapped by Giskard's 'Dataset' wrapper class.\n",
      "Your 'pandas.DataFrame' is successfully wrapped by Giskard's 'Dataset' wrapper class.\n",
      "Your 'pandas.DataFrame' is successfully wrapped by Giskard's 'Dataset' wrapper class.\n",
      "Your 'pandas.DataFrame' is successfully wrapped by Giskard's 'Dataset' wrapper class.\n",
      "Your 'pandas.DataFrame' is successfully wrapped by Giskard's 'Dataset' wrapper class.\n",
      "Your 'pandas.DataFrame' is successfully wrapped by Giskard's 'Dataset' wrapper class.\n",
      "Your 'pandas.DataFrame' is successfully wrapped by Giskard's 'Dataset' wrapper class.\n",
      "Your 'pandas.DataFrame' is successfully wrapped by Giskard's 'Dataset' wrapper class.\n",
      "Your 'pandas.DataFrame' is successfully wrapped by Giskard's 'Dataset' wrapper class.\n",
      "Your 'pandas.DataFrame' is successfully wrapped by Giskard's 'Dataset' wrapper class.\n",
      "Your 'pandas.DataFrame' is successfully wrapped by Giskard's 'Dataset' wrapper class.\n",
      "Your 'pandas.DataFrame' is successfully wrapped by Giskard's 'Dataset' wrapper class.\n",
      "Your 'pandas.DataFrame' is successfully wrapped by Giskard's 'Dataset' wrapper class.\n",
      "Your 'pandas.DataFrame' is successfully wrapped by Giskard's 'Dataset' wrapper class.\n",
      "Your 'pandas.DataFrame' is successfully wrapped by Giskard's 'Dataset' wrapper class.\n",
      "Your 'pandas.DataFrame' is successfully wrapped by Giskard's 'Dataset' wrapper class.\n",
      "Your 'pandas.DataFrame' is successfully wrapped by Giskard's 'Dataset' wrapper class.\n",
      "Your 'pandas.DataFrame' is successfully wrapped by Giskard's 'Dataset' wrapper class.\n",
      "Your 'pandas.DataFrame' is successfully wrapped by Giskard's 'Dataset' wrapper class.\n",
      "Your 'pandas.DataFrame' is successfully wrapped by Giskard's 'Dataset' wrapper class.\n",
      "Your 'pandas.DataFrame' is successfully wrapped by Giskard's 'Dataset' wrapper class.\n",
      "Your 'pandas.DataFrame' is successfully wrapped by Giskard's 'Dataset' wrapper class.\n",
      "Your 'pandas.DataFrame' is successfully wrapped by Giskard's 'Dataset' wrapper class.\n",
      "Your 'pandas.DataFrame' is successfully wrapped by Giskard's 'Dataset' wrapper class.\n",
      "Your 'pandas.DataFrame' is successfully wrapped by Giskard's 'Dataset' wrapper class.\n",
      "Your 'pandas.DataFrame' is successfully wrapped by Giskard's 'Dataset' wrapper class.\n",
      "Your 'pandas.DataFrame' is successfully wrapped by Giskard's 'Dataset' wrapper class.\n",
      "Your 'pandas.DataFrame' is successfully wrapped by Giskard's 'Dataset' wrapper class.\n",
      "Your 'pandas.DataFrame' is successfully wrapped by Giskard's 'Dataset' wrapper class.\n",
      "Your 'pandas.DataFrame' is successfully wrapped by Giskard's 'Dataset' wrapper class.\n",
      "Your 'pandas.DataFrame' is successfully wrapped by Giskard's 'Dataset' wrapper class.\n",
      "Your 'pandas.DataFrame' is successfully wrapped by Giskard's 'Dataset' wrapper class.\n",
      "Your 'pandas.DataFrame' is successfully wrapped by Giskard's 'Dataset' wrapper class.\n",
      "Your 'pandas.DataFrame' is successfully wrapped by Giskard's 'Dataset' wrapper class.\n",
      "Your 'pandas.DataFrame' is successfully wrapped by Giskard's 'Dataset' wrapper class.\n",
      "Your 'pandas.DataFrame' is successfully wrapped by Giskard's 'Dataset' wrapper class.\n",
      "Your 'pandas.DataFrame' is successfully wrapped by Giskard's 'Dataset' wrapper class.\n",
      "Your 'pandas.DataFrame' is successfully wrapped by Giskard's 'Dataset' wrapper class.\n",
      "Your 'pandas.DataFrame' is successfully wrapped by Giskard's 'Dataset' wrapper class.\n",
      "Your 'pandas.DataFrame' is successfully wrapped by Giskard's 'Dataset' wrapper class.\n",
      "Your 'pandas.DataFrame' is successfully wrapped by Giskard's 'Dataset' wrapper class.\n",
      "Your 'pandas.DataFrame' is successfully wrapped by Giskard's 'Dataset' wrapper class.\n",
      "Your 'pandas.DataFrame' is successfully wrapped by Giskard's 'Dataset' wrapper class.\n",
      "Your 'pandas.DataFrame' is successfully wrapped by Giskard's 'Dataset' wrapper class.\n",
      "Your 'pandas.DataFrame' is successfully wrapped by Giskard's 'Dataset' wrapper class.\n",
      "Your 'pandas.DataFrame' is successfully wrapped by Giskard's 'Dataset' wrapper class.\n",
      "Your 'pandas.DataFrame' is successfully wrapped by Giskard's 'Dataset' wrapper class.\n",
      "Your 'pandas.DataFrame' is successfully wrapped by Giskard's 'Dataset' wrapper class.\n",
      "Your 'pandas.DataFrame' is successfully wrapped by Giskard's 'Dataset' wrapper class.\n",
      "Your 'pandas.DataFrame' is successfully wrapped by Giskard's 'Dataset' wrapper class.\n",
      "Your 'pandas.DataFrame' is successfully wrapped by Giskard's 'Dataset' wrapper class.\n",
      "Your 'pandas.DataFrame' is successfully wrapped by Giskard's 'Dataset' wrapper class.\n",
      "Your 'pandas.DataFrame' is successfully wrapped by Giskard's 'Dataset' wrapper class.\n",
      "Your 'pandas.DataFrame' is successfully wrapped by Giskard's 'Dataset' wrapper class.\n",
      "Your 'pandas.DataFrame' is successfully wrapped by Giskard's 'Dataset' wrapper class.\n"
     ]
    }
   ],
   "source": [
    "scanning_results = giskard.scan(wrapped_model, wrapped_dataset)"
   ],
   "metadata": {
    "collapsed": false,
    "ExecuteTime": {
     "end_time": "2023-05-12T14:06:35.403720Z",
     "start_time": "2023-05-12T14:06:28.720006Z"
    }
   }
  },
  {
   "cell_type": "code",
   "execution_count": 26,
   "outputs": [
    {
     "name": "stdout",
     "output_type": "stream",
     "text": [
      "Your 'pandas.DataFrame' is successfully wrapped by Giskard's 'Dataset' wrapper class.\n",
      "Your 'pandas.DataFrame' is successfully wrapped by Giskard's 'Dataset' wrapper class.\n",
      "Your 'pandas.DataFrame' is successfully wrapped by Giskard's 'Dataset' wrapper class.\n",
      "Your 'pandas.DataFrame' is successfully wrapped by Giskard's 'Dataset' wrapper class.\n",
      "Your 'pandas.DataFrame' is successfully wrapped by Giskard's 'Dataset' wrapper class.\n",
      "Your 'pandas.DataFrame' is successfully wrapped by Giskard's 'Dataset' wrapper class.\n",
      "Your 'pandas.DataFrame' is successfully wrapped by Giskard's 'Dataset' wrapper class.\n",
      "Your 'pandas.DataFrame' is successfully wrapped by Giskard's 'Dataset' wrapper class.\n",
      "Your 'pandas.DataFrame' is successfully wrapped by Giskard's 'Dataset' wrapper class.\n",
      "Your 'pandas.DataFrame' is successfully wrapped by Giskard's 'Dataset' wrapper class.\n",
      "Your 'pandas.DataFrame' is successfully wrapped by Giskard's 'Dataset' wrapper class.\n",
      "Your 'pandas.DataFrame' is successfully wrapped by Giskard's 'Dataset' wrapper class.\n",
      "Your 'pandas.DataFrame' is successfully wrapped by Giskard's 'Dataset' wrapper class.\n",
      "Your 'pandas.DataFrame' is successfully wrapped by Giskard's 'Dataset' wrapper class.\n"
     ]
    },
    {
     "data": {
      "text/html": "<iframe srcdoc=\"\n&lt;script src=&quot;https://cdn.tailwindcss.com&quot;&gt;&lt;/script&gt;\n&lt;script&gt;\n    tailwind.config = {\n        darkMode: &#x27;class&#x27;\n    }\n&lt;/script&gt;\n&lt;style&gt;\n    table.dataframe {\n        width: 100%;\n        max-width: 100%;\n        overflow: auto;\n    }\n\n    .dataframe tr {\n        border-bottom: 1px solid #555;\n    }\n\n    .dataframe td,\n    .dataframe th {\n        padding: 0.5rem;\n    }\n&lt;/style&gt;\n\n\n\n&lt;div class=&quot;dark&quot;&gt;\n    &lt;div id=&quot;gsk-scan&quot; class=&quot;dark:text-white dark:bg-zinc-900&quot;&gt;\n        &lt;!-- TAB HEADER --&gt;\n&lt;div class=&quot;flex items-center items-stretch h-11&quot;&gt;\n    &lt;div class=&quot;flex items-center px-4 dark:fill-white border-b border-gray-500 h-11&quot;&gt;\n        &lt;svg xmlns=&quot;http://www.w3.org/2000/svg&quot; xml:space=&quot;preserve&quot; viewBox=&quot;0 0 410 213&quot; height=&quot;15&quot;&gt;\n            &lt;path\n                d=&quot;M318.78 21.94a59.439 59.439 0 0 1 36.45-12.56v.03c7.09-.1 14.13 1.2 20.71 3.84 6.58 2.64 12.57 6.56 17.62 11.54s9.06 10.91 11.8 17.45a53.44 53.44 0 0 1 0 41.3 53.588 53.588 0 0 1-11.8 17.45c-5.05 4.98-11.04 8.9-17.62 11.54s-13.62 3.95-20.71 3.84l-67.92.16-35.87 49.11-135.24 46.84 40.81-47.24a139.229 139.229 0 0 1-66.06-23.8H45.11L0 101.46h55.73C60.38 44.84 115.97 0 183.59 0c31.71 0 63.58 9.86 87.47 27.04a105.149 105.149 0 0 1 26.65 27.18 59.4 59.4 0 0 1 21.07-32.28zM99.85 46.03l55.4 55.45h21.31l-64.81-64.87c-4.18 2.86-8.15 6.01-11.9 9.42zm57.78-28.45 83.9 83.9h21.29l-86.21-86.22c-6.37.32-12.71 1.1-18.98 2.32zm-92.84 98.94H39.72l11.1 9.82h22.44c-3-3.12-5.83-6.4-8.47-9.82zm134.27 0H84.8l-.03.01c20.8 20.91 51.79 33.67 84.66 34.3l29.63-34.31zm-34.81 63.35 77.79-26.94 26.6-36.39h-49.68l-54.71 63.33zm146.77-78.65h46.2l.05.01c9.98-.55 19.36-4.97 26.14-12.32a38.409 38.409 0 0 0 10.16-27.05 38.44 38.44 0 0 0-11.56-26.48 38.405 38.405 0 0 0-26.74-10.94A44.287 44.287 0 0 0 324 37.41a44.268 44.268 0 0 0-12.97 31.28v32.53zm51.82-52.83c5.27.52 9.12 5.22 8.6 10.49-.52 5.27-5.22 9.12-10.49 8.6s-9.12-5.22-8.6-10.49c.53-5.27 5.22-9.12 10.49-8.6z&quot;\n                style=&quot;fill-rule:evenodd;clip-rule:evenodd&quot; /&gt;\n        &lt;/svg&gt;\n        &lt;div class=&quot;ml-4 py-2&quot;&gt;\n            &lt;span class=&quot;uppercase text-sm&quot;&gt;14 issues detected&lt;/span&gt;\n        &lt;/div&gt;\n    &lt;/div&gt;\n\n    \n    &lt;div data-tab-target=&quot;Model_bias&quot; class=&quot;h-12 cursor-pointer group active&quot;&gt;\n        &lt;div\n            class=&quot;group-[.active]:bg-zinc-800 group-[.active]:border-b-zinc-800 group-[.active]:border-gray-500 border-l px-3 py-2 border-r border-t border-b border-gray-600 border-b-gray-500 h-11&quot;&gt;\n            Model bias\n            \n            \n            &lt;span class=&quot;ml-1 rounded-full text-xs min-w-4 min-h-4 px-1 py-0.5 inline-block text-center bg-red-400&quot;&gt;\n                \n                    14\n                &lt;/span&gt;\n                \n        &lt;/div&gt;\n    &lt;/div&gt;\n    \n\n    &lt;div class=&quot;flex-grow border-b border-gray-500 h-11&quot;&gt;&lt;/div&gt;\n&lt;/div&gt;\n&lt;!-- TAB HEADER END --&gt;\n        \n&lt;div id=&quot;Model_bias&quot; role=&quot;tabpanel&quot;\n    class=&quot;dark:text-white dark:bg-zinc-800 p-4 pt-4 mb-4&quot;&gt;\n    \n    &lt;div class=&quot;p-3 mt-2 bg-amber-100/40 rounded-sm w-full flex align-middle&quot;&gt;\n        &lt;div class=&quot;text-amber-100&quot;&gt;\n            &lt;svg xmlns=&quot;http://www.w3.org/2000/svg&quot; fill=&quot;none&quot; viewBox=&quot;0 0 24 24&quot; stroke-width=&quot;1.5&quot;\n                stroke=&quot;currentColor&quot; class=&quot;mt-0.5 w-6 h-6&quot;&gt;\n                &lt;path stroke-linecap=&quot;round&quot; stroke-linejoin=&quot;round&quot;\n                    d=&quot;M12 9v3.75m-9.303 3.376c-.866 1.5.217 3.374 1.948 3.374h14.71c1.73 0 2.813-1.874 1.948-3.374L13.949 3.378c-.866-1.5-3.032-1.5-3.898 0L2.697 16.126zM12 15.75h.007v.008H12v-.008z&quot; /&gt;\n            &lt;/svg&gt;\n        &lt;/div&gt;\n        &lt;p class=&quot;ml-2 my-1 text-amber-100 text-sm&quot;&gt;\n            We detected some spots in your data where the model has a tendency to make incorrect\n            predictions.\n        &lt;/p&gt;\n    &lt;/div&gt;\n    \n\n    \n    &lt;div class=&quot;flex items-center space-x-1&quot;&gt;\n        &lt;h2 class=&quot;uppercase my-4 mr-2 font-medium&quot;&gt;Issues&lt;/h2&gt;\n        \n        &lt;span class=&quot;text-xs border rounded px-1 uppercase text-red-400 border-red-400&quot;&gt;14\n            major&lt;/span&gt;\n        \n        \n    &lt;/div&gt;\n\n    &lt;!-- ISSUES TABLE --&gt;\n&lt;div class=&quot;mb-4&quot;&gt;\n    &lt;table class=&quot;table-auto w-full text-white&quot;&gt;\n        \n        &lt;tbody class=&quot;first:border-t border-b border-zinc-400&quot;&gt;\n            &lt;tr class=&quot;gsk-issue text-sm group peer text-left cursor-pointer hover:bg-zinc-700&quot;&gt;\n                &lt;td class=&quot;p-3&quot;&gt;\n                    &lt;svg xmlns=&quot;http://www.w3.org/2000/svg&quot; fill=&quot;none&quot; viewBox=&quot;0 0 24 24&quot; stroke-width=&quot;1.5&quot;\n                        stroke=&quot;currentColor&quot; class=&quot;w-4 h-4 group-[.open]:rotate-90&quot;&gt;\n                        &lt;path stroke-linecap=&quot;round&quot; stroke-linejoin=&quot;round&quot; d=&quot;M8.25 4.5l7.5 7.5-7.5 7.5&quot; /&gt;\n                    &lt;/svg&gt;\n                &lt;/td&gt;\n                &lt;td class=&quot;p-3&quot;&gt;\n                    &lt;code class=&quot;mono text-blue-300&quot;&gt;\n                    `Na_to_K` == &amp;#39;&amp;gt;30&amp;#39;\n                &lt;/code&gt;\n                &lt;/td&gt;\n                &lt;td class=&quot;p-3&quot;&gt;\n                    Recall = 0.20\n                &lt;/td&gt;\n                &lt;td class=&quot;p-3&quot;&gt;\n                    &lt;span class=&quot;text-red-400&quot;&gt;\n                        -78.21% than global\n                    &lt;/span&gt;\n                &lt;/td&gt;\n                &lt;td class=&quot;p-3&quot;&gt;\n                    &lt;span class=&quot;text-gray-400&quot;&gt;\n                        8 samples (5.71%)\n                    &lt;/span&gt;\n                &lt;/td&gt;\n                &lt;td class=&quot;p-3 text-xs text-right space-x-1&quot;&gt;\n                    &lt;a href=&quot;&quot;\n                        class=&quot;gsk-debug inline-block border border-emerald-100/50 text-emerald-100/90 hover:bg-emerald-500 hover:border-emerald-500 hover:text-white px-2 py-0.5 rounded-sm&quot;&gt;Debug&lt;/a&gt;\n                &lt;/td&gt;\n            &lt;/tr&gt;\n            &lt;tr class=&quot;gsk-issue-detail text-left collapse peer-[.open]:visible border-b border-zinc-400 bg-zinc-700&quot;&gt;\n                &lt;td colspan=&quot;6&quot; class=&quot;p-3&quot;&gt;\n                    &lt;h4 class=&quot;uppercase&quot;&gt;Examples&lt;/h4&gt;\n                    &lt;div class=&quot;text-white max-w-xl text-sm overflow-scroll&quot; style=&quot;max-width: 920px&quot;&gt;\n                        &lt;table border=&quot;1&quot; class=&quot;dataframe&quot;&gt;\n  &lt;thead&gt;\n    &lt;tr style=&quot;text-align: right;&quot;&gt;\n      &lt;th&gt;&lt;/th&gt;\n      &lt;th&gt;Age&lt;/th&gt;\n      &lt;th&gt;Sex&lt;/th&gt;\n      &lt;th&gt;BP&lt;/th&gt;\n      &lt;th&gt;Cholesterol&lt;/th&gt;\n      &lt;th&gt;Na_to_K&lt;/th&gt;\n      &lt;th&gt;Drug&lt;/th&gt;\n      &lt;th&gt;predicted_label&lt;/th&gt;\n    &lt;/tr&gt;\n  &lt;/thead&gt;\n  &lt;tbody&gt;\n  &lt;/tbody&gt;\n&lt;/table&gt;\n                    &lt;/div&gt;\n                &lt;/td&gt;\n            &lt;/tr&gt;\n        &lt;/tbody&gt;\n        \n        &lt;tbody class=&quot;first:border-t border-b border-zinc-400&quot;&gt;\n            &lt;tr class=&quot;gsk-issue text-sm group peer text-left cursor-pointer hover:bg-zinc-700&quot;&gt;\n                &lt;td class=&quot;p-3&quot;&gt;\n                    &lt;svg xmlns=&quot;http://www.w3.org/2000/svg&quot; fill=&quot;none&quot; viewBox=&quot;0 0 24 24&quot; stroke-width=&quot;1.5&quot;\n                        stroke=&quot;currentColor&quot; class=&quot;w-4 h-4 group-[.open]:rotate-90&quot;&gt;\n                        &lt;path stroke-linecap=&quot;round&quot; stroke-linejoin=&quot;round&quot; d=&quot;M8.25 4.5l7.5 7.5-7.5 7.5&quot; /&gt;\n                    &lt;/svg&gt;\n                &lt;/td&gt;\n                &lt;td class=&quot;p-3&quot;&gt;\n                    &lt;code class=&quot;mono text-blue-300&quot;&gt;\n                    `Na_to_K` == &amp;#39;20-30&amp;#39;\n                &lt;/code&gt;\n                &lt;/td&gt;\n                &lt;td class=&quot;p-3&quot;&gt;\n                    Recall = 0.20\n                &lt;/td&gt;\n                &lt;td class=&quot;p-3&quot;&gt;\n                    &lt;span class=&quot;text-red-400&quot;&gt;\n                        -78.21% than global\n                    &lt;/span&gt;\n                &lt;/td&gt;\n                &lt;td class=&quot;p-3&quot;&gt;\n                    &lt;span class=&quot;text-gray-400&quot;&gt;\n                        28 samples (20.00%)\n                    &lt;/span&gt;\n                &lt;/td&gt;\n                &lt;td class=&quot;p-3 text-xs text-right space-x-1&quot;&gt;\n                    &lt;a href=&quot;&quot;\n                        class=&quot;gsk-debug inline-block border border-emerald-100/50 text-emerald-100/90 hover:bg-emerald-500 hover:border-emerald-500 hover:text-white px-2 py-0.5 rounded-sm&quot;&gt;Debug&lt;/a&gt;\n                &lt;/td&gt;\n            &lt;/tr&gt;\n            &lt;tr class=&quot;gsk-issue-detail text-left collapse peer-[.open]:visible border-b border-zinc-400 bg-zinc-700&quot;&gt;\n                &lt;td colspan=&quot;6&quot; class=&quot;p-3&quot;&gt;\n                    &lt;h4 class=&quot;uppercase&quot;&gt;Examples&lt;/h4&gt;\n                    &lt;div class=&quot;text-white max-w-xl text-sm overflow-scroll&quot; style=&quot;max-width: 920px&quot;&gt;\n                        &lt;table border=&quot;1&quot; class=&quot;dataframe&quot;&gt;\n  &lt;thead&gt;\n    &lt;tr style=&quot;text-align: right;&quot;&gt;\n      &lt;th&gt;&lt;/th&gt;\n      &lt;th&gt;Age&lt;/th&gt;\n      &lt;th&gt;Sex&lt;/th&gt;\n      &lt;th&gt;BP&lt;/th&gt;\n      &lt;th&gt;Cholesterol&lt;/th&gt;\n      &lt;th&gt;Na_to_K&lt;/th&gt;\n      &lt;th&gt;Drug&lt;/th&gt;\n      &lt;th&gt;predicted_label&lt;/th&gt;\n    &lt;/tr&gt;\n  &lt;/thead&gt;\n  &lt;tbody&gt;\n  &lt;/tbody&gt;\n&lt;/table&gt;\n                    &lt;/div&gt;\n                &lt;/td&gt;\n            &lt;/tr&gt;\n        &lt;/tbody&gt;\n        \n        &lt;tbody class=&quot;first:border-t border-b border-zinc-400&quot;&gt;\n            &lt;tr class=&quot;gsk-issue text-sm group peer text-left cursor-pointer hover:bg-zinc-700&quot;&gt;\n                &lt;td class=&quot;p-3&quot;&gt;\n                    &lt;svg xmlns=&quot;http://www.w3.org/2000/svg&quot; fill=&quot;none&quot; viewBox=&quot;0 0 24 24&quot; stroke-width=&quot;1.5&quot;\n                        stroke=&quot;currentColor&quot; class=&quot;w-4 h-4 group-[.open]:rotate-90&quot;&gt;\n                        &lt;path stroke-linecap=&quot;round&quot; stroke-linejoin=&quot;round&quot; d=&quot;M8.25 4.5l7.5 7.5-7.5 7.5&quot; /&gt;\n                    &lt;/svg&gt;\n                &lt;/td&gt;\n                &lt;td class=&quot;p-3&quot;&gt;\n                    &lt;code class=&quot;mono text-blue-300&quot;&gt;\n                    `BP` == &amp;#39;NORMAL&amp;#39;\n                &lt;/code&gt;\n                &lt;/td&gt;\n                &lt;td class=&quot;p-3&quot;&gt;\n                    Recall = 0.30\n                &lt;/td&gt;\n                &lt;td class=&quot;p-3&quot;&gt;\n                    &lt;span class=&quot;text-red-400&quot;&gt;\n                        -67.32% than global\n                    &lt;/span&gt;\n                &lt;/td&gt;\n                &lt;td class=&quot;p-3&quot;&gt;\n                    &lt;span class=&quot;text-gray-400&quot;&gt;\n                        39 samples (27.86%)\n                    &lt;/span&gt;\n                &lt;/td&gt;\n                &lt;td class=&quot;p-3 text-xs text-right space-x-1&quot;&gt;\n                    &lt;a href=&quot;&quot;\n                        class=&quot;gsk-debug inline-block border border-emerald-100/50 text-emerald-100/90 hover:bg-emerald-500 hover:border-emerald-500 hover:text-white px-2 py-0.5 rounded-sm&quot;&gt;Debug&lt;/a&gt;\n                &lt;/td&gt;\n            &lt;/tr&gt;\n            &lt;tr class=&quot;gsk-issue-detail text-left collapse peer-[.open]:visible border-b border-zinc-400 bg-zinc-700&quot;&gt;\n                &lt;td colspan=&quot;6&quot; class=&quot;p-3&quot;&gt;\n                    &lt;h4 class=&quot;uppercase&quot;&gt;Examples&lt;/h4&gt;\n                    &lt;div class=&quot;text-white max-w-xl text-sm overflow-scroll&quot; style=&quot;max-width: 920px&quot;&gt;\n                        &lt;table border=&quot;1&quot; class=&quot;dataframe&quot;&gt;\n  &lt;thead&gt;\n    &lt;tr style=&quot;text-align: right;&quot;&gt;\n      &lt;th&gt;&lt;/th&gt;\n      &lt;th&gt;Age&lt;/th&gt;\n      &lt;th&gt;Sex&lt;/th&gt;\n      &lt;th&gt;BP&lt;/th&gt;\n      &lt;th&gt;Cholesterol&lt;/th&gt;\n      &lt;th&gt;Na_to_K&lt;/th&gt;\n      &lt;th&gt;Drug&lt;/th&gt;\n      &lt;th&gt;predicted_label&lt;/th&gt;\n    &lt;/tr&gt;\n  &lt;/thead&gt;\n  &lt;tbody&gt;\n    &lt;tr&gt;\n      &lt;th&gt;89&lt;/th&gt;\n      &lt;td&gt;50s&lt;/td&gt;\n      &lt;td&gt;F&lt;/td&gt;\n      &lt;td&gt;NORMAL&lt;/td&gt;\n      &lt;td&gt;NORMAL&lt;/td&gt;\n      &lt;td&gt;10-20&lt;/td&gt;\n      &lt;td&gt;drugY&lt;/td&gt;\n      &lt;td&gt;drugX&lt;/td&gt;\n    &lt;/tr&gt;\n    &lt;tr&gt;\n      &lt;th&gt;109&lt;/th&gt;\n      &lt;td&gt;20s&lt;/td&gt;\n      &lt;td&gt;M&lt;/td&gt;\n      &lt;td&gt;NORMAL&lt;/td&gt;\n      &lt;td&gt;HIGH&lt;/td&gt;\n      &lt;td&gt;10-20&lt;/td&gt;\n      &lt;td&gt;drugY&lt;/td&gt;\n      &lt;td&gt;drugX&lt;/td&gt;\n    &lt;/tr&gt;\n    &lt;tr&gt;\n      &lt;th&gt;90&lt;/th&gt;\n      &lt;td&gt;60s&lt;/td&gt;\n      &lt;td&gt;M&lt;/td&gt;\n      &lt;td&gt;NORMAL&lt;/td&gt;\n      &lt;td&gt;HIGH&lt;/td&gt;\n      &lt;td&gt;10-20&lt;/td&gt;\n      &lt;td&gt;drugY&lt;/td&gt;\n      &lt;td&gt;drugX&lt;/td&gt;\n    &lt;/tr&gt;\n  &lt;/tbody&gt;\n&lt;/table&gt;\n                    &lt;/div&gt;\n                &lt;/td&gt;\n            &lt;/tr&gt;\n        &lt;/tbody&gt;\n        \n        &lt;tbody class=&quot;first:border-t border-b border-zinc-400&quot;&gt;\n            &lt;tr class=&quot;gsk-issue text-sm group peer text-left cursor-pointer hover:bg-zinc-700&quot;&gt;\n                &lt;td class=&quot;p-3&quot;&gt;\n                    &lt;svg xmlns=&quot;http://www.w3.org/2000/svg&quot; fill=&quot;none&quot; viewBox=&quot;0 0 24 24&quot; stroke-width=&quot;1.5&quot;\n                        stroke=&quot;currentColor&quot; class=&quot;w-4 h-4 group-[.open]:rotate-90&quot;&gt;\n                        &lt;path stroke-linecap=&quot;round&quot; stroke-linejoin=&quot;round&quot; d=&quot;M8.25 4.5l7.5 7.5-7.5 7.5&quot; /&gt;\n                    &lt;/svg&gt;\n                &lt;/td&gt;\n                &lt;td class=&quot;p-3&quot;&gt;\n                    &lt;code class=&quot;mono text-blue-300&quot;&gt;\n                    `BP` == &amp;#39;HIGH&amp;#39;\n                &lt;/code&gt;\n                &lt;/td&gt;\n                &lt;td class=&quot;p-3&quot;&gt;\n                    Recall = 0.52\n                &lt;/td&gt;\n                &lt;td class=&quot;p-3&quot;&gt;\n                    &lt;span class=&quot;text-red-400&quot;&gt;\n                        -43.86% than global\n                    &lt;/span&gt;\n                &lt;/td&gt;\n                &lt;td class=&quot;p-3&quot;&gt;\n                    &lt;span class=&quot;text-gray-400&quot;&gt;\n                        57 samples (40.71%)\n                    &lt;/span&gt;\n                &lt;/td&gt;\n                &lt;td class=&quot;p-3 text-xs text-right space-x-1&quot;&gt;\n                    &lt;a href=&quot;&quot;\n                        class=&quot;gsk-debug inline-block border border-emerald-100/50 text-emerald-100/90 hover:bg-emerald-500 hover:border-emerald-500 hover:text-white px-2 py-0.5 rounded-sm&quot;&gt;Debug&lt;/a&gt;\n                &lt;/td&gt;\n            &lt;/tr&gt;\n            &lt;tr class=&quot;gsk-issue-detail text-left collapse peer-[.open]:visible border-b border-zinc-400 bg-zinc-700&quot;&gt;\n                &lt;td colspan=&quot;6&quot; class=&quot;p-3&quot;&gt;\n                    &lt;h4 class=&quot;uppercase&quot;&gt;Examples&lt;/h4&gt;\n                    &lt;div class=&quot;text-white max-w-xl text-sm overflow-scroll&quot; style=&quot;max-width: 920px&quot;&gt;\n                        &lt;table border=&quot;1&quot; class=&quot;dataframe&quot;&gt;\n  &lt;thead&gt;\n    &lt;tr style=&quot;text-align: right;&quot;&gt;\n      &lt;th&gt;&lt;/th&gt;\n      &lt;th&gt;Age&lt;/th&gt;\n      &lt;th&gt;Sex&lt;/th&gt;\n      &lt;th&gt;BP&lt;/th&gt;\n      &lt;th&gt;Cholesterol&lt;/th&gt;\n      &lt;th&gt;Na_to_K&lt;/th&gt;\n      &lt;th&gt;Drug&lt;/th&gt;\n      &lt;th&gt;predicted_label&lt;/th&gt;\n    &lt;/tr&gt;\n  &lt;/thead&gt;\n  &lt;tbody&gt;\n    &lt;tr&gt;\n      &lt;th&gt;53&lt;/th&gt;\n      &lt;td&gt;20s&lt;/td&gt;\n      &lt;td&gt;F&lt;/td&gt;\n      &lt;td&gt;HIGH&lt;/td&gt;\n      &lt;td&gt;NORMAL&lt;/td&gt;\n      &lt;td&gt;10-20&lt;/td&gt;\n      &lt;td&gt;drugY&lt;/td&gt;\n      &lt;td&gt;drugA&lt;/td&gt;\n    &lt;/tr&gt;\n    &lt;tr&gt;\n      &lt;th&gt;99&lt;/th&gt;\n      &lt;td&gt;&amp;lt;20s&lt;/td&gt;\n      &lt;td&gt;F&lt;/td&gt;\n      &lt;td&gt;HIGH&lt;/td&gt;\n      &lt;td&gt;NORMAL&lt;/td&gt;\n      &lt;td&gt;10-20&lt;/td&gt;\n      &lt;td&gt;drugY&lt;/td&gt;\n      &lt;td&gt;drugA&lt;/td&gt;\n    &lt;/tr&gt;\n    &lt;tr&gt;\n      &lt;th&gt;115&lt;/th&gt;\n      &lt;td&gt;50s&lt;/td&gt;\n      &lt;td&gt;M&lt;/td&gt;\n      &lt;td&gt;HIGH&lt;/td&gt;\n      &lt;td&gt;HIGH&lt;/td&gt;\n      &lt;td&gt;10-20&lt;/td&gt;\n      &lt;td&gt;drugY&lt;/td&gt;\n      &lt;td&gt;drugB&lt;/td&gt;\n    &lt;/tr&gt;\n  &lt;/tbody&gt;\n&lt;/table&gt;\n                    &lt;/div&gt;\n                &lt;/td&gt;\n            &lt;/tr&gt;\n        &lt;/tbody&gt;\n        \n        &lt;tbody class=&quot;first:border-t border-b border-zinc-400&quot;&gt;\n            &lt;tr class=&quot;gsk-issue text-sm group peer text-left cursor-pointer hover:bg-zinc-700&quot;&gt;\n                &lt;td class=&quot;p-3&quot;&gt;\n                    &lt;svg xmlns=&quot;http://www.w3.org/2000/svg&quot; fill=&quot;none&quot; viewBox=&quot;0 0 24 24&quot; stroke-width=&quot;1.5&quot;\n                        stroke=&quot;currentColor&quot; class=&quot;w-4 h-4 group-[.open]:rotate-90&quot;&gt;\n                        &lt;path stroke-linecap=&quot;round&quot; stroke-linejoin=&quot;round&quot; d=&quot;M8.25 4.5l7.5 7.5-7.5 7.5&quot; /&gt;\n                    &lt;/svg&gt;\n                &lt;/td&gt;\n                &lt;td class=&quot;p-3&quot;&gt;\n                    &lt;code class=&quot;mono text-blue-300&quot;&gt;\n                    `BP` == &amp;#39;LOW&amp;#39;\n                &lt;/code&gt;\n                &lt;/td&gt;\n                &lt;td class=&quot;p-3&quot;&gt;\n                    Recall = 0.53\n                &lt;/td&gt;\n                &lt;td class=&quot;p-3&quot;&gt;\n                    &lt;span class=&quot;text-red-400&quot;&gt;\n                        -41.90% than global\n                    &lt;/span&gt;\n                &lt;/td&gt;\n                &lt;td class=&quot;p-3&quot;&gt;\n                    &lt;span class=&quot;text-gray-400&quot;&gt;\n                        44 samples (31.43%)\n                    &lt;/span&gt;\n                &lt;/td&gt;\n                &lt;td class=&quot;p-3 text-xs text-right space-x-1&quot;&gt;\n                    &lt;a href=&quot;&quot;\n                        class=&quot;gsk-debug inline-block border border-emerald-100/50 text-emerald-100/90 hover:bg-emerald-500 hover:border-emerald-500 hover:text-white px-2 py-0.5 rounded-sm&quot;&gt;Debug&lt;/a&gt;\n                &lt;/td&gt;\n            &lt;/tr&gt;\n            &lt;tr class=&quot;gsk-issue-detail text-left collapse peer-[.open]:visible border-b border-zinc-400 bg-zinc-700&quot;&gt;\n                &lt;td colspan=&quot;6&quot; class=&quot;p-3&quot;&gt;\n                    &lt;h4 class=&quot;uppercase&quot;&gt;Examples&lt;/h4&gt;\n                    &lt;div class=&quot;text-white max-w-xl text-sm overflow-scroll&quot; style=&quot;max-width: 920px&quot;&gt;\n                        &lt;table border=&quot;1&quot; class=&quot;dataframe&quot;&gt;\n  &lt;thead&gt;\n    &lt;tr style=&quot;text-align: right;&quot;&gt;\n      &lt;th&gt;&lt;/th&gt;\n      &lt;th&gt;Age&lt;/th&gt;\n      &lt;th&gt;Sex&lt;/th&gt;\n      &lt;th&gt;BP&lt;/th&gt;\n      &lt;th&gt;Cholesterol&lt;/th&gt;\n      &lt;th&gt;Na_to_K&lt;/th&gt;\n      &lt;th&gt;Drug&lt;/th&gt;\n      &lt;th&gt;predicted_label&lt;/th&gt;\n    &lt;/tr&gt;\n  &lt;/thead&gt;\n  &lt;tbody&gt;\n    &lt;tr&gt;\n      &lt;th&gt;23&lt;/th&gt;\n      &lt;td&gt;40s&lt;/td&gt;\n      &lt;td&gt;F&lt;/td&gt;\n      &lt;td&gt;LOW&lt;/td&gt;\n      &lt;td&gt;HIGH&lt;/td&gt;\n      &lt;td&gt;10-20&lt;/td&gt;\n      &lt;td&gt;drugY&lt;/td&gt;\n      &lt;td&gt;drugC&lt;/td&gt;\n    &lt;/tr&gt;\n    &lt;tr&gt;\n      &lt;th&gt;173&lt;/th&gt;\n      &lt;td&gt;40s&lt;/td&gt;\n      &lt;td&gt;F&lt;/td&gt;\n      &lt;td&gt;LOW&lt;/td&gt;\n      &lt;td&gt;NORMAL&lt;/td&gt;\n      &lt;td&gt;10-20&lt;/td&gt;\n      &lt;td&gt;drugY&lt;/td&gt;\n      &lt;td&gt;drugX&lt;/td&gt;\n    &lt;/tr&gt;\n    &lt;tr&gt;\n      &lt;th&gt;94&lt;/th&gt;\n      &lt;td&gt;50s&lt;/td&gt;\n      &lt;td&gt;M&lt;/td&gt;\n      &lt;td&gt;LOW&lt;/td&gt;\n      &lt;td&gt;HIGH&lt;/td&gt;\n      &lt;td&gt;10-20&lt;/td&gt;\n      &lt;td&gt;drugY&lt;/td&gt;\n      &lt;td&gt;drugC&lt;/td&gt;\n    &lt;/tr&gt;\n  &lt;/tbody&gt;\n&lt;/table&gt;\n                    &lt;/div&gt;\n                &lt;/td&gt;\n            &lt;/tr&gt;\n        &lt;/tbody&gt;\n        \n        &lt;tbody class=&quot;first:border-t border-b border-zinc-400&quot;&gt;\n            &lt;tr class=&quot;gsk-issue text-sm group peer text-left cursor-pointer hover:bg-zinc-700&quot;&gt;\n                &lt;td class=&quot;p-3&quot;&gt;\n                    &lt;svg xmlns=&quot;http://www.w3.org/2000/svg&quot; fill=&quot;none&quot; viewBox=&quot;0 0 24 24&quot; stroke-width=&quot;1.5&quot;\n                        stroke=&quot;currentColor&quot; class=&quot;w-4 h-4 group-[.open]:rotate-90&quot;&gt;\n                        &lt;path stroke-linecap=&quot;round&quot; stroke-linejoin=&quot;round&quot; d=&quot;M8.25 4.5l7.5 7.5-7.5 7.5&quot; /&gt;\n                    &lt;/svg&gt;\n                &lt;/td&gt;\n                &lt;td class=&quot;p-3&quot;&gt;\n                    &lt;code class=&quot;mono text-blue-300&quot;&gt;\n                    `Age` == &amp;#39;&amp;lt;20s&amp;#39;\n                &lt;/code&gt;\n                &lt;/td&gt;\n                &lt;td class=&quot;p-3&quot;&gt;\n                    F1 Score = 0.59\n                &lt;/td&gt;\n                &lt;td class=&quot;p-3&quot;&gt;\n                    &lt;span class=&quot;text-red-400&quot;&gt;\n                        -28.33% than global\n                    &lt;/span&gt;\n                &lt;/td&gt;\n                &lt;td class=&quot;p-3&quot;&gt;\n                    &lt;span class=&quot;text-gray-400&quot;&gt;\n                        9 samples (6.43%)\n                    &lt;/span&gt;\n                &lt;/td&gt;\n                &lt;td class=&quot;p-3 text-xs text-right space-x-1&quot;&gt;\n                    &lt;a href=&quot;&quot;\n                        class=&quot;gsk-debug inline-block border border-emerald-100/50 text-emerald-100/90 hover:bg-emerald-500 hover:border-emerald-500 hover:text-white px-2 py-0.5 rounded-sm&quot;&gt;Debug&lt;/a&gt;\n                &lt;/td&gt;\n            &lt;/tr&gt;\n            &lt;tr class=&quot;gsk-issue-detail text-left collapse peer-[.open]:visible border-b border-zinc-400 bg-zinc-700&quot;&gt;\n                &lt;td colspan=&quot;6&quot; class=&quot;p-3&quot;&gt;\n                    &lt;h4 class=&quot;uppercase&quot;&gt;Examples&lt;/h4&gt;\n                    &lt;div class=&quot;text-white max-w-xl text-sm overflow-scroll&quot; style=&quot;max-width: 920px&quot;&gt;\n                        &lt;table border=&quot;1&quot; class=&quot;dataframe&quot;&gt;\n  &lt;thead&gt;\n    &lt;tr style=&quot;text-align: right;&quot;&gt;\n      &lt;th&gt;&lt;/th&gt;\n      &lt;th&gt;Age&lt;/th&gt;\n      &lt;th&gt;Sex&lt;/th&gt;\n      &lt;th&gt;BP&lt;/th&gt;\n      &lt;th&gt;Cholesterol&lt;/th&gt;\n      &lt;th&gt;Na_to_K&lt;/th&gt;\n      &lt;th&gt;Drug&lt;/th&gt;\n      &lt;th&gt;predicted_label&lt;/th&gt;\n    &lt;/tr&gt;\n  &lt;/thead&gt;\n  &lt;tbody&gt;\n    &lt;tr&gt;\n      &lt;th&gt;15&lt;/th&gt;\n      &lt;td&gt;&amp;lt;20s&lt;/td&gt;\n      &lt;td&gt;F&lt;/td&gt;\n      &lt;td&gt;HIGH&lt;/td&gt;\n      &lt;td&gt;NORMAL&lt;/td&gt;\n      &lt;td&gt;10-20&lt;/td&gt;\n      &lt;td&gt;drugY&lt;/td&gt;\n      &lt;td&gt;drugA&lt;/td&gt;\n    &lt;/tr&gt;\n    &lt;tr&gt;\n      &lt;th&gt;99&lt;/th&gt;\n      &lt;td&gt;&amp;lt;20s&lt;/td&gt;\n      &lt;td&gt;F&lt;/td&gt;\n      &lt;td&gt;HIGH&lt;/td&gt;\n      &lt;td&gt;NORMAL&lt;/td&gt;\n      &lt;td&gt;10-20&lt;/td&gt;\n      &lt;td&gt;drugY&lt;/td&gt;\n      &lt;td&gt;drugA&lt;/td&gt;\n    &lt;/tr&gt;\n    &lt;tr&gt;\n      &lt;th&gt;121&lt;/th&gt;\n      &lt;td&gt;&amp;lt;20s&lt;/td&gt;\n      &lt;td&gt;M&lt;/td&gt;\n      &lt;td&gt;HIGH&lt;/td&gt;\n      &lt;td&gt;NORMAL&lt;/td&gt;\n      &lt;td&gt;10-20&lt;/td&gt;\n      &lt;td&gt;drugY&lt;/td&gt;\n      &lt;td&gt;drugA&lt;/td&gt;\n    &lt;/tr&gt;\n  &lt;/tbody&gt;\n&lt;/table&gt;\n                    &lt;/div&gt;\n                &lt;/td&gt;\n            &lt;/tr&gt;\n        &lt;/tbody&gt;\n        \n        &lt;tbody class=&quot;first:border-t border-b border-zinc-400&quot;&gt;\n            &lt;tr class=&quot;gsk-issue text-sm group peer text-left cursor-pointer hover:bg-zinc-700&quot;&gt;\n                &lt;td class=&quot;p-3&quot;&gt;\n                    &lt;svg xmlns=&quot;http://www.w3.org/2000/svg&quot; fill=&quot;none&quot; viewBox=&quot;0 0 24 24&quot; stroke-width=&quot;1.5&quot;\n                        stroke=&quot;currentColor&quot; class=&quot;w-4 h-4 group-[.open]:rotate-90&quot;&gt;\n                        &lt;path stroke-linecap=&quot;round&quot; stroke-linejoin=&quot;round&quot; d=&quot;M8.25 4.5l7.5 7.5-7.5 7.5&quot; /&gt;\n                    &lt;/svg&gt;\n                &lt;/td&gt;\n                &lt;td class=&quot;p-3&quot;&gt;\n                    &lt;code class=&quot;mono text-blue-300&quot;&gt;\n                    `Na_to_K` == &amp;#39;10-20&amp;#39;\n                &lt;/code&gt;\n                &lt;/td&gt;\n                &lt;td class=&quot;p-3&quot;&gt;\n                    Precision = 0.57\n                &lt;/td&gt;\n                &lt;td class=&quot;p-3&quot;&gt;\n                    &lt;span class=&quot;text-red-400&quot;&gt;\n                        -27.88% than global\n                    &lt;/span&gt;\n                &lt;/td&gt;\n                &lt;td class=&quot;p-3&quot;&gt;\n                    &lt;span class=&quot;text-gray-400&quot;&gt;\n                        92 samples (65.71%)\n                    &lt;/span&gt;\n                &lt;/td&gt;\n                &lt;td class=&quot;p-3 text-xs text-right space-x-1&quot;&gt;\n                    &lt;a href=&quot;&quot;\n                        class=&quot;gsk-debug inline-block border border-emerald-100/50 text-emerald-100/90 hover:bg-emerald-500 hover:border-emerald-500 hover:text-white px-2 py-0.5 rounded-sm&quot;&gt;Debug&lt;/a&gt;\n                &lt;/td&gt;\n            &lt;/tr&gt;\n            &lt;tr class=&quot;gsk-issue-detail text-left collapse peer-[.open]:visible border-b border-zinc-400 bg-zinc-700&quot;&gt;\n                &lt;td colspan=&quot;6&quot; class=&quot;p-3&quot;&gt;\n                    &lt;h4 class=&quot;uppercase&quot;&gt;Examples&lt;/h4&gt;\n                    &lt;div class=&quot;text-white max-w-xl text-sm overflow-scroll&quot; style=&quot;max-width: 920px&quot;&gt;\n                        &lt;table border=&quot;1&quot; class=&quot;dataframe&quot;&gt;\n  &lt;thead&gt;\n    &lt;tr style=&quot;text-align: right;&quot;&gt;\n      &lt;th&gt;&lt;/th&gt;\n      &lt;th&gt;Age&lt;/th&gt;\n      &lt;th&gt;Sex&lt;/th&gt;\n      &lt;th&gt;BP&lt;/th&gt;\n      &lt;th&gt;Cholesterol&lt;/th&gt;\n      &lt;th&gt;Na_to_K&lt;/th&gt;\n      &lt;th&gt;Drug&lt;/th&gt;\n      &lt;th&gt;predicted_label&lt;/th&gt;\n    &lt;/tr&gt;\n  &lt;/thead&gt;\n  &lt;tbody&gt;\n    &lt;tr&gt;\n      &lt;th&gt;89&lt;/th&gt;\n      &lt;td&gt;50s&lt;/td&gt;\n      &lt;td&gt;F&lt;/td&gt;\n      &lt;td&gt;NORMAL&lt;/td&gt;\n      &lt;td&gt;NORMAL&lt;/td&gt;\n      &lt;td&gt;10-20&lt;/td&gt;\n      &lt;td&gt;drugY&lt;/td&gt;\n      &lt;td&gt;drugX&lt;/td&gt;\n    &lt;/tr&gt;\n    &lt;tr&gt;\n      &lt;th&gt;23&lt;/th&gt;\n      &lt;td&gt;40s&lt;/td&gt;\n      &lt;td&gt;F&lt;/td&gt;\n      &lt;td&gt;LOW&lt;/td&gt;\n      &lt;td&gt;HIGH&lt;/td&gt;\n      &lt;td&gt;10-20&lt;/td&gt;\n      &lt;td&gt;drugY&lt;/td&gt;\n      &lt;td&gt;drugC&lt;/td&gt;\n    &lt;/tr&gt;\n    &lt;tr&gt;\n      &lt;th&gt;90&lt;/th&gt;\n      &lt;td&gt;60s&lt;/td&gt;\n      &lt;td&gt;M&lt;/td&gt;\n      &lt;td&gt;NORMAL&lt;/td&gt;\n      &lt;td&gt;HIGH&lt;/td&gt;\n      &lt;td&gt;10-20&lt;/td&gt;\n      &lt;td&gt;drugY&lt;/td&gt;\n      &lt;td&gt;drugX&lt;/td&gt;\n    &lt;/tr&gt;\n  &lt;/tbody&gt;\n&lt;/table&gt;\n                    &lt;/div&gt;\n                &lt;/td&gt;\n            &lt;/tr&gt;\n        &lt;/tbody&gt;\n        \n        &lt;tbody class=&quot;first:border-t border-b border-zinc-400&quot;&gt;\n            &lt;tr class=&quot;gsk-issue text-sm group peer text-left cursor-pointer hover:bg-zinc-700&quot;&gt;\n                &lt;td class=&quot;p-3&quot;&gt;\n                    &lt;svg xmlns=&quot;http://www.w3.org/2000/svg&quot; fill=&quot;none&quot; viewBox=&quot;0 0 24 24&quot; stroke-width=&quot;1.5&quot;\n                        stroke=&quot;currentColor&quot; class=&quot;w-4 h-4 group-[.open]:rotate-90&quot;&gt;\n                        &lt;path stroke-linecap=&quot;round&quot; stroke-linejoin=&quot;round&quot; d=&quot;M8.25 4.5l7.5 7.5-7.5 7.5&quot; /&gt;\n                    &lt;/svg&gt;\n                &lt;/td&gt;\n                &lt;td class=&quot;p-3&quot;&gt;\n                    &lt;code class=&quot;mono text-blue-300&quot;&gt;\n                    `Age` == &amp;#39;&amp;gt;60s&amp;#39;\n                &lt;/code&gt;\n                &lt;/td&gt;\n                &lt;td class=&quot;p-3&quot;&gt;\n                    Recall = 0.67\n                &lt;/td&gt;\n                &lt;td class=&quot;p-3&quot;&gt;\n                    &lt;span class=&quot;text-red-400&quot;&gt;\n                        -27.38% than global\n                    &lt;/span&gt;\n                &lt;/td&gt;\n                &lt;td class=&quot;p-3&quot;&gt;\n                    &lt;span class=&quot;text-gray-400&quot;&gt;\n                        10 samples (7.14%)\n                    &lt;/span&gt;\n                &lt;/td&gt;\n                &lt;td class=&quot;p-3 text-xs text-right space-x-1&quot;&gt;\n                    &lt;a href=&quot;&quot;\n                        class=&quot;gsk-debug inline-block border border-emerald-100/50 text-emerald-100/90 hover:bg-emerald-500 hover:border-emerald-500 hover:text-white px-2 py-0.5 rounded-sm&quot;&gt;Debug&lt;/a&gt;\n                &lt;/td&gt;\n            &lt;/tr&gt;\n            &lt;tr class=&quot;gsk-issue-detail text-left collapse peer-[.open]:visible border-b border-zinc-400 bg-zinc-700&quot;&gt;\n                &lt;td colspan=&quot;6&quot; class=&quot;p-3&quot;&gt;\n                    &lt;h4 class=&quot;uppercase&quot;&gt;Examples&lt;/h4&gt;\n                    &lt;div class=&quot;text-white max-w-xl text-sm overflow-scroll&quot; style=&quot;max-width: 920px&quot;&gt;\n                        &lt;table border=&quot;1&quot; class=&quot;dataframe&quot;&gt;\n  &lt;thead&gt;\n    &lt;tr style=&quot;text-align: right;&quot;&gt;\n      &lt;th&gt;&lt;/th&gt;\n      &lt;th&gt;Age&lt;/th&gt;\n      &lt;th&gt;Sex&lt;/th&gt;\n      &lt;th&gt;BP&lt;/th&gt;\n      &lt;th&gt;Cholesterol&lt;/th&gt;\n      &lt;th&gt;Na_to_K&lt;/th&gt;\n      &lt;th&gt;Drug&lt;/th&gt;\n      &lt;th&gt;predicted_label&lt;/th&gt;\n    &lt;/tr&gt;\n  &lt;/thead&gt;\n  &lt;tbody&gt;\n    &lt;tr&gt;\n      &lt;th&gt;175&lt;/th&gt;\n      &lt;td&gt;&amp;gt;60s&lt;/td&gt;\n      &lt;td&gt;F&lt;/td&gt;\n      &lt;td&gt;HIGH&lt;/td&gt;\n      &lt;td&gt;HIGH&lt;/td&gt;\n      &lt;td&gt;10-20&lt;/td&gt;\n      &lt;td&gt;drugY&lt;/td&gt;\n      &lt;td&gt;drugB&lt;/td&gt;\n    &lt;/tr&gt;\n    &lt;tr&gt;\n      &lt;th&gt;192&lt;/th&gt;\n      &lt;td&gt;&amp;gt;60s&lt;/td&gt;\n      &lt;td&gt;M&lt;/td&gt;\n      &lt;td&gt;LOW&lt;/td&gt;\n      &lt;td&gt;HIGH&lt;/td&gt;\n      &lt;td&gt;10-20&lt;/td&gt;\n      &lt;td&gt;drugY&lt;/td&gt;\n      &lt;td&gt;drugC&lt;/td&gt;\n    &lt;/tr&gt;\n  &lt;/tbody&gt;\n&lt;/table&gt;\n                    &lt;/div&gt;\n                &lt;/td&gt;\n            &lt;/tr&gt;\n        &lt;/tbody&gt;\n        \n        &lt;tbody class=&quot;first:border-t border-b border-zinc-400&quot;&gt;\n            &lt;tr class=&quot;gsk-issue text-sm group peer text-left cursor-pointer hover:bg-zinc-700&quot;&gt;\n                &lt;td class=&quot;p-3&quot;&gt;\n                    &lt;svg xmlns=&quot;http://www.w3.org/2000/svg&quot; fill=&quot;none&quot; viewBox=&quot;0 0 24 24&quot; stroke-width=&quot;1.5&quot;\n                        stroke=&quot;currentColor&quot; class=&quot;w-4 h-4 group-[.open]:rotate-90&quot;&gt;\n                        &lt;path stroke-linecap=&quot;round&quot; stroke-linejoin=&quot;round&quot; d=&quot;M8.25 4.5l7.5 7.5-7.5 7.5&quot; /&gt;\n                    &lt;/svg&gt;\n                &lt;/td&gt;\n                &lt;td class=&quot;p-3&quot;&gt;\n                    &lt;code class=&quot;mono text-blue-300&quot;&gt;\n                    `Age` == &amp;#39;30s&amp;#39;\n                &lt;/code&gt;\n                &lt;/td&gt;\n                &lt;td class=&quot;p-3&quot;&gt;\n                    F1 Score = 0.62\n                &lt;/td&gt;\n                &lt;td class=&quot;p-3&quot;&gt;\n                    &lt;span class=&quot;text-red-400&quot;&gt;\n                        -24.66% than global\n                    &lt;/span&gt;\n                &lt;/td&gt;\n                &lt;td class=&quot;p-3&quot;&gt;\n                    &lt;span class=&quot;text-gray-400&quot;&gt;\n                        22 samples (15.71%)\n                    &lt;/span&gt;\n                &lt;/td&gt;\n                &lt;td class=&quot;p-3 text-xs text-right space-x-1&quot;&gt;\n                    &lt;a href=&quot;&quot;\n                        class=&quot;gsk-debug inline-block border border-emerald-100/50 text-emerald-100/90 hover:bg-emerald-500 hover:border-emerald-500 hover:text-white px-2 py-0.5 rounded-sm&quot;&gt;Debug&lt;/a&gt;\n                &lt;/td&gt;\n            &lt;/tr&gt;\n            &lt;tr class=&quot;gsk-issue-detail text-left collapse peer-[.open]:visible border-b border-zinc-400 bg-zinc-700&quot;&gt;\n                &lt;td colspan=&quot;6&quot; class=&quot;p-3&quot;&gt;\n                    &lt;h4 class=&quot;uppercase&quot;&gt;Examples&lt;/h4&gt;\n                    &lt;div class=&quot;text-white max-w-xl text-sm overflow-scroll&quot; style=&quot;max-width: 920px&quot;&gt;\n                        &lt;table border=&quot;1&quot; class=&quot;dataframe&quot;&gt;\n  &lt;thead&gt;\n    &lt;tr style=&quot;text-align: right;&quot;&gt;\n      &lt;th&gt;&lt;/th&gt;\n      &lt;th&gt;Age&lt;/th&gt;\n      &lt;th&gt;Sex&lt;/th&gt;\n      &lt;th&gt;BP&lt;/th&gt;\n      &lt;th&gt;Cholesterol&lt;/th&gt;\n      &lt;th&gt;Na_to_K&lt;/th&gt;\n      &lt;th&gt;Drug&lt;/th&gt;\n      &lt;th&gt;predicted_label&lt;/th&gt;\n    &lt;/tr&gt;\n  &lt;/thead&gt;\n  &lt;tbody&gt;\n    &lt;tr&gt;\n      &lt;th&gt;59&lt;/th&gt;\n      &lt;td&gt;30s&lt;/td&gt;\n      &lt;td&gt;M&lt;/td&gt;\n      &lt;td&gt;HIGH&lt;/td&gt;\n      &lt;td&gt;HIGH&lt;/td&gt;\n      &lt;td&gt;10-20&lt;/td&gt;\n      &lt;td&gt;drugY&lt;/td&gt;\n      &lt;td&gt;drugA&lt;/td&gt;\n    &lt;/tr&gt;\n    &lt;tr&gt;\n      &lt;th&gt;165&lt;/th&gt;\n      &lt;td&gt;30s&lt;/td&gt;\n      &lt;td&gt;M&lt;/td&gt;\n      &lt;td&gt;LOW&lt;/td&gt;\n      &lt;td&gt;HIGH&lt;/td&gt;\n      &lt;td&gt;10-20&lt;/td&gt;\n      &lt;td&gt;drugY&lt;/td&gt;\n      &lt;td&gt;drugC&lt;/td&gt;\n    &lt;/tr&gt;\n    &lt;tr&gt;\n      &lt;th&gt;172&lt;/th&gt;\n      &lt;td&gt;30s&lt;/td&gt;\n      &lt;td&gt;F&lt;/td&gt;\n      &lt;td&gt;NORMAL&lt;/td&gt;\n      &lt;td&gt;NORMAL&lt;/td&gt;\n      &lt;td&gt;10-20&lt;/td&gt;\n      &lt;td&gt;drugY&lt;/td&gt;\n      &lt;td&gt;drugX&lt;/td&gt;\n    &lt;/tr&gt;\n  &lt;/tbody&gt;\n&lt;/table&gt;\n                    &lt;/div&gt;\n                &lt;/td&gt;\n            &lt;/tr&gt;\n        &lt;/tbody&gt;\n        \n        &lt;tbody class=&quot;first:border-t border-b border-zinc-400&quot;&gt;\n            &lt;tr class=&quot;gsk-issue text-sm group peer text-left cursor-pointer hover:bg-zinc-700&quot;&gt;\n                &lt;td class=&quot;p-3&quot;&gt;\n                    &lt;svg xmlns=&quot;http://www.w3.org/2000/svg&quot; fill=&quot;none&quot; viewBox=&quot;0 0 24 24&quot; stroke-width=&quot;1.5&quot;\n                        stroke=&quot;currentColor&quot; class=&quot;w-4 h-4 group-[.open]:rotate-90&quot;&gt;\n                        &lt;path stroke-linecap=&quot;round&quot; stroke-linejoin=&quot;round&quot; d=&quot;M8.25 4.5l7.5 7.5-7.5 7.5&quot; /&gt;\n                    &lt;/svg&gt;\n                &lt;/td&gt;\n                &lt;td class=&quot;p-3&quot;&gt;\n                    &lt;code class=&quot;mono text-blue-300&quot;&gt;\n                    `Age` == &amp;#39;40s&amp;#39;\n                &lt;/code&gt;\n                &lt;/td&gt;\n                &lt;td class=&quot;p-3&quot;&gt;\n                    Recall = 0.71\n                &lt;/td&gt;\n                &lt;td class=&quot;p-3&quot;&gt;\n                    &lt;span class=&quot;text-red-400&quot;&gt;\n                        -22.76% than global\n                    &lt;/span&gt;\n                &lt;/td&gt;\n                &lt;td class=&quot;p-3&quot;&gt;\n                    &lt;span class=&quot;text-gray-400&quot;&gt;\n                        30 samples (21.43%)\n                    &lt;/span&gt;\n                &lt;/td&gt;\n                &lt;td class=&quot;p-3 text-xs text-right space-x-1&quot;&gt;\n                    &lt;a href=&quot;&quot;\n                        class=&quot;gsk-debug inline-block border border-emerald-100/50 text-emerald-100/90 hover:bg-emerald-500 hover:border-emerald-500 hover:text-white px-2 py-0.5 rounded-sm&quot;&gt;Debug&lt;/a&gt;\n                &lt;/td&gt;\n            &lt;/tr&gt;\n            &lt;tr class=&quot;gsk-issue-detail text-left collapse peer-[.open]:visible border-b border-zinc-400 bg-zinc-700&quot;&gt;\n                &lt;td colspan=&quot;6&quot; class=&quot;p-3&quot;&gt;\n                    &lt;h4 class=&quot;uppercase&quot;&gt;Examples&lt;/h4&gt;\n                    &lt;div class=&quot;text-white max-w-xl text-sm overflow-scroll&quot; style=&quot;max-width: 920px&quot;&gt;\n                        &lt;table border=&quot;1&quot; class=&quot;dataframe&quot;&gt;\n  &lt;thead&gt;\n    &lt;tr style=&quot;text-align: right;&quot;&gt;\n      &lt;th&gt;&lt;/th&gt;\n      &lt;th&gt;Age&lt;/th&gt;\n      &lt;th&gt;Sex&lt;/th&gt;\n      &lt;th&gt;BP&lt;/th&gt;\n      &lt;th&gt;Cholesterol&lt;/th&gt;\n      &lt;th&gt;Na_to_K&lt;/th&gt;\n      &lt;th&gt;Drug&lt;/th&gt;\n      &lt;th&gt;predicted_label&lt;/th&gt;\n    &lt;/tr&gt;\n  &lt;/thead&gt;\n  &lt;tbody&gt;\n    &lt;tr&gt;\n      &lt;th&gt;6&lt;/th&gt;\n      &lt;td&gt;40s&lt;/td&gt;\n      &lt;td&gt;F&lt;/td&gt;\n      &lt;td&gt;NORMAL&lt;/td&gt;\n      &lt;td&gt;HIGH&lt;/td&gt;\n      &lt;td&gt;10-20&lt;/td&gt;\n      &lt;td&gt;drugY&lt;/td&gt;\n      &lt;td&gt;drugX&lt;/td&gt;\n    &lt;/tr&gt;\n    &lt;tr&gt;\n      &lt;th&gt;91&lt;/th&gt;\n      &lt;td&gt;40s&lt;/td&gt;\n      &lt;td&gt;M&lt;/td&gt;\n      &lt;td&gt;HIGH&lt;/td&gt;\n      &lt;td&gt;NORMAL&lt;/td&gt;\n      &lt;td&gt;10-20&lt;/td&gt;\n      &lt;td&gt;drugY&lt;/td&gt;\n      &lt;td&gt;drugA&lt;/td&gt;\n    &lt;/tr&gt;\n    &lt;tr&gt;\n      &lt;th&gt;23&lt;/th&gt;\n      &lt;td&gt;40s&lt;/td&gt;\n      &lt;td&gt;F&lt;/td&gt;\n      &lt;td&gt;LOW&lt;/td&gt;\n      &lt;td&gt;HIGH&lt;/td&gt;\n      &lt;td&gt;10-20&lt;/td&gt;\n      &lt;td&gt;drugY&lt;/td&gt;\n      &lt;td&gt;drugC&lt;/td&gt;\n    &lt;/tr&gt;\n  &lt;/tbody&gt;\n&lt;/table&gt;\n                    &lt;/div&gt;\n                &lt;/td&gt;\n            &lt;/tr&gt;\n        &lt;/tbody&gt;\n        \n        &lt;tbody class=&quot;first:border-t border-b border-zinc-400&quot;&gt;\n            &lt;tr class=&quot;gsk-issue text-sm group peer text-left cursor-pointer hover:bg-zinc-700&quot;&gt;\n                &lt;td class=&quot;p-3&quot;&gt;\n                    &lt;svg xmlns=&quot;http://www.w3.org/2000/svg&quot; fill=&quot;none&quot; viewBox=&quot;0 0 24 24&quot; stroke-width=&quot;1.5&quot;\n                        stroke=&quot;currentColor&quot; class=&quot;w-4 h-4 group-[.open]:rotate-90&quot;&gt;\n                        &lt;path stroke-linecap=&quot;round&quot; stroke-linejoin=&quot;round&quot; d=&quot;M8.25 4.5l7.5 7.5-7.5 7.5&quot; /&gt;\n                    &lt;/svg&gt;\n                &lt;/td&gt;\n                &lt;td class=&quot;p-3&quot;&gt;\n                    &lt;code class=&quot;mono text-blue-300&quot;&gt;\n                    `Age` == &amp;#39;60s&amp;#39;\n                &lt;/code&gt;\n                &lt;/td&gt;\n                &lt;td class=&quot;p-3&quot;&gt;\n                    Precision = 0.63\n                &lt;/td&gt;\n                &lt;td class=&quot;p-3&quot;&gt;\n                    &lt;span class=&quot;text-red-400&quot;&gt;\n                        -20.47% than global\n                    &lt;/span&gt;\n                &lt;/td&gt;\n                &lt;td class=&quot;p-3&quot;&gt;\n                    &lt;span class=&quot;text-gray-400&quot;&gt;\n                        21 samples (15.00%)\n                    &lt;/span&gt;\n                &lt;/td&gt;\n                &lt;td class=&quot;p-3 text-xs text-right space-x-1&quot;&gt;\n                    &lt;a href=&quot;&quot;\n                        class=&quot;gsk-debug inline-block border border-emerald-100/50 text-emerald-100/90 hover:bg-emerald-500 hover:border-emerald-500 hover:text-white px-2 py-0.5 rounded-sm&quot;&gt;Debug&lt;/a&gt;\n                &lt;/td&gt;\n            &lt;/tr&gt;\n            &lt;tr class=&quot;gsk-issue-detail text-left collapse peer-[.open]:visible border-b border-zinc-400 bg-zinc-700&quot;&gt;\n                &lt;td colspan=&quot;6&quot; class=&quot;p-3&quot;&gt;\n                    &lt;h4 class=&quot;uppercase&quot;&gt;Examples&lt;/h4&gt;\n                    &lt;div class=&quot;text-white max-w-xl text-sm overflow-scroll&quot; style=&quot;max-width: 920px&quot;&gt;\n                        &lt;table border=&quot;1&quot; class=&quot;dataframe&quot;&gt;\n  &lt;thead&gt;\n    &lt;tr style=&quot;text-align: right;&quot;&gt;\n      &lt;th&gt;&lt;/th&gt;\n      &lt;th&gt;Age&lt;/th&gt;\n      &lt;th&gt;Sex&lt;/th&gt;\n      &lt;th&gt;BP&lt;/th&gt;\n      &lt;th&gt;Cholesterol&lt;/th&gt;\n      &lt;th&gt;Na_to_K&lt;/th&gt;\n      &lt;th&gt;Drug&lt;/th&gt;\n      &lt;th&gt;predicted_label&lt;/th&gt;\n    &lt;/tr&gt;\n  &lt;/thead&gt;\n  &lt;tbody&gt;\n    &lt;tr&gt;\n      &lt;th&gt;90&lt;/th&gt;\n      &lt;td&gt;60s&lt;/td&gt;\n      &lt;td&gt;M&lt;/td&gt;\n      &lt;td&gt;NORMAL&lt;/td&gt;\n      &lt;td&gt;HIGH&lt;/td&gt;\n      &lt;td&gt;10-20&lt;/td&gt;\n      &lt;td&gt;drugY&lt;/td&gt;\n      &lt;td&gt;drugX&lt;/td&gt;\n    &lt;/tr&gt;\n    &lt;tr&gt;\n      &lt;th&gt;87&lt;/th&gt;\n      &lt;td&gt;60s&lt;/td&gt;\n      &lt;td&gt;M&lt;/td&gt;\n      &lt;td&gt;LOW&lt;/td&gt;\n      &lt;td&gt;HIGH&lt;/td&gt;\n      &lt;td&gt;10-20&lt;/td&gt;\n      &lt;td&gt;drugY&lt;/td&gt;\n      &lt;td&gt;drugC&lt;/td&gt;\n    &lt;/tr&gt;\n    &lt;tr&gt;\n      &lt;th&gt;126&lt;/th&gt;\n      &lt;td&gt;60s&lt;/td&gt;\n      &lt;td&gt;M&lt;/td&gt;\n      &lt;td&gt;HIGH&lt;/td&gt;\n      &lt;td&gt;HIGH&lt;/td&gt;\n      &lt;td&gt;10-20&lt;/td&gt;\n      &lt;td&gt;drugY&lt;/td&gt;\n      &lt;td&gt;drugB&lt;/td&gt;\n    &lt;/tr&gt;\n  &lt;/tbody&gt;\n&lt;/table&gt;\n                    &lt;/div&gt;\n                &lt;/td&gt;\n            &lt;/tr&gt;\n        &lt;/tbody&gt;\n        \n        &lt;tbody class=&quot;first:border-t border-b border-zinc-400&quot;&gt;\n            &lt;tr class=&quot;gsk-issue text-sm group peer text-left cursor-pointer hover:bg-zinc-700&quot;&gt;\n                &lt;td class=&quot;p-3&quot;&gt;\n                    &lt;svg xmlns=&quot;http://www.w3.org/2000/svg&quot; fill=&quot;none&quot; viewBox=&quot;0 0 24 24&quot; stroke-width=&quot;1.5&quot;\n                        stroke=&quot;currentColor&quot; class=&quot;w-4 h-4 group-[.open]:rotate-90&quot;&gt;\n                        &lt;path stroke-linecap=&quot;round&quot; stroke-linejoin=&quot;round&quot; d=&quot;M8.25 4.5l7.5 7.5-7.5 7.5&quot; /&gt;\n                    &lt;/svg&gt;\n                &lt;/td&gt;\n                &lt;td class=&quot;p-3&quot;&gt;\n                    &lt;code class=&quot;mono text-blue-300&quot;&gt;\n                    `Cholesterol` == &amp;#39;NORMAL&amp;#39;\n                &lt;/code&gt;\n                &lt;/td&gt;\n                &lt;td class=&quot;p-3&quot;&gt;\n                    Recall = 0.73\n                &lt;/td&gt;\n                &lt;td class=&quot;p-3&quot;&gt;\n                    &lt;span class=&quot;text-red-400&quot;&gt;\n                        -20.12% than global\n                    &lt;/span&gt;\n                &lt;/td&gt;\n                &lt;td class=&quot;p-3&quot;&gt;\n                    &lt;span class=&quot;text-gray-400&quot;&gt;\n                        65 samples (46.43%)\n                    &lt;/span&gt;\n                &lt;/td&gt;\n                &lt;td class=&quot;p-3 text-xs text-right space-x-1&quot;&gt;\n                    &lt;a href=&quot;&quot;\n                        class=&quot;gsk-debug inline-block border border-emerald-100/50 text-emerald-100/90 hover:bg-emerald-500 hover:border-emerald-500 hover:text-white px-2 py-0.5 rounded-sm&quot;&gt;Debug&lt;/a&gt;\n                &lt;/td&gt;\n            &lt;/tr&gt;\n            &lt;tr class=&quot;gsk-issue-detail text-left collapse peer-[.open]:visible border-b border-zinc-400 bg-zinc-700&quot;&gt;\n                &lt;td colspan=&quot;6&quot; class=&quot;p-3&quot;&gt;\n                    &lt;h4 class=&quot;uppercase&quot;&gt;Examples&lt;/h4&gt;\n                    &lt;div class=&quot;text-white max-w-xl text-sm overflow-scroll&quot; style=&quot;max-width: 920px&quot;&gt;\n                        &lt;table border=&quot;1&quot; class=&quot;dataframe&quot;&gt;\n  &lt;thead&gt;\n    &lt;tr style=&quot;text-align: right;&quot;&gt;\n      &lt;th&gt;&lt;/th&gt;\n      &lt;th&gt;Age&lt;/th&gt;\n      &lt;th&gt;Sex&lt;/th&gt;\n      &lt;th&gt;BP&lt;/th&gt;\n      &lt;th&gt;Cholesterol&lt;/th&gt;\n      &lt;th&gt;Na_to_K&lt;/th&gt;\n      &lt;th&gt;Drug&lt;/th&gt;\n      &lt;th&gt;predicted_label&lt;/th&gt;\n    &lt;/tr&gt;\n  &lt;/thead&gt;\n  &lt;tbody&gt;\n    &lt;tr&gt;\n      &lt;th&gt;25&lt;/th&gt;\n      &lt;td&gt;20s&lt;/td&gt;\n      &lt;td&gt;F&lt;/td&gt;\n      &lt;td&gt;HIGH&lt;/td&gt;\n      &lt;td&gt;NORMAL&lt;/td&gt;\n      &lt;td&gt;10-20&lt;/td&gt;\n      &lt;td&gt;drugY&lt;/td&gt;\n      &lt;td&gt;drugA&lt;/td&gt;\n    &lt;/tr&gt;\n    &lt;tr&gt;\n      &lt;th&gt;53&lt;/th&gt;\n      &lt;td&gt;20s&lt;/td&gt;\n      &lt;td&gt;F&lt;/td&gt;\n      &lt;td&gt;HIGH&lt;/td&gt;\n      &lt;td&gt;NORMAL&lt;/td&gt;\n      &lt;td&gt;10-20&lt;/td&gt;\n      &lt;td&gt;drugY&lt;/td&gt;\n      &lt;td&gt;drugA&lt;/td&gt;\n    &lt;/tr&gt;\n    &lt;tr&gt;\n      &lt;th&gt;99&lt;/th&gt;\n      &lt;td&gt;&amp;lt;20s&lt;/td&gt;\n      &lt;td&gt;F&lt;/td&gt;\n      &lt;td&gt;HIGH&lt;/td&gt;\n      &lt;td&gt;NORMAL&lt;/td&gt;\n      &lt;td&gt;10-20&lt;/td&gt;\n      &lt;td&gt;drugY&lt;/td&gt;\n      &lt;td&gt;drugA&lt;/td&gt;\n    &lt;/tr&gt;\n  &lt;/tbody&gt;\n&lt;/table&gt;\n                    &lt;/div&gt;\n                &lt;/td&gt;\n            &lt;/tr&gt;\n        &lt;/tbody&gt;\n        \n        &lt;tbody class=&quot;first:border-t border-b border-zinc-400&quot;&gt;\n            &lt;tr class=&quot;gsk-issue text-sm group peer text-left cursor-pointer hover:bg-zinc-700&quot;&gt;\n                &lt;td class=&quot;p-3&quot;&gt;\n                    &lt;svg xmlns=&quot;http://www.w3.org/2000/svg&quot; fill=&quot;none&quot; viewBox=&quot;0 0 24 24&quot; stroke-width=&quot;1.5&quot;\n                        stroke=&quot;currentColor&quot; class=&quot;w-4 h-4 group-[.open]:rotate-90&quot;&gt;\n                        &lt;path stroke-linecap=&quot;round&quot; stroke-linejoin=&quot;round&quot; d=&quot;M8.25 4.5l7.5 7.5-7.5 7.5&quot; /&gt;\n                    &lt;/svg&gt;\n                &lt;/td&gt;\n                &lt;td class=&quot;p-3&quot;&gt;\n                    &lt;code class=&quot;mono text-blue-300&quot;&gt;\n                    `Age` == &amp;#39;20s&amp;#39;\n                &lt;/code&gt;\n                &lt;/td&gt;\n                &lt;td class=&quot;p-3&quot;&gt;\n                    Recall = 0.75\n                &lt;/td&gt;\n                &lt;td class=&quot;p-3&quot;&gt;\n                    &lt;span class=&quot;text-red-400&quot;&gt;\n                        -18.30% than global\n                    &lt;/span&gt;\n                &lt;/td&gt;\n                &lt;td class=&quot;p-3&quot;&gt;\n                    &lt;span class=&quot;text-gray-400&quot;&gt;\n                        21 samples (15.00%)\n                    &lt;/span&gt;\n                &lt;/td&gt;\n                &lt;td class=&quot;p-3 text-xs text-right space-x-1&quot;&gt;\n                    &lt;a href=&quot;&quot;\n                        class=&quot;gsk-debug inline-block border border-emerald-100/50 text-emerald-100/90 hover:bg-emerald-500 hover:border-emerald-500 hover:text-white px-2 py-0.5 rounded-sm&quot;&gt;Debug&lt;/a&gt;\n                &lt;/td&gt;\n            &lt;/tr&gt;\n            &lt;tr class=&quot;gsk-issue-detail text-left collapse peer-[.open]:visible border-b border-zinc-400 bg-zinc-700&quot;&gt;\n                &lt;td colspan=&quot;6&quot; class=&quot;p-3&quot;&gt;\n                    &lt;h4 class=&quot;uppercase&quot;&gt;Examples&lt;/h4&gt;\n                    &lt;div class=&quot;text-white max-w-xl text-sm overflow-scroll&quot; style=&quot;max-width: 920px&quot;&gt;\n                        &lt;table border=&quot;1&quot; class=&quot;dataframe&quot;&gt;\n  &lt;thead&gt;\n    &lt;tr style=&quot;text-align: right;&quot;&gt;\n      &lt;th&gt;&lt;/th&gt;\n      &lt;th&gt;Age&lt;/th&gt;\n      &lt;th&gt;Sex&lt;/th&gt;\n      &lt;th&gt;BP&lt;/th&gt;\n      &lt;th&gt;Cholesterol&lt;/th&gt;\n      &lt;th&gt;Na_to_K&lt;/th&gt;\n      &lt;th&gt;Drug&lt;/th&gt;\n      &lt;th&gt;predicted_label&lt;/th&gt;\n    &lt;/tr&gt;\n  &lt;/thead&gt;\n  &lt;tbody&gt;\n    &lt;tr&gt;\n      &lt;th&gt;109&lt;/th&gt;\n      &lt;td&gt;20s&lt;/td&gt;\n      &lt;td&gt;M&lt;/td&gt;\n      &lt;td&gt;NORMAL&lt;/td&gt;\n      &lt;td&gt;HIGH&lt;/td&gt;\n      &lt;td&gt;10-20&lt;/td&gt;\n      &lt;td&gt;drugY&lt;/td&gt;\n      &lt;td&gt;drugX&lt;/td&gt;\n    &lt;/tr&gt;\n    &lt;tr&gt;\n      &lt;th&gt;25&lt;/th&gt;\n      &lt;td&gt;20s&lt;/td&gt;\n      &lt;td&gt;F&lt;/td&gt;\n      &lt;td&gt;HIGH&lt;/td&gt;\n      &lt;td&gt;NORMAL&lt;/td&gt;\n      &lt;td&gt;10-20&lt;/td&gt;\n      &lt;td&gt;drugY&lt;/td&gt;\n      &lt;td&gt;drugA&lt;/td&gt;\n    &lt;/tr&gt;\n    &lt;tr&gt;\n      &lt;th&gt;53&lt;/th&gt;\n      &lt;td&gt;20s&lt;/td&gt;\n      &lt;td&gt;F&lt;/td&gt;\n      &lt;td&gt;HIGH&lt;/td&gt;\n      &lt;td&gt;NORMAL&lt;/td&gt;\n      &lt;td&gt;10-20&lt;/td&gt;\n      &lt;td&gt;drugY&lt;/td&gt;\n      &lt;td&gt;drugA&lt;/td&gt;\n    &lt;/tr&gt;\n  &lt;/tbody&gt;\n&lt;/table&gt;\n                    &lt;/div&gt;\n                &lt;/td&gt;\n            &lt;/tr&gt;\n        &lt;/tbody&gt;\n        \n        &lt;tbody class=&quot;first:border-t border-b border-zinc-400&quot;&gt;\n            &lt;tr class=&quot;gsk-issue text-sm group peer text-left cursor-pointer hover:bg-zinc-700&quot;&gt;\n                &lt;td class=&quot;p-3&quot;&gt;\n                    &lt;svg xmlns=&quot;http://www.w3.org/2000/svg&quot; fill=&quot;none&quot; viewBox=&quot;0 0 24 24&quot; stroke-width=&quot;1.5&quot;\n                        stroke=&quot;currentColor&quot; class=&quot;w-4 h-4 group-[.open]:rotate-90&quot;&gt;\n                        &lt;path stroke-linecap=&quot;round&quot; stroke-linejoin=&quot;round&quot; d=&quot;M8.25 4.5l7.5 7.5-7.5 7.5&quot; /&gt;\n                    &lt;/svg&gt;\n                &lt;/td&gt;\n                &lt;td class=&quot;p-3&quot;&gt;\n                    &lt;code class=&quot;mono text-blue-300&quot;&gt;\n                    `Na_to_K` == &amp;#39;&amp;lt;10&amp;#39;\n                &lt;/code&gt;\n                &lt;/td&gt;\n                &lt;td class=&quot;p-3&quot;&gt;\n                    Recall = 0.80\n                &lt;/td&gt;\n                &lt;td class=&quot;p-3&quot;&gt;\n                    &lt;span class=&quot;text-red-400&quot;&gt;\n                        -12.86% than global\n                    &lt;/span&gt;\n                &lt;/td&gt;\n                &lt;td class=&quot;p-3&quot;&gt;\n                    &lt;span class=&quot;text-gray-400&quot;&gt;\n                        12 samples (8.57%)\n                    &lt;/span&gt;\n                &lt;/td&gt;\n                &lt;td class=&quot;p-3 text-xs text-right space-x-1&quot;&gt;\n                    &lt;a href=&quot;&quot;\n                        class=&quot;gsk-debug inline-block border border-emerald-100/50 text-emerald-100/90 hover:bg-emerald-500 hover:border-emerald-500 hover:text-white px-2 py-0.5 rounded-sm&quot;&gt;Debug&lt;/a&gt;\n                &lt;/td&gt;\n            &lt;/tr&gt;\n            &lt;tr class=&quot;gsk-issue-detail text-left collapse peer-[.open]:visible border-b border-zinc-400 bg-zinc-700&quot;&gt;\n                &lt;td colspan=&quot;6&quot; class=&quot;p-3&quot;&gt;\n                    &lt;h4 class=&quot;uppercase&quot;&gt;Examples&lt;/h4&gt;\n                    &lt;div class=&quot;text-white max-w-xl text-sm overflow-scroll&quot; style=&quot;max-width: 920px&quot;&gt;\n                        &lt;table border=&quot;1&quot; class=&quot;dataframe&quot;&gt;\n  &lt;thead&gt;\n    &lt;tr style=&quot;text-align: right;&quot;&gt;\n      &lt;th&gt;&lt;/th&gt;\n      &lt;th&gt;Age&lt;/th&gt;\n      &lt;th&gt;Sex&lt;/th&gt;\n      &lt;th&gt;BP&lt;/th&gt;\n      &lt;th&gt;Cholesterol&lt;/th&gt;\n      &lt;th&gt;Na_to_K&lt;/th&gt;\n      &lt;th&gt;Drug&lt;/th&gt;\n      &lt;th&gt;predicted_label&lt;/th&gt;\n    &lt;/tr&gt;\n  &lt;/thead&gt;\n  &lt;tbody&gt;\n  &lt;/tbody&gt;\n&lt;/table&gt;\n                    &lt;/div&gt;\n                &lt;/td&gt;\n            &lt;/tr&gt;\n        &lt;/tbody&gt;\n        \n    &lt;/table&gt;\n&lt;/div&gt;\n&lt;!-- ISSUES TABLE END --&gt;\n\n\n    \n    &lt;h2 class=&quot;uppercase mb-2 mt-8 mr-2 font-mediums flex&quot;&gt;\n        &lt;svg xmlns=&quot;http://www.w3.org/2000/svg&quot; fill=&quot;none&quot; viewBox=&quot;0 0 24 24&quot; stroke-width=&quot;1.5&quot; stroke=&quot;currentColor&quot;\n            class=&quot;w-5 h-5 mr-1&quot;&gt;\n            &lt;path stroke-linecap=&quot;round&quot; stroke-linejoin=&quot;round&quot;\n                d=&quot;M9.879 7.519c1.171-1.025 3.071-1.025 4.242 0 1.172 1.025 1.172 2.687 0 3.712-.203.179-.43.326-.67.442-.745.361-1.45.999-1.45 1.827v.75M21 12a9 9 0 11-18 0 9 9 0 0118 0zm-9 5.25h.008v.008H12v-.008z&quot; /&gt;\n        &lt;/svg&gt;\n        Why does this happen?\n    &lt;/h2&gt;\n    &lt;p class=&quot;my-1&quot;&gt;\n        Performance bias can happen for a different reasons:\n    &lt;/p&gt;\n    &lt;ul class=&quot;list-disc ml-6&quot;&gt;\n        &lt;li&gt;Not enough training samples in the low-performing data slices&lt;/li&gt;\n        &lt;li&gt;Wrong labels in the training set in the low-performing data slices&lt;/li&gt;\n        &lt;li&gt;Drift between your training set and the test set&lt;/li&gt;\n    &lt;/ul&gt;\n\n    &lt;h2 class=&quot;uppercase mb-2 mt-8 mr-2 font-mediums flex&quot;&gt;\n        &lt;svg xmlns=&quot;http://www.w3.org/2000/svg&quot; fill=&quot;none&quot; viewBox=&quot;0 0 24 24&quot; stroke-width=&quot;1.5&quot; stroke=&quot;currentColor&quot;\n            class=&quot;w-5 h-5 mr-1&quot;&gt;\n            &lt;path stroke-linecap=&quot;round&quot; stroke-linejoin=&quot;round&quot;\n                d=&quot;M11.42 15.17L17.25 21A2.652 2.652 0 0021 17.25l-5.877-5.877M11.42 15.17l2.496-3.03c.317-.384.74-.626 1.208-.766M11.42 15.17l-4.655 5.653a2.548 2.548 0 11-3.586-3.586l6.837-5.63m5.108-.233c.55-.164 1.163-.188 1.743-.14a4.5 4.5 0 004.486-6.336l-3.276 3.277a3.004 3.004 0 01-2.25-2.25l3.276-3.276a4.5 4.5 0 00-6.336 4.486c.091 1.076-.071 2.264-.904 2.95l-.102.085m-1.745 1.437L5.909 7.5H4.5L2.25 3.75l1.5-1.5L7.5 4.5v1.409l4.26 4.26m-1.745 1.437l1.745-1.437m6.615 8.206L15.75 15.75M4.867 19.125h.008v.008h-.008v-.008z&quot; /&gt;\n        &lt;/svg&gt;\n        How to correct this?\n    &lt;/h2&gt;\n    &lt;p class=&quot;my-1 max-w-xl&quot;&gt;\n        We strongly recommend that you inspect the incorrect samples in the detected low-performing data\n        slices. This will allow you to find the right feature engineering or data augmentation strategies to\n        avoid such biases.\n    &lt;/p&gt;\n    \n\n    \n\n\n    &lt;div class=&quot;my-5 space-x-2&quot;&gt;\n        &lt;a href=&quot;#&quot; class=&quot;bg-orange-700 hover:bg-orange-600 inline-block py-2 px-3 rounded-sm&quot;&gt;Customize\n            Test\n            Suite&lt;/a&gt;\n        &lt;a href=&quot;#&quot; class=&quot;bg-zinc-500 hover:bg-emerald-500 inline-block py-2 px-3 rounded-sm&quot;&gt;Debug Test\n            Suite&lt;/a&gt;\n    &lt;/div&gt;\n\n    \n\n&lt;/div&gt;\n\n    &lt;/div&gt;\n&lt;/div&gt;\n&lt;script type=&quot;text/javascript&quot;&gt;\n        (function () {\n            console.log(&quot;Loading Giskard Scan&quot;);\n            let rows = document.querySelectorAll(&quot;#gsk-scan .gsk-issue&quot;)\n            rows.forEach(rowEl =&gt; {\n                {\n                    rowEl.addEventListener(&quot;click&quot;, (event) =&gt; {\n                        {\n                            event.preventDefault()\n                            if (event.target.classList.contains(&quot;gsk-debug&quot;)) {\n                                {\n                                    alert(&quot;Not implemented yet&quot;)\n                                    return;\n                                }\n                            }\n\n                            rowEl.classList.toggle(&quot;open&quot;)\n                            rowEl.classList.toggle(&quot;bg-zinc-700&quot;)\n                        }\n                    })\n                }\n            });\n\n            const tabs = document.querySelectorAll(&quot;#gsk-scan [role=&#x27;tabpanel&#x27;]&quot;)\n            const tabHeaders = document.querySelectorAll(&quot;#gsk-scan [data-tab-target]&quot;)\n            tabHeaders.forEach(tabHeader =&gt; {\n                tabHeader.addEventListener(&quot;click&quot;, (event) =&gt; {\n                    event.preventDefault()\n                    const tabId = tabHeader.getAttribute(&quot;data-tab-target&quot;)\n\n                    tabs.forEach(tab =&gt; {\n                        tab.classList.add(&quot;hidden&quot;)\n                    })\n                    tabHeaders.forEach(tabh =&gt; {\n                        tabh.classList.remove(&quot;active&quot;)\n                    })\n\n                    tabHeader.classList.add(&quot;active&quot;)\n                    console.log(tabId)\n                    document.getElementById(tabId).classList.remove(&quot;hidden&quot;)\n\n                })\n            })\n\n        })()\n&lt;/script&gt;\n\" style=\"width: 100%; border: none;\" class=\"gsk-scan\"></iframe>\n<script>\n(function() {\n    // @TODO: fix this\n    let elements = document.querySelectorAll(\".gsk-scan\");\n    elements.forEach(el => {\n        el.style.height = el.contentWindow.document.body.scrollHeight + \"px\";\n        setTimeout(() => {\n            el.style.height = el.contentWindow.document.body.scrollHeight + \"px\";\n        }, 1000)\n\n    })\n})()\n</script>\n"
     },
     "metadata": {},
     "output_type": "display_data"
    }
   ],
   "source": [
    "display(scanning_results)"
   ],
   "metadata": {
    "collapsed": false,
    "ExecuteTime": {
     "end_time": "2023-05-12T14:06:40.038559Z",
     "start_time": "2023-05-12T14:06:39.852210Z"
    }
   }
  }
 ],
 "metadata": {
  "kernelspec": {
   "display_name": "Python 3",
   "language": "python",
   "name": "python3"
  },
  "language_info": {
   "codemirror_mode": {
    "name": "ipython",
    "version": 3
   },
   "file_extension": ".py",
   "mimetype": "text/x-python",
   "name": "python",
   "nbconvert_exporter": "python",
   "pygments_lexer": "ipython3",
   "version": "3.7.10"
  },
  "papermill": {
   "default_parameters": {},
   "duration": 123.972965,
   "end_time": "2022-05-04T02:55:10.135212",
   "environment_variables": {},
   "exception": null,
   "input_path": "__notebook__.ipynb",
   "output_path": "__notebook__.ipynb",
   "parameters": {},
   "start_time": "2022-05-04T02:53:06.162247",
   "version": "2.3.3"
  }
 },
 "nbformat": 4,
 "nbformat_minor": 5
}
