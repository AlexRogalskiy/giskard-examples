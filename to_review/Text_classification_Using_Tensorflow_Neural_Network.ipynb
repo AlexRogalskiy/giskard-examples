{
 "cells": [
  {
   "cell_type": "markdown",
   "metadata": {
    "pycharm": {
     "name": "#%% md\n"
    }
   },
   "source": [
    "![giskard_logo.png](https://raw.githubusercontent.com/Giskard-AI/giskard/main/readme/Logo_full_darkgreen.png)\n"
   ]
  },
  {
   "cell_type": "markdown",
   "metadata": {
    "pycharm": {
     "name": "#%% md\n"
    }
   },
   "source": [
    "# Basic text classification"
   ]
  },
  {
   "cell_type": "markdown",
   "metadata": {
    "id": "Eg62Pmz3o83v",
    "pycharm": {
     "name": "#%% md\n"
    }
   },
   "source": [
    "This tutorial demonstrates [text classification of Tensorflow](https://www.tensorflow.org/tutorials/keras/text_classification) modified for uploading on [Giskard](https://www.giskard.ai/) starting from plain text files stored on disk. You'll train a binary classifier to perform sentiment analysis on an IMDB dataset.\n"
   ]
  },
  {
   "cell_type": "code",
   "execution_count": 1,
   "metadata": {
    "jupyter": {
     "outputs_hidden": false
    },
    "pycharm": {
     "name": "#%%\n"
    },
    "scrolled": false
   },
   "outputs": [],
   "source": [
    "#!pip install tensorflow"
   ]
  },
  {
   "cell_type": "code",
   "execution_count": 1,
   "metadata": {
    "id": "8RZOuS9LWQvv",
    "pycharm": {
     "name": "#%%\n"
    }
   },
   "outputs": [],
   "source": [
    "import os\n",
    "import shutil\n",
    "import tensorflow as tf\n",
    "import numpy as np\n",
    "import pandas as pd\n",
    "from tensorflow.keras import layers\n",
    "from tensorflow.keras import losses"
   ]
  },
  {
   "cell_type": "code",
   "execution_count": 3,
   "metadata": {},
   "outputs": [
    {
     "name": "stdout",
     "output_type": "stream",
     "text": [
      "User Current Version:- 3.8.16 (default, Dec  7 2022, 01:36:19) \n",
      "[Clang 13.0.0 (clang-1300.0.29.30)]\n"
     ]
    },
    {
     "data": {
      "text/plain": [
       "'2.11.0'"
      ]
     },
     "execution_count": 3,
     "metadata": {},
     "output_type": "execute_result"
    }
   ],
   "source": [
    "import sys\n",
    " \n",
    "print(\"User Current Version:-\", sys.version)\n",
    "import giskard\n",
    "giskard.__version__\n",
    "import mlflow\n",
    "mlflow.__version__\n",
    "tf.__version__"
   ]
  },
  {
   "cell_type": "markdown",
   "metadata": {
    "id": "NBTI1bi8qdFV",
    "pycharm": {
     "name": "#%% md\n"
    }
   },
   "source": [
    "## Sentiment analysis\n",
    "\n",
    "This notebook trains a sentiment analysis model to classify movie reviews as *positive* or *negative*, based on the text of the review. This is an example of *binary*—or two-class—classification, an important and widely applicable kind of machine learning problem.\n",
    "\n",
    "You'll use the [Large Movie Review Dataset](https://ai.stanford.edu/~amaas/data/sentiment/) that contains the text of 50,000 movie reviews from the [Internet Movie Database](https://www.imdb.com/). These are split into 25,000 reviews for training and 25,000 reviews for testing. The training and testing sets are *balanced*, meaning they contain an equal number of positive and negative reviews.\n"
   ]
  },
  {
   "cell_type": "markdown",
   "metadata": {
    "id": "iAsKG535pHep",
    "pycharm": {
     "name": "#%% md\n"
    }
   },
   "source": [
    "### Download and explore the IMDB dataset\n",
    "\n",
    "Let's download and extract the dataset, then explore the directory structure."
   ]
  },
  {
   "cell_type": "code",
   "execution_count": 2,
   "metadata": {
    "colab": {
     "base_uri": "https://localhost:8080/"
    },
    "id": "k7ZYnuajVlFN",
    "outputId": "bfd4caa3-1a0a-4087-8275-8d59cefccb52",
    "pycharm": {
     "name": "#%%\n"
    }
   },
   "outputs": [],
   "source": [
    "url = \"https://ai.stanford.edu/~amaas/data/sentiment/aclImdb_v1.tar.gz\"\n",
    "\n",
    "dataset = tf.keras.utils.get_file(\"aclImdb_v1\", url,\n",
    "                                    untar=True, cache_dir='.',\n",
    "                                    cache_subdir='')\n",
    "\n",
    "dataset_dir = os.path.join(os.path.dirname(dataset), 'aclImdb')"
   ]
  },
  {
   "cell_type": "code",
   "execution_count": 3,
   "metadata": {
    "colab": {
     "base_uri": "https://localhost:8080/"
    },
    "id": "355CfOvsV1pl",
    "outputId": "a7f1c39b-86d3-4482-e161-b6fbb32512e7",
    "pycharm": {
     "name": "#%%\n"
    }
   },
   "outputs": [
    {
     "data": {
      "text/plain": [
       "['imdbEr.txt', 'test', 'imdb.vocab', 'README', 'train']"
      ]
     },
     "execution_count": 3,
     "metadata": {},
     "output_type": "execute_result"
    }
   ],
   "source": [
    "os.listdir(dataset_dir)"
   ]
  },
  {
   "cell_type": "code",
   "execution_count": 4,
   "metadata": {
    "colab": {
     "base_uri": "https://localhost:8080/"
    },
    "id": "7ASND15oXpF1",
    "outputId": "4515eb1e-5108-43b8-c9ec-13a8625bd92c",
    "pycharm": {
     "name": "#%%\n"
    }
   },
   "outputs": [
    {
     "data": {
      "text/plain": [
       "['urls_unsup.txt',\n",
       " 'neg',\n",
       " 'urls_pos.txt',\n",
       " 'unsup',\n",
       " 'urls_neg.txt',\n",
       " 'pos',\n",
       " 'unsupBow.feat',\n",
       " 'labeledBow.feat']"
      ]
     },
     "execution_count": 4,
     "metadata": {},
     "output_type": "execute_result"
    }
   ],
   "source": [
    "train_dir = os.path.join(dataset_dir, 'train')\n",
    "os.listdir(train_dir)"
   ]
  },
  {
   "cell_type": "markdown",
   "metadata": {
    "id": "ysMNMI1CWDFD",
    "pycharm": {
     "name": "#%% md\n"
    }
   },
   "source": [
    "The `aclImdb/train/pos` and `aclImdb/train/neg` directories contain many text files, each of which is a single movie review. Let's take a look at one of them."
   ]
  },
  {
   "cell_type": "code",
   "execution_count": 5,
   "metadata": {
    "colab": {
     "base_uri": "https://localhost:8080/"
    },
    "id": "R7g8hFvzWLIZ",
    "outputId": "4744287d-bc67-4035-bd24-2f9f98259d38",
    "pycharm": {
     "name": "#%%\n"
    }
   },
   "outputs": [
    {
     "name": "stdout",
     "output_type": "stream",
     "text": [
      "Rachel Griffiths writes and directs this award winning short film. A heartwarming story about coping with grief and cherishing the memory of those we've loved and lost. Although, only 15 minutes long, Griffiths manages to capture so much emotion and truth onto film in the short space of time. Bud Tingwell gives a touching performance as Will, a widower struggling to cope with his wife's death. Will is confronted by the harsh reality of loneliness and helplessness as he proceeds to take care of Ruth's pet cow, Tulip. The film displays the grief and responsibility one feels for those they have loved and lost. Good cinematography, great direction, and superbly acted. It will bring tears to all those who have lost a loved one, and survived.\n"
     ]
    }
   ],
   "source": [
    "sample_file = os.path.join(train_dir, 'pos/1181_9.txt')\n",
    "with open(sample_file) as f:\n",
    "  print(f.read())"
   ]
  },
  {
   "cell_type": "markdown",
   "metadata": {
    "id": "nQauv38Lnok3",
    "pycharm": {
     "name": "#%% md\n"
    }
   },
   "source": [
    "To prepare a dataset for binary classification, you will need two folders on disk, corresponding to `class_a` and `class_b`. These will be the positive and negative movie reviews, which can be found in  `aclImdb/train/pos` and `aclImdb/train/neg`. As the IMDB dataset contains additional folders, you will remove them before using this utility."
   ]
  },
  {
   "cell_type": "code",
   "execution_count": 6,
   "metadata": {
    "id": "VhejsClzaWfl",
    "pycharm": {
     "name": "#%%\n"
    }
   },
   "outputs": [],
   "source": [
    "remove_dir = os.path.join(train_dir, 'unsup')\n",
    "shutil.rmtree(remove_dir)"
   ]
  },
  {
   "cell_type": "markdown",
   "metadata": {
    "id": "95kkUdRoaeMw",
    "pycharm": {
     "name": "#%% md\n"
    }
   },
   "source": [
    "Next, you will use the `text_dataset_from_directory` utility to create a labeled `tf.data.Dataset`. [tf.data](https://www.tensorflow.org/guide/data) is a powerful collection of tools for working with data. \n",
    "\n",
    "When running a machine learning experiment, it is a best practice to divide your dataset into three splits: [train](https://developers.google.com/machine-learning/glossary#training_set), [validation](https://developers.google.com/machine-learning/glossary#validation_set), and [test](https://developers.google.com/machine-learning/glossary#test-set). \n",
    "\n",
    "The IMDB dataset has already been divided into train and test, but it lacks a validation set. Let's create a validation set using an 80:20 split of the training data by using the `validation_split` argument below."
   ]
  },
  {
   "cell_type": "code",
   "execution_count": 7,
   "metadata": {
    "colab": {
     "base_uri": "https://localhost:8080/"
    },
    "id": "nOrK-MTYaw3C",
    "outputId": "2c0b74a1-9cf4-4975-8794-22bfa8b978aa",
    "pycharm": {
     "name": "#%%\n"
    }
   },
   "outputs": [
    {
     "name": "stdout",
     "output_type": "stream",
     "text": [
      "Found 25000 files belonging to 2 classes.\n",
      "Using 20000 files for training.\n"
     ]
    }
   ],
   "source": [
    "batch_size = 32\n",
    "seed = 42\n",
    "\n",
    "raw_train_ds = tf.keras.utils.text_dataset_from_directory(\n",
    "    'aclImdb/train', \n",
    "    batch_size=batch_size, \n",
    "    validation_split=0.2, \n",
    "    subset='training', \n",
    "    seed=seed)"
   ]
  },
  {
   "cell_type": "code",
   "execution_count": 8,
   "metadata": {
    "colab": {
     "base_uri": "https://localhost:8080/"
    },
    "id": "JsMwwhOoqjKF",
    "outputId": "141a313b-d15e-4f11-99f7-87647ecf7aab",
    "pycharm": {
     "name": "#%%\n"
    }
   },
   "outputs": [
    {
     "name": "stdout",
     "output_type": "stream",
     "text": [
      "Found 25000 files belonging to 2 classes.\n",
      "Using 5000 files for validation.\n"
     ]
    }
   ],
   "source": [
    "raw_val_ds = tf.keras.utils.text_dataset_from_directory(\n",
    "    'aclImdb/train', \n",
    "    batch_size=batch_size, \n",
    "    validation_split=0.2, \n",
    "    subset='validation', \n",
    "    seed=seed)"
   ]
  },
  {
   "cell_type": "code",
   "execution_count": 9,
   "metadata": {
    "colab": {
     "base_uri": "https://localhost:8080/"
    },
    "id": "rdSr0Nt3q_ns",
    "outputId": "c461a4f1-5e8e-49b0-9536-c6bd035e59c7",
    "pycharm": {
     "name": "#%%\n"
    }
   },
   "outputs": [
    {
     "name": "stdout",
     "output_type": "stream",
     "text": [
      "Found 25000 files belonging to 2 classes.\n"
     ]
    }
   ],
   "source": [
    "raw_test_ds = tf.keras.utils.text_dataset_from_directory(\n",
    "    'aclImdb/test', \n",
    "    batch_size=batch_size)"
   ]
  },
  {
   "cell_type": "markdown",
   "metadata": {
    "id": "8ukPIYm6mHhr",
    "pycharm": {
     "name": "#%% md\n"
    }
   },
   "source": [
    "## We convert this data to pandas dataframe to upload on Giskard"
   ]
  },
  {
   "cell_type": "code",
   "execution_count": 10,
   "metadata": {
    "id": "51wNaPPApk1K",
    "pycharm": {
     "name": "#%%\n"
    }
   },
   "outputs": [],
   "source": [
    "train_dataset = {'Review':[], 'Label':[]}\n",
    "for text_batch, label_batch in raw_train_ds.take(625):\n",
    "  for i in range(32):\n",
    "    train_dataset['Review'].append(text_batch.numpy()[i])\n",
    "    train_dataset['Label'].append(label_batch.numpy()[i])\n",
    "\n",
    "train_df = pd.DataFrame.from_dict(train_dataset)"
   ]
  },
  {
   "cell_type": "code",
   "execution_count": 11,
   "metadata": {
    "colab": {
     "base_uri": "https://localhost:8080/"
    },
    "id": "MlICTG8spyO2",
    "outputId": "382b5951-f328-483a-b60d-81f805aa267d",
    "pycharm": {
     "name": "#%%\n"
    }
   },
   "outputs": [
    {
     "name": "stdout",
     "output_type": "stream",
     "text": [
      "Label 0 corresponds to neg\n",
      "Label 1 corresponds to pos\n"
     ]
    }
   ],
   "source": [
    "print(\"Label 0 corresponds to\", raw_train_ds.class_names[0])\n",
    "print(\"Label 1 corresponds to\", raw_train_ds.class_names[1])"
   ]
  },
  {
   "cell_type": "code",
   "execution_count": 12,
   "metadata": {
    "id": "eSpOabEzdsER",
    "pycharm": {
     "name": "#%%\n"
    }
   },
   "outputs": [],
   "source": [
    "val_dataset = {'Review':[], 'Label':[]}\n",
    "for text_batch, label_batch in raw_val_ds.take(157):\n",
    "  for i in range(8):\n",
    "    val_dataset['Review'].append(text_batch.numpy()[i])\n",
    "    val_dataset['Label'].append(label_batch.numpy()[i])\n",
    "\n",
    "val_df = pd.DataFrame.from_dict(val_dataset)\n"
   ]
  },
  {
   "cell_type": "code",
   "execution_count": 13,
   "metadata": {
    "id": "gjVrRN00eRnT",
    "pycharm": {
     "name": "#%%\n"
    }
   },
   "outputs": [],
   "source": [
    "test_dataset = {'Review':[], 'Label':[]}\n",
    "for text_batch, label_batch in raw_test_ds.take(782):\n",
    "  for i in range(8):\n",
    "    test_dataset['Review'].append(text_batch.numpy()[i])\n",
    "    test_dataset['Label'].append(label_batch.numpy()[i])\n",
    "  test_df = pd.DataFrame.from_dict(test_dataset)"
   ]
  },
  {
   "cell_type": "markdown",
   "metadata": {
    "id": "qJmTiO0IYAjm",
    "pycharm": {
     "name": "#%% md\n"
    }
   },
   "source": [
    "### Prepare the dataset for training\n",
    "\n",
    "Next, you will standardize, tokenize, and vectorize the data using the helpful `tf.keras.layers.TextVectorization` layer. \n",
    "\n",
    "Standardization refers to preprocessing the text, typically to remove punctuation or HTML elements to simplify the dataset. Tokenization refers to splitting strings into tokens (for example, splitting a sentence into individual words, by splitting on whitespace). Vectorization refers to converting tokens into numbers so they can be fed into a neural network. All of these tasks can be accomplished with this layer.\n",
    "\n",
    "As you saw above, the reviews contain various HTML tags like `<br />`. These tags will not be removed by the default standardizer in the `TextVectorization` layer (which converts text to lowercase and strips punctuation by default, but doesn't strip HTML). You will write a custom standardization function to remove the HTML."
   ]
  },
  {
   "cell_type": "markdown",
   "metadata": {
    "id": "ZVcHl-SLrH-u",
    "pycharm": {
     "name": "#%% md\n"
    }
   },
   "source": [
    "Note: To prevent [training-testing skew](https://developers.google.com/machine-learning/guides/rules-of-ml#training-serving_skew) (also known as training-serving skew), it is important to preprocess the data identically at train and test time. To facilitate this, the `TextVectorization` layer can be included directly inside your model, as shown later in this tutorial."
   ]
  },
  {
   "cell_type": "code",
   "execution_count": 14,
   "metadata": {
    "jupyter": {
     "outputs_hidden": false
    },
    "pycharm": {
     "name": "#%%\n"
    }
   },
   "outputs": [],
   "source": [
    "max_features = 10000\n",
    "sequence_length = 250\n",
    "vectorize_layer = tf.keras.layers.TextVectorization(\n",
    "    standardize='lower_and_strip_punctuation',\n",
    "    max_tokens=max_features,\n",
    "    output_mode='int',\n",
    "    output_sequence_length=sequence_length)"
   ]
  },
  {
   "cell_type": "markdown",
   "metadata": {
    "id": "d2d3Aw8dsUux",
    "pycharm": {
     "name": "#%% md\n"
    }
   },
   "source": [
    "Next, you will create a `TextVectorization` layer. You will use this layer to standardize, tokenize, and vectorize our data. You set the `output_mode` to `int` to create unique integer indices for each token.\n",
    "\n",
    "Note that you're using the default split function, and the custom standardization function you defined above. You'll also define some constants for the model, like an explicit maximum `sequence_length`, which will cause the layer to pad or truncate sequences to exactly `sequence_length` values."
   ]
  },
  {
   "cell_type": "markdown",
   "metadata": {
    "pycharm": {
     "name": "#%% md\n"
    }
   },
   "source": [
    "Next, you will call `adapt` to fit the state of the preprocessing layer to the dataset. This will cause the model to build an index of strings to integers."
   ]
  },
  {
   "cell_type": "markdown",
   "metadata": {
    "id": "lAhdjK7AtroA",
    "pycharm": {
     "name": "#%% md\n"
    }
   },
   "source": [
    "Note: It's important to only use your training data when calling adapt (using the test set would leak information)."
   ]
  },
  {
   "cell_type": "code",
   "execution_count": 15,
   "metadata": {
    "id": "GH4_2ZGJsa_X",
    "pycharm": {
     "name": "#%%\n"
    }
   },
   "outputs": [
    {
     "name": "stdout",
     "output_type": "stream",
     "text": [
      "WARNING:tensorflow:From /Users/rak/Documents/giskard/python-client/.venv/lib/python3.8/site-packages/tensorflow/python/autograph/pyct/static_analysis/liveness.py:83: Analyzer.lamba_check (from tensorflow.python.autograph.pyct.static_analysis.liveness) is deprecated and will be removed after 2023-09-23.\n",
      "Instructions for updating:\n",
      "Lambda fuctions will be no more assumed to be used in the statement where they are used, or at least in the same block. https://github.com/tensorflow/tensorflow/issues/56089\n"
     ]
    }
   ],
   "source": [
    "# Make a text-only dataset (without labels), then call adapt\n",
    "train_text = raw_train_ds.map(lambda x, y: x)\n",
    "vectorize_layer.adapt(train_text)"
   ]
  },
  {
   "cell_type": "markdown",
   "metadata": {
    "id": "SHQVEFzNt-K_",
    "pycharm": {
     "name": "#%% md\n"
    }
   },
   "source": [
    "Let's create a function to see the result of using this layer to preprocess some data."
   ]
  },
  {
   "cell_type": "code",
   "execution_count": 16,
   "metadata": {
    "id": "SCIg_T50wOCU",
    "pycharm": {
     "name": "#%%\n"
    }
   },
   "outputs": [],
   "source": [
    "def vectorize_text(text, label):\n",
    "  text = tf.expand_dims(text, -1)\n",
    "  return vectorize_layer(text), label"
   ]
  },
  {
   "cell_type": "code",
   "execution_count": 17,
   "metadata": {
    "colab": {
     "base_uri": "https://localhost:8080/"
    },
    "id": "XULcm6B3xQIO",
    "outputId": "49b05f0d-ea0a-4c53-ae56-1604241c8385",
    "pycharm": {
     "name": "#%%\n"
    }
   },
   "outputs": [
    {
     "name": "stdout",
     "output_type": "stream",
     "text": [
      "Review tf.Tensor(b'Great movie - especially the music - Etta James - \"At Last\". This speaks volumes when you have finally found that special someone.', shape=(), dtype=string)\n",
      "Label neg\n",
      "Vectorized review (<tf.Tensor: shape=(1, 250), dtype=int64, numpy=\n",
      "array([[  87,   18,  259,    2,  223,    1,  566,   31,  228,   11, 2422,\n",
      "           1,   52,   23,   26,  400,  250,   12,  308,  280,    0,    0,\n",
      "           0,    0,    0,    0,    0,    0,    0,    0,    0,    0,    0,\n",
      "           0,    0,    0,    0,    0,    0,    0,    0,    0,    0,    0,\n",
      "           0,    0,    0,    0,    0,    0,    0,    0,    0,    0,    0,\n",
      "           0,    0,    0,    0,    0,    0,    0,    0,    0,    0,    0,\n",
      "           0,    0,    0,    0,    0,    0,    0,    0,    0,    0,    0,\n",
      "           0,    0,    0,    0,    0,    0,    0,    0,    0,    0,    0,\n",
      "           0,    0,    0,    0,    0,    0,    0,    0,    0,    0,    0,\n",
      "           0,    0,    0,    0,    0,    0,    0,    0,    0,    0,    0,\n",
      "           0,    0,    0,    0,    0,    0,    0,    0,    0,    0,    0,\n",
      "           0,    0,    0,    0,    0,    0,    0,    0,    0,    0,    0,\n",
      "           0,    0,    0,    0,    0,    0,    0,    0,    0,    0,    0,\n",
      "           0,    0,    0,    0,    0,    0,    0,    0,    0,    0,    0,\n",
      "           0,    0,    0,    0,    0,    0,    0,    0,    0,    0,    0,\n",
      "           0,    0,    0,    0,    0,    0,    0,    0,    0,    0,    0,\n",
      "           0,    0,    0,    0,    0,    0,    0,    0,    0,    0,    0,\n",
      "           0,    0,    0,    0,    0,    0,    0,    0,    0,    0,    0,\n",
      "           0,    0,    0,    0,    0,    0,    0,    0,    0,    0,    0,\n",
      "           0,    0,    0,    0,    0,    0,    0,    0,    0,    0,    0,\n",
      "           0,    0,    0,    0,    0,    0,    0,    0,    0,    0,    0,\n",
      "           0,    0,    0,    0,    0,    0,    0,    0,    0,    0,    0,\n",
      "           0,    0,    0,    0,    0,    0,    0,    0]])>, <tf.Tensor: shape=(), dtype=int32, numpy=0>)\n"
     ]
    }
   ],
   "source": [
    "# retrieve a batch (of 32 reviews and labels) from the dataset\n",
    "text_batch, label_batch = next(iter(raw_train_ds))\n",
    "first_review, first_label = text_batch[0], label_batch[0]\n",
    "print(\"Review\", first_review)\n",
    "print(\"Label\", raw_train_ds.class_names[first_label])\n",
    "print(\"Vectorized review\", vectorize_text(first_review, first_label))"
   ]
  },
  {
   "cell_type": "markdown",
   "metadata": {
    "id": "XD2H6utRydGv",
    "pycharm": {
     "name": "#%% md\n"
    }
   },
   "source": [
    "You are nearly ready to train your model. As a final preprocessing step, you will apply the TextVectorization layer you created earlier to the train, validation, and test dataset."
   ]
  },
  {
   "cell_type": "code",
   "execution_count": 18,
   "metadata": {
    "id": "2zhmpeViI1iG",
    "pycharm": {
     "name": "#%%\n"
    }
   },
   "outputs": [],
   "source": [
    "train_ds = raw_train_ds.map(vectorize_text)\n",
    "val_ds = raw_val_ds.map(vectorize_text)\n",
    "test_ds = raw_test_ds.map(vectorize_text)"
   ]
  },
  {
   "cell_type": "markdown",
   "metadata": {
    "id": "YsVQyPMizjuO",
    "pycharm": {
     "name": "#%% md\n"
    }
   },
   "source": [
    "### Configure the dataset for performance\n",
    "\n",
    "These are two important methods you should use when loading data to make sure that I/O does not become blocking.\n",
    "\n",
    "`.cache()` keeps data in memory after it's loaded off disk. This will ensure the dataset does not become a bottleneck while training your model. If your dataset is too large to fit into memory, you can also use this method to create a performant on-disk cache, which is more efficient to read than many small files.\n",
    "\n",
    "`.prefetch()` overlaps data preprocessing and model execution while training. \n",
    "\n",
    "You can learn more about both methods, as well as how to cache data to disk in the [data performance guide](https://www.tensorflow.org/guide/data_performance)."
   ]
  },
  {
   "cell_type": "code",
   "execution_count": 19,
   "metadata": {
    "id": "wMcs_H7izm5m",
    "pycharm": {
     "name": "#%%\n"
    }
   },
   "outputs": [],
   "source": [
    "AUTOTUNE = tf.data.AUTOTUNE\n",
    "\n",
    "train_ds = train_ds.cache().prefetch(buffer_size=AUTOTUNE)\n",
    "val_ds = val_ds.cache().prefetch(buffer_size=AUTOTUNE)\n",
    "test_ds = test_ds.cache().prefetch(buffer_size=AUTOTUNE)"
   ]
  },
  {
   "cell_type": "markdown",
   "metadata": {
    "id": "LLC02j2g-llC",
    "pycharm": {
     "name": "#%% md\n"
    }
   },
   "source": [
    "### Create the model\n",
    "\n",
    "It*'*s time to create your neural network:"
   ]
  },
  {
   "cell_type": "code",
   "execution_count": 20,
   "metadata": {
    "id": "dkQP6in8yUBR",
    "pycharm": {
     "name": "#%%\n"
    }
   },
   "outputs": [],
   "source": [
    "embedding_dim = 16"
   ]
  },
  {
   "cell_type": "code",
   "execution_count": 21,
   "metadata": {
    "colab": {
     "base_uri": "https://localhost:8080/"
    },
    "id": "xpKOoWgu-llD",
    "outputId": "0fcb6620-2adc-4576-95b0-b97f885182d4",
    "pycharm": {
     "name": "#%%\n"
    }
   },
   "outputs": [
    {
     "name": "stdout",
     "output_type": "stream",
     "text": [
      "Model: \"sequential\"\n",
      "_________________________________________________________________\n",
      " Layer (type)                Output Shape              Param #   \n",
      "=================================================================\n",
      " embedding (Embedding)       (None, None, 16)          160016    \n",
      "                                                                 \n",
      " dropout (Dropout)           (None, None, 16)          0         \n",
      "                                                                 \n",
      " global_average_pooling1d (G  (None, 16)               0         \n",
      " lobalAveragePooling1D)                                          \n",
      "                                                                 \n",
      " dropout_1 (Dropout)         (None, 16)                0         \n",
      "                                                                 \n",
      " dense (Dense)               (None, 1)                 17        \n",
      "                                                                 \n",
      "=================================================================\n",
      "Total params: 160,033\n",
      "Trainable params: 160,033\n",
      "Non-trainable params: 0\n",
      "_________________________________________________________________\n"
     ]
    }
   ],
   "source": [
    "model = tf.keras.Sequential([\n",
    "  layers.Embedding(max_features + 1, embedding_dim),\n",
    "  layers.Dropout(0.2),\n",
    "  layers.GlobalAveragePooling1D(),\n",
    "  layers.Dropout(0.2),\n",
    "  layers.Dense(1)\n",
    "  ])\n",
    "\n",
    "model.summary()"
   ]
  },
  {
   "cell_type": "markdown",
   "metadata": {
    "id": "6PbKQ6mucuKL",
    "pycharm": {
     "name": "#%% md\n"
    }
   },
   "source": [
    "The layers are stacked sequentially to build the classifier:\n",
    "\n",
    "1. The first layer is an `Embedding` layer. This layer takes the integer-encoded reviews and looks up an embedding vector for each word-index. These vectors are learned as the model trains. The vectors add a dimension to the output array. The resulting dimensions are: `(batch, sequence, embedding)`.  To learn more about embeddings, check out the [Word embeddings](https://www.tensorflow.org/text/guide/word_embeddings) tutorial.\n",
    "2. Next, a `GlobalAveragePooling1D` layer returns a fixed-length output vector for each example by averaging over the sequence dimension. This allows the model to handle input of variable length, in the simplest way possible.\n",
    "3. This fixed-length output vector is piped through a fully-connected (`Dense`) layer with 16 hidden units. \n",
    "4. The last layer is densely connected with a single output node."
   ]
  },
  {
   "cell_type": "markdown",
   "metadata": {
    "id": "L4EqVWg4-llM",
    "pycharm": {
     "name": "#%% md\n"
    }
   },
   "source": [
    "### Loss function and optimizer\n",
    "\n",
    "A model needs a loss function and an optimizer for training. Since this is a binary classification problem and the model outputs a probability (a single-unit layer with a sigmoid activation), you'll use `losses.BinaryCrossentropy` loss function.\n",
    "\n",
    "Now, configure the model to use an optimizer and a loss function:"
   ]
  },
  {
   "cell_type": "code",
   "execution_count": 22,
   "metadata": {
    "id": "Mr0GP-cQ-llN",
    "pycharm": {
     "name": "#%%\n"
    }
   },
   "outputs": [],
   "source": [
    "model.compile(loss=losses.BinaryCrossentropy(from_logits=True),\n",
    "              optimizer='adam',\n",
    "              metrics=tf.metrics.BinaryAccuracy(threshold=0.0))"
   ]
  },
  {
   "cell_type": "markdown",
   "metadata": {
    "id": "35jv_fzP-llU",
    "pycharm": {
     "name": "#%% md\n"
    }
   },
   "source": [
    "### Train the model\n",
    "\n",
    "You will train the model by passing the `dataset` object to the fit method."
   ]
  },
  {
   "cell_type": "code",
   "execution_count": 23,
   "metadata": {
    "colab": {
     "base_uri": "https://localhost:8080/"
    },
    "id": "tXSGrjWZ-llW",
    "outputId": "10c8eb0c-418b-4bf1-8bae-5efb1db612fa",
    "pycharm": {
     "name": "#%%\n"
    }
   },
   "outputs": [
    {
     "name": "stdout",
     "output_type": "stream",
     "text": [
      "625/625 [==============================] - 8s 11ms/step - loss: 0.6678 - binary_accuracy: 0.6888 - val_loss: 0.6223 - val_binary_accuracy: 0.7684\n"
     ]
    }
   ],
   "source": [
    "epochs = 1\n",
    "history = model.fit(\n",
    "    train_ds,\n",
    "    validation_data=val_ds,\n",
    "    epochs=epochs)"
   ]
  },
  {
   "cell_type": "markdown",
   "metadata": {
    "id": "9EEGuDVuzb5r",
    "pycharm": {
     "name": "#%% md\n"
    }
   },
   "source": [
    "### Evaluate the model\n",
    "\n",
    "Let's see how the model performs. Two values will be returned. Loss (a number which represents our error, lower values are better), and accuracy."
   ]
  },
  {
   "cell_type": "code",
   "execution_count": 24,
   "metadata": {
    "colab": {
     "base_uri": "https://localhost:8080/"
    },
    "id": "zOMKywn4zReN",
    "outputId": "97fa836f-be51-44f1-e6b5-1db0d8463d24",
    "pycharm": {
     "name": "#%%\n"
    }
   },
   "outputs": [
    {
     "name": "stdout",
     "output_type": "stream",
     "text": [
      "782/782 [==============================] - 4s 4ms/step - loss: 0.6239 - binary_accuracy: 0.7626\n",
      "Loss:  0.6239201426506042\n",
      "Accuracy:  0.7626000046730042\n"
     ]
    }
   ],
   "source": [
    "loss, accuracy = model.evaluate(test_ds)\n",
    "\n",
    "print(\"Loss: \", loss)\n",
    "print(\"Accuracy: \", accuracy)"
   ]
  },
  {
   "cell_type": "markdown",
   "metadata": {
    "id": "z1iEXVTR0Z2t",
    "pycharm": {
     "name": "#%% md\n"
    }
   },
   "source": [
    "This fairly naive approach achieves an accuracy of about 86%."
   ]
  },
  {
   "cell_type": "markdown",
   "metadata": {
    "id": "-to23J3Vy5d3",
    "pycharm": {
     "name": "#%% md\n"
    }
   },
   "source": [
    "## Export the model\n",
    "\n",
    "In the code above, you applied the `TextVectorization` layer to the dataset before feeding text to the model. If you want to make your model capable of processing raw strings (for example, to simplify deploying it), you can include the `TextVectorization` layer inside your model. To do so, you can create a new model using the weights you just trained."
   ]
  },
  {
   "cell_type": "code",
   "execution_count": 25,
   "metadata": {
    "colab": {
     "base_uri": "https://localhost:8080/"
    },
    "id": "FWXsMvryuZuq",
    "outputId": "22289970-24ed-4402-d6fc-a60709973e02",
    "pycharm": {
     "name": "#%%\n"
    }
   },
   "outputs": [
    {
     "name": "stdout",
     "output_type": "stream",
     "text": [
      "782/782 [==============================] - 4s 5ms/step - loss: 0.6239 - accuracy: 0.7626\n",
      "0.7626000046730042\n"
     ]
    }
   ],
   "source": [
    "export_model = tf.keras.Sequential([\n",
    "    vectorize_layer,\n",
    "    model,\n",
    "    layers.Activation('sigmoid')\n",
    "])\n",
    "\n",
    "export_model.compile(\n",
    "    loss=losses.BinaryCrossentropy(from_logits=False), optimizer=\"adam\", metrics=['accuracy']\n",
    ")\n",
    "\n",
    "# Test it with `raw_test_ds`, which yields raw strings\n",
    "loss, accuracy = export_model.evaluate(raw_test_ds)\n",
    "print(accuracy)"
   ]
  },
  {
   "cell_type": "markdown",
   "metadata": {
    "id": "TwQgoN88LoEF",
    "pycharm": {
     "name": "#%% md\n"
    }
   },
   "source": [
    "### Inference on new data\n",
    "\n",
    "To get predictions for new examples, you can simply call `model.predict()`."
   ]
  },
  {
   "cell_type": "code",
   "execution_count": 26,
   "metadata": {
    "colab": {
     "base_uri": "https://localhost:8080/"
    },
    "id": "QW355HH5L49K",
    "outputId": "6ba4291d-7f5c-462e-bfcb-f4c569c05e04",
    "pycharm": {
     "name": "#%%\n"
    }
   },
   "outputs": [
    {
     "name": "stdout",
     "output_type": "stream",
     "text": [
      "1/1 [==============================] - 0s 200ms/step\n"
     ]
    },
    {
     "data": {
      "text/plain": [
       "array([[0.5226061 ],\n",
       "       [0.513277  ],\n",
       "       [0.50991774]], dtype=float32)"
      ]
     },
     "execution_count": 26,
     "metadata": {},
     "output_type": "execute_result"
    }
   ],
   "source": [
    "examples = [\n",
    "  \"The movie was great!\",\n",
    "  \"The movie was okay.\",\n",
    "  \"The movie was terrible...\"\n",
    "]\n",
    "\n",
    "export_model.predict(examples)"
   ]
  },
  {
   "cell_type": "markdown",
   "metadata": {
    "id": "KdmMU2e9oNtN",
    "pycharm": {
     "name": "#%% md\n"
    }
   },
   "source": [
    "## Initiate Project On Giskard"
   ]
  },
  {
   "cell_type": "markdown",
   "metadata": {
    "pycharm": {
     "name": "#%% md\n"
    }
   },
   "source": [
    "### Giskard require a prediction function which takes dataframe as input and provides prediction probability as output for classification models"
   ]
  },
  {
   "cell_type": "code",
   "execution_count": 27,
   "metadata": {
    "pycharm": {
     "name": "#%%\n"
    }
   },
   "outputs": [],
   "source": [
    "def predict(test_dataset):\n",
    "    test_dataset= test_dataset.squeeze(axis=1)\n",
    "    test_dataset = list(test_dataset)\n",
    "    predictions = export_model.predict(test_dataset)\n",
    "    predictions = np.insert(predictions, 1, 1 - predictions[:, 0], axis=1)\n",
    "    return predictions"
   ]
  },
  {
   "cell_type": "code",
   "execution_count": 28,
   "metadata": {
    "pycharm": {
     "name": "#%%\n"
    }
   },
   "outputs": [],
   "source": [
    "from giskard import GiskardClient\n",
    "\n",
    "url = \"http://localhost:9000\" #if Giskard is installed locally (for installation, see: https://docs.giskard.ai/start/guides/installation)\n",
    "#url = \"http://app.giskard.ai\" # If you want to upload on giskard URL\n",
    "token = \"xxx\" #you can generate your API token in the Admin tab of the Giskard application (for installation, see: https://docs.giskard.ai/start/guides/installation)\n",
    "\n",
    "client = GiskardClient(url, token)\n",
    "\n",
    "#your_project = client.create_project(\"project_key\", \"PROJECT_NAME\", \"DESCRIPTION\")\n",
    "# Choose the arguments you want. But \"project_key\" should be unique and in lower case\n",
    "#tensorflow_text_classification = client.create_project(\"tensorflow_text_classification\", \"Tensorflow_text_Classification\", \"Classification Of Text using Tensorflow Neural Network\")\n",
    "\n",
    "# If you've already created a project with the key \"tensorflow_text_classification\" use\n",
    "tensorflow_text_classification = client.get_project(\"tensorflow_text_classification\")"
   ]
  },
  {
   "cell_type": "code",
   "execution_count": 29,
   "metadata": {
    "pycharm": {
     "name": "#%%\n"
    }
   },
   "outputs": [],
   "source": [
    "# Declare the type of each column in the dataset(example: category, numeric, text)\n",
    "column_types = {'Review':\"text\",\n",
    "               'Label':\"category\"}"
   ]
  },
  {
   "cell_type": "markdown",
   "metadata": {
    "pycharm": {
     "name": "#%% md\n"
    }
   },
   "source": [
    "#### Old way to upload the model and dataset"
   ]
  },
  {
   "cell_type": "code",
   "execution_count": 30,
   "metadata": {
    "pycharm": {
     "name": "#%%\n"
    },
    "scrolled": false
   },
   "outputs": [],
   "source": [
    "#tensorflow_text_classification.upload_model_and_df(\n",
    "#    prediction_function=predict, # Python function which takes pandas dataframe as input and returns probabilities for classification model OR returns predictions for regression model\n",
    "#    model_type='classification', # \"classification\" for classification model OR \"regression\" for regression model\n",
    "#    df=test_df, # the dataset you want to use to inspect your model\n",
    "#    column_types=column_types, # A dictionary with columns names of df as key and types(category, numeric, text) of columns as values\n",
    "#    target='Label', # The column name in df corresponding to the actual target variable (ground truth).\n",
    "#    feature_names=['Review'], # List of the feature names of prediction_function\n",
    "#    classification_labels=[0,1],  # List of the classification labels of your prediction\n",
    "#    model_name='Tensorflow', # Name of the model\n",
    "#    dataset_name='test_data' # Name of the dataset\n",
    "#)"
   ]
  },
  {
   "cell_type": "markdown",
   "metadata": {},
   "source": [
    "Old error:\n",
    "```\n",
    "---------------------------------------------------------------------------\n",
    "AttributeError                            Traceback (most recent call last)\n",
    "~/Documents/giskard/python-client/.venv/lib/python3.7/site-packages/giskard/client/project.py in _validate_model_is_pickleable(prediction_function)\n",
    "    678         try:\n",
    "--> 679             pickled_model = cloudpickle.dumps(prediction_function)\n",
    "    680             unpickled_model = cloudpickle.loads(pickled_model)\n",
    "\n",
    "~/Documents/giskard/python-client/.venv/lib/python3.7/site-packages/cloudpickle/cloudpickle_fast.py in dumps(obj, protocol)\n",
    "    101             cp = CloudPickler(file, protocol=protocol)\n",
    "--> 102             cp.dump(obj)\n",
    "    103             return file.getvalue()\n",
    "\n",
    "~/Documents/giskard/python-client/.venv/lib/python3.7/site-packages/cloudpickle/cloudpickle_fast.py in dump(self, obj)\n",
    "    631         try:\n",
    "--> 632             return Pickler.dump(self, obj)\n",
    "    633         except RuntimeError as e:\n",
    "\n",
    "/usr/local/Cellar/python@3.7/3.7.16/Frameworks/Python.framework/Versions/3.7/lib/python3.7/pickle.py in dump(self, obj)\n",
    "    436             self.framer.start_framing()\n",
    "--> 437         self.save(obj)\n",
    "    438         self.write(STOP)\n",
    "\n",
    "/usr/local/Cellar/python@3.7/3.7.16/Frameworks/Python.framework/Versions/3.7/lib/python3.7/pickle.py in save(self, obj, save_persistent_id)\n",
    "    503         if f is not None:\n",
    "--> 504             f(self, obj) # Call unbound method with explicit self\n",
    "    505             return\n",
    "\n",
    "~/Documents/giskard/python-client/.venv/lib/python3.7/site-packages/cloudpickle/cloudpickle_fast.py in save_function(self, obj, name)\n",
    "    818                 return self._save_reduce_pickle5(\n",
    "--> 819                     *self._dynamic_function_reduce(obj), obj=obj\n",
    "    820                 )\n",
    "\n",
    "~/Documents/giskard/python-client/.venv/lib/python3.7/site-packages/cloudpickle/cloudpickle_fast.py in _save_reduce_pickle5(self, func, args, state, listitems, dictitems, state_setter, obj)\n",
    "    760             save(obj)  # simple BINGET opcode as obj is already memoized.\n",
    "--> 761             save(state)\n",
    "    762             write(pickle.TUPLE2)\n",
    "\n",
    "/usr/local/Cellar/python@3.7/3.7.16/Frameworks/Python.framework/Versions/3.7/lib/python3.7/pickle.py in save(self, obj, save_persistent_id)\n",
    "    503         if f is not None:\n",
    "--> 504             f(self, obj) # Call unbound method with explicit self\n",
    "    505             return\n",
    "\n",
    "/usr/local/Cellar/python@3.7/3.7.16/Frameworks/Python.framework/Versions/3.7/lib/python3.7/pickle.py in save_tuple(self, obj)\n",
    "    773             for element in obj:\n",
    "--> 774                 save(element)\n",
    "    775             # Subtle.  Same as in the big comment below.\n",
    "\n",
    "/usr/local/Cellar/python@3.7/3.7.16/Frameworks/Python.framework/Versions/3.7/lib/python3.7/pickle.py in save(self, obj, save_persistent_id)\n",
    "    503         if f is not None:\n",
    "--> 504             f(self, obj) # Call unbound method with explicit self\n",
    "    505             return\n",
    "\n",
    "~/Documents/giskard/python-client/.venv/lib/python3.7/site-packages/dill/_dill.py in save_module_dict(pickler, obj)\n",
    "   1185             pickler._first_pass = False\n",
    "-> 1186         StockPickler.save_dict(pickler, obj)\n",
    "   1187         logger.trace(pickler, \"# D2\")\n",
    "\n",
    "/usr/local/Cellar/python@3.7/3.7.16/Frameworks/Python.framework/Versions/3.7/lib/python3.7/pickle.py in save_dict(self, obj)\n",
    "    858         self.memoize(obj)\n",
    "--> 859         self._batch_setitems(obj.items())\n",
    "    860 \n",
    "\n",
    "/usr/local/Cellar/python@3.7/3.7.16/Frameworks/Python.framework/Versions/3.7/lib/python3.7/pickle.py in _batch_setitems(self, items)\n",
    "    884                     save(k)\n",
    "--> 885                     save(v)\n",
    "    886                 write(SETITEMS)\n",
    "\n",
    "/usr/local/Cellar/python@3.7/3.7.16/Frameworks/Python.framework/Versions/3.7/lib/python3.7/pickle.py in save(self, obj, save_persistent_id)\n",
    "    503         if f is not None:\n",
    "--> 504             f(self, obj) # Call unbound method with explicit self\n",
    "    505             return\n",
    "\n",
    "~/Documents/giskard/python-client/.venv/lib/python3.7/site-packages/dill/_dill.py in save_module_dict(pickler, obj)\n",
    "   1185             pickler._first_pass = False\n",
    "-> 1186         StockPickler.save_dict(pickler, obj)\n",
    "   1187         logger.trace(pickler, \"# D2\")\n",
    "\n",
    "/usr/local/Cellar/python@3.7/3.7.16/Frameworks/Python.framework/Versions/3.7/lib/python3.7/pickle.py in save_dict(self, obj)\n",
    "    858         self.memoize(obj)\n",
    "--> 859         self._batch_setitems(obj.items())\n",
    "    860 \n",
    "\n",
    "/usr/local/Cellar/python@3.7/3.7.16/Frameworks/Python.framework/Versions/3.7/lib/python3.7/pickle.py in _batch_setitems(self, items)\n",
    "    884                     save(k)\n",
    "--> 885                     save(v)\n",
    "    886                 write(SETITEMS)\n",
    "\n",
    "/usr/local/Cellar/python@3.7/3.7.16/Frameworks/Python.framework/Versions/3.7/lib/python3.7/pickle.py in save(self, obj, save_persistent_id)\n",
    "    523             if reduce is not None:\n",
    "--> 524                 rv = reduce(self.proto)\n",
    "    525             else:\n",
    "\n",
    "~/Documents/giskard/python-client/.venv/lib/python3.7/site-packages/keras/engine/training.py in __reduce__(self)\n",
    "    366                 pickle_utils.deserialize_model_from_bytecode,\n",
    "--> 367                 (pickle_utils.serialize_model_as_bytecode(self),),\n",
    "    368             )\n",
    "\n",
    "~/Documents/giskard/python-client/.venv/lib/python3.7/site-packages/keras/saving/pickle_utils.py in serialize_model_as_bytecode(model)\n",
    "     72     except Exception as e:\n",
    "---> 73         raise e\n",
    "     74     else:\n",
    "\n",
    "~/Documents/giskard/python-client/.venv/lib/python3.7/site-packages/keras/saving/pickle_utils.py in serialize_model_as_bytecode(model)\n",
    "     68         filepath = os.path.join(temp_dir, \"model.keras\")\n",
    "---> 69         saving_lib.save_model(model, filepath)\n",
    "     70         with open(filepath, \"rb\") as f:\n",
    "\n",
    "~/Documents/giskard/python-client/.venv/lib/python3.7/site-packages/keras/saving/experimental/saving_lib.py in save_model(model, filepath)\n",
    "    152     except Exception as e:\n",
    "--> 153         raise e\n",
    "    154     finally:\n",
    "\n",
    "~/Documents/giskard/python-client/.venv/lib/python3.7/site-packages/keras/saving/experimental/saving_lib.py in save_model(model, filepath)\n",
    "    142             inner_path=\"\",\n",
    "--> 143             visited_trackables=set(),\n",
    "    144         )\n",
    "\n",
    "~/Documents/giskard/python-client/.venv/lib/python3.7/site-packages/keras/saving/experimental/saving_lib.py in _save_state(trackable, weights_handler, assets_handler, inner_path, visited_trackables)\n",
    "    252                 inner_path=tf.io.gfile.join(inner_path, child_attr),\n",
    "--> 253                 visited_trackables=visited_trackables,\n",
    "    254             )\n",
    "\n",
    "~/Documents/giskard/python-client/.venv/lib/python3.7/site-packages/keras/saving/experimental/saving_lib.py in _save_container_state(container, weights_handler, assets_handler, inner_path, visited_trackables)\n",
    "    316                 inner_path=tf.io.gfile.join(inner_path, name),\n",
    "--> 317                 visited_trackables=visited_trackables,\n",
    "    318             )\n",
    "\n",
    "~/Documents/giskard/python-client/.venv/lib/python3.7/site-packages/keras/saving/experimental/saving_lib.py in _save_state(trackable, weights_handler, assets_handler, inner_path, visited_trackables)\n",
    "    244                 inner_path=tf.io.gfile.join(inner_path, child_attr),\n",
    "--> 245                 visited_trackables=visited_trackables,\n",
    "    246             )\n",
    "\n",
    "~/Documents/giskard/python-client/.venv/lib/python3.7/site-packages/keras/saving/experimental/saving_lib.py in _save_state(trackable, weights_handler, assets_handler, inner_path, visited_trackables)\n",
    "    223     if hasattr(trackable, \"_save_own_variables\"):\n",
    "--> 224         trackable._save_own_variables(weights_handler.make(inner_path))\n",
    "    225     if hasattr(trackable, \"_save_assets\"):\n",
    "\n",
    "~/Documents/giskard/python-client/.venv/lib/python3.7/site-packages/keras/engine/base_layer.py in _save_own_variables(self, store)\n",
    "   3432         for i, v in enumerate(all_vars):\n",
    "-> 3433             store[f\"{i}\"] = v.numpy()\n",
    "   3434 \n",
    "\n",
    "AttributeError: 'VocabWeightHandler' object has no attribute 'numpy'\n",
    "\n",
    "During handling of the above exception, another exception occurred:\n",
    "\n",
    "ValueError                                Traceback (most recent call last)\n",
    "<ipython-input-36-7f56dfbe720a> in <module>\n",
    "      8     classification_labels=[0,1],  # List of the classification labels of your prediction\n",
    "      9     model_name='Tensorflow', # Name of the model\n",
    "---> 10     dataset_name='test_data' # Name of the dataset\n",
    "     11 )\n",
    "\n",
    "~/Documents/giskard/python-client/.venv/lib/python3.7/site-packages/giskard/client/project.py in upload_model_and_df(self, prediction_function, model_type, df, column_types, feature_names, target, model_name, dataset_name, classification_threshold, classification_labels)\n",
    "    396             prediction_function,\n",
    "    397             target,\n",
    "--> 398             df,\n",
    "    399         )\n",
    "    400         data_res = self._post_data(column_types, data, dataset_name, raw_column_types, target)\n",
    "\n",
    "~/Documents/giskard/python-client/.venv/lib/python3.7/site-packages/giskard/client/project.py in _validate_model(self, classification_labels, classification_threshold, feature_names, model_type, prediction_function, target, validate_df)\n",
    "    222             validate_df,\n",
    "    223     ):\n",
    "--> 224         prediction_function = self._validate_model_is_pickleable(prediction_function)\n",
    "    225         transformed_pred_func = self.transform_prediction_function(\n",
    "    226             prediction_function, feature_names\n",
    "\n",
    "~/Documents/giskard/python-client/.venv/lib/python3.7/site-packages/giskard/client/project.py in _validate_model_is_pickleable(prediction_function)\n",
    "    680             unpickled_model = cloudpickle.loads(pickled_model)\n",
    "    681         except Exception:\n",
    "--> 682             raise ValueError(\"Unable to pickle or unpickle model on Giskard\")\n",
    "    683         return unpickled_model\n",
    "    684 \n",
    "\n",
    "ValueError: Unable to pickle or unpickle model on Giskard\n",
    "```"
   ]
  },
  {
   "cell_type": "code",
   "execution_count": 32,
   "metadata": {},
   "outputs": [
    {
     "data": {
      "text/html": [
       "<div>\n",
       "<style scoped>\n",
       "    .dataframe tbody tr th:only-of-type {\n",
       "        vertical-align: middle;\n",
       "    }\n",
       "\n",
       "    .dataframe tbody tr th {\n",
       "        vertical-align: top;\n",
       "    }\n",
       "\n",
       "    .dataframe thead th {\n",
       "        text-align: right;\n",
       "    }\n",
       "</style>\n",
       "<table border=\"1\" class=\"dataframe\">\n",
       "  <thead>\n",
       "    <tr style=\"text-align: right;\">\n",
       "      <th></th>\n",
       "      <th>Review</th>\n",
       "      <th>Label</th>\n",
       "    </tr>\n",
       "  </thead>\n",
       "  <tbody>\n",
       "    <tr>\n",
       "      <th>0</th>\n",
       "      <td>b\"Pilot Mitch MacAfee (Jeff Morrow) sees a UFO...</td>\n",
       "      <td>0</td>\n",
       "    </tr>\n",
       "    <tr>\n",
       "      <th>1</th>\n",
       "      <td>b\"This movie could have been great. It is not ...</td>\n",
       "      <td>0</td>\n",
       "    </tr>\n",
       "    <tr>\n",
       "      <th>2</th>\n",
       "      <td>b'I had to write a review for this film after ...</td>\n",
       "      <td>0</td>\n",
       "    </tr>\n",
       "    <tr>\n",
       "      <th>3</th>\n",
       "      <td>b'Now that I have seen it, it was NOT what I w...</td>\n",
       "      <td>1</td>\n",
       "    </tr>\n",
       "    <tr>\n",
       "      <th>4</th>\n",
       "      <td>b'the movie is complete disaster. i don\\'t kno...</td>\n",
       "      <td>0</td>\n",
       "    </tr>\n",
       "  </tbody>\n",
       "</table>\n",
       "</div>"
      ],
      "text/plain": [
       "                                              Review  Label\n",
       "0  b\"Pilot Mitch MacAfee (Jeff Morrow) sees a UFO...      0\n",
       "1  b\"This movie could have been great. It is not ...      0\n",
       "2  b'I had to write a review for this film after ...      0\n",
       "3  b'Now that I have seen it, it was NOT what I w...      1\n",
       "4  b'the movie is complete disaster. i don\\'t kno...      0"
      ]
     },
     "execution_count": 32,
     "metadata": {},
     "output_type": "execute_result"
    }
   ],
   "source": [
    "test_df.head()"
   ]
  },
  {
   "cell_type": "markdown",
   "metadata": {},
   "source": [
    "#### new way to upload model and dataset "
   ]
  },
  {
   "cell_type": "code",
   "execution_count": 34,
   "metadata": {},
   "outputs": [
    {
     "name": "stderr",
     "output_type": "stream",
     "text": [
      "2023/01/18 11:48:24 WARNING mlflow.tensorflow: You are saving a TensorFlow Core model or Keras model without a signature. Inference with mlflow.pyfunc.spark_udf() will not work unless the model's pyfunc representation accepts pandas DataFrames as inference inputs.\n"
     ]
    },
    {
     "name": "stdout",
     "output_type": "stream",
     "text": [
      "2023-01-18 11:48:26,328 pid:85650 MainThread absl         WARNING  Found untraced functions such as _update_step_xla, _update_step_xla while saving (showing 2 of 2). These functions will not be directly callable after loading.\n",
      "INFO:tensorflow:Assets written to: /var/folders/jp/b7681vg128nf8s2hw47sl6380000gn/T/giskard-model-h3n9ihky/data/model/assets\n",
      "2023-01-18 11:48:26,872 pid:85650 MainThread tensorflow   INFO     Assets written to: /var/folders/jp/b7681vg128nf8s2hw47sl6380000gn/T/giskard-model-h3n9ihky/data/model/assets\n",
      "Hint: \"Your target variable values are numeric. It is recommended to have Human readable string as your target values to make results more understandable in Giskard.\"\n",
      "2023-01-18 11:48:39,427 pid:85650 MainThread giskard.ml_worker.core.dataset INFO     Casting dataframe columns from {'Review': 'object'} to {'Review': 'object'}\n",
      "1/1 [==============================] - 1s 549ms/step\n",
      "2023-01-18 11:48:40,032 pid:85650 MainThread giskard.ml_worker.utils.logging INFO     Predicted dataset with shape (10, 2) executed in 0:00:00.606969\n",
      "2023-01-18 11:48:40,035 pid:85650 MainThread giskard.ml_worker.core.dataset INFO     Casting dataframe columns from {'Review': 'object'} to {'Review': 'object'}\n",
      "1/1 [==============================] - 0s 61ms/step\n",
      "2023-01-18 11:48:40,152 pid:85650 MainThread giskard.ml_worker.utils.logging INFO     Predicted dataset with shape (10, 2) executed in 0:00:00.118463\n"
     ]
    },
    {
     "name": "stderr",
     "output_type": "stream",
     "text": [
      "2023/01/18 11:48:40 WARNING mlflow.tensorflow: You are saving a TensorFlow Core model or Keras model without a signature. Inference with mlflow.pyfunc.spark_udf() will not work unless the model's pyfunc representation accepts pandas DataFrames as inference inputs.\n"
     ]
    },
    {
     "name": "stdout",
     "output_type": "stream",
     "text": [
      "2023-01-18 11:48:41,494 pid:85650 MainThread absl         WARNING  Found untraced functions such as _update_step_xla, _update_step_xla while saving (showing 2 of 2). These functions will not be directly callable after loading.\n",
      "INFO:tensorflow:Assets written to: /var/folders/jp/b7681vg128nf8s2hw47sl6380000gn/T/giskard-model-9czvbc54/data/model/assets\n",
      "2023-01-18 11:48:42,018 pid:85650 MainThread tensorflow   INFO     Assets written to: /var/folders/jp/b7681vg128nf8s2hw47sl6380000gn/T/giskard-model-9czvbc54/data/model/assets\n",
      "Model successfully uploaded to project key 'tensorflow_text_classification' with ID = f9125162-2461-4574-ba36-a69c48b4a41b\n",
      "Dataset successfully uploaded to project key 'tensorflow_text_classification' with ID = 1797cdbd-270e-4e32-b325-187ed37d50c3\n"
     ]
    }
   ],
   "source": [
    "#tensorflow_text_classification.upload_model_and_df(\n",
    "#    prediction_function=predict, # Python function which takes pandas dataframe as input and returns probabilities for classification model OR returns predictions for regression model\n",
    "#    model_type='classification', # \"classification\" for classification model OR \"regression\" for regression model\n",
    "#    df=test_df, # the dataset you want to use to inspect your model\n",
    "#    column_types=column_types, # A dictionary with columns names of df as key and types(category, numeric, text) of columns as values\n",
    "#    target='Label', # The column name in df corresponding to the actual target variable (ground truth).\n",
    "#    feature_names=['Review'], # List of the feature names of prediction_function\n",
    "#    classification_labels=[0,1],  # List of the classification labels of your prediction\n",
    "#    model_name='Tensorflow', # Name of the model\n",
    "#    dataset_name='test_data' # Name of the dataset\n",
    "#)\n",
    "\n",
    "from giskard import Model, TensorFlowModel, GiskardClient, Dataset\n",
    "\n",
    "# Wrap your clf with SKLearnModel from Giskard\n",
    "def data_preparation_function(df):\n",
    "    test_dataset = df.squeeze(axis=1)\n",
    "    test_dataset = list(test_dataset)\n",
    "    return test_dataset\n",
    "\n",
    "my_model = TensorFlowModel(name=\"TextClassification\",\n",
    "                        clf=export_model,\n",
    "                        model_type=\"classification\",\n",
    "                        classification_labels=['0','1'],\n",
    "                        data_preparation_function=data_preparation_function,\n",
    "                        feature_names=['Review'])\n",
    "\n",
    "# Wrap your dataset with Dataset from Giskard\n",
    "my_test_dataset = Dataset(test_df, name=\"test dataset\", target=\"Label\", column_meanings=column_types)\n",
    "\n",
    "# save model and dataset to Giskard server\n",
    "mid = my_model.save(client, \"tensorflow_text_classification\", validate_ds=my_test_dataset)\n",
    "did = my_test_dataset.save(client, \"tensorflow_text_classification\")"
   ]
  },
  {
   "cell_type": "code",
   "execution_count": null,
   "metadata": {
    "pycharm": {
     "name": "#%%\n"
    }
   },
   "outputs": [],
   "source": [
    "#tensorflow_text_classification.upload_df(\n",
    "#    df=train_df, # The dataset you want to upload\n",
    "#    column_types=column_types, # All the column types without the target\n",
    "#    name=\"train_data\"  # Name of the dataset\n",
    "#)"
   ]
  },
  {
   "cell_type": "code",
   "execution_count": null,
   "metadata": {
    "pycharm": {
     "name": "#%%\n"
    }
   },
   "outputs": [],
   "source": [
    "#tensorflow_text_classification.upload_df(\n",
    "#    df=val_df, # The dataset you want to upload\n",
    "#    column_types=column_types, # All the column types without the target\n",
    "#    name=\"val_data\"  # Name of the dataset\n",
    "#)"
   ]
  },
  {
   "cell_type": "code",
   "execution_count": null,
   "metadata": {},
   "outputs": [],
   "source": []
  }
 ],
 "metadata": {
  "accelerator": "GPU",
  "colab": {
   "collapsed_sections": [],
   "provenance": [],
   "toc_visible": true
  },
  "kernelspec": {
   "display_name": "Python 3",
   "language": "python",
   "name": "python3"
  },
  "language_info": {
   "codemirror_mode": {
    "name": "ipython",
    "version": 3
   },
   "file_extension": ".py",
   "mimetype": "text/x-python",
   "name": "python",
   "nbconvert_exporter": "python",
   "pygments_lexer": "ipython3",
   "version": "3.8.16"
  }
 },
 "nbformat": 4,
 "nbformat_minor": 4
}
